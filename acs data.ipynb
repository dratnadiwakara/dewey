{
 "cells": [
  {
   "cell_type": "code",
   "execution_count": 62,
   "id": "initial_id",
   "metadata": {
    "collapsed": true,
    "ExecuteTime": {
     "end_time": "2023-09-30T17:57:21.642264200Z",
     "start_time": "2023-09-30T17:57:21.625798800Z"
    }
   },
   "outputs": [],
   "source": [
    "import requests\n",
    "import pandas as pd\n",
    "from global_variables import *\n",
    "import gzip"
   ]
  },
  {
   "cell_type": "code",
   "execution_count": 55,
   "outputs": [],
   "source": [
    "acs_variables = {\n",
    "    'B01001_001E': 'total_population',\n",
    "    'B01002_001E': 'median_age',\n",
    "    'B11001_002E': 'no_of_households',\n",
    "    'B25001_001E': 'housing_units',\n",
    "    'B25003_001E': 'housing_units_occupancy_base',\n",
    "    'B25003_002E': 'housing_units_occupancy_own',\n",
    "    'B25003_003E': 'housing_units_occupancy_rent',\n",
    "    'B25087_001E': 'housing_units_mortgage_base',\n",
    "    'B25087_002E': 'housing_units_with_a_mortgage',\n",
    "    'B19127_001E': 'aggregate_family_income',\n",
    "    'B02001_001E': 'population_race_base',\n",
    "    'B02001_002E': 'population_race_white',\n",
    "    'B08303_001E': 'travel_time_to_work',\n",
    "    'C16002_001E': 'households_language_base',\n",
    "    'C16002_002E': 'households_language_english',\n",
    "    'C16002_003E': 'households_language_spanish',\n",
    "    'B25065_001E': 'aggregate_gross_rent',\n",
    "    'B28011_001E': 'households_internet_base',\n",
    "    'B28011_008E': 'households_internet_no',\n",
    "    'B28011_002E': 'households_internet_yes',\n",
    "    'B28003_001E': 'households_computer_base',\n",
    "    'B28003_002E': 'households_computer_yes',\n",
    "    'B28003_004E': 'households_computer_yes_bb',\n",
    "    'B27010_001E': 'population_by_age_base',\n",
    "    'B27010_002E': 'population_by_age_base_under_19',\n",
    "    'B27010_051E': 'population_by_age_base_65_older',\n",
    "    'B17010_001E': 'poverty_status_base',\n",
    "    'B17010_002E': 'poverty_status_below',\n",
    "    'B22010_001E': 'received_food_stamps_snap_base',\n",
    "    'B22010_002E': 'received_food_stamps_snap_yes',\n",
    "    'B19113_001E': 'median_family_income', #many missing values\n",
    "    'B19001_014E': 'household_income_100_125k',\n",
    "    'B19001_015E': 'household_income_125_150k',\n",
    "    'B19001_016E': 'household_income_150_200k',\n",
    "    'B19001_017E': 'household_income_200k_more',\n",
    "    'B19001_002E': 'household_income_10k_15k',\n",
    "    'B19001_003E': 'household_income_15k_19k',\n",
    "    'B19001_004E': 'household_income_19k_25k',\n",
    "    'B19001_005E': 'household_income_25k_30k',\n",
    "    \n",
    "}\n",
    "\n",
    "get_vars = list(acs_variables.keys())\n",
    "\n",
    "us_state_fips = [\n",
    "    \"01\", \"02\", \"04\", \"05\", \"06\", \"08\", \"09\", \"10\", \"12\", \"13\",\n",
    "    \"15\", \"16\", \"17\", \"18\", \"19\", \"20\", \"21\", \"22\", \"23\", \"24\",\n",
    "    \"25\", \"26\", \"27\", \"28\", \"29\", \"30\", \"31\", \"32\", \"33\", \"34\",\n",
    "    \"35\", \"36\", \"37\", \"38\", \"39\", \"40\", \"41\", \"42\", \"44\", \"45\",\n",
    "    \"46\", \"47\", \"48\", \"49\", \"50\", \"51\", \"53\", \"54\", \"55\", \"56\"\n",
    "]\n",
    "\n",
    "base_url = 'https://api.census.gov/data/2021/acs/acs5'\n",
    "\n",
    "predicates = {} \n",
    "predicates['get']=','.join(get_vars)\n",
    "predicates['for']= 'block group:*'\n",
    "\n",
    "predicates['key']=CENSUS_API_KEY"
   ],
   "metadata": {
    "collapsed": false,
    "ExecuteTime": {
     "end_time": "2023-09-30T17:28:28.797706800Z",
     "start_time": "2023-09-30T17:28:28.786405400Z"
    }
   },
   "id": "c49242701a27d583"
  },
  {
   "cell_type": "code",
   "execution_count": 54,
   "outputs": [
    {
     "name": "stdout",
     "output_type": "stream",
     "text": [
      "<Response [200]>\n",
      "[]\n"
     ]
    }
   ],
   "source": [
    "state=\"22\"\n",
    "predicates['in']='state:'+state+' county:033'\n",
    "r=requests.get(base_url,params=predicates)\n",
    "print(r)\n",
    "json_data = r.json()\n",
    "df = pd.DataFrame(json_data[1:], columns=json_data[0])\n",
    "df.rename(columns=acs_variables, inplace=True)\n",
    "print([col for col in df.columns if df.loc[0, col] is  None])"
   ],
   "metadata": {
    "collapsed": false,
    "ExecuteTime": {
     "end_time": "2023-09-30T17:27:39.371889800Z",
     "start_time": "2023-09-30T17:27:35.927030700Z"
    }
   },
   "id": "ff46d594995d004"
  },
  {
   "cell_type": "code",
   "execution_count": 44,
   "outputs": [],
   "source": [],
   "metadata": {
    "collapsed": false,
    "ExecuteTime": {
     "end_time": "2023-09-30T17:12:23.896018800Z",
     "start_time": "2023-09-30T17:12:23.870370300Z"
    }
   },
   "id": "94fb434f5ab948b8"
  },
  {
   "cell_type": "code",
   "execution_count": null,
   "outputs": [],
   "source": [
    "master_df = pd.DataFrame()\n",
    "\n",
    "for state in us_state_fips:\n",
    "    \n",
    "    print(state)\n",
    "    \n",
    "    predicates['in']='state:'+state+' county:*'\n",
    "    r=requests.get(base_url,params=predicates)\n",
    "\n",
    "    json_data = r.json()\n",
    "    df = pd.DataFrame(json_data[1:], columns=json_data[0])\n",
    "    df.rename(columns=acs_variables, inplace=True)\n",
    "\n",
    "    master_df = pd.concat([master_df, df], ignore_index=True)"
   ],
   "metadata": {
    "collapsed": false
   },
   "id": "f9ecf815deb893b2"
  },
  {
   "cell_type": "code",
   "execution_count": 63,
   "outputs": [],
   "source": [
    "output_file_path = \"C:/Users/dratnadiwakara2/Documents/OneDrive - Louisiana State University/Raw Data/Dewey/acs_block_data.csv.gz\" \n",
    "with gzip.open(output_file_path, 'wt', encoding='utf-8') as gzipped_file:\n",
    "    master_df.to_csv(gzipped_file, index=False)"
   ],
   "metadata": {
    "collapsed": false,
    "ExecuteTime": {
     "end_time": "2023-09-30T17:57:43.209693700Z",
     "start_time": "2023-09-30T17:57:30.029154500Z"
    }
   },
   "id": "b19fe3c7f57a1d2f"
  }
 ],
 "metadata": {
  "kernelspec": {
   "display_name": "Python 3",
   "language": "python",
   "name": "python3"
  },
  "language_info": {
   "codemirror_mode": {
    "name": "ipython",
    "version": 2
   },
   "file_extension": ".py",
   "mimetype": "text/x-python",
   "name": "python",
   "nbconvert_exporter": "python",
   "pygments_lexer": "ipython2",
   "version": "2.7.6"
  }
 },
 "nbformat": 4,
 "nbformat_minor": 5
}
