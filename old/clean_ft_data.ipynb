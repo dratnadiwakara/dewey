{
 "cells": [
  {
   "cell_type": "code",
   "execution_count": 28,
   "id": "initial_id",
   "metadata": {
    "collapsed": true,
    "ExecuteTime": {
     "end_time": "2023-10-04T00:39:27.030097Z",
     "start_time": "2023-10-04T00:39:27.014475500Z"
    }
   },
   "outputs": [],
   "source": [
    "for var in list(globals()):\n",
    "    if var != \"__name__\":\n",
    "        del globals()[var]\n",
    "        \n",
    "import pandas as pd\n",
    "import numpy as np\n",
    "import json\n",
    "import os\n",
    "from tqdm import tqdm\n",
    "from global_variables import *\n",
    "import gzip\n",
    "import gc"
   ]
  },
  {
   "cell_type": "code",
   "execution_count": 29,
   "outputs": [
    {
     "name": "stdout",
     "output_type": "stream",
     "text": [
      "<class 'pandas.core.frame.DataFrame'>\n",
      "RangeIndex: 1573552 entries, 0 to 1573551\n",
      "Data columns (total 8 columns):\n",
      " #   Column              Non-Null Count    Dtype  \n",
      "---  ------              --------------    -----  \n",
      " 0   PLACEKEY            1573552 non-null  object \n",
      " 1   DATE_RANGE_START    1573552 non-null  object \n",
      " 2   RAW_VISIT_COUNTS    1573552 non-null  float64\n",
      " 3   RAW_VISITOR_COUNTS  1573552 non-null  float64\n",
      " 4   DISTANCE_FROM_HOME  1573552 non-null  float64\n",
      " 5   MEDIAN_DWELL        1569197 non-null  float64\n",
      " 6   android             1573552 non-null  int64  \n",
      " 7   ios                 1573552 non-null  int64  \n",
      "dtypes: float64(4), int64(2), object(2)\n",
      "memory usage: 96.0+ MB\n"
     ]
    }
   ],
   "source": [
    "visit_summary_file = 'C:/Users/dratnadiwakara2/Documents/OneDrive - Louisiana State University/Raw Data/Dewey/place_month_visit_summary.csv.gz'\n",
    "ft_data_path = 'C:/Users/dratnadiwakara2/Documents/OneDrive - Louisiana State University/Raw Data/Dewey/filtered_ft_data.csv.gz'\n",
    "\n",
    "visit_summary = pd.read_csv(visit_summary_file,sep=\"|\", compression='gzip')\n",
    "visit_summary.info()"
   ],
   "metadata": {
    "collapsed": false,
    "ExecuteTime": {
     "end_time": "2023-10-04T00:39:48.630680300Z",
     "start_time": "2023-10-04T00:39:45.608547Z"
    }
   },
   "id": "d60929f0ccba6536"
  },
  {
   "cell_type": "code",
   "execution_count": 30,
   "outputs": [
    {
     "name": "stdout",
     "output_type": "stream",
     "text": [
      "<class 'pandas.core.frame.DataFrame'>\n",
      "RangeIndex: 31990377 entries, 0 to 31990376\n",
      "Data columns (total 4 columns):\n",
      " #   Column            Dtype \n",
      "---  ------            ----- \n",
      " 0   censustract       object\n",
      " 1   PLACEKEY          object\n",
      " 2   DATE_RANGE_START  object\n",
      " 3   no_visits         int64 \n",
      "dtypes: int64(1), object(3)\n",
      "memory usage: 976.3+ MB\n"
     ]
    }
   ],
   "source": [
    "visits_file = 'C:/Users/dratnadiwakara2/Documents/OneDrive - Louisiana State University/Raw Data/Dewey/cbgs_place_month_visits_count.csv.gz'\n",
    "\n",
    "visits = pd.read_csv(visits_file,sep=\"|\", compression='gzip',low_memory=False)\n",
    "visits['censustract'] = visits['CBGS'].str[:-1]\n",
    "visits = visits.drop('CBGS', axis=1)\n",
    "visits = visits.groupby(['censustract','PLACEKEY','DATE_RANGE_START']).sum().reset_index() \n",
    "visits.info()"
   ],
   "metadata": {
    "collapsed": false,
    "ExecuteTime": {
     "end_time": "2023-10-04T00:43:33.128715800Z",
     "start_time": "2023-10-04T00:40:41.765009400Z"
    }
   },
   "id": "3288a7f961eade55"
  },
  {
   "cell_type": "markdown",
   "source": [],
   "metadata": {
    "collapsed": false
   },
   "id": "439205ce9a03d092"
  },
  {
   "cell_type": "code",
   "execution_count": 35,
   "outputs": [],
   "source": [
    "acs_block_data_file = \"C:/Users/dratnadiwakara2/Documents/OneDrive - Louisiana State University/Raw Data/Dewey/acs_tract_data_2.csv.gz\"\n",
    "\n",
    "asc_block_data = pd.read_csv(acs_block_data_file, compression='gzip')\n",
    "\n",
    "asc_block_data['state'] = asc_block_data['state'].astype(str).str.zfill(2)\n",
    "asc_block_data['county'] = asc_block_data['county'].astype(str).str.zfill(3)\n",
    "asc_block_data['tract'] = asc_block_data['tract'].astype(str).str.zfill(6)\n",
    "#asc_block_data['block group'] = asc_block_data['block group'].astype(str)\n",
    "\n",
    "asc_block_data['median_age'] = np.where(asc_block_data['median_age'] < 0, np.nan, asc_block_data['median_age'])\n",
    "asc_block_data['median_income_last_12_months'] = np.where(asc_block_data['median_income_last_12_months'] < 0, np.nan, asc_block_data['median_income_last_12_months'])\n",
    "asc_block_data['aggregate_family_income'] = np.where(asc_block_data['aggregate_family_income'] < 0, np.nan, asc_block_data['aggregate_family_income'])\n",
    "\n",
    "asc_block_data['censustract'] = asc_block_data['state'] + asc_block_data['county'] + asc_block_data['tract']#+asc_block_data['block group']\n",
    "\n",
    "\n",
    "asc_block_data['mean_family_income'] = asc_block_data['aggregate_family_income']/asc_block_data['no_of_households']\n",
    "\n",
    "asc_block_data['white_fraction'] = asc_block_data['population_race_white']/asc_block_data['population_race_base']\n",
    "\n",
    "asc_block_data['english_speaking_frac'] = asc_block_data['households_language_english']/asc_block_data['households_language_base']\n",
    "\n",
    "asc_block_data['spanish_speaking_frac'] = asc_block_data['households_language_spanish']/asc_block_data['households_language_base']\n",
    "\n",
    "asc_block_data['internet_frac'] =asc_block_data['households_internet_yes']/asc_block_data['households_internet_base']\n",
    "\n",
    "asc_block_data['computer_frac'] =asc_block_data['households_computer_yes']/asc_block_data['households_computer_base']\n",
    "\n",
    "asc_block_data['under_19_frac'] =asc_block_data['population_by_age_base_under_19']/asc_block_data['population_by_age_base']\n",
    "\n",
    "asc_block_data['over_65_frac'] = asc_block_data['population_by_age_base_65_older']/asc_block_data['population_by_age_base']\n",
    "\n",
    "asc_block_data['below_poverty_frac'] = asc_block_data['poverty_status_below']/asc_block_data['poverty_status_base']\n",
    "\n",
    "asc_block_data['food_stamp_frac'] = asc_block_data['received_food_stamps_snap_yes']/asc_block_data['received_food_stamps_snap_base']\n",
    "\n",
    "asc_block_data['owner_occ_frac'] = asc_block_data['housing_units_occupancy_own']/asc_block_data['housing_units_occupancy_base']\n",
    "\n",
    "asc_block_data['home_with_mtg_frac'] = asc_block_data['housing_units_with_a_mortgage']/asc_block_data['housing_units_mortgage_base']\n",
    "\n",
    "asc_block_data['college_or_higher_frac'] = asc_block_data['education_college_or_higher']/asc_block_data['education_base']\n",
    "\n",
    "asc_block_data['less_than_high_school_frac'] = asc_block_data['education_less_than_high_school']/asc_block_data['education_base']\n",
    "\n",
    "selected_columns = [\n",
    "    'censustract',\n",
    "    'median_age',\n",
    "    'median_income_last_12_months',\n",
    "    'mean_family_income',\n",
    "    'white_fraction',\n",
    "    'travel_time_to_work',\n",
    "    'spanish_speaking_frac',\n",
    "    'english_speaking_frac',\n",
    "    'internet_frac',\n",
    "    'computer_frac',\n",
    "    'under_19_frac',\n",
    "    'over_65_frac',\n",
    "    'below_poverty_frac',\n",
    "    'food_stamp_frac',\n",
    "    'owner_occ_frac',\n",
    "    'college_or_higher_frac',\n",
    "    'less_than_high_school_frac',\n",
    "]\n",
    "\n",
    "acs = asc_block_data[selected_columns]\n",
    "acs.reset_index(inplace=True)\n",
    "\n",
    "acs = acs.copy()\n",
    "acs.info()\n"
   ],
   "metadata": {
    "collapsed": false,
    "ExecuteTime": {
     "end_time": "2023-10-04T00:50:46.308716600Z",
     "start_time": "2023-10-04T00:50:45.299572800Z"
    }
   },
   "id": "5b970c4ae946d880"
  },
  {
   "cell_type": "code",
   "execution_count": 40,
   "outputs": [
    {
     "name": "stdout",
     "output_type": "stream",
     "text": [
      "<class 'pandas.core.frame.DataFrame'>\n",
      "RangeIndex: 100154 entries, 0 to 100153\n",
      "Data columns (total 18 columns):\n",
      " #   Column                        Non-Null Count   Dtype  \n",
      "---  ------                        --------------   -----  \n",
      " 0   index                         100154 non-null  float64\n",
      " 1   censustract                   100154 non-null  object \n",
      " 2   median_age                    99263 non-null   float64\n",
      " 3   median_income_last_12_months  99089 non-null   float64\n",
      " 4   mean_family_income            98767 non-null   float64\n",
      " 5   white_fraction                99309 non-null   float64\n",
      " 6   travel_time_to_work           100154 non-null  float64\n",
      " 7   spanish_speaking_frac         99050 non-null   float64\n",
      " 8   english_speaking_frac         99050 non-null   float64\n",
      " 9   internet_frac                 99050 non-null   float64\n",
      " 10  computer_frac                 99050 non-null   float64\n",
      " 11  under_19_frac                 99158 non-null   float64\n",
      " 12  over_65_frac                  99158 non-null   float64\n",
      " 13  below_poverty_frac            98981 non-null   float64\n",
      " 14  food_stamp_frac               99050 non-null   float64\n",
      " 15  owner_occ_frac                99050 non-null   float64\n",
      " 16  college_or_higher_frac        99279 non-null   float64\n",
      " 17  less_than_high_school_frac    99279 non-null   float64\n",
      "dtypes: float64(17), object(1)\n",
      "memory usage: 13.8+ MB\n"
     ]
    }
   ],
   "source": [
    "new_acs = acs.copy()\n",
    "new_acs['censustract'] = new_acs['censustract'].str[:-1] + '0'\n",
    "new_acs = new_acs.groupby('censustract').mean().reset_index() \n",
    "mask = ~new_acs['censustract'].isin(acs['censustract'])\n",
    "\n",
    "combined_acs = pd.concat([acs, new_acs[mask]], ignore_index=True)\n",
    "combined_acs.info()"
   ],
   "metadata": {
    "collapsed": false,
    "ExecuteTime": {
     "end_time": "2023-10-04T00:55:40.438348700Z",
     "start_time": "2023-10-04T00:55:40.264336100Z"
    }
   },
   "id": "bf2e158a4a62e924"
  },
  {
   "cell_type": "code",
   "execution_count": 42,
   "outputs": [],
   "source": [
    "combined_acs = combined_acs.drop('index', axis=1)\n",
    "combined_acs = combined_acs.replace([np.inf, -np.inf], np.nan)"
   ],
   "metadata": {
    "collapsed": false,
    "ExecuteTime": {
     "end_time": "2023-10-04T00:57:21.016799100Z",
     "start_time": "2023-10-04T00:57:20.910704700Z"
    }
   },
   "id": "60ecca223fad41c8"
  },
  {
   "cell_type": "code",
   "execution_count": 43,
   "outputs": [
    {
     "name": "stdout",
     "output_type": "stream",
     "text": [
      "<class 'pandas.core.frame.DataFrame'>\n",
      "RangeIndex: 27253061 entries, 0 to 27253060\n",
      "Data columns (total 20 columns):\n",
      " #   Column                        Dtype  \n",
      "---  ------                        -----  \n",
      " 0   censustract                   object \n",
      " 1   PLACEKEY                      object \n",
      " 2   DATE_RANGE_START              object \n",
      " 3   no_visits                     int64  \n",
      " 4   median_age                    float64\n",
      " 5   median_income_last_12_months  float64\n",
      " 6   mean_family_income            float64\n",
      " 7   white_fraction                float64\n",
      " 8   travel_time_to_work           float64\n",
      " 9   spanish_speaking_frac         float64\n",
      " 10  english_speaking_frac         float64\n",
      " 11  internet_frac                 float64\n",
      " 12  computer_frac                 float64\n",
      " 13  under_19_frac                 float64\n",
      " 14  over_65_frac                  float64\n",
      " 15  below_poverty_frac            float64\n",
      " 16  food_stamp_frac               float64\n",
      " 17  owner_occ_frac                float64\n",
      " 18  college_or_higher_frac        float64\n",
      " 19  less_than_high_school_frac    float64\n",
      "dtypes: float64(16), int64(1), object(3)\n",
      "memory usage: 4.1+ GB\n"
     ]
    }
   ],
   "source": [
    "visits_merged = pd.merge(visits, combined_acs, on='censustract', how='inner')\n",
    "visits_merged.info()"
   ],
   "metadata": {
    "collapsed": false,
    "ExecuteTime": {
     "end_time": "2023-10-04T00:58:02.598353700Z",
     "start_time": "2023-10-04T00:57:51.218859600Z"
    }
   },
   "id": "c69d5a19e755de89"
  },
  {
   "cell_type": "code",
   "execution_count": 45,
   "outputs": [],
   "source": [
    "with gzip.open('C:/Users/dratnadiwakara2/Documents/OneDrive - Louisiana State University/Raw Data/Dewey/visits_acs_merged.gz', 'wt', encoding='utf-8') as gzipped_file:\n",
    "    visits_merged.to_csv(gzipped_file, index=False)"
   ],
   "metadata": {
    "collapsed": false,
    "ExecuteTime": {
     "end_time": "2023-10-04T01:35:51.890142100Z",
     "start_time": "2023-10-04T01:17:06.841449600Z"
    }
   },
   "id": "5092fd2a0e1efa23"
  },
  {
   "cell_type": "code",
   "execution_count": 44,
   "outputs": [],
   "source": [
    "random_sample = visits_merged.sample(n=100, random_state=42)"
   ],
   "metadata": {
    "collapsed": false,
    "ExecuteTime": {
     "end_time": "2023-10-04T01:15:36.326267100Z",
     "start_time": "2023-10-04T01:15:33.868863400Z"
    }
   },
   "id": "e90a3500f1f719cd"
  },
  {
   "cell_type": "code",
   "execution_count": null,
   "outputs": [],
   "source": [
    "# temp = visits_merged[visits_merged['PLACEKEY']=='222-227@8dg-gtw-nkf']\n",
    "# temp.info()"
   ],
   "metadata": {
    "collapsed": false
   },
   "id": "b24c83f5fbdd41d7"
  },
  {
   "cell_type": "code",
   "execution_count": 22,
   "outputs": [],
   "source": [
    "# columns_to_average = [col for col in visits_merged.columns if col not in ['CBGS_tract','PLACEKEY','DATE_RANGE_START','no_visits']]\n",
    "# \n",
    "# def weighted_average(df):\n",
    "#     # total_visits = df['no_visits'].sum()\n",
    "#     weighted_averages = {}\n",
    "#     \n",
    "#     for col in columns_to_average:\n",
    "#         total_weight = df.loc[~df[col].isna(), 'no_visits'].sum()\n",
    "#         weighted_avg =  np.nansum(df[col] * df['no_visits'])/total_weight if total_weight != 0 else np.nan\n",
    "#         weighted_averages[f'wa_{col}'] = weighted_avg\n",
    "#     \n",
    "#     return pd.Series(weighted_averages) "
   ],
   "metadata": {
    "collapsed": false,
    "ExecuteTime": {
     "end_time": "2023-10-03T20:15:35.397775Z",
     "start_time": "2023-10-03T20:15:35.320415300Z"
    }
   },
   "id": "6f77417cac7929bb"
  },
  {
   "cell_type": "code",
   "execution_count": null,
   "outputs": [],
   "source": [
    "# weighted_avg_df = visits_merged.groupby(['PLACEKEY', 'DATE_RANGE_START']).apply(weighted_average).reset_index()\n",
    "# print(weighted_avg_df.head())"
   ],
   "metadata": {
    "collapsed": false
   },
   "id": "56c58cabf0019c21"
  },
  {
   "cell_type": "code",
   "execution_count": null,
   "outputs": [],
   "source": [
    "# weighted_avg_df.info()"
   ],
   "metadata": {
    "collapsed": false
   },
   "id": "345b0a8bc8e8df3e"
  },
  {
   "cell_type": "code",
   "execution_count": 25,
   "outputs": [],
   "source": [
    "# with gzip.open('C:/Users/dratnadiwakara2/Documents/OneDrive - Louisiana State University/Raw Data/Dewey/wa_acs_place_month_2.gz', 'wt', encoding='utf-8') as gzipped_file:\n",
    "#     weighted_avg_df.to_csv(gzipped_file, index=False)"
   ],
   "metadata": {
    "collapsed": false,
    "ExecuteTime": {
     "end_time": "2023-10-04T00:03:45.416091700Z",
     "start_time": "2023-10-04T00:01:08.204199500Z"
    }
   },
   "id": "9242f13aedff67c8"
  },
  {
   "cell_type": "markdown",
   "source": [
    "\n",
    "\n",
    "\n",
    "\n",
    "\n",
    "\n"
   ],
   "metadata": {
    "collapsed": false
   },
   "id": "f5f243e17dcd6a0b"
  },
  {
   "cell_type": "markdown",
   "source": [
    "following section cleans ft data into visits and visit_summary"
   ],
   "metadata": {
    "collapsed": false
   },
   "id": "b252bbd2bcf2de10"
  },
  {
   "cell_type": "code",
   "execution_count": 1,
   "outputs": [],
   "source": [
    "for var in list(globals()):\n",
    "    if var != \"__name__\":\n",
    "        del globals()[var]\n",
    "        \n",
    "import pandas as pd\n",
    "import json\n",
    "import os\n",
    "from tqdm import tqdm\n",
    "import gzip\n",
    "from global_variables import *"
   ],
   "metadata": {
    "collapsed": false,
    "ExecuteTime": {
     "end_time": "2023-10-02T11:45:33.369560300Z",
     "start_time": "2023-10-02T11:45:21.505566400Z"
    }
   },
   "id": "31dc9a415ab995a4"
  },
  {
   "cell_type": "code",
   "execution_count": 2,
   "outputs": [],
   "source": [
    "# ft_poi_sod_clean.ipynb creates this file\n",
    "ft_data_path = 'C:/Users/dratnadiwakara2/Downloads/temp_dewey/filtered_ft_data.csv.gz'\n",
    "ft = pd.read_csv(ft_data_path,compression='gzip')"
   ],
   "metadata": {
    "collapsed": false,
    "ExecuteTime": {
     "end_time": "2023-10-02T11:49:25.585217900Z",
     "start_time": "2023-10-02T11:45:44.536451200Z"
    }
   },
   "id": "f5c2fee4761e2abf"
  },
  {
   "cell_type": "code",
   "execution_count": 3,
   "outputs": [
    {
     "name": "stderr",
     "output_type": "stream",
     "text": [
      "100%|██████████| 1573552/1573552 [2:45:37<00:00, 158.35it/s]  \n"
     ]
    }
   ],
   "source": [
    "visits_file = 'C:/Users/dratnadiwakara2/Downloads/temp_dewey/cbgs_place_month_visits_count.csv'\n",
    "visit_summary_file = 'C:/Users/dratnadiwakara2/Downloads/temp_dewey/place_month_visit_summary.csv'\n",
    "header_option_visits_file = True  \n",
    "header_option_visit_summary_file = True \n",
    "\n",
    "with tqdm(total=len(ft)) as pbar:\n",
    "    \n",
    "    for index in range(0, len(ft)):\n",
    "        \n",
    "        temp = ft.loc[index]\n",
    "        \n",
    "        data = json.loads(temp['VISITOR_HOME_CBGS'])\n",
    "        df1 = pd.DataFrame(data.items(), columns=['CBGS', 'no_visits'])\n",
    "        df1['PLACEKEY'] = temp['PLACEKEY']\n",
    "        df1['DATE_RANGE_START'] = temp['DATE_RANGE_START']\n",
    "        \n",
    "        df2 = temp[['PLACEKEY','DATE_RANGE_START','RAW_VISIT_COUNTS','RAW_VISITOR_COUNTS','DISTANCE_FROM_HOME','MEDIAN_DWELL']]\n",
    "        df2['android'] = 0\n",
    "        df2['ios'] = 0\n",
    "        \n",
    "        try:\n",
    "            dt = json.loads(temp['DEVICE_TYPE'])\n",
    "            df2['android'] = dt['android']\n",
    "        except:\n",
    "            pass\n",
    "        \n",
    "        try:\n",
    "            dt = json.loads(temp['DEVICE_TYPE'])\n",
    "            df2['ios'] = dt['ios']\n",
    "        except:\n",
    "            pass\n",
    "        df2_transposed = df2.to_frame().reset_index().T\n",
    "        df2_transposed.columns = df2_transposed.iloc[0]\n",
    "        df2_transposed = df2_transposed[1:]\n",
    "        \n",
    "        if os.path.isfile(visits_file):\n",
    "            header_option_visits_file = False  \n",
    "        if os.path.isfile(visit_summary_file):\n",
    "            header_option_visit_summary_file = False  \n",
    "    \n",
    "        df1.to_csv(visits_file, index=False, mode='a', header=header_option_visits_file,sep=\"|\")\n",
    "        df2_transposed.to_csv(visit_summary_file, index=False, mode='a', header=header_option_visit_summary_file,sep=\"|\")\n",
    "        \n",
    "        pbar.update(1)"
   ],
   "metadata": {
    "collapsed": false,
    "ExecuteTime": {
     "end_time": "2023-10-02T14:36:36.656458600Z",
     "start_time": "2023-10-02T11:50:59.071940300Z"
    }
   },
   "id": "9c74a23e6d3055f2"
  },
  {
   "cell_type": "code",
   "execution_count": 6,
   "outputs": [],
   "source": [
    "visits = pd.read_csv(visits_file)\n",
    "visits_summary = pd.read_csv(visit_summary_file)"
   ],
   "metadata": {
    "collapsed": false,
    "ExecuteTime": {
     "end_time": "2023-10-02T14:45:48.085465900Z",
     "start_time": "2023-10-02T14:44:11.162678200Z"
    }
   },
   "id": "b84ead1e0a9dc382"
  },
  {
   "cell_type": "code",
   "execution_count": null,
   "outputs": [],
   "source": [
    "with gzip.open(visits_file+'.gz', 'wt', encoding='utf-8') as gzipped_file:\n",
    "    visits.to_csv(gzipped_file, index=False)\n",
    "\n",
    "with gzip.open(visit_summary_file+'.gz', 'wt', encoding='utf-8') as gzipped_file:\n",
    "    visits_summary.to_csv(gzipped_file, index=False)"
   ],
   "metadata": {
    "collapsed": false
   },
   "id": "6439ac47798f61d0"
  }
 ],
 "metadata": {
  "kernelspec": {
   "display_name": "Python 3",
   "language": "python",
   "name": "python3"
  },
  "language_info": {
   "codemirror_mode": {
    "name": "ipython",
    "version": 2
   },
   "file_extension": ".py",
   "mimetype": "text/x-python",
   "name": "python",
   "nbconvert_exporter": "python",
   "pygments_lexer": "ipython2",
   "version": "2.7.6"
  }
 },
 "nbformat": 4,
 "nbformat_minor": 5
}
