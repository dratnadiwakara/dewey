{
 "cells": [
  {
   "cell_type": "code",
   "execution_count": 1,
   "id": "initial_id",
   "metadata": {
    "collapsed": true,
    "ExecuteTime": {
     "end_time": "2024-01-31T00:39:26.714380200Z",
     "start_time": "2024-01-31T00:39:21.071707500Z"
    }
   },
   "outputs": [],
   "source": [
    "import requests\n",
    "import pandas as pd\n",
    "import sys\n",
    "from io import BytesIO\n",
    "import gzip\n",
    "import io\n",
    "import os\n",
    "from global_variables import *\n",
    "import sqlite3\n",
    "from urllib.parse import urlparse"
   ]
  },
  {
   "cell_type": "code",
   "execution_count": 22,
   "outputs": [],
   "source": [
    "poi_sod = pd.read_csv(\"C:/Users/dratnadiwakara2/Documents/OneDrive - Louisiana State University/Raw Data/Dewey/poi_sod_4.csv.gz\", compression='gzip')\n",
    "\n",
    "poi = pd.read_csv(\"C:/Users/dratnadiwakara2/Documents/OneDrive - Louisiana State University/Raw Data/Dewey/all_us_poi_with_store_id.csv.gz\", compression='gzip',usecols=['PLACEKEY','POSTAL_CODE','STREET_ADDRESS','STORE_ID'])\n",
    "\n",
    "poi_sod = pd.merge(poi, poi_sod, on='PLACEKEY', how='inner')\n",
    "\n",
    "del poi\n",
    "\n",
    "poi_sod['match_address'] = poi_sod['STREET_ADDRESS'].str.lower()+' '+poi_sod['POSTAL_CODE'].astype(int).astype(str)\n",
    "unique_match_addresses = poi_sod['match_address'].unique()\n",
    "\n",
    "poi_sod['POSTAL_CODE'] = poi_sod['POSTAL_CODE'].astype(int)"
   ],
   "metadata": {
    "collapsed": false,
    "ExecuteTime": {
     "end_time": "2024-01-31T01:07:27.769021900Z",
     "start_time": "2024-01-31T01:03:35.237327700Z"
    }
   },
   "id": "f26c8766c3eb833"
  },
  {
   "cell_type": "code",
   "execution_count": 109,
   "outputs": [
    {
     "data": {
      "text/plain": "              PLACEKEY  POSTAL_CODE     STREET_ADDRESS     STORE_ID   CERT  \\\n0  225-222@5vg-3sn-7yv        95688    367 Merchant St          NaN   6548   \n1  225-222@5vg-3sn-7yv        95688    367 Merchant St          NaN   6548   \n2  228-223@627-wcb-hh5         7302  123 Montgomery St          NaN  30052   \n3  228-223@627-wcb-hh5         7302  123 Montgomery St          NaN  30052   \n4  zzw-226@627-s57-q9f         7644       184 Essex St  206639749.0   4297   \n\n   UNINUMBR                           NAMEFULL  \\\n0    196947     U.S. Bank National Association   \n1    196947     U.S. Bank National Association   \n2    635576                  Blue Foundry Bank   \n3    635576                  Blue Foundry Bank   \n4    467739  Capital One, National Association   \n\n                             usps_address  \\\n0      367 MERCHANT ST VACAVILLE CA 95688   \n1      367 MERCHANT ST VACAVILLE CA 95688   \n2  123 MONTGOMERY ST JERSEY CITY NJ 07302   \n3  123 MONTGOMERY ST JERSEY CITY NJ 07302   \n4              184 ESSEX ST LODI NJ 07644   \n\n                           full_address_sod      LOCATION_NAME match_type  \\\n0  367 merchant street, vacaville, 95688 ca          U.S. Bank      exact   \n1  367 merchant street, vacaville, 95688 ca          U.S. Bank      exact   \n2   123 montgomery st, jersey city, 7302 nj  Blue Foundry Bank      exact   \n3   123 montgomery st, jersey city, 7302 nj  Blue Foundry Bank      exact   \n4           184 essex street, lodi, 7644 nj      MoneyPass ATM      exact   \n\n            match_address  \n0   367 merchant st 95688  \n1   367 merchant st 95688  \n2  123 montgomery st 7302  \n3  123 montgomery st 7302  \n4       184 essex st 7644  ",
      "text/html": "<div>\n<style scoped>\n    .dataframe tbody tr th:only-of-type {\n        vertical-align: middle;\n    }\n\n    .dataframe tbody tr th {\n        vertical-align: top;\n    }\n\n    .dataframe thead th {\n        text-align: right;\n    }\n</style>\n<table border=\"1\" class=\"dataframe\">\n  <thead>\n    <tr style=\"text-align: right;\">\n      <th></th>\n      <th>PLACEKEY</th>\n      <th>POSTAL_CODE</th>\n      <th>STREET_ADDRESS</th>\n      <th>STORE_ID</th>\n      <th>CERT</th>\n      <th>UNINUMBR</th>\n      <th>NAMEFULL</th>\n      <th>usps_address</th>\n      <th>full_address_sod</th>\n      <th>LOCATION_NAME</th>\n      <th>match_type</th>\n      <th>match_address</th>\n    </tr>\n  </thead>\n  <tbody>\n    <tr>\n      <th>0</th>\n      <td>225-222@5vg-3sn-7yv</td>\n      <td>95688</td>\n      <td>367 Merchant St</td>\n      <td>NaN</td>\n      <td>6548</td>\n      <td>196947</td>\n      <td>U.S. Bank National Association</td>\n      <td>367 MERCHANT ST VACAVILLE CA 95688</td>\n      <td>367 merchant street, vacaville, 95688 ca</td>\n      <td>U.S. Bank</td>\n      <td>exact</td>\n      <td>367 merchant st 95688</td>\n    </tr>\n    <tr>\n      <th>1</th>\n      <td>225-222@5vg-3sn-7yv</td>\n      <td>95688</td>\n      <td>367 Merchant St</td>\n      <td>NaN</td>\n      <td>6548</td>\n      <td>196947</td>\n      <td>U.S. Bank National Association</td>\n      <td>367 MERCHANT ST VACAVILLE CA 95688</td>\n      <td>367 merchant street, vacaville, 95688 ca</td>\n      <td>U.S. Bank</td>\n      <td>exact</td>\n      <td>367 merchant st 95688</td>\n    </tr>\n    <tr>\n      <th>2</th>\n      <td>228-223@627-wcb-hh5</td>\n      <td>7302</td>\n      <td>123 Montgomery St</td>\n      <td>NaN</td>\n      <td>30052</td>\n      <td>635576</td>\n      <td>Blue Foundry Bank</td>\n      <td>123 MONTGOMERY ST JERSEY CITY NJ 07302</td>\n      <td>123 montgomery st, jersey city, 7302 nj</td>\n      <td>Blue Foundry Bank</td>\n      <td>exact</td>\n      <td>123 montgomery st 7302</td>\n    </tr>\n    <tr>\n      <th>3</th>\n      <td>228-223@627-wcb-hh5</td>\n      <td>7302</td>\n      <td>123 Montgomery St</td>\n      <td>NaN</td>\n      <td>30052</td>\n      <td>635576</td>\n      <td>Blue Foundry Bank</td>\n      <td>123 MONTGOMERY ST JERSEY CITY NJ 07302</td>\n      <td>123 montgomery st, jersey city, 7302 nj</td>\n      <td>Blue Foundry Bank</td>\n      <td>exact</td>\n      <td>123 montgomery st 7302</td>\n    </tr>\n    <tr>\n      <th>4</th>\n      <td>zzw-226@627-s57-q9f</td>\n      <td>7644</td>\n      <td>184 Essex St</td>\n      <td>206639749.0</td>\n      <td>4297</td>\n      <td>467739</td>\n      <td>Capital One, National Association</td>\n      <td>184 ESSEX ST LODI NJ 07644</td>\n      <td>184 essex street, lodi, 7644 nj</td>\n      <td>MoneyPass ATM</td>\n      <td>exact</td>\n      <td>184 essex st 7644</td>\n    </tr>\n  </tbody>\n</table>\n</div>"
     },
     "execution_count": 109,
     "metadata": {},
     "output_type": "execute_result"
    }
   ],
   "source": [
    "poi_sod.head()"
   ],
   "metadata": {
    "collapsed": false,
    "ExecuteTime": {
     "end_time": "2024-02-01T02:57:05.338902Z",
     "start_time": "2024-02-01T02:57:05.308981900Z"
    }
   },
   "id": "d2a4580a5d177649"
  },
  {
   "cell_type": "code",
   "execution_count": 34,
   "outputs": [],
   "source": [
    "results = requests.get(url=Retail_Store_Visitors_API_PATH,\n",
    "                           params={'page': 1,\n",
    "                                   'partition_key_after': '1900-01-01', # set date value here\n",
    "                               'partition_key_before': '2099-01-01'},\n",
    "                           headers={'X-API-KEY': API_KEY,\n",
    "                                    'accept': 'application/json'\n",
    "                                   })\n",
    "response_json = results.json()"
   ],
   "metadata": {
    "collapsed": false,
    "ExecuteTime": {
     "end_time": "2024-01-31T13:58:31.814385800Z",
     "start_time": "2024-01-31T13:58:26.241704500Z"
    }
   },
   "id": "b9ec8a0b7fb80496"
  },
  {
   "cell_type": "code",
   "execution_count": 35,
   "outputs": [
    {
     "name": "stdout",
     "output_type": "stream",
     "text": [
      "Downloading file Retail_Store_Visitors-195-MONTH_STARTING-2020-10-01.csv.gz...\n",
      "Downloading file Retail_Store_Visitors-196-MONTH_STARTING-2020-10-01.csv.gz...\n",
      "Downloading file Retail_Store_Visitors-197-MONTH_STARTING-2020-10-01.csv.gz...\n",
      "Downloading file Retail_Store_Visitors-198-MONTH_STARTING-2020-10-01.csv.gz...\n",
      "Downloading file Retail_Store_Visitors-199-MONTH_STARTING-2020-10-01.csv.gz...\n",
      "Downloading file Retail_Store_Visitors-200-MONTH_STARTING-2020-10-01.csv.gz...\n",
      "Downloading file Retail_Store_Visitors-201-MONTH_STARTING-2020-10-01.csv.gz...\n",
      "Downloading file Retail_Store_Visitors-202-MONTH_STARTING-2020-11-01.csv.gz...\n",
      "Downloading file Retail_Store_Visitors-203-MONTH_STARTING-2020-11-01.csv.gz...\n",
      "Downloading file Retail_Store_Visitors-204-MONTH_STARTING-2020-11-01.csv.gz...\n",
      "Downloading file Retail_Store_Visitors-205-MONTH_STARTING-2020-11-01.csv.gz...\n",
      "Downloading file Retail_Store_Visitors-206-MONTH_STARTING-2020-11-01.csv.gz...\n",
      "Downloading file Retail_Store_Visitors-207-MONTH_STARTING-2020-11-01.csv.gz...\n",
      "Downloading file Retail_Store_Visitors-208-MONTH_STARTING-2020-11-01.csv.gz...\n",
      "Downloading file Retail_Store_Visitors-209-MONTH_STARTING-2020-11-01.csv.gz...\n",
      "Downloading file Retail_Store_Visitors-210-MONTH_STARTING-2020-11-01.csv.gz...\n",
      "Downloading file Retail_Store_Visitors-211-MONTH_STARTING-2020-11-01.csv.gz...\n",
      "Downloading file Retail_Store_Visitors-212-MONTH_STARTING-2020-12-01.csv.gz...\n",
      "Downloading file Retail_Store_Visitors-213-MONTH_STARTING-2020-12-01.csv.gz...\n",
      "Downloading file Retail_Store_Visitors-214-MONTH_STARTING-2020-12-01.csv.gz...\n",
      "Downloading file Retail_Store_Visitors-215-MONTH_STARTING-2020-12-01.csv.gz...\n",
      "Downloading file Retail_Store_Visitors-216-MONTH_STARTING-2020-12-01.csv.gz...\n",
      "Downloading file Retail_Store_Visitors-217-MONTH_STARTING-2020-12-01.csv.gz...\n",
      "Downloading file Retail_Store_Visitors-218-MONTH_STARTING-2020-12-01.csv.gz...\n",
      "Downloading file Retail_Store_Visitors-219-MONTH_STARTING-2020-12-01.csv.gz...\n",
      "Downloading file Retail_Store_Visitors-220-MONTH_STARTING-2020-12-01.csv.gz...\n",
      "Downloading file Retail_Store_Visitors-221-MONTH_STARTING-2020-12-01.csv.gz...\n",
      "Downloading file Retail_Store_Visitors-222-MONTH_STARTING-2021-01-01.csv.gz...\n",
      "Downloading file Retail_Store_Visitors-223-MONTH_STARTING-2021-01-01.csv.gz...\n",
      "Downloading file Retail_Store_Visitors-224-MONTH_STARTING-2021-01-01.csv.gz...\n",
      "Downloading file Retail_Store_Visitors-225-MONTH_STARTING-2021-01-01.csv.gz...\n",
      "Downloading file Retail_Store_Visitors-226-MONTH_STARTING-2021-01-01.csv.gz...\n",
      "Downloading file Retail_Store_Visitors-227-MONTH_STARTING-2021-01-01.csv.gz...\n",
      "Downloading file Retail_Store_Visitors-228-MONTH_STARTING-2021-01-01.csv.gz...\n",
      "Downloading file Retail_Store_Visitors-229-MONTH_STARTING-2021-01-01.csv.gz...\n",
      "Downloading file Retail_Store_Visitors-230-MONTH_STARTING-2021-01-01.csv.gz...\n",
      "Downloading file Retail_Store_Visitors-231-MONTH_STARTING-2021-01-01.csv.gz...\n",
      "Downloading file Retail_Store_Visitors-232-MONTH_STARTING-2021-02-01.csv.gz...\n",
      "Downloading file Retail_Store_Visitors-233-MONTH_STARTING-2021-02-01.csv.gz...\n",
      "Downloading file Retail_Store_Visitors-234-MONTH_STARTING-2021-02-01.csv.gz...\n",
      "Downloading file Retail_Store_Visitors-235-MONTH_STARTING-2021-02-01.csv.gz...\n",
      "Downloading file Retail_Store_Visitors-236-MONTH_STARTING-2021-02-01.csv.gz...\n",
      "Downloading file Retail_Store_Visitors-237-MONTH_STARTING-2021-02-01.csv.gz...\n",
      "Downloading file Retail_Store_Visitors-238-MONTH_STARTING-2021-02-01.csv.gz...\n",
      "Downloading file Retail_Store_Visitors-239-MONTH_STARTING-2021-02-01.csv.gz...\n",
      "Downloading file Retail_Store_Visitors-240-MONTH_STARTING-2021-02-01.csv.gz...\n",
      "Downloading file Retail_Store_Visitors-241-MONTH_STARTING-2021-02-01.csv.gz...\n",
      "Downloading file Retail_Store_Visitors-242-MONTH_STARTING-2021-03-01.csv.gz...\n",
      "Downloading file Retail_Store_Visitors-243-MONTH_STARTING-2021-03-01.csv.gz...\n",
      "Downloading file Retail_Store_Visitors-244-MONTH_STARTING-2021-03-01.csv.gz...\n",
      "Downloading file Retail_Store_Visitors-245-MONTH_STARTING-2021-03-01.csv.gz...\n",
      "Downloading file Retail_Store_Visitors-246-MONTH_STARTING-2021-03-01.csv.gz...\n",
      "Downloading file Retail_Store_Visitors-247-MONTH_STARTING-2021-03-01.csv.gz...\n",
      "Downloading file Retail_Store_Visitors-248-MONTH_STARTING-2021-03-01.csv.gz...\n",
      "Downloading file Retail_Store_Visitors-249-MONTH_STARTING-2021-03-01.csv.gz...\n",
      "Downloading file Retail_Store_Visitors-250-MONTH_STARTING-2021-03-01.csv.gz...\n",
      "Downloading file Retail_Store_Visitors-251-MONTH_STARTING-2021-03-01.csv.gz...\n",
      "Downloading file Retail_Store_Visitors-252-MONTH_STARTING-2021-04-01.csv.gz...\n",
      "Downloading file Retail_Store_Visitors-253-MONTH_STARTING-2021-04-01.csv.gz...\n",
      "Downloading file Retail_Store_Visitors-254-MONTH_STARTING-2021-04-01.csv.gz...\n",
      "Downloading file Retail_Store_Visitors-255-MONTH_STARTING-2021-04-01.csv.gz...\n",
      "Downloading file Retail_Store_Visitors-256-MONTH_STARTING-2021-04-01.csv.gz...\n",
      "Downloading file Retail_Store_Visitors-257-MONTH_STARTING-2021-04-01.csv.gz...\n",
      "Downloading file Retail_Store_Visitors-258-MONTH_STARTING-2021-04-01.csv.gz...\n",
      "Downloading file Retail_Store_Visitors-259-MONTH_STARTING-2021-04-01.csv.gz...\n",
      "Downloading file Retail_Store_Visitors-260-MONTH_STARTING-2021-04-01.csv.gz...\n",
      "Downloading file Retail_Store_Visitors-261-MONTH_STARTING-2021-04-01.csv.gz...\n",
      "Downloading file Retail_Store_Visitors-262-MONTH_STARTING-2021-04-01.csv.gz...\n",
      "Downloading file Retail_Store_Visitors-263-MONTH_STARTING-2021-05-01.csv.gz...\n",
      "Downloading file Retail_Store_Visitors-264-MONTH_STARTING-2021-05-01.csv.gz...\n",
      "Downloading file Retail_Store_Visitors-265-MONTH_STARTING-2021-05-01.csv.gz...\n",
      "Downloading file Retail_Store_Visitors-266-MONTH_STARTING-2021-05-01.csv.gz...\n",
      "Downloading file Retail_Store_Visitors-267-MONTH_STARTING-2021-05-01.csv.gz...\n",
      "Downloading file Retail_Store_Visitors-268-MONTH_STARTING-2021-05-01.csv.gz...\n",
      "Downloading file Retail_Store_Visitors-269-MONTH_STARTING-2021-05-01.csv.gz...\n",
      "Downloading file Retail_Store_Visitors-270-MONTH_STARTING-2021-05-01.csv.gz...\n",
      "Downloading file Retail_Store_Visitors-271-MONTH_STARTING-2021-05-01.csv.gz...\n",
      "Downloading file Retail_Store_Visitors-272-MONTH_STARTING-2021-05-01.csv.gz...\n",
      "Downloading file Retail_Store_Visitors-273-MONTH_STARTING-2021-05-01.csv.gz...\n",
      "Downloading file Retail_Store_Visitors-274-MONTH_STARTING-2021-05-01.csv.gz...\n",
      "Downloading file Retail_Store_Visitors-275-MONTH_STARTING-2021-06-01.csv.gz...\n",
      "Downloading file Retail_Store_Visitors-276-MONTH_STARTING-2021-06-01.csv.gz...\n",
      "Downloading file Retail_Store_Visitors-277-MONTH_STARTING-2021-06-01.csv.gz...\n",
      "Downloading file Retail_Store_Visitors-278-MONTH_STARTING-2021-06-01.csv.gz...\n",
      "Downloading file Retail_Store_Visitors-279-MONTH_STARTING-2021-06-01.csv.gz...\n",
      "Downloading file Retail_Store_Visitors-280-MONTH_STARTING-2021-06-01.csv.gz...\n",
      "Downloading file Retail_Store_Visitors-281-MONTH_STARTING-2021-06-01.csv.gz...\n",
      "Downloading file Retail_Store_Visitors-282-MONTH_STARTING-2021-06-01.csv.gz...\n",
      "Downloading file Retail_Store_Visitors-283-MONTH_STARTING-2021-06-01.csv.gz...\n",
      "Downloading file Retail_Store_Visitors-284-MONTH_STARTING-2021-06-01.csv.gz...\n",
      "Downloading file Retail_Store_Visitors-285-MONTH_STARTING-2021-06-01.csv.gz...\n",
      "Downloading file Retail_Store_Visitors-286-MONTH_STARTING-2021-06-01.csv.gz...\n",
      "Downloading file Retail_Store_Visitors-287-MONTH_STARTING-2021-07-01.csv.gz...\n",
      "Downloading file Retail_Store_Visitors-288-MONTH_STARTING-2021-07-01.csv.gz...\n",
      "Downloading file Retail_Store_Visitors-289-MONTH_STARTING-2021-07-01.csv.gz...\n",
      "Downloading file Retail_Store_Visitors-290-MONTH_STARTING-2021-07-01.csv.gz...\n",
      "Downloading file Retail_Store_Visitors-291-MONTH_STARTING-2021-07-01.csv.gz...\n",
      "Downloading file Retail_Store_Visitors-292-MONTH_STARTING-2021-07-01.csv.gz...\n",
      "Downloading file Retail_Store_Visitors-293-MONTH_STARTING-2021-07-01.csv.gz...\n",
      "Downloading file Retail_Store_Visitors-294-MONTH_STARTING-2021-07-01.csv.gz...\n",
      "Downloading file Retail_Store_Visitors-295-MONTH_STARTING-2021-07-01.csv.gz...\n",
      "Downloading file Retail_Store_Visitors-296-MONTH_STARTING-2021-07-01.csv.gz...\n",
      "Downloading file Retail_Store_Visitors-297-MONTH_STARTING-2021-07-01.csv.gz...\n",
      "Downloading file Retail_Store_Visitors-298-MONTH_STARTING-2021-07-01.csv.gz...\n",
      "Downloading file Retail_Store_Visitors-299-MONTH_STARTING-2021-08-01.csv.gz...\n",
      "Downloading file Retail_Store_Visitors-300-MONTH_STARTING-2021-08-01.csv.gz...\n",
      "Downloading file Retail_Store_Visitors-301-MONTH_STARTING-2021-08-01.csv.gz...\n",
      "Downloading file Retail_Store_Visitors-302-MONTH_STARTING-2021-08-01.csv.gz...\n",
      "Downloading file Retail_Store_Visitors-303-MONTH_STARTING-2021-08-01.csv.gz...\n",
      "Downloading file Retail_Store_Visitors-304-MONTH_STARTING-2021-08-01.csv.gz...\n",
      "Downloading file Retail_Store_Visitors-305-MONTH_STARTING-2021-08-01.csv.gz...\n",
      "Downloading file Retail_Store_Visitors-306-MONTH_STARTING-2021-08-01.csv.gz...\n",
      "Downloading file Retail_Store_Visitors-307-MONTH_STARTING-2021-08-01.csv.gz...\n",
      "Downloading file Retail_Store_Visitors-308-MONTH_STARTING-2021-08-01.csv.gz...\n",
      "Downloading file Retail_Store_Visitors-309-MONTH_STARTING-2021-08-01.csv.gz...\n",
      "Downloading file Retail_Store_Visitors-310-MONTH_STARTING-2021-08-01.csv.gz...\n",
      "Downloading file Retail_Store_Visitors-311-MONTH_STARTING-2021-09-01.csv.gz...\n",
      "Downloading file Retail_Store_Visitors-312-MONTH_STARTING-2021-09-01.csv.gz...\n",
      "Downloading file Retail_Store_Visitors-313-MONTH_STARTING-2021-09-01.csv.gz...\n",
      "Downloading file Retail_Store_Visitors-314-MONTH_STARTING-2021-09-01.csv.gz...\n",
      "Downloading file Retail_Store_Visitors-315-MONTH_STARTING-2021-09-01.csv.gz...\n",
      "Downloading file Retail_Store_Visitors-316-MONTH_STARTING-2021-09-01.csv.gz...\n",
      "Downloading file Retail_Store_Visitors-317-MONTH_STARTING-2021-09-01.csv.gz...\n",
      "Downloading file Retail_Store_Visitors-318-MONTH_STARTING-2021-09-01.csv.gz...\n",
      "Downloading file Retail_Store_Visitors-319-MONTH_STARTING-2021-09-01.csv.gz...\n",
      "Downloading file Retail_Store_Visitors-320-MONTH_STARTING-2021-09-01.csv.gz...\n",
      "Downloading file Retail_Store_Visitors-321-MONTH_STARTING-2021-09-01.csv.gz...\n",
      "Downloading file Retail_Store_Visitors-322-MONTH_STARTING-2021-09-01.csv.gz...\n",
      "Downloading file Retail_Store_Visitors-323-MONTH_STARTING-2021-10-01.csv.gz...\n",
      "Downloading file Retail_Store_Visitors-324-MONTH_STARTING-2021-10-01.csv.gz...\n",
      "Downloading file Retail_Store_Visitors-325-MONTH_STARTING-2021-10-01.csv.gz...\n",
      "Downloading file Retail_Store_Visitors-326-MONTH_STARTING-2021-10-01.csv.gz...\n",
      "Downloading file Retail_Store_Visitors-327-MONTH_STARTING-2021-10-01.csv.gz...\n",
      "Downloading file Retail_Store_Visitors-328-MONTH_STARTING-2021-10-01.csv.gz...\n",
      "Downloading file Retail_Store_Visitors-329-MONTH_STARTING-2021-10-01.csv.gz...\n",
      "Downloading file Retail_Store_Visitors-330-MONTH_STARTING-2021-10-01.csv.gz...\n",
      "Downloading file Retail_Store_Visitors-331-MONTH_STARTING-2021-10-01.csv.gz...\n",
      "Downloading file Retail_Store_Visitors-332-MONTH_STARTING-2021-10-01.csv.gz...\n",
      "Downloading file Retail_Store_Visitors-333-MONTH_STARTING-2021-10-01.csv.gz...\n",
      "Downloading file Retail_Store_Visitors-334-MONTH_STARTING-2021-10-01.csv.gz...\n",
      "Downloading file Retail_Store_Visitors-335-MONTH_STARTING-2021-11-01.csv.gz...\n",
      "Downloading file Retail_Store_Visitors-336-MONTH_STARTING-2021-11-01.csv.gz...\n",
      "Downloading file Retail_Store_Visitors-337-MONTH_STARTING-2021-11-01.csv.gz...\n",
      "Downloading file Retail_Store_Visitors-338-MONTH_STARTING-2021-11-01.csv.gz...\n",
      "Downloading file Retail_Store_Visitors-339-MONTH_STARTING-2021-11-01.csv.gz...\n",
      "Downloading file Retail_Store_Visitors-340-MONTH_STARTING-2021-11-01.csv.gz...\n",
      "Downloading file Retail_Store_Visitors-341-MONTH_STARTING-2021-11-01.csv.gz...\n",
      "Downloading file Retail_Store_Visitors-342-MONTH_STARTING-2021-11-01.csv.gz...\n",
      "Downloading file Retail_Store_Visitors-343-MONTH_STARTING-2021-11-01.csv.gz...\n",
      "Downloading file Retail_Store_Visitors-344-MONTH_STARTING-2021-11-01.csv.gz...\n",
      "Downloading file Retail_Store_Visitors-345-MONTH_STARTING-2021-11-01.csv.gz...\n",
      "Downloading file Retail_Store_Visitors-346-MONTH_STARTING-2021-11-01.csv.gz...\n",
      "Downloading file Retail_Store_Visitors-347-MONTH_STARTING-2021-12-01.csv.gz...\n",
      "Downloading file Retail_Store_Visitors-348-MONTH_STARTING-2021-12-01.csv.gz...\n",
      "Downloading file Retail_Store_Visitors-349-MONTH_STARTING-2021-12-01.csv.gz...\n",
      "Downloading file Retail_Store_Visitors-350-MONTH_STARTING-2021-12-01.csv.gz...\n",
      "Downloading file Retail_Store_Visitors-351-MONTH_STARTING-2021-12-01.csv.gz...\n",
      "Downloading file Retail_Store_Visitors-352-MONTH_STARTING-2021-12-01.csv.gz...\n",
      "Downloading file Retail_Store_Visitors-353-MONTH_STARTING-2021-12-01.csv.gz...\n",
      "Downloading file Retail_Store_Visitors-354-MONTH_STARTING-2021-12-01.csv.gz...\n",
      "Downloading file Retail_Store_Visitors-355-MONTH_STARTING-2021-12-01.csv.gz...\n",
      "Downloading file Retail_Store_Visitors-356-MONTH_STARTING-2021-12-01.csv.gz...\n",
      "Downloading file Retail_Store_Visitors-357-MONTH_STARTING-2021-12-01.csv.gz...\n",
      "Downloading file Retail_Store_Visitors-358-MONTH_STARTING-2021-12-01.csv.gz...\n",
      "Downloading file Retail_Store_Visitors-359-MONTH_STARTING-2022-01-01.csv.gz...\n",
      "Downloading file Retail_Store_Visitors-360-MONTH_STARTING-2022-01-01.csv.gz...\n",
      "Downloading file Retail_Store_Visitors-361-MONTH_STARTING-2022-01-01.csv.gz...\n",
      "Downloading file Retail_Store_Visitors-362-MONTH_STARTING-2022-01-01.csv.gz...\n",
      "Downloading file Retail_Store_Visitors-363-MONTH_STARTING-2022-01-01.csv.gz...\n",
      "Downloading file Retail_Store_Visitors-364-MONTH_STARTING-2022-01-01.csv.gz...\n",
      "Downloading file Retail_Store_Visitors-365-MONTH_STARTING-2022-01-01.csv.gz...\n",
      "Downloading file Retail_Store_Visitors-366-MONTH_STARTING-2022-01-01.csv.gz...\n",
      "Downloading file Retail_Store_Visitors-367-MONTH_STARTING-2022-01-01.csv.gz...\n",
      "Downloading file Retail_Store_Visitors-368-MONTH_STARTING-2022-01-01.csv.gz...\n",
      "Downloading file Retail_Store_Visitors-369-MONTH_STARTING-2022-01-01.csv.gz...\n",
      "Downloading file Retail_Store_Visitors-370-MONTH_STARTING-2022-02-01.csv.gz...\n",
      "Downloading file Retail_Store_Visitors-371-MONTH_STARTING-2022-02-01.csv.gz...\n",
      "Downloading file Retail_Store_Visitors-372-MONTH_STARTING-2022-02-01.csv.gz...\n",
      "Downloading file Retail_Store_Visitors-373-MONTH_STARTING-2022-02-01.csv.gz...\n",
      "Downloading file Retail_Store_Visitors-374-MONTH_STARTING-2022-02-01.csv.gz...\n",
      "Downloading file Retail_Store_Visitors-375-MONTH_STARTING-2022-02-01.csv.gz...\n",
      "Downloading file Retail_Store_Visitors-376-MONTH_STARTING-2022-02-01.csv.gz...\n",
      "Downloading file Retail_Store_Visitors-377-MONTH_STARTING-2022-02-01.csv.gz...\n",
      "Downloading file Retail_Store_Visitors-378-MONTH_STARTING-2022-02-01.csv.gz...\n",
      "Downloading file Retail_Store_Visitors-379-MONTH_STARTING-2022-02-01.csv.gz...\n",
      "Downloading file Retail_Store_Visitors-380-MONTH_STARTING-2022-02-01.csv.gz...\n",
      "Downloading file Retail_Store_Visitors-381-MONTH_STARTING-2022-03-01.csv.gz...\n",
      "Downloading file Retail_Store_Visitors-382-MONTH_STARTING-2022-03-01.csv.gz...\n",
      "Downloading file Retail_Store_Visitors-383-MONTH_STARTING-2022-03-01.csv.gz...\n",
      "Downloading file Retail_Store_Visitors-384-MONTH_STARTING-2022-03-01.csv.gz...\n",
      "Downloading file Retail_Store_Visitors-385-MONTH_STARTING-2022-03-01.csv.gz...\n",
      "Downloading file Retail_Store_Visitors-386-MONTH_STARTING-2022-03-01.csv.gz...\n",
      "Downloading file Retail_Store_Visitors-387-MONTH_STARTING-2022-03-01.csv.gz...\n",
      "Downloading file Retail_Store_Visitors-388-MONTH_STARTING-2022-03-01.csv.gz...\n",
      "Downloading file Retail_Store_Visitors-389-MONTH_STARTING-2022-03-01.csv.gz...\n",
      "Downloading file Retail_Store_Visitors-390-MONTH_STARTING-2022-03-01.csv.gz...\n",
      "Downloading file Retail_Store_Visitors-391-MONTH_STARTING-2022-03-01.csv.gz...\n",
      "Downloading file Retail_Store_Visitors-392-MONTH_STARTING-2022-04-01.csv.gz...\n",
      "Downloading file Retail_Store_Visitors-393-MONTH_STARTING-2022-04-01.csv.gz...\n",
      "Downloading file Retail_Store_Visitors-394-MONTH_STARTING-2022-04-01.csv.gz...\n",
      "Downloading file Retail_Store_Visitors-395-MONTH_STARTING-2022-04-01.csv.gz...\n",
      "Downloading file Retail_Store_Visitors-396-MONTH_STARTING-2022-04-01.csv.gz...\n",
      "Downloading file Retail_Store_Visitors-397-MONTH_STARTING-2022-04-01.csv.gz...\n",
      "Downloading file Retail_Store_Visitors-398-MONTH_STARTING-2022-04-01.csv.gz...\n",
      "Downloading file Retail_Store_Visitors-399-MONTH_STARTING-2022-04-01.csv.gz...\n",
      "Downloading file Retail_Store_Visitors-400-MONTH_STARTING-2022-04-01.csv.gz...\n",
      "Downloading file Retail_Store_Visitors-401-MONTH_STARTING-2022-05-01.csv.gz...\n",
      "Downloading file Retail_Store_Visitors-402-MONTH_STARTING-2022-05-01.csv.gz...\n",
      "Downloading file Retail_Store_Visitors-403-MONTH_STARTING-2022-05-01.csv.gz...\n",
      "Downloading file Retail_Store_Visitors-404-MONTH_STARTING-2022-05-01.csv.gz...\n",
      "Downloading file Retail_Store_Visitors-405-MONTH_STARTING-2022-05-01.csv.gz...\n",
      "Downloading file Retail_Store_Visitors-406-MONTH_STARTING-2022-05-01.csv.gz...\n",
      "Downloading file Retail_Store_Visitors-407-MONTH_STARTING-2022-05-01.csv.gz...\n",
      "Downloading file Retail_Store_Visitors-408-MONTH_STARTING-2022-05-01.csv.gz...\n",
      "Downloading file Retail_Store_Visitors-409-MONTH_STARTING-2022-05-01.csv.gz...\n",
      "Downloading file Retail_Store_Visitors-410-MONTH_STARTING-2022-06-01.csv.gz...\n",
      "Downloading file Retail_Store_Visitors-411-MONTH_STARTING-2022-06-01.csv.gz...\n",
      "Downloading file Retail_Store_Visitors-412-MONTH_STARTING-2022-06-01.csv.gz...\n",
      "Downloading file Retail_Store_Visitors-413-MONTH_STARTING-2022-06-01.csv.gz...\n",
      "Downloading file Retail_Store_Visitors-414-MONTH_STARTING-2022-06-01.csv.gz...\n",
      "Downloading file Retail_Store_Visitors-415-MONTH_STARTING-2022-06-01.csv.gz...\n",
      "Downloading file Retail_Store_Visitors-416-MONTH_STARTING-2022-06-01.csv.gz...\n",
      "Downloading file Retail_Store_Visitors-417-MONTH_STARTING-2022-06-01.csv.gz...\n",
      "Downloading file Retail_Store_Visitors-418-MONTH_STARTING-2022-06-01.csv.gz...\n",
      "Downloading file Retail_Store_Visitors-419-MONTH_STARTING-2022-07-01.csv.gz...\n",
      "Downloading file Retail_Store_Visitors-420-MONTH_STARTING-2022-07-01.csv.gz...\n",
      "Downloading file Retail_Store_Visitors-421-MONTH_STARTING-2022-07-01.csv.gz...\n",
      "Downloading file Retail_Store_Visitors-422-MONTH_STARTING-2022-07-01.csv.gz...\n",
      "Downloading file Retail_Store_Visitors-423-MONTH_STARTING-2022-07-01.csv.gz...\n",
      "Downloading file Retail_Store_Visitors-424-MONTH_STARTING-2022-07-01.csv.gz...\n",
      "Downloading file Retail_Store_Visitors-425-MONTH_STARTING-2022-07-01.csv.gz...\n",
      "Downloading file Retail_Store_Visitors-426-MONTH_STARTING-2022-07-01.csv.gz...\n",
      "Downloading file Retail_Store_Visitors-427-MONTH_STARTING-2022-07-01.csv.gz...\n",
      "Downloading file Retail_Store_Visitors-428-MONTH_STARTING-2022-08-01.csv.gz...\n",
      "Downloading file Retail_Store_Visitors-429-MONTH_STARTING-2022-08-01.csv.gz...\n",
      "Downloading file Retail_Store_Visitors-430-MONTH_STARTING-2022-08-01.csv.gz...\n",
      "Downloading file Retail_Store_Visitors-431-MONTH_STARTING-2022-08-01.csv.gz...\n",
      "Downloading file Retail_Store_Visitors-432-MONTH_STARTING-2022-08-01.csv.gz...\n",
      "Downloading file Retail_Store_Visitors-433-MONTH_STARTING-2022-08-01.csv.gz...\n",
      "Downloading file Retail_Store_Visitors-434-MONTH_STARTING-2022-08-01.csv.gz...\n",
      "Downloading file Retail_Store_Visitors-435-MONTH_STARTING-2022-08-01.csv.gz...\n",
      "Downloading file Retail_Store_Visitors-436-MONTH_STARTING-2022-08-01.csv.gz...\n",
      "Downloading file Retail_Store_Visitors-437-MONTH_STARTING-2022-09-01.csv.gz...\n",
      "Downloading file Retail_Store_Visitors-438-MONTH_STARTING-2022-09-01.csv.gz...\n",
      "Downloading file Retail_Store_Visitors-439-MONTH_STARTING-2022-09-01.csv.gz...\n",
      "Downloading file Retail_Store_Visitors-440-MONTH_STARTING-2022-09-01.csv.gz...\n",
      "Downloading file Retail_Store_Visitors-441-MONTH_STARTING-2022-09-01.csv.gz...\n",
      "Downloading file Retail_Store_Visitors-442-MONTH_STARTING-2022-09-01.csv.gz...\n",
      "Downloading file Retail_Store_Visitors-443-MONTH_STARTING-2022-09-01.csv.gz...\n",
      "Downloading file Retail_Store_Visitors-444-MONTH_STARTING-2022-09-01.csv.gz...\n",
      "Downloading file Retail_Store_Visitors-445-MONTH_STARTING-2022-09-01.csv.gz...\n",
      "Downloading file Retail_Store_Visitors-446-MONTH_STARTING-2022-10-01.csv.gz...\n",
      "Downloading file Retail_Store_Visitors-447-MONTH_STARTING-2022-10-01.csv.gz...\n",
      "Downloading file Retail_Store_Visitors-448-MONTH_STARTING-2022-10-01.csv.gz...\n",
      "Downloading file Retail_Store_Visitors-449-MONTH_STARTING-2022-10-01.csv.gz...\n",
      "Downloading file Retail_Store_Visitors-450-MONTH_STARTING-2022-10-01.csv.gz...\n",
      "Downloading file Retail_Store_Visitors-451-MONTH_STARTING-2022-10-01.csv.gz...\n",
      "Downloading file Retail_Store_Visitors-452-MONTH_STARTING-2022-10-01.csv.gz...\n",
      "Downloading file Retail_Store_Visitors-453-MONTH_STARTING-2022-10-01.csv.gz...\n",
      "Downloading file Retail_Store_Visitors-454-MONTH_STARTING-2022-10-01.csv.gz...\n",
      "Downloading file Retail_Store_Visitors-455-MONTH_STARTING-2022-10-01.csv.gz...\n",
      "Downloading file Retail_Store_Visitors-456-MONTH_STARTING-2022-10-01.csv.gz...\n",
      "Downloading file Retail_Store_Visitors-457-MONTH_STARTING-2022-10-01.csv.gz...\n",
      "Downloading file Retail_Store_Visitors-458-MONTH_STARTING-2022-10-01.csv.gz...\n",
      "Downloading file Retail_Store_Visitors-459-MONTH_STARTING-2022-11-01.csv.gz...\n",
      "Downloading file Retail_Store_Visitors-460-MONTH_STARTING-2022-11-01.csv.gz...\n",
      "Downloading file Retail_Store_Visitors-461-MONTH_STARTING-2022-11-01.csv.gz...\n",
      "Downloading file Retail_Store_Visitors-462-MONTH_STARTING-2022-11-01.csv.gz...\n",
      "Downloading file Retail_Store_Visitors-463-MONTH_STARTING-2022-11-01.csv.gz...\n",
      "Downloading file Retail_Store_Visitors-464-MONTH_STARTING-2022-11-01.csv.gz...\n",
      "Downloading file Retail_Store_Visitors-465-MONTH_STARTING-2022-11-01.csv.gz...\n",
      "Downloading file Retail_Store_Visitors-466-MONTH_STARTING-2022-11-01.csv.gz...\n",
      "Downloading file Retail_Store_Visitors-467-MONTH_STARTING-2022-11-01.csv.gz...\n",
      "Downloading file Retail_Store_Visitors-468-MONTH_STARTING-2022-12-01.csv.gz...\n",
      "Downloading file Retail_Store_Visitors-469-MONTH_STARTING-2022-12-01.csv.gz...\n",
      "Downloading file Retail_Store_Visitors-470-MONTH_STARTING-2022-12-01.csv.gz...\n",
      "Downloading file Retail_Store_Visitors-471-MONTH_STARTING-2022-12-01.csv.gz...\n",
      "Downloading file Retail_Store_Visitors-472-MONTH_STARTING-2022-12-01.csv.gz...\n",
      "Downloading file Retail_Store_Visitors-473-MONTH_STARTING-2022-12-01.csv.gz...\n",
      "Downloading file Retail_Store_Visitors-474-MONTH_STARTING-2022-12-01.csv.gz...\n",
      "Downloading file Retail_Store_Visitors-475-MONTH_STARTING-2022-12-01.csv.gz...\n",
      "Downloading file Retail_Store_Visitors-476-MONTH_STARTING-2022-12-01.csv.gz...\n",
      "Downloading file Retail_Store_Visitors-477-MONTH_STARTING-2023-01-01.csv.gz...\n",
      "Downloading file Retail_Store_Visitors-478-MONTH_STARTING-2023-01-01.csv.gz...\n",
      "Downloading file Retail_Store_Visitors-479-MONTH_STARTING-2023-01-01.csv.gz...\n",
      "Downloading file Retail_Store_Visitors-480-MONTH_STARTING-2023-01-01.csv.gz...\n",
      "Downloading file Retail_Store_Visitors-481-MONTH_STARTING-2023-01-01.csv.gz...\n",
      "Downloading file Retail_Store_Visitors-482-MONTH_STARTING-2023-01-01.csv.gz...\n",
      "Downloading file Retail_Store_Visitors-483-MONTH_STARTING-2023-01-01.csv.gz...\n",
      "Downloading file Retail_Store_Visitors-484-MONTH_STARTING-2023-01-01.csv.gz...\n",
      "Downloading file Retail_Store_Visitors-485-MONTH_STARTING-2023-02-01.csv.gz...\n",
      "Downloading file Retail_Store_Visitors-486-MONTH_STARTING-2023-02-01.csv.gz...\n",
      "Downloading file Retail_Store_Visitors-487-MONTH_STARTING-2023-02-01.csv.gz...\n",
      "Downloading file Retail_Store_Visitors-488-MONTH_STARTING-2023-02-01.csv.gz...\n",
      "Downloading file Retail_Store_Visitors-489-MONTH_STARTING-2023-02-01.csv.gz...\n",
      "Downloading file Retail_Store_Visitors-490-MONTH_STARTING-2023-02-01.csv.gz...\n",
      "Downloading file Retail_Store_Visitors-491-MONTH_STARTING-2023-02-01.csv.gz...\n",
      "Downloading file Retail_Store_Visitors-492-MONTH_STARTING-2023-02-01.csv.gz...\n",
      "Downloading file Retail_Store_Visitors-493-MONTH_STARTING-2023-02-01.csv.gz...\n",
      "Downloading file Retail_Store_Visitors-494-MONTH_STARTING-2023-03-01.csv.gz...\n",
      "Downloading file Retail_Store_Visitors-495-MONTH_STARTING-2023-03-01.csv.gz...\n",
      "Downloading file Retail_Store_Visitors-496-MONTH_STARTING-2023-03-01.csv.gz...\n",
      "Downloading file Retail_Store_Visitors-497-MONTH_STARTING-2023-03-01.csv.gz...\n",
      "Downloading file Retail_Store_Visitors-498-MONTH_STARTING-2023-03-01.csv.gz...\n",
      "Downloading file Retail_Store_Visitors-499-MONTH_STARTING-2023-03-01.csv.gz...\n",
      "Downloading file Retail_Store_Visitors-500-MONTH_STARTING-2023-03-01.csv.gz...\n",
      "Downloading file Retail_Store_Visitors-501-MONTH_STARTING-2023-03-01.csv.gz...\n",
      "Downloading file Retail_Store_Visitors-502-MONTH_STARTING-2023-04-01.csv.gz...\n",
      "Downloading file Retail_Store_Visitors-503-MONTH_STARTING-2023-04-01.csv.gz...\n",
      "Downloading file Retail_Store_Visitors-504-MONTH_STARTING-2023-04-01.csv.gz...\n",
      "Downloading file Retail_Store_Visitors-505-MONTH_STARTING-2023-04-01.csv.gz...\n",
      "Downloading file Retail_Store_Visitors-506-MONTH_STARTING-2023-04-01.csv.gz...\n",
      "Downloading file Retail_Store_Visitors-507-MONTH_STARTING-2023-04-01.csv.gz...\n",
      "Downloading file Retail_Store_Visitors-508-MONTH_STARTING-2023-04-01.csv.gz...\n",
      "Downloading file Retail_Store_Visitors-509-MONTH_STARTING-2023-04-01.csv.gz...\n",
      "Downloading file Retail_Store_Visitors-510-MONTH_STARTING-2023-05-01.csv.gz...\n",
      "Downloading file Retail_Store_Visitors-511-MONTH_STARTING-2023-05-01.csv.gz...\n",
      "Downloading file Retail_Store_Visitors-512-MONTH_STARTING-2023-05-01.csv.gz...\n",
      "Downloading file Retail_Store_Visitors-513-MONTH_STARTING-2023-05-01.csv.gz...\n",
      "Downloading file Retail_Store_Visitors-514-MONTH_STARTING-2023-05-01.csv.gz...\n",
      "Downloading file Retail_Store_Visitors-515-MONTH_STARTING-2023-05-01.csv.gz...\n",
      "Downloading file Retail_Store_Visitors-516-MONTH_STARTING-2023-05-01.csv.gz...\n",
      "Downloading file Retail_Store_Visitors-517-MONTH_STARTING-2023-05-01.csv.gz...\n",
      "Downloading file Retail_Store_Visitors-518-MONTH_STARTING-2023-06-01.csv.gz...\n",
      "Downloading file Retail_Store_Visitors-519-MONTH_STARTING-2023-06-01.csv.gz...\n",
      "Downloading file Retail_Store_Visitors-520-MONTH_STARTING-2023-06-01.csv.gz...\n",
      "Downloading file Retail_Store_Visitors-521-MONTH_STARTING-2023-06-01.csv.gz...\n",
      "Downloading file Retail_Store_Visitors-522-MONTH_STARTING-2023-06-01.csv.gz...\n",
      "Downloading file Retail_Store_Visitors-523-MONTH_STARTING-2023-06-01.csv.gz...\n",
      "Downloading file Retail_Store_Visitors-524-MONTH_STARTING-2023-06-01.csv.gz...\n",
      "Downloading file Retail_Store_Visitors-525-MONTH_STARTING-2023-06-01.csv.gz...\n",
      "Downloading file Retail_Store_Visitors-526-MONTH_STARTING-2023-06-01.csv.gz...\n",
      "Downloading file Retail_Store_Visitors-527-MONTH_STARTING-2023-07-01.csv.gz...\n",
      "Downloading file Retail_Store_Visitors-528-MONTH_STARTING-2023-07-01.csv.gz...\n",
      "Downloading file Retail_Store_Visitors-529-MONTH_STARTING-2023-07-01.csv.gz...\n",
      "Downloading file Retail_Store_Visitors-530-MONTH_STARTING-2023-07-01.csv.gz...\n",
      "Downloading file Retail_Store_Visitors-531-MONTH_STARTING-2023-07-01.csv.gz...\n",
      "Downloading file Retail_Store_Visitors-532-MONTH_STARTING-2023-07-01.csv.gz...\n",
      "Downloading file Retail_Store_Visitors-533-MONTH_STARTING-2023-07-01.csv.gz...\n",
      "Downloading file Retail_Store_Visitors-534-MONTH_STARTING-2023-07-01.csv.gz...\n",
      "Downloading file Retail_Store_Visitors-535-MONTH_STARTING-2023-07-01.csv.gz...\n",
      "Downloading file Retail_Store_Visitors-536-MONTH_STARTING-2023-07-01.csv.gz...\n",
      "Downloading file Retail_Store_Visitors-537-MONTH_STARTING-2023-08-01.csv.gz...\n",
      "Downloading file Retail_Store_Visitors-538-MONTH_STARTING-2023-08-01.csv.gz...\n",
      "Downloading file Retail_Store_Visitors-539-MONTH_STARTING-2023-08-01.csv.gz...\n",
      "Downloading file Retail_Store_Visitors-540-MONTH_STARTING-2023-08-01.csv.gz...\n",
      "Downloading file Retail_Store_Visitors-541-MONTH_STARTING-2023-08-01.csv.gz...\n",
      "Downloading file Retail_Store_Visitors-542-MONTH_STARTING-2023-08-01.csv.gz...\n",
      "Downloading file Retail_Store_Visitors-543-MONTH_STARTING-2023-08-01.csv.gz...\n",
      "Downloading file Retail_Store_Visitors-544-MONTH_STARTING-2023-08-01.csv.gz...\n",
      "Downloading file Retail_Store_Visitors-545-MONTH_STARTING-2023-08-01.csv.gz...\n",
      "Downloading file Retail_Store_Visitors-546-MONTH_STARTING-2023-08-01.csv.gz...\n",
      "Downloading file Retail_Store_Visitors-547-MONTH_STARTING-2023-08-01.csv.gz...\n",
      "Downloading file Retail_Store_Visitors-548-MONTH_STARTING-2023-09-01.csv.gz...\n",
      "Downloading file Retail_Store_Visitors-549-MONTH_STARTING-2023-09-01.csv.gz...\n",
      "Downloading file Retail_Store_Visitors-550-MONTH_STARTING-2023-09-01.csv.gz...\n",
      "Downloading file Retail_Store_Visitors-551-MONTH_STARTING-2023-09-01.csv.gz...\n",
      "Downloading file Retail_Store_Visitors-552-MONTH_STARTING-2023-09-01.csv.gz...\n",
      "Downloading file Retail_Store_Visitors-553-MONTH_STARTING-2023-09-01.csv.gz...\n",
      "Downloading file Retail_Store_Visitors-554-MONTH_STARTING-2023-09-01.csv.gz...\n",
      "Downloading file Retail_Store_Visitors-555-MONTH_STARTING-2023-09-01.csv.gz...\n",
      "Downloading file Retail_Store_Visitors-556-MONTH_STARTING-2023-09-01.csv.gz...\n",
      "Downloading file Retail_Store_Visitors-557-MONTH_STARTING-2023-09-01.csv.gz...\n",
      "Downloading file Retail_Store_Visitors-558-MONTH_STARTING-2023-09-01.csv.gz...\n",
      "Downloading file Retail_Store_Visitors-559-MONTH_STARTING-2023-09-01.csv.gz...\n",
      "Downloading file Retail_Store_Visitors-560-MONTH_STARTING-2023-10-01.csv.gz...\n",
      "Downloading file Retail_Store_Visitors-561-MONTH_STARTING-2023-10-01.csv.gz...\n",
      "Downloading file Retail_Store_Visitors-562-MONTH_STARTING-2023-10-01.csv.gz...\n",
      "Downloading file Retail_Store_Visitors-563-MONTH_STARTING-2023-10-01.csv.gz...\n",
      "Downloading file Retail_Store_Visitors-564-MONTH_STARTING-2023-10-01.csv.gz...\n",
      "Downloading file Retail_Store_Visitors-565-MONTH_STARTING-2023-10-01.csv.gz...\n",
      "Downloading file Retail_Store_Visitors-566-MONTH_STARTING-2023-10-01.csv.gz...\n",
      "Downloading file Retail_Store_Visitors-567-MONTH_STARTING-2023-10-01.csv.gz...\n",
      "Downloading file Retail_Store_Visitors-568-MONTH_STARTING-2023-10-01.csv.gz...\n",
      "Downloading file Retail_Store_Visitors-569-MONTH_STARTING-2023-10-01.csv.gz...\n",
      "Downloading file Retail_Store_Visitors-570-MONTH_STARTING-2023-10-01.csv.gz...\n",
      "Downloading file Retail_Store_Visitors-571-MONTH_STARTING-2023-10-01.csv.gz...\n"
     ]
    }
   ],
   "source": [
    "data_path = 'C:/Users/dratnadiwakara2/Downloads/temp_dewey/retail_store_visitor_banks.csv'\n",
    "for link_data in response_json['download_links'][195:]:\n",
    "    print(f\"Downloading file {link_data['file_name']}...\")\n",
    "    data = requests.get(link_data['link'])\n",
    "    gzip_stream = io.BytesIO(data.content)\n",
    "        \n",
    "    df = pd.read_csv(gzip_stream, compression='gzip', low_memory=False)\n",
    "    df['match_address'] = df['STREET_ADDRESS'].str.lower()+' '+df['ZIP_CODE'].astype(str)\n",
    "    \n",
    "    filtered_df = df[df['match_address'].isin(unique_match_addresses)]\n",
    "    \n",
    "    keywords = ['bank', 'finan', 'trust', 'capital']\n",
    "    mask = filtered_df['BRAND'].str.lower().str.contains('|'.join(keywords), case=False)\n",
    "    \n",
    "    filtered_df = filtered_df[mask]\n",
    "    \n",
    "    if os.path.isfile(data_path):\n",
    "        header_option = False  \n",
    "    else:\n",
    "        header_option = True  \n",
    "    \n",
    "    filtered_df.to_csv(data_path, mode='a', header=header_option, index=False)     "
   ],
   "metadata": {
    "collapsed": false,
    "ExecuteTime": {
     "end_time": "2024-01-31T16:54:36.332911200Z",
     "start_time": "2024-01-31T14:07:45.439642700Z"
    }
   },
   "id": "631d64d87881c8f0"
  },
  {
   "cell_type": "code",
   "execution_count": 36,
   "outputs": [],
   "source": [
    "ft_data = pd.read_csv(data_path, low_memory=False)\n"
   ],
   "metadata": {
    "collapsed": false,
    "ExecuteTime": {
     "end_time": "2024-01-31T17:04:31.032386600Z",
     "start_time": "2024-01-31T16:59:34.245943900Z"
    }
   },
   "id": "aec742760356013a"
  },
  {
   "cell_type": "code",
   "execution_count": 37,
   "outputs": [],
   "source": [
    "ft_data = ft_data.reset_index()\n",
    "with gzip.open(data_path+'.gz', 'wt', encoding='utf-8') as gzipped_file:\n",
    "    ft_data.to_csv(gzipped_file, index=False)"
   ],
   "metadata": {
    "collapsed": false,
    "ExecuteTime": {
     "end_time": "2024-01-31T17:56:28.495568700Z",
     "start_time": "2024-01-31T17:04:43.214857Z"
    }
   },
   "id": "636bf02787263e5"
  },
  {
   "cell_type": "markdown",
   "source": [
    "\n",
    "\n",
    "\n",
    "Identify individual components"
   ],
   "metadata": {
    "collapsed": false
   },
   "id": "9897818559e4b697"
  },
  {
   "cell_type": "code",
   "execution_count": null,
   "outputs": [],
   "source": [
    "from tqdm import tqdm\n",
    "import json"
   ],
   "metadata": {
    "collapsed": false
   },
   "id": "ad1ac46aa1275311"
  },
  {
   "cell_type": "code",
   "execution_count": null,
   "outputs": [],
   "source": [
    "ft_data = pd.read_csv(\"C:/Users/dratnadiwakara2/Downloads/temp_dewey/retail_store_visitor_banks.csv.gz\", compression='gzip')"
   ],
   "metadata": {
    "collapsed": false
   },
   "id": "92b9585e898473f7"
  },
  {
   "cell_type": "code",
   "execution_count": 92,
   "outputs": [
    {
     "name": "stdout",
     "output_type": "stream",
     "text": [
      "<class 'pandas.core.frame.DataFrame'>\n",
      "RangeIndex: 1653483 entries, 0 to 1653482\n",
      "Data columns (total 20 columns):\n",
      " #   Column                          Non-Null Count    Dtype \n",
      "---  ------                          --------------    ----- \n",
      " 0   index                           1653483 non-null  int64 \n",
      " 1   STORE_ID                        1653483 non-null  object\n",
      " 2   NAME                            1653483 non-null  object\n",
      " 3   BRAND                           1653483 non-null  object\n",
      " 4   STREET_ADDRESS                  1653483 non-null  object\n",
      " 5   CITY                            1653483 non-null  object\n",
      " 6   STATE                           1653483 non-null  object\n",
      " 7   ZIP_CODE                        1653483 non-null  int64 \n",
      " 8   MONTH_STARTING                  1653483 non-null  object\n",
      " 9   MONTH_ENDING                    1653483 non-null  object\n",
      " 10  TOTAL_VISITS                    1653483 non-null  int64 \n",
      " 11  VISITOR_BRAND_DESTINATIONS      1653483 non-null  object\n",
      " 12  VISITOR_PSYCHOGRAPHIC_PROFILES  1653483 non-null  object\n",
      " 13  VISITOR_EDUCATIONAL_ATTAINMENT  1653483 non-null  object\n",
      " 14  VISITOR_INDUSTRY                1653483 non-null  object\n",
      " 15  VISITOR_AGE_RANGE               1653483 non-null  object\n",
      " 16  VISITOR_HOMEOWNERSHIP           1653483 non-null  object\n",
      " 17  VISITOR_HOUSEHOLD_INCOME        1653483 non-null  object\n",
      " 18  VISITOR_COMMUTE                 1653483 non-null  object\n",
      " 19  match_address                   1653483 non-null  object\n",
      "dtypes: int64(3), object(17)\n",
      "memory usage: 252.3+ MB\n"
     ]
    }
   ],
   "source": [
    "ft_data.info()"
   ],
   "metadata": {
    "collapsed": false,
    "ExecuteTime": {
     "end_time": "2024-01-31T18:56:09.913817100Z",
     "start_time": "2024-01-31T18:56:07.219186400Z"
    }
   },
   "id": "7be23d3c266426c4"
  },
  {
   "cell_type": "code",
   "execution_count": 99,
   "outputs": [
    {
     "name": "stderr",
     "output_type": "stream",
     "text": [
      "100%|██████████| 1653483/1653483 [5:41:30<00:00, 80.69it/s]  \n"
     ]
    }
   ],
   "source": [
    "VISITOR_HOUSEHOLD_INCOME_file = 'C:/Users/dratnadiwakara2/Downloads/temp_dewey/retail_store_visitor_VISITOR_HOUSEHOLD_INCOME.csv'\n",
    "VISITOR_EDUCATIONAL_ATTAINMENT_file = 'C:/Users/dratnadiwakara2/Downloads/temp_dewey/retail_store_visitor_VISITOR_EDUCATIONAL_ATTAINMENT.csv'\n",
    "VISITOR_AGE_RANGE_file = 'C:/Users/dratnadiwakara2/Downloads/temp_dewey/retail_store_visitor_VISITOR_AGE_RANGE.csv'\n",
    "VISITOR_PSYCHOGRAPHIC_PROFILES_file = 'C:/Users/dratnadiwakara2/Downloads/temp_dewey/retail_store_visitor_VISITOR_PSYCHOGRAPHIC_PROFILES.csv'\n",
    "\n",
    "with tqdm(total=len(ft_data)) as pbar:\n",
    "  \n",
    "     for index in range(0, len(ft_data)):\n",
    "        t = ft_data.loc[index]\n",
    "\n",
    "        data_string = t['VISITOR_HOUSEHOLD_INCOME'].replace('},{', '_') .replace(\"{{\",\"{\").replace(\"}}\",\"}\")\n",
    "        data_string = data_string.replace(\",\",\":\").replace(\"_\",\",\")\n",
    "        data_dict = json.loads(data_string)\n",
    "        df_VISITOR_HOUSEHOLD_INCOME = pd.DataFrame.from_dict(data_dict, orient='index', columns=['Value']).reset_index()\n",
    "        df_VISITOR_HOUSEHOLD_INCOME = df_VISITOR_HOUSEHOLD_INCOME.rename(columns={'index': 'VISITOR_HOUSEHOLD_INCOME', 'Value': 'no_visits'})\n",
    "        df_VISITOR_HOUSEHOLD_INCOME['index']=t['index']\n",
    "        df_VISITOR_HOUSEHOLD_INCOME['STORE_ID']=t['STORE_ID']\n",
    "        \n",
    "        \n",
    "        data_string = t['VISITOR_EDUCATIONAL_ATTAINMENT'].replace('},{', '_') .replace(\"{{\",\"{\").replace(\"}}\",\"}\")\n",
    "        data_string = data_string.replace(\",\",\":\").replace(\"_\",\",\")\n",
    "        data_dict = json.loads(data_string)\n",
    "        df_VISITOR_EDUCATIONAL_ATTAINMENT = pd.DataFrame.from_dict(data_dict, orient='index', columns=['Value']).reset_index()\n",
    "        df_VISITOR_EDUCATIONAL_ATTAINMENT = df_VISITOR_EDUCATIONAL_ATTAINMENT.rename(columns={'index': 'VISITOR_EDUCATIONAL_ATTAINMENT', 'Value': 'no_visits'})\n",
    "        df_VISITOR_EDUCATIONAL_ATTAINMENT['index']=t['index']\n",
    "        df_VISITOR_EDUCATIONAL_ATTAINMENT['STORE_ID']=t['STORE_ID']\n",
    "        \n",
    "        \n",
    "        data_string = t['VISITOR_AGE_RANGE'].replace('},{', '_') .replace(\"{{\",\"{\").replace(\"}}\",\"}\")\n",
    "        data_string = data_string.replace(\",\",\":\").replace(\"_\",\",\")\n",
    "        data_dict = json.loads(data_string)\n",
    "        df_VISITOR_AGE_RANGE = pd.DataFrame.from_dict(data_dict, orient='index', columns=['Value']).reset_index()\n",
    "        df_VISITOR_AGE_RANGE = df_VISITOR_AGE_RANGE.rename(columns={'index': 'VISITOR_AGE_RANGE', 'Value': 'no_visits'})\n",
    "        df_VISITOR_AGE_RANGE['index']=t['index']\n",
    "        df_VISITOR_AGE_RANGE['STORE_ID']=t['STORE_ID']\n",
    "        \n",
    "                \n",
    "        data_string = t['VISITOR_PSYCHOGRAPHIC_PROFILES'].replace('},{', '_') .replace(\"{{\",\"{\").replace(\"}}\",\"}\")\n",
    "        data_string = data_string.replace(\",\",\":\").replace(\"_\",\",\")\n",
    "        data_dict = json.loads(data_string)\n",
    "        df_VISITOR_PSYCHOGRAPHIC_PROFILES = pd.DataFrame.from_dict(data_dict, orient='index', columns=['Value']).reset_index()\n",
    "        df_VISITOR_PSYCHOGRAPHIC_PROFILES = df_VISITOR_PSYCHOGRAPHIC_PROFILES.rename(columns={'index': 'VISITOR_PSYCHOGRAPHIC_PROFILES', 'Value': 'no_visits'})\n",
    "        df_VISITOR_PSYCHOGRAPHIC_PROFILES['NewColumn'] = df_VISITOR_PSYCHOGRAPHIC_PROFILES['VISITOR_PSYCHOGRAPHIC_PROFILES'].str.extract('(\\d+)')\n",
    "        df_VISITOR_PSYCHOGRAPHIC_PROFILES['NewColumn'] = pd.to_numeric(df_VISITOR_PSYCHOGRAPHIC_PROFILES['NewColumn'])\n",
    "        df_VISITOR_PSYCHOGRAPHIC_PROFILES = df_VISITOR_PSYCHOGRAPHIC_PROFILES.groupby('NewColumn')['no_visits'].sum().reset_index()\n",
    "        df_VISITOR_PSYCHOGRAPHIC_PROFILES = df_VISITOR_PSYCHOGRAPHIC_PROFILES.rename(columns={'NewColumn': 'VISITOR_PSYCHOGRAPHIC_PROFILES', 'no_visits': 'no_visits'})\n",
    "        df_VISITOR_PSYCHOGRAPHIC_PROFILES['index']=t['index']\n",
    "        df_VISITOR_PSYCHOGRAPHIC_PROFILES['STORE_ID']=t['STORE_ID']\n",
    "        \n",
    "        \n",
    "        if os.path.isfile(VISITOR_HOUSEHOLD_INCOME_file):\n",
    "            header_option = False  \n",
    "        else:\n",
    "            header_option = True\n",
    "            \n",
    "        df_VISITOR_HOUSEHOLD_INCOME.to_csv(VISITOR_HOUSEHOLD_INCOME_file, index=False, mode='a', header=header_option,sep=\"|\")\n",
    "        \n",
    "        df_VISITOR_EDUCATIONAL_ATTAINMENT.to_csv(VISITOR_EDUCATIONAL_ATTAINMENT_file, index=False, mode='a', header=header_option,sep=\"|\")\n",
    "        \n",
    "        df_VISITOR_AGE_RANGE.to_csv(VISITOR_AGE_RANGE_file, index=False, mode='a', header=header_option,sep=\"|\")\n",
    "         \n",
    "        df_VISITOR_PSYCHOGRAPHIC_PROFILES.to_csv(VISITOR_PSYCHOGRAPHIC_PROFILES_file, index=False, mode='a', header=header_option,sep=\"|\")\n",
    "       \n",
    "        pbar.update(1)"
   ],
   "metadata": {
    "collapsed": false,
    "ExecuteTime": {
     "end_time": "2024-02-01T00:46:44.432374600Z",
     "start_time": "2024-01-31T19:05:13.781495800Z"
    }
   },
   "id": "328ab26e41369ce7"
  },
  {
   "cell_type": "code",
   "execution_count": 132,
   "outputs": [],
   "source": [
    "df_VISITOR_HOUSEHOLD_INCOME = pd.read_csv(VISITOR_HOUSEHOLD_INCOME_file)\n",
    "with gzip.open(VISITOR_HOUSEHOLD_INCOME_file+'.gz', 'wt', encoding='utf-8') as gzipped_file:\n",
    "    df_VISITOR_HOUSEHOLD_INCOME.to_csv(gzipped_file, index=False,sep=\"|\")\n",
    "    \n",
    "df_VISITOR_EDUCATIONAL_ATTAINMENT = pd.read_csv(VISITOR_EDUCATIONAL_ATTAINMENT_file)\n",
    "with gzip.open(VISITOR_EDUCATIONAL_ATTAINMENT_file+'.gz', 'wt', encoding='utf-8') as gzipped_file:\n",
    "    df_VISITOR_EDUCATIONAL_ATTAINMENT.to_csv(gzipped_file, index=False,sep=\"|\")\n",
    "\n",
    "df_VISITOR_PSYCHOGRAPHIC_PROFILES = pd.read_csv(VISITOR_PSYCHOGRAPHIC_PROFILES_file)\n",
    "with gzip.open(VISITOR_PSYCHOGRAPHIC_PROFILES_file+'.gz', 'wt', encoding='utf-8') as gzipped_file:\n",
    "    df_VISITOR_PSYCHOGRAPHIC_PROFILES.to_csv(gzipped_file, index=False,sep=\"|\")"
   ],
   "metadata": {
    "collapsed": false,
    "ExecuteTime": {
     "end_time": "2024-02-01T15:08:16.118419800Z",
     "start_time": "2024-02-01T14:56:10.288911500Z"
    }
   },
   "id": "67ba33552f613674"
  },
  {
   "cell_type": "code",
   "execution_count": 133,
   "outputs": [],
   "source": [
    "df_VISITOR_AGE_RANGE = pd.read_csv(VISITOR_AGE_RANGE_file,sep=\"|\")\n",
    "with gzip.open(VISITOR_AGE_RANGE_file+'.gz', 'wt', encoding='utf-8') as gzipped_file:\n",
    "    df_VISITOR_AGE_RANGE.to_csv(gzipped_file, index=False,sep=\"|\")"
   ],
   "metadata": {
    "collapsed": false,
    "ExecuteTime": {
     "end_time": "2024-02-01T15:49:49.220474500Z",
     "start_time": "2024-02-01T15:42:16.390892200Z"
    }
   },
   "id": "d8e86b019e509111"
  },
  {
   "cell_type": "code",
   "execution_count": 100,
   "outputs": [
    {
     "name": "stdout",
     "output_type": "stream",
     "text": [
      "<class 'pandas.core.frame.DataFrame'>\n",
      "RangeIndex: 1653483 entries, 0 to 1653482\n",
      "Data columns (total 20 columns):\n",
      " #   Column                          Non-Null Count    Dtype \n",
      "---  ------                          --------------    ----- \n",
      " 0   index                           1653483 non-null  int64 \n",
      " 1   STORE_ID                        1653483 non-null  object\n",
      " 2   NAME                            1653483 non-null  object\n",
      " 3   BRAND                           1653483 non-null  object\n",
      " 4   STREET_ADDRESS                  1653483 non-null  object\n",
      " 5   CITY                            1653483 non-null  object\n",
      " 6   STATE                           1653483 non-null  object\n",
      " 7   ZIP_CODE                        1653483 non-null  int64 \n",
      " 8   MONTH_STARTING                  1653483 non-null  object\n",
      " 9   MONTH_ENDING                    1653483 non-null  object\n",
      " 10  TOTAL_VISITS                    1653483 non-null  int64 \n",
      " 11  VISITOR_BRAND_DESTINATIONS      1653483 non-null  object\n",
      " 12  VISITOR_PSYCHOGRAPHIC_PROFILES  1653483 non-null  object\n",
      " 13  VISITOR_EDUCATIONAL_ATTAINMENT  1653483 non-null  object\n",
      " 14  VISITOR_INDUSTRY                1653483 non-null  object\n",
      " 15  VISITOR_AGE_RANGE               1653483 non-null  object\n",
      " 16  VISITOR_HOMEOWNERSHIP           1653483 non-null  object\n",
      " 17  VISITOR_HOUSEHOLD_INCOME        1653483 non-null  object\n",
      " 18  VISITOR_COMMUTE                 1653483 non-null  object\n",
      " 19  match_address                   1653483 non-null  object\n",
      "dtypes: int64(3), object(17)\n",
      "memory usage: 252.3+ MB\n"
     ]
    }
   ],
   "source": [
    "ft_data.info()"
   ],
   "metadata": {
    "collapsed": false,
    "ExecuteTime": {
     "end_time": "2024-02-01T02:49:05.485442200Z",
     "start_time": "2024-02-01T02:49:02.675944900Z"
    }
   },
   "id": "8c9e21a156e12fbe"
  },
  {
   "cell_type": "code",
   "execution_count": 113,
   "outputs": [
    {
     "name": "stdout",
     "output_type": "stream",
     "text": [
      "<class 'pandas.core.frame.DataFrame'>\n",
      "RangeIndex: 36435 entries, 0 to 36434\n",
      "Data columns (total 5 columns):\n",
      " #   Column          Non-Null Count  Dtype \n",
      "---  ------          --------------  ----- \n",
      " 0   index           36435 non-null  int64 \n",
      " 1   STORE_ID        36435 non-null  object\n",
      " 2   NAME            36435 non-null  object\n",
      " 3   STREET_ADDRESS  36435 non-null  object\n",
      " 4   ZIP_CODE        36435 non-null  int64 \n",
      "dtypes: int64(2), object(3)\n",
      "memory usage: 1.4+ MB\n"
     ]
    }
   ],
   "source": [
    "locations = ft_data[['STORE_ID','NAME','STREET_ADDRESS','ZIP_CODE']]\n",
    "locations = locations.drop_duplicates()\n",
    "locations = locations.reset_index()\n",
    "locations.info()\n",
    "locations['STORE_ID'].nunique()"
   ],
   "metadata": {
    "collapsed": false,
    "ExecuteTime": {
     "end_time": "2024-02-01T03:01:57.193875900Z",
     "start_time": "2024-02-01T03:01:55.554941800Z"
    }
   },
   "id": "c1f89f849659d9ea"
  },
  {
   "cell_type": "code",
   "execution_count": 115,
   "outputs": [
    {
     "name": "stdout",
     "output_type": "stream",
     "text": [
      "<class 'pandas.core.frame.DataFrame'>\n",
      "RangeIndex: 71610 entries, 0 to 71609\n",
      "Data columns (total 8 columns):\n",
      " #   Column          Non-Null Count  Dtype \n",
      "---  ------          --------------  ----- \n",
      " 0   index           71610 non-null  int64 \n",
      " 1   STORE_ID        71610 non-null  object\n",
      " 2   NAME            71610 non-null  object\n",
      " 3   STREET_ADDRESS  71610 non-null  object\n",
      " 4   ZIP_CODE        71610 non-null  int64 \n",
      " 5   PLACEKEY        71610 non-null  object\n",
      " 6   POSTAL_CODE     71610 non-null  int32 \n",
      " 7   LOCATION_NAME   71610 non-null  object\n",
      "dtypes: int32(1), int64(2), object(5)\n",
      "memory usage: 4.1+ MB\n"
     ]
    },
    {
     "data": {
      "text/plain": "35757"
     },
     "execution_count": 115,
     "metadata": {},
     "output_type": "execute_result"
    }
   ],
   "source": [
    "locations = pd.merge(locations,\n",
    "                     poi_sod[['PLACEKEY','POSTAL_CODE','STREET_ADDRESS','LOCATION_NAME']],\n",
    "                     left_on=['NAME','STREET_ADDRESS','ZIP_CODE'],\n",
    "                     right_on=['LOCATION_NAME','STREET_ADDRESS','POSTAL_CODE'],\n",
    "                     how='inner')\n",
    "locations = locations.drop_duplicates()\n",
    "locations.info()\n",
    "locations['STORE_ID'].nunique()\n",
    "locations['PLACEKEY'].nunique()"
   ],
   "metadata": {
    "collapsed": false,
    "ExecuteTime": {
     "end_time": "2024-02-01T03:03:30.890606900Z",
     "start_time": "2024-02-01T03:03:30.286235800Z"
    }
   },
   "id": "faf36caca0b6f090"
  },
  {
   "cell_type": "code",
   "execution_count": 126,
   "outputs": [
    {
     "data": {
      "text/plain": "   index                              STORE_ID MONTH_STARTING MONTH_ENDING  \\\n0      0  20a64007-7c11-40d0-b177-a85148bfc0a4     2019-01-01   2019-01-31   \n1      1  19d40e03-7c3c-4e8b-81f6-dda30a34e6a6     2019-01-01   2019-01-31   \n2      2  20aee2a2-79f7-4304-bc71-5dbcc6d5e6dc     2019-01-01   2019-01-31   \n3      3  1d020057-daf9-4b31-8c7d-a43e19ceaf77     2019-01-01   2019-01-31   \n4      4  240a364e-2e30-42f2-9e6d-eb036b1eef12     2019-01-01   2019-01-31   \n\n   TOTAL_VISITS  \n0          1672  \n1          1993  \n2          1658  \n3          3594  \n4          1916  ",
      "text/html": "<div>\n<style scoped>\n    .dataframe tbody tr th:only-of-type {\n        vertical-align: middle;\n    }\n\n    .dataframe tbody tr th {\n        vertical-align: top;\n    }\n\n    .dataframe thead th {\n        text-align: right;\n    }\n</style>\n<table border=\"1\" class=\"dataframe\">\n  <thead>\n    <tr style=\"text-align: right;\">\n      <th></th>\n      <th>index</th>\n      <th>STORE_ID</th>\n      <th>MONTH_STARTING</th>\n      <th>MONTH_ENDING</th>\n      <th>TOTAL_VISITS</th>\n    </tr>\n  </thead>\n  <tbody>\n    <tr>\n      <th>0</th>\n      <td>0</td>\n      <td>20a64007-7c11-40d0-b177-a85148bfc0a4</td>\n      <td>2019-01-01</td>\n      <td>2019-01-31</td>\n      <td>1672</td>\n    </tr>\n    <tr>\n      <th>1</th>\n      <td>1</td>\n      <td>19d40e03-7c3c-4e8b-81f6-dda30a34e6a6</td>\n      <td>2019-01-01</td>\n      <td>2019-01-31</td>\n      <td>1993</td>\n    </tr>\n    <tr>\n      <th>2</th>\n      <td>2</td>\n      <td>20aee2a2-79f7-4304-bc71-5dbcc6d5e6dc</td>\n      <td>2019-01-01</td>\n      <td>2019-01-31</td>\n      <td>1658</td>\n    </tr>\n    <tr>\n      <th>3</th>\n      <td>3</td>\n      <td>1d020057-daf9-4b31-8c7d-a43e19ceaf77</td>\n      <td>2019-01-01</td>\n      <td>2019-01-31</td>\n      <td>3594</td>\n    </tr>\n    <tr>\n      <th>4</th>\n      <td>4</td>\n      <td>240a364e-2e30-42f2-9e6d-eb036b1eef12</td>\n      <td>2019-01-01</td>\n      <td>2019-01-31</td>\n      <td>1916</td>\n    </tr>\n  </tbody>\n</table>\n</div>"
     },
     "execution_count": 126,
     "metadata": {},
     "output_type": "execute_result"
    }
   ],
   "source": [
    "visits = ft_data[['index','STORE_ID','MONTH_STARTING','MONTH_ENDING','TOTAL_VISITS']]\n",
    "visits.loc[:,'MONTH_STARTING'] = visits['MONTH_STARTING'].str[:10]\n",
    "visits.loc[:,'MONTH_ENDING'] = visits['MONTH_ENDING'].str[:10]\n",
    "visits.head()"
   ],
   "metadata": {
    "collapsed": false,
    "ExecuteTime": {
     "end_time": "2024-02-01T03:11:29.089423700Z",
     "start_time": "2024-02-01T03:11:27.461243100Z"
    }
   },
   "id": "3e89a2218680e01c"
  },
  {
   "cell_type": "code",
   "execution_count": 130,
   "outputs": [],
   "source": [
    "\n",
    "locations_file = 'C:/Users/dratnadiwakara2/Downloads/temp_dewey/retail_store_visitor_locations.csv'\n",
    "visits_file = 'C:/Users/dratnadiwakara2/Downloads/temp_dewey/retail_store_visitor_visits.csv'\n",
    "\n",
    "with gzip.open(locations_file+'.gz', 'wt', encoding='utf-8') as gzipped_file:\n",
    "    locations.to_csv(gzipped_file, index=False,sep=\"|\")\n",
    "    \n",
    "with gzip.open(visits_file+'.gz', 'wt', encoding='utf-8') as gzipped_file:\n",
    "    visits.to_csv(gzipped_file, index=False,sep=\"|\")"
   ],
   "metadata": {
    "collapsed": false,
    "ExecuteTime": {
     "end_time": "2024-02-01T14:45:57.834514500Z",
     "start_time": "2024-02-01T14:45:34.146142Z"
    }
   },
   "id": "4f6e3262a542f78c"
  }
 ],
 "metadata": {
  "kernelspec": {
   "display_name": "Python 3",
   "language": "python",
   "name": "python3"
  },
  "language_info": {
   "codemirror_mode": {
    "name": "ipython",
    "version": 2
   },
   "file_extension": ".py",
   "mimetype": "text/x-python",
   "name": "python",
   "nbconvert_exporter": "python",
   "pygments_lexer": "ipython2",
   "version": "2.7.6"
  }
 },
 "nbformat": 4,
 "nbformat_minor": 5
}
