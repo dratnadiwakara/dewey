{
 "cells": [
  {
   "cell_type": "markdown",
   "source": [
    "This script reads and saves all US POI data"
   ],
   "metadata": {
    "collapsed": false
   },
   "id": "1b7fc2ee86332806"
  },
  {
   "cell_type": "code",
   "execution_count": 1,
   "outputs": [],
   "source": [
    "import requests\n",
    "import pandas as pd\n",
    "import sys\n",
    "from io import BytesIO\n",
    "import gzip\n",
    "from tqdm import tqdm\n",
    "import io\n",
    "import os\n",
    "from global_variables import *"
   ],
   "metadata": {
    "collapsed": false,
    "ExecuteTime": {
     "end_time": "2024-02-10T14:33:34.729015100Z",
     "start_time": "2024-02-10T14:33:17.535322600Z"
    }
   },
   "id": "c04019341671704a"
  },
  {
   "cell_type": "code",
   "execution_count": 2,
   "outputs": [],
   "source": [
    "poi_csv_path = 'C:/Users/dratnadiwakara2/Documents/OneDrive - Louisiana State University/Raw Data/Dewey/all_us_poi_with_store_id.csv.gz'\n",
    "poi = pd.read_csv(poi_csv_path) "
   ],
   "metadata": {
    "collapsed": false,
    "ExecuteTime": {
     "end_time": "2024-02-10T14:39:38.569907100Z",
     "start_time": "2024-02-10T14:34:49.433264400Z"
    }
   },
   "id": "8a63e15ed7fb7999"
  },
  {
   "cell_type": "code",
   "execution_count": 17,
   "outputs": [],
   "source": [
    "output_path_parks = 'C:/Users/dratnadiwakara2/Documents/OneDrive - Louisiana State University/Raw Data/Dewey/all_us_parks.csv.gz'\n",
    "\n",
    "output_path_hospitals = 'C:/Users/dratnadiwakara2/Documents/OneDrive - Louisiana State University/Raw Data/Dewey/all_us_hospitals.csv.gz'\n",
    "\n",
    "output_path_pharmacies = 'C:/Users/dratnadiwakara2/Documents/OneDrive - Louisiana State University/Raw Data/Dewey/all_us_pharmacies.csv.gz'"
   ],
   "metadata": {
    "collapsed": false,
    "ExecuteTime": {
     "end_time": "2024-02-10T16:39:11.897300700Z",
     "start_time": "2024-02-10T16:39:11.853934900Z"
    }
   },
   "id": "9c34f9e530e29a1b"
  },
  {
   "cell_type": "code",
   "execution_count": 4,
   "outputs": [],
   "source": [
    "parks = poi[poi['SUB_CATEGORY']== \"Nature Parks and Other Similar Institutions\"]\n",
    "\n",
    "with gzip.open(output_path_parks, 'wt', encoding='utf-8') as gzipped_file:\n",
    "    parks.to_csv(gzipped_file, index=False)"
   ],
   "metadata": {
    "collapsed": false,
    "ExecuteTime": {
     "end_time": "2024-02-10T14:50:12.246029200Z",
     "start_time": "2024-02-10T14:50:08.912373800Z"
    }
   },
   "id": "321c004cc9d403db"
  },
  {
   "cell_type": "code",
   "execution_count": 11,
   "outputs": [],
   "source": [
    "hospitals = poi[poi['SUB_CATEGORY'].isin(['Offices of Physicians (except Mental Health Specialists)','General Medical and Surgical Hospitals','Specialty (except Psychiatric and Substance Abuse) Hospitals','Outpatient Care Centers']) | poi['TOP_CATEGORY'].isin(['Outpatient Care Centers'])]\n",
    "\n",
    "with gzip.open(output_path_hospitals, 'wt', encoding='utf-8') as gzipped_file:\n",
    "    hospitals.to_csv(gzipped_file, index=False)"
   ],
   "metadata": {
    "collapsed": false,
    "ExecuteTime": {
     "end_time": "2024-02-10T16:30:22.362159Z",
     "start_time": "2024-02-10T16:30:17.623629500Z"
    }
   },
   "id": "f58452d67336a9f7"
  },
  {
   "cell_type": "code",
   "execution_count": 14,
   "outputs": [],
   "source": [
    "pharmacies = poi[poi['SUB_CATEGORY'].isin(['Pharmacies and Drug Stores'])]\n",
    "\n",
    "with gzip.open(output_path_pharmacies, 'wt', encoding='utf-8') as gzipped_file:\n",
    "    pharmacies.to_csv(gzipped_file, index=False)"
   ],
   "metadata": {
    "collapsed": false,
    "ExecuteTime": {
     "end_time": "2024-02-10T16:37:09.229149600Z",
     "start_time": "2024-02-10T16:37:07.218912600Z"
    }
   },
   "id": "200c7511e22fdabe"
  },
  {
   "cell_type": "code",
   "execution_count": 18,
   "outputs": [],
   "source": [
    "parks = pd.read_csv(output_path_parks)\n",
    "hospitals = pd.read_csv(output_path_hospitals)\n",
    "pharmacies = pd.read_csv(output_path_pharmacies)"
   ],
   "metadata": {
    "collapsed": false,
    "ExecuteTime": {
     "end_time": "2024-02-10T16:41:11.710070500Z",
     "start_time": "2024-02-10T16:40:43.922761500Z"
    }
   },
   "id": "17c4edfd2f1570c9"
  },
  {
   "cell_type": "code",
   "execution_count": 19,
   "outputs": [
    {
     "data": {
      "text/plain": "'20230101_20240131'"
     },
     "execution_count": 19,
     "metadata": {},
     "output_type": "execute_result"
    }
   ],
   "source": [
    "date_start = '2023-01-01'\n",
    "date_end = '2024-01-31'\n",
    "\n",
    "file_suffix = date_start.replace('-', '')+\"_\"+date_end.replace('-', '')\n",
    "file_suffix"
   ],
   "metadata": {
    "collapsed": false,
    "ExecuteTime": {
     "end_time": "2024-02-10T16:44:13.320919600Z",
     "start_time": "2024-02-10T16:44:13.307165Z"
    }
   },
   "id": "eaaa8d27e6d2bcc9"
  },
  {
   "cell_type": "code",
   "execution_count": null,
   "outputs": [],
   "source": [
    "ft_data_path = 'C:/Users/dratnadiwakara2/Downloads/temp_dewey/parks_hospitals_pharmacies_ft_data'+file_suffix+'.csv'\n",
    "page = 1\n",
    "download_count = 0\n",
    "while True:\n",
    "    print(page)\n",
    "    results = requests.get(url=MONTHLY_FT_PATTERNS_PRODUCT_API_PATH,\n",
    "                       params={'page': page,\n",
    "                               'partition_key_after': date_start,   # optionally set date value here\n",
    "                               'partition_key_before': date_end}, # optionally set date value here\n",
    "                       headers={'X-API-KEY': API_KEY,\n",
    "                                'accept': 'application/json'\n",
    "                               })\n",
    "    response_json = results.json()\n",
    "\n",
    "    for link_data in response_json['download_links']:\n",
    "        print(f\"Downloading file {link_data['file_name']}...\")\n",
    "    \n",
    "        data = requests.get(link_data['link'])\n",
    "        gzip_stream = io.BytesIO(data.content)\n",
    "    \n",
    "        df = pd.read_csv(gzip_stream, compression='gzip', low_memory=False)\n",
    "        filtered_df = df[df['PLACEKEY'].isin(parks['PLACEKEY']) |\n",
    "                         df['PLACEKEY'].isin(hospitals['PLACEKEY']) |\n",
    "                         df['PLACEKEY'].isin(pharmacies['PLACEKEY'])  ]\n",
    "    \n",
    "        selected_columns = ['PLACEKEY', 'LOCATION_NAME', 'STREET_ADDRESS','POSTAL_CODE','REGION','DATE_RANGE_START','DATE_RANGE_END','RAW_VISIT_COUNTS','RAW_VISITOR_COUNTS','VISITS_BY_DAY','DISTANCE_FROM_HOME','MEDIAN_DWELL']\n",
    "        filtered_df = filtered_df[selected_columns]\n",
    "        \n",
    "        if os.path.isfile(ft_data_path):\n",
    "            header_option = False  \n",
    "        else:\n",
    "            header_option = True  \n",
    "    \n",
    "        filtered_df.to_csv(ft_data_path, mode='a', header=header_option, index=False)\n",
    "        \n",
    "        download_count += 1\n",
    "        \n",
    "    total_pages = response_json['total_pages']\n",
    "    if page >= total_pages:\n",
    "        break\n",
    "    page += 1   "
   ],
   "metadata": {
    "collapsed": false
   },
   "id": "221850554ffcb28a"
  },
  {
   "cell_type": "code",
   "execution_count": 22,
   "outputs": [
    {
     "name": "stderr",
     "output_type": "stream",
     "text": [
      "C:\\Users\\dratnadiwakara2\\AppData\\Local\\Temp\\ipykernel_27448\\2720968004.py:1: DtypeWarning: Columns (3,9) have mixed types. Specify dtype option on import or set low_memory=False.\n",
      "  df = pd.read_csv(ft_data_path)\n"
     ]
    }
   ],
   "source": [
    "df = pd.read_csv(ft_data_path)  \n",
    "\n",
    "with gzip.open(ft_data_path+\".gz\", 'wt', encoding='utf-8') as gzipped_file:\n",
    "    df.to_csv(gzipped_file, index=False)"
   ],
   "metadata": {
    "collapsed": false,
    "ExecuteTime": {
     "end_time": "2024-02-10T22:20:14.341823300Z",
     "start_time": "2024-02-10T22:10:38.390135900Z"
    }
   },
   "id": "3c0127b3106eba17"
  }
 ],
 "metadata": {
  "kernelspec": {
   "display_name": "Python 3",
   "language": "python",
   "name": "python3"
  },
  "language_info": {
   "codemirror_mode": {
    "name": "ipython",
    "version": 2
   },
   "file_extension": ".py",
   "mimetype": "text/x-python",
   "name": "python",
   "nbconvert_exporter": "python",
   "pygments_lexer": "ipython2",
   "version": "2.7.6"
  }
 },
 "nbformat": 4,
 "nbformat_minor": 5
}
