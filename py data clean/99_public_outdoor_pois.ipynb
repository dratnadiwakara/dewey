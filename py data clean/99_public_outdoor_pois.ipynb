{
 "cells": [
  {
   "cell_type": "markdown",
   "source": [
    "This script reads and saves all US POI data"
   ],
   "metadata": {
    "collapsed": false
   },
   "id": "1b7fc2ee86332806"
  },
  {
   "cell_type": "code",
   "execution_count": 1,
   "outputs": [],
   "source": [
    "import requests\n",
    "import pandas as pd\n",
    "import sys\n",
    "from io import BytesIO\n",
    "import gzip\n",
    "from tqdm import tqdm\n",
    "import io\n",
    "import os\n",
    "from global_variables import *"
   ],
   "metadata": {
    "collapsed": false,
    "ExecuteTime": {
     "end_time": "2024-02-15T20:21:06.025255400Z",
     "start_time": "2024-02-15T20:20:59.451547300Z"
    }
   },
   "id": "c04019341671704a"
  },
  {
   "cell_type": "code",
   "execution_count": 3,
   "outputs": [],
   "source": [
    "output_path_parks = 'C:/Users/dratnadiwakara2/Documents/OneDrive - Louisiana State University/Raw Data/Dewey/all_us_parks.csv.gz'\n",
    "parks = pd.read_csv(output_path_parks)"
   ],
   "metadata": {
    "collapsed": false,
    "ExecuteTime": {
     "end_time": "2024-02-15T20:22:02.986499700Z",
     "start_time": "2024-02-15T20:22:01.114615200Z"
    }
   },
   "id": "68203ea5bcf1415"
  },
  {
   "cell_type": "code",
   "execution_count": 25,
   "outputs": [],
   "source": [
    "poi_csv_path = 'C:/Users/dratnadiwakara2/Documents/OneDrive - Louisiana State University/Raw Data/Dewey/all_us_poi_with_store_id.csv.gz'\n",
    "poi = pd.read_csv(poi_csv_path) "
   ],
   "metadata": {
    "collapsed": false,
    "ExecuteTime": {
     "end_time": "2024-02-14T17:37:42.017661500Z",
     "start_time": "2024-02-14T17:32:36.572768100Z"
    }
   },
   "id": "8a63e15ed7fb7999"
  },
  {
   "cell_type": "code",
   "execution_count": 26,
   "outputs": [],
   "source": [
    "t = poi.head()"
   ],
   "metadata": {
    "collapsed": false,
    "ExecuteTime": {
     "end_time": "2024-02-14T17:50:33.392045700Z",
     "start_time": "2024-02-14T17:50:33.344837700Z"
    }
   },
   "id": "e98ff1294f3533fa"
  },
  {
   "cell_type": "code",
   "execution_count": 13,
   "outputs": [],
   "source": [
    "# herman1 = poi[(poi['STREET_ADDRESS'] == '1500 Hermann Dr') & (poi['POSTAL_CODE'] == 77004.0)]"
   ],
   "metadata": {
    "collapsed": false,
    "ExecuteTime": {
     "end_time": "2024-02-12T15:56:38.981161800Z",
     "start_time": "2024-02-12T15:56:35.579280600Z"
    }
   },
   "id": "84126fbd11cdf4b0"
  },
  {
   "cell_type": "code",
   "execution_count": 2,
   "outputs": [],
   "source": [
    "output_path_parks = 'C:/Users/dratnadiwakara2/Documents/OneDrive - Louisiana State University/Raw Data/Dewey/all_us_parks.csv.gz'\n",
    "\n",
    "output_path_hospitals = 'C:/Users/dratnadiwakara2/Documents/OneDrive - Louisiana State University/Raw Data/Dewey/all_us_hospitals.csv.gz'\n",
    "\n",
    "output_path_pharmacies = 'C:/Users/dratnadiwakara2/Documents/OneDrive - Louisiana State University/Raw Data/Dewey/all_us_pharmacies.csv.gz'\n",
    "\n",
    "output_path_zoos = 'C:/Users/dratnadiwakara2/Documents/OneDrive - Louisiana State University/Raw Data/Dewey/all_us_zoos.csv.gz'"
   ],
   "metadata": {
    "collapsed": false,
    "ExecuteTime": {
     "end_time": "2024-02-13T21:08:46.635235700Z",
     "start_time": "2024-02-13T21:08:46.635235700Z"
    }
   },
   "id": "9c34f9e530e29a1b"
  },
  {
   "cell_type": "code",
   "execution_count": 15,
   "outputs": [],
   "source": [
    "zoos = poi[poi['SUB_CATEGORY']== \"Zoos and Botanical Gardens\"]\n",
    "with gzip.open(output_path_zoos, 'wt', encoding='utf-8') as gzipped_file:\n",
    "    zoos.to_csv(gzipped_file, index=False)"
   ],
   "metadata": {
    "collapsed": false,
    "ExecuteTime": {
     "end_time": "2024-02-12T18:44:37.195783800Z",
     "start_time": "2024-02-12T18:44:33.850215100Z"
    }
   },
   "id": "2b8ed5ff25f37871"
  },
  {
   "cell_type": "code",
   "execution_count": 16,
   "outputs": [
    {
     "data": {
      "text/plain": "13971"
     },
     "execution_count": 16,
     "metadata": {},
     "output_type": "execute_result"
    }
   ],
   "source": [
    "len(zoos)"
   ],
   "metadata": {
    "collapsed": false,
    "ExecuteTime": {
     "end_time": "2024-02-12T18:44:58.483001100Z",
     "start_time": "2024-02-12T18:44:58.442532400Z"
    }
   },
   "id": "cdf24bf8e9960de9"
  },
  {
   "cell_type": "code",
   "execution_count": 4,
   "outputs": [],
   "source": [
    "parks = poi[poi['SUB_CATEGORY']== \"Nature Parks and Other Similar Institutions\"]\n",
    "\n",
    "with gzip.open(output_path_parks, 'wt', encoding='utf-8') as gzipped_file:\n",
    "    parks.to_csv(gzipped_file, index=False)"
   ],
   "metadata": {
    "collapsed": false,
    "ExecuteTime": {
     "end_time": "2024-02-10T14:50:12.246029200Z",
     "start_time": "2024-02-10T14:50:08.912373800Z"
    }
   },
   "id": "321c004cc9d403db"
  },
  {
   "cell_type": "code",
   "execution_count": 11,
   "outputs": [],
   "source": [
    "hospitals = poi[poi['SUB_CATEGORY'].isin(['Offices of Physicians (except Mental Health Specialists)','General Medical and Surgical Hospitals','Specialty (except Psychiatric and Substance Abuse) Hospitals','Outpatient Care Centers']) | poi['TOP_CATEGORY'].isin(['Outpatient Care Centers'])]\n",
    "\n",
    "with gzip.open(output_path_hospitals, 'wt', encoding='utf-8') as gzipped_file:\n",
    "    hospitals.to_csv(gzipped_file, index=False)"
   ],
   "metadata": {
    "collapsed": false,
    "ExecuteTime": {
     "end_time": "2024-02-10T16:30:22.362159Z",
     "start_time": "2024-02-10T16:30:17.623629500Z"
    }
   },
   "id": "f58452d67336a9f7"
  },
  {
   "cell_type": "code",
   "execution_count": 14,
   "outputs": [],
   "source": [
    "pharmacies = poi[poi['SUB_CATEGORY'].isin(['Pharmacies and Drug Stores'])]\n",
    "\n",
    "with gzip.open(output_path_pharmacies, 'wt', encoding='utf-8') as gzipped_file:\n",
    "    pharmacies.to_csv(gzipped_file, index=False)"
   ],
   "metadata": {
    "collapsed": false,
    "ExecuteTime": {
     "end_time": "2024-02-10T16:37:09.229149600Z",
     "start_time": "2024-02-10T16:37:07.218912600Z"
    }
   },
   "id": "200c7511e22fdabe"
  },
  {
   "cell_type": "code",
   "execution_count": 18,
   "outputs": [],
   "source": [
    "parks = pd.read_csv(output_path_parks)\n",
    "hospitals = pd.read_csv(output_path_hospitals)\n",
    "pharmacies = pd.read_csv(output_path_pharmacies)"
   ],
   "metadata": {
    "collapsed": false,
    "ExecuteTime": {
     "end_time": "2024-02-10T16:41:11.710070500Z",
     "start_time": "2024-02-10T16:40:43.922761500Z"
    }
   },
   "id": "17c4edfd2f1570c9"
  },
  {
   "cell_type": "code",
   "execution_count": 22,
   "outputs": [],
   "source": [],
   "metadata": {
    "collapsed": false,
    "ExecuteTime": {
     "end_time": "2024-02-14T02:45:44.616481500Z",
     "start_time": "2024-02-14T02:45:44.508203600Z"
    }
   },
   "id": "820de01c20b442c9"
  },
  {
   "cell_type": "code",
   "execution_count": 23,
   "outputs": [],
   "source": [
    "zoos = pd.read_csv(output_path_zoos)\n",
    "zoos.to_parquet('C:/Users/dratnadiwakara2/Downloads/temp_dewey/zoos.parquet')"
   ],
   "metadata": {
    "collapsed": false,
    "ExecuteTime": {
     "end_time": "2024-02-14T02:46:16.367330100Z",
     "start_time": "2024-02-14T02:46:16.195432600Z"
    }
   },
   "id": "7fc82c4bf538cc3f"
  },
  {
   "cell_type": "code",
   "execution_count": 6,
   "outputs": [],
   "source": [
    "date_start = '2022-04-01'\n",
    "date_end = '2022-08-31'\n",
    "\n",
    "file_suffix = date_start.replace('-', '')+\"_\"+date_end.replace('-', '')\n",
    "file_suffix"
   ],
   "metadata": {
    "collapsed": false,
    "ExecuteTime": {
     "end_time": "2024-02-13T23:31:13.006310100Z",
     "start_time": "2024-02-13T23:31:13.004302Z"
    }
   },
   "id": "eaaa8d27e6d2bcc9"
  },
  {
   "cell_type": "code",
   "execution_count": 7,
   "outputs": [
    {
     "name": "stdout",
     "output_type": "stream",
     "text": [
      "1\n",
      "Downloading file Monthly_Patterns_Foot_Traffic-0-DATE_RANGE_START-2022-04-01.csv.gz...\n",
      "Downloading file Monthly_Patterns_Foot_Traffic-1-DATE_RANGE_START-2022-04-01.csv.gz...\n",
      "Downloading file Monthly_Patterns_Foot_Traffic-2-DATE_RANGE_START-2022-04-01.csv.gz...\n",
      "Downloading file Monthly_Patterns_Foot_Traffic-3-DATE_RANGE_START-2022-04-01.csv.gz...\n",
      "Downloading file Monthly_Patterns_Foot_Traffic-4-DATE_RANGE_START-2022-04-01.csv.gz...\n",
      "Downloading file Monthly_Patterns_Foot_Traffic-5-DATE_RANGE_START-2022-04-01.csv.gz...\n",
      "Downloading file Monthly_Patterns_Foot_Traffic-6-DATE_RANGE_START-2022-04-01.csv.gz...\n",
      "Downloading file Monthly_Patterns_Foot_Traffic-7-DATE_RANGE_START-2022-04-01.csv.gz...\n",
      "Downloading file Monthly_Patterns_Foot_Traffic-8-DATE_RANGE_START-2022-04-01.csv.gz...\n",
      "Downloading file Monthly_Patterns_Foot_Traffic-9-DATE_RANGE_START-2022-04-01.csv.gz...\n",
      "Downloading file Monthly_Patterns_Foot_Traffic-10-DATE_RANGE_START-2022-04-01.csv.gz...\n",
      "Downloading file Monthly_Patterns_Foot_Traffic-11-DATE_RANGE_START-2022-04-01.csv.gz...\n",
      "Downloading file Monthly_Patterns_Foot_Traffic-12-DATE_RANGE_START-2022-04-01.csv.gz...\n",
      "Downloading file Monthly_Patterns_Foot_Traffic-13-DATE_RANGE_START-2022-04-01.csv.gz...\n",
      "Downloading file Monthly_Patterns_Foot_Traffic-14-DATE_RANGE_START-2022-04-01.csv.gz...\n",
      "Downloading file Monthly_Patterns_Foot_Traffic-15-DATE_RANGE_START-2022-04-01.csv.gz...\n",
      "Downloading file Monthly_Patterns_Foot_Traffic-16-DATE_RANGE_START-2022-04-01.csv.gz...\n",
      "Downloading file Monthly_Patterns_Foot_Traffic-17-DATE_RANGE_START-2022-04-01.csv.gz...\n",
      "Downloading file Monthly_Patterns_Foot_Traffic-18-DATE_RANGE_START-2022-04-01.csv.gz...\n",
      "Downloading file Monthly_Patterns_Foot_Traffic-19-DATE_RANGE_START-2022-04-01.csv.gz...\n",
      "Downloading file Monthly_Patterns_Foot_Traffic-20-DATE_RANGE_START-2022-04-01.csv.gz...\n",
      "Downloading file Monthly_Patterns_Foot_Traffic-21-DATE_RANGE_START-2022-04-01.csv.gz...\n",
      "Downloading file Monthly_Patterns_Foot_Traffic-22-DATE_RANGE_START-2022-04-01.csv.gz...\n",
      "Downloading file Monthly_Patterns_Foot_Traffic-23-DATE_RANGE_START-2022-04-01.csv.gz...\n",
      "Downloading file Monthly_Patterns_Foot_Traffic-24-DATE_RANGE_START-2022-04-01.csv.gz...\n",
      "Downloading file Monthly_Patterns_Foot_Traffic-25-DATE_RANGE_START-2022-04-01.csv.gz...\n",
      "Downloading file Monthly_Patterns_Foot_Traffic-26-DATE_RANGE_START-2022-04-01.csv.gz...\n",
      "Downloading file Monthly_Patterns_Foot_Traffic-27-DATE_RANGE_START-2022-04-01.csv.gz...\n",
      "Downloading file Monthly_Patterns_Foot_Traffic-28-DATE_RANGE_START-2022-04-01.csv.gz...\n",
      "Downloading file Monthly_Patterns_Foot_Traffic-29-DATE_RANGE_START-2022-04-01.csv.gz...\n",
      "Downloading file Monthly_Patterns_Foot_Traffic-30-DATE_RANGE_START-2022-04-01.csv.gz...\n",
      "Downloading file Monthly_Patterns_Foot_Traffic-31-DATE_RANGE_START-2022-04-01.csv.gz...\n",
      "Downloading file Monthly_Patterns_Foot_Traffic-32-DATE_RANGE_START-2022-04-01.csv.gz...\n",
      "Downloading file Monthly_Patterns_Foot_Traffic-33-DATE_RANGE_START-2022-04-01.csv.gz...\n",
      "Downloading file Monthly_Patterns_Foot_Traffic-34-DATE_RANGE_START-2022-04-01.csv.gz...\n",
      "Downloading file Monthly_Patterns_Foot_Traffic-35-DATE_RANGE_START-2022-04-01.csv.gz...\n",
      "Downloading file Monthly_Patterns_Foot_Traffic-36-DATE_RANGE_START-2022-04-01.csv.gz...\n",
      "Downloading file Monthly_Patterns_Foot_Traffic-37-DATE_RANGE_START-2022-04-01.csv.gz...\n",
      "Downloading file Monthly_Patterns_Foot_Traffic-38-DATE_RANGE_START-2022-04-01.csv.gz...\n",
      "Downloading file Monthly_Patterns_Foot_Traffic-39-DATE_RANGE_START-2022-04-01.csv.gz...\n",
      "Downloading file Monthly_Patterns_Foot_Traffic-40-DATE_RANGE_START-2022-04-01.csv.gz...\n",
      "Downloading file Monthly_Patterns_Foot_Traffic-41-DATE_RANGE_START-2022-04-01.csv.gz...\n",
      "Downloading file Monthly_Patterns_Foot_Traffic-42-DATE_RANGE_START-2022-04-01.csv.gz...\n",
      "Downloading file Monthly_Patterns_Foot_Traffic-43-DATE_RANGE_START-2022-04-01.csv.gz...\n",
      "Downloading file Monthly_Patterns_Foot_Traffic-44-DATE_RANGE_START-2022-04-01.csv.gz...\n",
      "Downloading file Monthly_Patterns_Foot_Traffic-45-DATE_RANGE_START-2022-04-01.csv.gz...\n",
      "Downloading file Monthly_Patterns_Foot_Traffic-46-DATE_RANGE_START-2022-04-01.csv.gz...\n",
      "Downloading file Monthly_Patterns_Foot_Traffic-47-DATE_RANGE_START-2022-04-01.csv.gz...\n",
      "Downloading file Monthly_Patterns_Foot_Traffic-48-DATE_RANGE_START-2022-04-01.csv.gz...\n",
      "Downloading file Monthly_Patterns_Foot_Traffic-49-DATE_RANGE_START-2022-04-01.csv.gz...\n",
      "Downloading file Monthly_Patterns_Foot_Traffic-50-DATE_RANGE_START-2022-04-01.csv.gz...\n",
      "Downloading file Monthly_Patterns_Foot_Traffic-51-DATE_RANGE_START-2022-05-01.csv.gz...\n",
      "Downloading file Monthly_Patterns_Foot_Traffic-52-DATE_RANGE_START-2022-05-01.csv.gz...\n",
      "Downloading file Monthly_Patterns_Foot_Traffic-53-DATE_RANGE_START-2022-05-01.csv.gz...\n",
      "Downloading file Monthly_Patterns_Foot_Traffic-54-DATE_RANGE_START-2022-05-01.csv.gz...\n",
      "Downloading file Monthly_Patterns_Foot_Traffic-55-DATE_RANGE_START-2022-05-01.csv.gz...\n",
      "Downloading file Monthly_Patterns_Foot_Traffic-56-DATE_RANGE_START-2022-05-01.csv.gz...\n",
      "Downloading file Monthly_Patterns_Foot_Traffic-57-DATE_RANGE_START-2022-05-01.csv.gz...\n",
      "Downloading file Monthly_Patterns_Foot_Traffic-58-DATE_RANGE_START-2022-05-01.csv.gz...\n",
      "Downloading file Monthly_Patterns_Foot_Traffic-59-DATE_RANGE_START-2022-05-01.csv.gz...\n",
      "Downloading file Monthly_Patterns_Foot_Traffic-60-DATE_RANGE_START-2022-05-01.csv.gz...\n",
      "Downloading file Monthly_Patterns_Foot_Traffic-61-DATE_RANGE_START-2022-05-01.csv.gz...\n",
      "Downloading file Monthly_Patterns_Foot_Traffic-62-DATE_RANGE_START-2022-05-01.csv.gz...\n",
      "Downloading file Monthly_Patterns_Foot_Traffic-63-DATE_RANGE_START-2022-05-01.csv.gz...\n",
      "Downloading file Monthly_Patterns_Foot_Traffic-64-DATE_RANGE_START-2022-05-01.csv.gz...\n",
      "Downloading file Monthly_Patterns_Foot_Traffic-65-DATE_RANGE_START-2022-05-01.csv.gz...\n",
      "Downloading file Monthly_Patterns_Foot_Traffic-66-DATE_RANGE_START-2022-05-01.csv.gz...\n",
      "Downloading file Monthly_Patterns_Foot_Traffic-67-DATE_RANGE_START-2022-05-01.csv.gz...\n",
      "Downloading file Monthly_Patterns_Foot_Traffic-68-DATE_RANGE_START-2022-05-01.csv.gz...\n",
      "Downloading file Monthly_Patterns_Foot_Traffic-69-DATE_RANGE_START-2022-05-01.csv.gz...\n",
      "Downloading file Monthly_Patterns_Foot_Traffic-70-DATE_RANGE_START-2022-05-01.csv.gz...\n",
      "Downloading file Monthly_Patterns_Foot_Traffic-71-DATE_RANGE_START-2022-05-01.csv.gz...\n",
      "Downloading file Monthly_Patterns_Foot_Traffic-72-DATE_RANGE_START-2022-05-01.csv.gz...\n",
      "Downloading file Monthly_Patterns_Foot_Traffic-73-DATE_RANGE_START-2022-05-01.csv.gz...\n",
      "Downloading file Monthly_Patterns_Foot_Traffic-74-DATE_RANGE_START-2022-05-01.csv.gz...\n",
      "Downloading file Monthly_Patterns_Foot_Traffic-75-DATE_RANGE_START-2022-05-01.csv.gz...\n",
      "Downloading file Monthly_Patterns_Foot_Traffic-76-DATE_RANGE_START-2022-05-01.csv.gz...\n",
      "Downloading file Monthly_Patterns_Foot_Traffic-77-DATE_RANGE_START-2022-05-01.csv.gz...\n",
      "Downloading file Monthly_Patterns_Foot_Traffic-78-DATE_RANGE_START-2022-05-01.csv.gz...\n",
      "Downloading file Monthly_Patterns_Foot_Traffic-79-DATE_RANGE_START-2022-05-01.csv.gz...\n",
      "Downloading file Monthly_Patterns_Foot_Traffic-80-DATE_RANGE_START-2022-05-01.csv.gz...\n",
      "Downloading file Monthly_Patterns_Foot_Traffic-81-DATE_RANGE_START-2022-05-01.csv.gz...\n",
      "Downloading file Monthly_Patterns_Foot_Traffic-82-DATE_RANGE_START-2022-05-01.csv.gz...\n",
      "Downloading file Monthly_Patterns_Foot_Traffic-83-DATE_RANGE_START-2022-05-01.csv.gz...\n",
      "Downloading file Monthly_Patterns_Foot_Traffic-84-DATE_RANGE_START-2022-05-01.csv.gz...\n",
      "Downloading file Monthly_Patterns_Foot_Traffic-85-DATE_RANGE_START-2022-05-01.csv.gz...\n",
      "Downloading file Monthly_Patterns_Foot_Traffic-86-DATE_RANGE_START-2022-05-01.csv.gz...\n",
      "Downloading file Monthly_Patterns_Foot_Traffic-87-DATE_RANGE_START-2022-05-01.csv.gz...\n",
      "Downloading file Monthly_Patterns_Foot_Traffic-88-DATE_RANGE_START-2022-05-01.csv.gz...\n",
      "Downloading file Monthly_Patterns_Foot_Traffic-89-DATE_RANGE_START-2022-05-01.csv.gz...\n",
      "Downloading file Monthly_Patterns_Foot_Traffic-90-DATE_RANGE_START-2022-05-01.csv.gz...\n",
      "Downloading file Monthly_Patterns_Foot_Traffic-91-DATE_RANGE_START-2022-05-01.csv.gz...\n",
      "Downloading file Monthly_Patterns_Foot_Traffic-92-DATE_RANGE_START-2022-05-01.csv.gz...\n",
      "Downloading file Monthly_Patterns_Foot_Traffic-93-DATE_RANGE_START-2022-05-01.csv.gz...\n",
      "Downloading file Monthly_Patterns_Foot_Traffic-94-DATE_RANGE_START-2022-05-01.csv.gz...\n",
      "Downloading file Monthly_Patterns_Foot_Traffic-95-DATE_RANGE_START-2022-05-01.csv.gz...\n",
      "Downloading file Monthly_Patterns_Foot_Traffic-96-DATE_RANGE_START-2022-05-01.csv.gz...\n",
      "Downloading file Monthly_Patterns_Foot_Traffic-97-DATE_RANGE_START-2022-05-01.csv.gz...\n",
      "Downloading file Monthly_Patterns_Foot_Traffic-98-DATE_RANGE_START-2022-05-01.csv.gz...\n",
      "Downloading file Monthly_Patterns_Foot_Traffic-99-DATE_RANGE_START-2022-05-01.csv.gz...\n",
      "Downloading file Monthly_Patterns_Foot_Traffic-100-DATE_RANGE_START-2022-05-01.csv.gz...\n",
      "Downloading file Monthly_Patterns_Foot_Traffic-101-DATE_RANGE_START-2022-05-01.csv.gz...\n",
      "Downloading file Monthly_Patterns_Foot_Traffic-102-DATE_RANGE_START-2022-05-01.csv.gz...\n",
      "Downloading file Monthly_Patterns_Foot_Traffic-103-DATE_RANGE_START-2022-06-01.csv.gz...\n",
      "Downloading file Monthly_Patterns_Foot_Traffic-104-DATE_RANGE_START-2022-06-01.csv.gz...\n",
      "Downloading file Monthly_Patterns_Foot_Traffic-105-DATE_RANGE_START-2022-06-01.csv.gz...\n",
      "Downloading file Monthly_Patterns_Foot_Traffic-106-DATE_RANGE_START-2022-06-01.csv.gz...\n",
      "Downloading file Monthly_Patterns_Foot_Traffic-107-DATE_RANGE_START-2022-06-01.csv.gz...\n",
      "Downloading file Monthly_Patterns_Foot_Traffic-108-DATE_RANGE_START-2022-06-01.csv.gz...\n",
      "Downloading file Monthly_Patterns_Foot_Traffic-109-DATE_RANGE_START-2022-06-01.csv.gz...\n",
      "Downloading file Monthly_Patterns_Foot_Traffic-110-DATE_RANGE_START-2022-06-01.csv.gz...\n",
      "Downloading file Monthly_Patterns_Foot_Traffic-111-DATE_RANGE_START-2022-06-01.csv.gz...\n",
      "Downloading file Monthly_Patterns_Foot_Traffic-112-DATE_RANGE_START-2022-06-01.csv.gz...\n",
      "Downloading file Monthly_Patterns_Foot_Traffic-113-DATE_RANGE_START-2022-06-01.csv.gz...\n",
      "Downloading file Monthly_Patterns_Foot_Traffic-114-DATE_RANGE_START-2022-06-01.csv.gz...\n",
      "Downloading file Monthly_Patterns_Foot_Traffic-115-DATE_RANGE_START-2022-06-01.csv.gz...\n",
      "Downloading file Monthly_Patterns_Foot_Traffic-116-DATE_RANGE_START-2022-06-01.csv.gz...\n",
      "Downloading file Monthly_Patterns_Foot_Traffic-117-DATE_RANGE_START-2022-06-01.csv.gz...\n",
      "Downloading file Monthly_Patterns_Foot_Traffic-118-DATE_RANGE_START-2022-06-01.csv.gz...\n",
      "Downloading file Monthly_Patterns_Foot_Traffic-119-DATE_RANGE_START-2022-06-01.csv.gz...\n",
      "Downloading file Monthly_Patterns_Foot_Traffic-120-DATE_RANGE_START-2022-06-01.csv.gz...\n",
      "Downloading file Monthly_Patterns_Foot_Traffic-121-DATE_RANGE_START-2022-06-01.csv.gz...\n",
      "Downloading file Monthly_Patterns_Foot_Traffic-122-DATE_RANGE_START-2022-06-01.csv.gz...\n",
      "Downloading file Monthly_Patterns_Foot_Traffic-123-DATE_RANGE_START-2022-06-01.csv.gz...\n",
      "Downloading file Monthly_Patterns_Foot_Traffic-124-DATE_RANGE_START-2022-06-01.csv.gz...\n",
      "Downloading file Monthly_Patterns_Foot_Traffic-125-DATE_RANGE_START-2022-06-01.csv.gz...\n",
      "Downloading file Monthly_Patterns_Foot_Traffic-126-DATE_RANGE_START-2022-06-01.csv.gz...\n",
      "Downloading file Monthly_Patterns_Foot_Traffic-127-DATE_RANGE_START-2022-06-01.csv.gz...\n",
      "Downloading file Monthly_Patterns_Foot_Traffic-128-DATE_RANGE_START-2022-06-01.csv.gz...\n",
      "Downloading file Monthly_Patterns_Foot_Traffic-129-DATE_RANGE_START-2022-06-01.csv.gz...\n",
      "Downloading file Monthly_Patterns_Foot_Traffic-130-DATE_RANGE_START-2022-06-01.csv.gz...\n",
      "Downloading file Monthly_Patterns_Foot_Traffic-131-DATE_RANGE_START-2022-06-01.csv.gz...\n",
      "Downloading file Monthly_Patterns_Foot_Traffic-132-DATE_RANGE_START-2022-06-01.csv.gz...\n",
      "Downloading file Monthly_Patterns_Foot_Traffic-133-DATE_RANGE_START-2022-06-01.csv.gz...\n",
      "Downloading file Monthly_Patterns_Foot_Traffic-134-DATE_RANGE_START-2022-06-01.csv.gz...\n",
      "Downloading file Monthly_Patterns_Foot_Traffic-135-DATE_RANGE_START-2022-06-01.csv.gz...\n",
      "Downloading file Monthly_Patterns_Foot_Traffic-136-DATE_RANGE_START-2022-06-01.csv.gz...\n",
      "Downloading file Monthly_Patterns_Foot_Traffic-137-DATE_RANGE_START-2022-06-01.csv.gz...\n",
      "Downloading file Monthly_Patterns_Foot_Traffic-138-DATE_RANGE_START-2022-06-01.csv.gz...\n",
      "Downloading file Monthly_Patterns_Foot_Traffic-139-DATE_RANGE_START-2022-06-01.csv.gz...\n",
      "Downloading file Monthly_Patterns_Foot_Traffic-140-DATE_RANGE_START-2022-06-01.csv.gz...\n",
      "Downloading file Monthly_Patterns_Foot_Traffic-141-DATE_RANGE_START-2022-06-01.csv.gz...\n",
      "Downloading file Monthly_Patterns_Foot_Traffic-142-DATE_RANGE_START-2022-06-01.csv.gz...\n",
      "Downloading file Monthly_Patterns_Foot_Traffic-143-DATE_RANGE_START-2022-06-01.csv.gz...\n",
      "Downloading file Monthly_Patterns_Foot_Traffic-144-DATE_RANGE_START-2022-06-01.csv.gz...\n",
      "Downloading file Monthly_Patterns_Foot_Traffic-145-DATE_RANGE_START-2022-06-01.csv.gz...\n",
      "Downloading file Monthly_Patterns_Foot_Traffic-146-DATE_RANGE_START-2022-06-01.csv.gz...\n",
      "Downloading file Monthly_Patterns_Foot_Traffic-147-DATE_RANGE_START-2022-06-01.csv.gz...\n",
      "Downloading file Monthly_Patterns_Foot_Traffic-148-DATE_RANGE_START-2022-06-01.csv.gz...\n",
      "Downloading file Monthly_Patterns_Foot_Traffic-149-DATE_RANGE_START-2022-06-01.csv.gz...\n",
      "Downloading file Monthly_Patterns_Foot_Traffic-150-DATE_RANGE_START-2022-06-01.csv.gz...\n",
      "Downloading file Monthly_Patterns_Foot_Traffic-151-DATE_RANGE_START-2022-06-01.csv.gz...\n",
      "Downloading file Monthly_Patterns_Foot_Traffic-152-DATE_RANGE_START-2022-06-01.csv.gz...\n",
      "Downloading file Monthly_Patterns_Foot_Traffic-153-DATE_RANGE_START-2022-06-01.csv.gz...\n",
      "Downloading file Monthly_Patterns_Foot_Traffic-154-DATE_RANGE_START-2022-06-01.csv.gz...\n",
      "Downloading file Monthly_Patterns_Foot_Traffic-155-DATE_RANGE_START-2022-06-01.csv.gz...\n",
      "Downloading file Monthly_Patterns_Foot_Traffic-156-DATE_RANGE_START-2022-07-01.csv.gz...\n",
      "Downloading file Monthly_Patterns_Foot_Traffic-157-DATE_RANGE_START-2022-07-01.csv.gz...\n",
      "Downloading file Monthly_Patterns_Foot_Traffic-158-DATE_RANGE_START-2022-07-01.csv.gz...\n",
      "Downloading file Monthly_Patterns_Foot_Traffic-159-DATE_RANGE_START-2022-07-01.csv.gz...\n",
      "Downloading file Monthly_Patterns_Foot_Traffic-160-DATE_RANGE_START-2022-07-01.csv.gz...\n",
      "Downloading file Monthly_Patterns_Foot_Traffic-161-DATE_RANGE_START-2022-07-01.csv.gz...\n",
      "Downloading file Monthly_Patterns_Foot_Traffic-162-DATE_RANGE_START-2022-07-01.csv.gz...\n",
      "Downloading file Monthly_Patterns_Foot_Traffic-163-DATE_RANGE_START-2022-07-01.csv.gz...\n",
      "Downloading file Monthly_Patterns_Foot_Traffic-164-DATE_RANGE_START-2022-07-01.csv.gz...\n",
      "Downloading file Monthly_Patterns_Foot_Traffic-165-DATE_RANGE_START-2022-07-01.csv.gz...\n",
      "Downloading file Monthly_Patterns_Foot_Traffic-166-DATE_RANGE_START-2022-07-01.csv.gz...\n",
      "Downloading file Monthly_Patterns_Foot_Traffic-167-DATE_RANGE_START-2022-07-01.csv.gz...\n",
      "Downloading file Monthly_Patterns_Foot_Traffic-168-DATE_RANGE_START-2022-07-01.csv.gz...\n",
      "Downloading file Monthly_Patterns_Foot_Traffic-169-DATE_RANGE_START-2022-07-01.csv.gz...\n",
      "Downloading file Monthly_Patterns_Foot_Traffic-170-DATE_RANGE_START-2022-07-01.csv.gz...\n",
      "Downloading file Monthly_Patterns_Foot_Traffic-171-DATE_RANGE_START-2022-07-01.csv.gz...\n",
      "Downloading file Monthly_Patterns_Foot_Traffic-172-DATE_RANGE_START-2022-07-01.csv.gz...\n",
      "Downloading file Monthly_Patterns_Foot_Traffic-173-DATE_RANGE_START-2022-07-01.csv.gz...\n",
      "Downloading file Monthly_Patterns_Foot_Traffic-174-DATE_RANGE_START-2022-07-01.csv.gz...\n",
      "Downloading file Monthly_Patterns_Foot_Traffic-175-DATE_RANGE_START-2022-07-01.csv.gz...\n",
      "Downloading file Monthly_Patterns_Foot_Traffic-176-DATE_RANGE_START-2022-07-01.csv.gz...\n",
      "Downloading file Monthly_Patterns_Foot_Traffic-177-DATE_RANGE_START-2022-07-01.csv.gz...\n",
      "Downloading file Monthly_Patterns_Foot_Traffic-178-DATE_RANGE_START-2022-07-01.csv.gz...\n",
      "Downloading file Monthly_Patterns_Foot_Traffic-179-DATE_RANGE_START-2022-07-01.csv.gz...\n",
      "Downloading file Monthly_Patterns_Foot_Traffic-180-DATE_RANGE_START-2022-07-01.csv.gz...\n",
      "Downloading file Monthly_Patterns_Foot_Traffic-181-DATE_RANGE_START-2022-07-01.csv.gz...\n",
      "Downloading file Monthly_Patterns_Foot_Traffic-182-DATE_RANGE_START-2022-07-01.csv.gz...\n",
      "Downloading file Monthly_Patterns_Foot_Traffic-183-DATE_RANGE_START-2022-07-01.csv.gz...\n",
      "Downloading file Monthly_Patterns_Foot_Traffic-184-DATE_RANGE_START-2022-07-01.csv.gz...\n",
      "Downloading file Monthly_Patterns_Foot_Traffic-185-DATE_RANGE_START-2022-07-01.csv.gz...\n",
      "Downloading file Monthly_Patterns_Foot_Traffic-186-DATE_RANGE_START-2022-07-01.csv.gz...\n",
      "Downloading file Monthly_Patterns_Foot_Traffic-187-DATE_RANGE_START-2022-07-01.csv.gz...\n",
      "Downloading file Monthly_Patterns_Foot_Traffic-188-DATE_RANGE_START-2022-07-01.csv.gz...\n",
      "Downloading file Monthly_Patterns_Foot_Traffic-189-DATE_RANGE_START-2022-07-01.csv.gz...\n",
      "Downloading file Monthly_Patterns_Foot_Traffic-190-DATE_RANGE_START-2022-07-01.csv.gz...\n",
      "Downloading file Monthly_Patterns_Foot_Traffic-191-DATE_RANGE_START-2022-07-01.csv.gz...\n",
      "Downloading file Monthly_Patterns_Foot_Traffic-192-DATE_RANGE_START-2022-07-01.csv.gz...\n",
      "Downloading file Monthly_Patterns_Foot_Traffic-193-DATE_RANGE_START-2022-07-01.csv.gz...\n",
      "Downloading file Monthly_Patterns_Foot_Traffic-194-DATE_RANGE_START-2022-07-01.csv.gz...\n",
      "Downloading file Monthly_Patterns_Foot_Traffic-195-DATE_RANGE_START-2022-07-01.csv.gz...\n",
      "Downloading file Monthly_Patterns_Foot_Traffic-196-DATE_RANGE_START-2022-07-01.csv.gz...\n",
      "Downloading file Monthly_Patterns_Foot_Traffic-197-DATE_RANGE_START-2022-07-01.csv.gz...\n",
      "Downloading file Monthly_Patterns_Foot_Traffic-198-DATE_RANGE_START-2022-07-01.csv.gz...\n",
      "Downloading file Monthly_Patterns_Foot_Traffic-199-DATE_RANGE_START-2022-07-01.csv.gz...\n",
      "Downloading file Monthly_Patterns_Foot_Traffic-200-DATE_RANGE_START-2022-07-01.csv.gz...\n",
      "Downloading file Monthly_Patterns_Foot_Traffic-201-DATE_RANGE_START-2022-07-01.csv.gz...\n",
      "Downloading file Monthly_Patterns_Foot_Traffic-202-DATE_RANGE_START-2022-07-01.csv.gz...\n",
      "Downloading file Monthly_Patterns_Foot_Traffic-203-DATE_RANGE_START-2022-07-01.csv.gz...\n",
      "Downloading file Monthly_Patterns_Foot_Traffic-204-DATE_RANGE_START-2022-07-01.csv.gz...\n",
      "Downloading file Monthly_Patterns_Foot_Traffic-205-DATE_RANGE_START-2022-07-01.csv.gz...\n",
      "Downloading file Monthly_Patterns_Foot_Traffic-206-DATE_RANGE_START-2022-07-01.csv.gz...\n",
      "Downloading file Monthly_Patterns_Foot_Traffic-207-DATE_RANGE_START-2022-07-01.csv.gz...\n",
      "Downloading file Monthly_Patterns_Foot_Traffic-208-DATE_RANGE_START-2022-07-01.csv.gz...\n",
      "Downloading file Monthly_Patterns_Foot_Traffic-209-DATE_RANGE_START-2022-08-01.csv.gz...\n",
      "Downloading file Monthly_Patterns_Foot_Traffic-210-DATE_RANGE_START-2022-08-01.csv.gz...\n",
      "Downloading file Monthly_Patterns_Foot_Traffic-211-DATE_RANGE_START-2022-08-01.csv.gz...\n",
      "Downloading file Monthly_Patterns_Foot_Traffic-212-DATE_RANGE_START-2022-08-01.csv.gz...\n",
      "Downloading file Monthly_Patterns_Foot_Traffic-213-DATE_RANGE_START-2022-08-01.csv.gz...\n",
      "Downloading file Monthly_Patterns_Foot_Traffic-214-DATE_RANGE_START-2022-08-01.csv.gz...\n",
      "Downloading file Monthly_Patterns_Foot_Traffic-215-DATE_RANGE_START-2022-08-01.csv.gz...\n",
      "Downloading file Monthly_Patterns_Foot_Traffic-216-DATE_RANGE_START-2022-08-01.csv.gz...\n",
      "Downloading file Monthly_Patterns_Foot_Traffic-217-DATE_RANGE_START-2022-08-01.csv.gz...\n",
      "Downloading file Monthly_Patterns_Foot_Traffic-218-DATE_RANGE_START-2022-08-01.csv.gz...\n",
      "Downloading file Monthly_Patterns_Foot_Traffic-219-DATE_RANGE_START-2022-08-01.csv.gz...\n",
      "Downloading file Monthly_Patterns_Foot_Traffic-220-DATE_RANGE_START-2022-08-01.csv.gz...\n",
      "Downloading file Monthly_Patterns_Foot_Traffic-221-DATE_RANGE_START-2022-08-01.csv.gz...\n",
      "Downloading file Monthly_Patterns_Foot_Traffic-222-DATE_RANGE_START-2022-08-01.csv.gz...\n",
      "Downloading file Monthly_Patterns_Foot_Traffic-223-DATE_RANGE_START-2022-08-01.csv.gz...\n",
      "Downloading file Monthly_Patterns_Foot_Traffic-224-DATE_RANGE_START-2022-08-01.csv.gz...\n",
      "Downloading file Monthly_Patterns_Foot_Traffic-225-DATE_RANGE_START-2022-08-01.csv.gz...\n",
      "Downloading file Monthly_Patterns_Foot_Traffic-226-DATE_RANGE_START-2022-08-01.csv.gz...\n",
      "Downloading file Monthly_Patterns_Foot_Traffic-227-DATE_RANGE_START-2022-08-01.csv.gz...\n",
      "Downloading file Monthly_Patterns_Foot_Traffic-228-DATE_RANGE_START-2022-08-01.csv.gz...\n",
      "Downloading file Monthly_Patterns_Foot_Traffic-229-DATE_RANGE_START-2022-08-01.csv.gz...\n",
      "Downloading file Monthly_Patterns_Foot_Traffic-230-DATE_RANGE_START-2022-08-01.csv.gz...\n",
      "Downloading file Monthly_Patterns_Foot_Traffic-231-DATE_RANGE_START-2022-08-01.csv.gz...\n",
      "Downloading file Monthly_Patterns_Foot_Traffic-232-DATE_RANGE_START-2022-08-01.csv.gz...\n",
      "Downloading file Monthly_Patterns_Foot_Traffic-233-DATE_RANGE_START-2022-08-01.csv.gz...\n",
      "Downloading file Monthly_Patterns_Foot_Traffic-234-DATE_RANGE_START-2022-08-01.csv.gz...\n",
      "Downloading file Monthly_Patterns_Foot_Traffic-235-DATE_RANGE_START-2022-08-01.csv.gz...\n",
      "Downloading file Monthly_Patterns_Foot_Traffic-236-DATE_RANGE_START-2022-08-01.csv.gz...\n",
      "Downloading file Monthly_Patterns_Foot_Traffic-237-DATE_RANGE_START-2022-08-01.csv.gz...\n",
      "Downloading file Monthly_Patterns_Foot_Traffic-238-DATE_RANGE_START-2022-08-01.csv.gz...\n",
      "Downloading file Monthly_Patterns_Foot_Traffic-239-DATE_RANGE_START-2022-08-01.csv.gz...\n",
      "Downloading file Monthly_Patterns_Foot_Traffic-240-DATE_RANGE_START-2022-08-01.csv.gz...\n",
      "Downloading file Monthly_Patterns_Foot_Traffic-241-DATE_RANGE_START-2022-08-01.csv.gz...\n",
      "Downloading file Monthly_Patterns_Foot_Traffic-242-DATE_RANGE_START-2022-08-01.csv.gz...\n",
      "Downloading file Monthly_Patterns_Foot_Traffic-243-DATE_RANGE_START-2022-08-01.csv.gz...\n",
      "Downloading file Monthly_Patterns_Foot_Traffic-244-DATE_RANGE_START-2022-08-01.csv.gz...\n",
      "Downloading file Monthly_Patterns_Foot_Traffic-245-DATE_RANGE_START-2022-08-01.csv.gz...\n",
      "Downloading file Monthly_Patterns_Foot_Traffic-246-DATE_RANGE_START-2022-08-01.csv.gz...\n",
      "Downloading file Monthly_Patterns_Foot_Traffic-247-DATE_RANGE_START-2022-08-01.csv.gz...\n",
      "Downloading file Monthly_Patterns_Foot_Traffic-248-DATE_RANGE_START-2022-08-01.csv.gz...\n",
      "Downloading file Monthly_Patterns_Foot_Traffic-249-DATE_RANGE_START-2022-08-01.csv.gz...\n",
      "Downloading file Monthly_Patterns_Foot_Traffic-250-DATE_RANGE_START-2022-08-01.csv.gz...\n",
      "Downloading file Monthly_Patterns_Foot_Traffic-251-DATE_RANGE_START-2022-08-01.csv.gz...\n",
      "Downloading file Monthly_Patterns_Foot_Traffic-252-DATE_RANGE_START-2022-08-01.csv.gz...\n",
      "Downloading file Monthly_Patterns_Foot_Traffic-253-DATE_RANGE_START-2022-08-01.csv.gz...\n",
      "Downloading file Monthly_Patterns_Foot_Traffic-254-DATE_RANGE_START-2022-08-01.csv.gz...\n",
      "Downloading file Monthly_Patterns_Foot_Traffic-255-DATE_RANGE_START-2022-08-01.csv.gz...\n",
      "Downloading file Monthly_Patterns_Foot_Traffic-256-DATE_RANGE_START-2022-08-01.csv.gz...\n",
      "Downloading file Monthly_Patterns_Foot_Traffic-257-DATE_RANGE_START-2022-08-01.csv.gz...\n",
      "Downloading file Monthly_Patterns_Foot_Traffic-258-DATE_RANGE_START-2022-08-01.csv.gz...\n",
      "Downloading file Monthly_Patterns_Foot_Traffic-259-DATE_RANGE_START-2022-08-01.csv.gz...\n",
      "Downloading file Monthly_Patterns_Foot_Traffic-260-DATE_RANGE_START-2022-08-01.csv.gz...\n",
      "Downloading file Monthly_Patterns_Foot_Traffic-261-DATE_RANGE_START-2022-08-01.csv.gz...\n"
     ]
    }
   ],
   "source": [
    "ft_data_path = 'C:/Users/dratnadiwakara2/Downloads/temp_dewey/zoos_'+file_suffix+'.csv'\n",
    "page = 1\n",
    "download_count = 0\n",
    "while True:\n",
    "    print(page)\n",
    "    results = requests.get(url=MONTHLY_FT_PATTERNS_PRODUCT_API_PATH,\n",
    "                       params={'page': page,\n",
    "                               'partition_key_after': date_start,   # optionally set date value here\n",
    "                               'partition_key_before': date_end}, # optionally set date value here\n",
    "                       headers={'X-API-KEY': API_KEY,\n",
    "                                'accept': 'application/json'\n",
    "                               })\n",
    "    response_json = results.json()\n",
    "\n",
    "    for link_data in response_json['download_links']:\n",
    "        print(f\"Downloading file {link_data['file_name']}...\")\n",
    "    \n",
    "        data = requests.get(link_data['link'])\n",
    "        gzip_stream = io.BytesIO(data.content)\n",
    "    \n",
    "        df = pd.read_csv(gzip_stream, compression='gzip', low_memory=False)\n",
    "        filtered_df = df[df['PLACEKEY'].isin(zoos['PLACEKEY'])  ]\n",
    "    \n",
    "        selected_columns = ['PLACEKEY', 'LOCATION_NAME', 'STREET_ADDRESS','POSTAL_CODE','REGION','DATE_RANGE_START','DATE_RANGE_END','RAW_VISIT_COUNTS','RAW_VISITOR_COUNTS','VISITS_BY_DAY','DISTANCE_FROM_HOME','MEDIAN_DWELL']\n",
    "        filtered_df = filtered_df[selected_columns]\n",
    "        \n",
    "        if os.path.isfile(ft_data_path):\n",
    "            header_option = False  \n",
    "        else:\n",
    "            header_option = True  \n",
    "    \n",
    "        filtered_df.to_csv(ft_data_path, mode='a', header=header_option, index=False)\n",
    "        \n",
    "        download_count += 1\n",
    "        \n",
    "    total_pages = response_json['total_pages']\n",
    "    if page >= total_pages:\n",
    "        break\n",
    "    page += 1   "
   ],
   "metadata": {
    "collapsed": false,
    "ExecuteTime": {
     "end_time": "2024-02-14T01:29:24.213851900Z",
     "start_time": "2024-02-13T23:31:16.365693700Z"
    }
   },
   "id": "3c1de154c9cf1ca8"
  },
  {
   "cell_type": "code",
   "execution_count": 16,
   "outputs": [],
   "source": [
    "df = pd.read_csv(ft_data_path)\n",
    "df = df.dropna(subset=['RAW_VISIT_COUNTS'], how='any')\n"
   ],
   "metadata": {
    "collapsed": false,
    "ExecuteTime": {
     "end_time": "2024-02-14T02:03:44.138384600Z",
     "start_time": "2024-02-14T02:03:43.877303500Z"
    }
   },
   "id": "d4ed4765526dd6f9"
  },
  {
   "cell_type": "code",
   "execution_count": 18,
   "outputs": [],
   "source": [
    "df2 = df[['PLACEKEY','DATE_RANGE_START','RAW_VISIT_COUNTS','RAW_VISITOR_COUNTS','DISTANCE_FROM_HOME','MEDIAN_DWELL']]\n",
    "df2.to_parquet(ft_data_path+\"_visits.parquet\", index=False)"
   ],
   "metadata": {
    "collapsed": false,
    "ExecuteTime": {
     "end_time": "2024-02-14T02:04:30.317175800Z",
     "start_time": "2024-02-14T02:04:30.184084800Z"
    }
   },
   "id": "50cbb251625929a7"
  },
  {
   "cell_type": "code",
   "execution_count": 19,
   "outputs": [
    {
     "name": "stderr",
     "output_type": "stream",
     "text": [
      "100%|██████████| 40168/40168 [01:54<00:00, 352.15it/s]\n"
     ]
    }
   ],
   "source": [
    "import json\n",
    "header_option_visit_summary_file = True \n",
    "visit_summary_file = ft_data_path+\"_visits_summary.csv\"\n",
    "\n",
    "with tqdm(total=len(df)) as pbar:\n",
    "    \n",
    "    for index in range(0, len(df)):\n",
    "        try:\n",
    "            temp = df.loc[index]\n",
    "    \n",
    "            data = json.loads(temp['VISITS_BY_DAY'])\n",
    "            data = pd.DataFrame({'day_no': range(1, len(data) + 1), 'no_visits': data})\n",
    "            data['PLACEKEY'] = temp['PLACEKEY']\n",
    "            data['DATE_RANGE_START'] = pd.to_datetime(temp['DATE_RANGE_START'])\n",
    "            \n",
    "            if os.path.isfile(visit_summary_file):\n",
    "                header_option_visit_summary_file = False  \n",
    "        \n",
    "            data.to_csv(visit_summary_file, index=False, mode='a', header=header_option_visit_summary_file,sep=\"|\")\n",
    "        except:\n",
    "            pass\n",
    "        \n",
    "        pbar.update(1)"
   ],
   "metadata": {
    "collapsed": false,
    "ExecuteTime": {
     "end_time": "2024-02-14T02:09:46.896481900Z",
     "start_time": "2024-02-14T02:07:52.632631Z"
    }
   },
   "id": "630e23260beebd5f"
  },
  {
   "cell_type": "code",
   "execution_count": 20,
   "outputs": [],
   "source": [
    "df = pd.read_csv(visit_summary_file,sep=\"|\")  \n"
   ],
   "metadata": {
    "collapsed": false,
    "ExecuteTime": {
     "end_time": "2024-02-14T02:10:23.902994100Z",
     "start_time": "2024-02-14T02:10:23.225996Z"
    }
   },
   "id": "65ef5fe0e1777ad9"
  },
  {
   "cell_type": "code",
   "execution_count": 21,
   "outputs": [],
   "source": [
    "df.to_parquet(visit_summary_file+\".parquet\", index=False)"
   ],
   "metadata": {
    "collapsed": false,
    "ExecuteTime": {
     "end_time": "2024-02-14T02:11:39.559672600Z",
     "start_time": "2024-02-14T02:11:39.136137600Z"
    }
   },
   "id": "b5928340f9a808f9"
  },
  {
   "cell_type": "code",
   "execution_count": 11,
   "outputs": [
    {
     "data": {
      "text/plain": "40168"
     },
     "execution_count": 11,
     "metadata": {},
     "output_type": "execute_result"
    }
   ],
   "source": [
    "\n",
    "with gzip.open(ft_data_path+\".gz\", 'wt', encoding='utf-8') as gzipped_file:\n",
    "    df.to_csv(gzipped_file, index=False)"
   ],
   "metadata": {
    "collapsed": false,
    "ExecuteTime": {
     "end_time": "2024-02-14T01:58:42.472868600Z",
     "start_time": "2024-02-14T01:58:42.442002100Z"
    }
   },
   "id": "5722cc807d808c37"
  },
  {
   "cell_type": "code",
   "execution_count": null,
   "outputs": [],
   "source": [
    "ft_data_path = 'C:/Users/dratnadiwakara2/Downloads/temp_dewey/parks_hospitals_pharmacies_ft_data'+file_suffix+'.csv'\n",
    "page = 1\n",
    "download_count = 0\n",
    "while True:\n",
    "    print(page)\n",
    "    results = requests.get(url=MONTHLY_FT_PATTERNS_PRODUCT_API_PATH,\n",
    "                       params={'page': page,\n",
    "                               'partition_key_after': date_start,   # optionally set date value here\n",
    "                               'partition_key_before': date_end}, # optionally set date value here\n",
    "                       headers={'X-API-KEY': API_KEY,\n",
    "                                'accept': 'application/json'\n",
    "                               })\n",
    "    response_json = results.json()\n",
    "\n",
    "    for link_data in response_json['download_links']:\n",
    "        print(f\"Downloading file {link_data['file_name']}...\")\n",
    "    \n",
    "        data = requests.get(link_data['link'])\n",
    "        gzip_stream = io.BytesIO(data.content)\n",
    "    \n",
    "        df = pd.read_csv(gzip_stream, compression='gzip', low_memory=False)\n",
    "        filtered_df = df[df['PLACEKEY'].isin(parks['PLACEKEY']) |\n",
    "                         df['PLACEKEY'].isin(hospitals['PLACEKEY']) |\n",
    "                         df['PLACEKEY'].isin(pharmacies['PLACEKEY'])  ]\n",
    "    \n",
    "        selected_columns = ['PLACEKEY', 'LOCATION_NAME', 'STREET_ADDRESS','POSTAL_CODE','REGION','DATE_RANGE_START','DATE_RANGE_END','RAW_VISIT_COUNTS','RAW_VISITOR_COUNTS','VISITS_BY_DAY','DISTANCE_FROM_HOME','MEDIAN_DWELL']\n",
    "        filtered_df = filtered_df[selected_columns]\n",
    "        \n",
    "        if os.path.isfile(ft_data_path):\n",
    "            header_option = False  \n",
    "        else:\n",
    "            header_option = True  \n",
    "    \n",
    "        filtered_df.to_csv(ft_data_path, mode='a', header=header_option, index=False)\n",
    "        \n",
    "        download_count += 1\n",
    "        \n",
    "    total_pages = response_json['total_pages']\n",
    "    if page >= total_pages:\n",
    "        break\n",
    "    page += 1   "
   ],
   "metadata": {
    "collapsed": false
   },
   "id": "221850554ffcb28a"
  },
  {
   "cell_type": "code",
   "execution_count": 22,
   "outputs": [
    {
     "name": "stderr",
     "output_type": "stream",
     "text": [
      "C:\\Users\\dratnadiwakara2\\AppData\\Local\\Temp\\ipykernel_27448\\2720968004.py:1: DtypeWarning: Columns (3,9) have mixed types. Specify dtype option on import or set low_memory=False.\n",
      "  df = pd.read_csv(ft_data_path)\n"
     ]
    }
   ],
   "source": [
    "df = pd.read_csv(ft_data_path)  \n",
    "\n",
    "with gzip.open(ft_data_path+\".gz\", 'wt', encoding='utf-8') as gzipped_file:\n",
    "    df.to_csv(gzipped_file, index=False)"
   ],
   "metadata": {
    "collapsed": false,
    "ExecuteTime": {
     "end_time": "2024-02-10T22:20:14.341823300Z",
     "start_time": "2024-02-10T22:10:38.390135900Z"
    }
   },
   "id": "3c0127b3106eba17"
  },
  {
   "cell_type": "markdown",
   "source": [
    "# Clean Visits Data"
   ],
   "metadata": {
    "collapsed": false
   },
   "id": "4ae4f80a6224cea4"
  },
  {
   "cell_type": "code",
   "execution_count": 4,
   "outputs": [
    {
     "name": "stderr",
     "output_type": "stream",
     "text": [
      "C:\\Users\\dratnadiwakara2\\AppData\\Local\\Temp\\ipykernel_26500\\2865106958.py:4: DtypeWarning: Columns (3,9) have mixed types. Specify dtype option on import or set low_memory=False.\n",
      "  df = pd.read_csv(\"C:/Users/dratnadiwakara2/Documents/OneDrive - Louisiana State University/Raw Data/Dewey/parks_hospitals_pharmacies_ft_data20230101_20240131.csv.gz\")\n"
     ]
    }
   ],
   "source": [
    "import json\n",
    "visit_summary_file = 'C:/Users/dratnadiwakara2/Downloads/temp_dewey/parks_hospitals_pharmacies_month_visit_summary'+file_suffix+'.csv'\n",
    "visits_file = 'C:/Users/dratnadiwakara2/Downloads/temp_dewey/parks_hospitals_pharmacies_month_visits'+file_suffix+'.csv'\n",
    "df = pd.read_csv(\"C:/Users/dratnadiwakara2/Documents/OneDrive - Louisiana State University/Raw Data/Dewey/parks_hospitals_pharmacies_ft_data20230101_20240131.csv.gz\")"
   ],
   "metadata": {
    "collapsed": false,
    "ExecuteTime": {
     "end_time": "2024-02-12T15:44:14.652418500Z",
     "start_time": "2024-02-12T15:42:25.430135900Z"
    }
   },
   "id": "544b652b3d2565ad"
  },
  {
   "cell_type": "code",
   "execution_count": 7,
   "outputs": [],
   "source": [
    "parks = pd.read_csv(output_path_parks)"
   ],
   "metadata": {
    "collapsed": false,
    "ExecuteTime": {
     "end_time": "2024-02-12T15:46:53.790020200Z",
     "start_time": "2024-02-12T15:46:50.509644900Z"
    }
   },
   "id": "d5c7c94e6263911c"
  },
  {
   "cell_type": "code",
   "execution_count": 11,
   "outputs": [],
   "source": [
    "herman = df[(df['STREET_ADDRESS'] == '1500 Hermann Dr') & (df['POSTAL_CODE'] == 77004.0)]\n"
   ],
   "metadata": {
    "collapsed": false,
    "ExecuteTime": {
     "end_time": "2024-02-12T15:49:31.671030300Z",
     "start_time": "2024-02-12T15:49:29.411154900Z"
    }
   },
   "id": "add9edff228149f6"
  },
  {
   "cell_type": "code",
   "execution_count": 42,
   "outputs": [],
   "source": [
    "df2 = df[['PLACEKEY','DATE_RANGE_START','RAW_VISIT_COUNTS','RAW_VISITOR_COUNTS','DISTANCE_FROM_HOME','MEDIAN_DWELL']]\n",
    "with gzip.open(visits_file+\".gz\", 'wt', encoding='utf-8') as gzipped_file:\n",
    "    df2.to_csv(gzipped_file, index=False)"
   ],
   "metadata": {
    "collapsed": false,
    "ExecuteTime": {
     "end_time": "2024-02-11T15:42:34.832579200Z",
     "start_time": "2024-02-11T15:37:50.636972700Z"
    }
   },
   "id": "f20da4f83e6f233b"
  },
  {
   "cell_type": "code",
   "execution_count": null,
   "outputs": [],
   "source": [
    "# temp = df.loc[0]\n",
    "# data = json.loads(temp['VISITS_BY_DAY'])\n",
    "# data = pd.DataFrame({'day_no': range(1, len(data) + 1), 'no_visits': data})\n",
    "# data['PLACEKEY'] = temp['PLACEKEY']\n",
    "# data['DATE_RANGE_START'] = pd.to_datetime(temp['DATE_RANGE_START'])"
   ],
   "metadata": {
    "collapsed": false
   },
   "id": "246de07c626a9ad0"
  },
  {
   "cell_type": "code",
   "execution_count": 44,
   "outputs": [
    {
     "name": "stderr",
     "output_type": "stream",
     "text": [
      "100%|██████████| 13549754/13549754 [7:59:00<00:00, 471.45it/s]  \n"
     ]
    }
   ],
   "source": [
    "\n",
    "header_option_visit_summary_file = True \n",
    "\n",
    "with tqdm(total=len(df)) as pbar:\n",
    "    \n",
    "    for index in range(0, len(df)):\n",
    "        try:\n",
    "            temp = df.loc[index]\n",
    "    \n",
    "            data = json.loads(temp['VISITS_BY_DAY'])\n",
    "            data = pd.DataFrame({'day_no': range(1, len(data) + 1), 'no_visits': data})\n",
    "            data['PLACEKEY'] = temp['PLACEKEY']\n",
    "            data['DATE_RANGE_START'] = pd.to_datetime(temp['DATE_RANGE_START'])\n",
    "            \n",
    "            if os.path.isfile(visit_summary_file):\n",
    "                header_option_visit_summary_file = False  \n",
    "        \n",
    "            data.to_csv(visit_summary_file, index=False, mode='a', header=header_option_visit_summary_file,sep=\"|\")\n",
    "        except:\n",
    "            pass\n",
    "        \n",
    "        pbar.update(1)"
   ],
   "metadata": {
    "collapsed": false,
    "ExecuteTime": {
     "end_time": "2024-02-11T23:43:44.713916800Z",
     "start_time": "2024-02-11T15:44:43.772640600Z"
    }
   },
   "id": "1b17159363fb70e6"
  },
  {
   "cell_type": "code",
   "execution_count": 47,
   "outputs": [],
   "source": [
    "df = pd.read_csv(visit_summary_file,sep=\"|\")   "
   ],
   "metadata": {
    "collapsed": false,
    "ExecuteTime": {
     "end_time": "2024-02-12T01:22:59.408333900Z",
     "start_time": "2024-02-12T01:14:50.079441900Z"
    }
   },
   "id": "1448ef6ac5fd8727"
  },
  {
   "cell_type": "code",
   "execution_count": 51,
   "outputs": [],
   "source": [
    "with gzip.open(visit_summary_file+\".gz\", 'wt', encoding='utf-8') as gzipped_file:\n",
    "    df.to_csv(gzipped_file, index=False)"
   ],
   "metadata": {
    "collapsed": false,
    "ExecuteTime": {
     "end_time": "2024-02-12T02:21:20.834232100Z",
     "start_time": "2024-02-12T01:52:59.299317200Z"
    }
   },
   "id": "90ff74aecc1ec616"
  },
  {
   "cell_type": "code",
   "execution_count": 52,
   "outputs": [
    {
     "data": {
      "text/plain": "   day_no  no_visits             PLACEKEY DATE_RANGE_START\n0       1          0  222-223@8dj-mps-9cq       2023-01-01\n1       2          5  222-223@8dj-mps-9cq       2023-01-01\n2       3          3  222-223@8dj-mps-9cq       2023-01-01\n3       4          5  222-223@8dj-mps-9cq       2023-01-01\n4       5          5  222-223@8dj-mps-9cq       2023-01-01",
      "text/html": "<div>\n<style scoped>\n    .dataframe tbody tr th:only-of-type {\n        vertical-align: middle;\n    }\n\n    .dataframe tbody tr th {\n        vertical-align: top;\n    }\n\n    .dataframe thead th {\n        text-align: right;\n    }\n</style>\n<table border=\"1\" class=\"dataframe\">\n  <thead>\n    <tr style=\"text-align: right;\">\n      <th></th>\n      <th>day_no</th>\n      <th>no_visits</th>\n      <th>PLACEKEY</th>\n      <th>DATE_RANGE_START</th>\n    </tr>\n  </thead>\n  <tbody>\n    <tr>\n      <th>0</th>\n      <td>1</td>\n      <td>0</td>\n      <td>222-223@8dj-mps-9cq</td>\n      <td>2023-01-01</td>\n    </tr>\n    <tr>\n      <th>1</th>\n      <td>2</td>\n      <td>5</td>\n      <td>222-223@8dj-mps-9cq</td>\n      <td>2023-01-01</td>\n    </tr>\n    <tr>\n      <th>2</th>\n      <td>3</td>\n      <td>3</td>\n      <td>222-223@8dj-mps-9cq</td>\n      <td>2023-01-01</td>\n    </tr>\n    <tr>\n      <th>3</th>\n      <td>4</td>\n      <td>5</td>\n      <td>222-223@8dj-mps-9cq</td>\n      <td>2023-01-01</td>\n    </tr>\n    <tr>\n      <th>4</th>\n      <td>5</td>\n      <td>5</td>\n      <td>222-223@8dj-mps-9cq</td>\n      <td>2023-01-01</td>\n    </tr>\n  </tbody>\n</table>\n</div>"
     },
     "execution_count": 52,
     "metadata": {},
     "output_type": "execute_result"
    }
   ],
   "source": [
    "df.head()"
   ],
   "metadata": {
    "collapsed": false,
    "ExecuteTime": {
     "end_time": "2024-02-12T02:40:13.245198600Z",
     "start_time": "2024-02-12T02:40:13.108173600Z"
    }
   },
   "id": "1bc65f944a4912a6"
  }
 ],
 "metadata": {
  "kernelspec": {
   "display_name": "Python 3",
   "language": "python",
   "name": "python3"
  },
  "language_info": {
   "codemirror_mode": {
    "name": "ipython",
    "version": 2
   },
   "file_extension": ".py",
   "mimetype": "text/x-python",
   "name": "python",
   "nbconvert_exporter": "python",
   "pygments_lexer": "ipython2",
   "version": "2.7.6"
  }
 },
 "nbformat": 4,
 "nbformat_minor": 5
}
