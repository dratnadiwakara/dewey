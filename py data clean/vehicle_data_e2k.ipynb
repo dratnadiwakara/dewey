{
 "cells": [
  {
   "cell_type": "code",
   "execution_count": 36,
   "id": "initial_id",
   "metadata": {
    "collapsed": true,
    "ExecuteTime": {
     "end_time": "2023-11-30T22:29:45.320957800Z",
     "start_time": "2023-11-30T22:29:17.039811800Z"
    }
   },
   "outputs": [],
   "source": [
    "import requests\n",
    "import pandas as pd\n",
    "import json"
   ]
  },
  {
   "cell_type": "code",
   "execution_count": 10,
   "outputs": [],
   "source": [
    "url = \"https://api.vehiclelogic.com.au/token\"\n",
    "username = \"E2Kprofessional\"\n",
    "# password = \"QeJHY(MZ!5nl\"\n",
    "password = \"kGc2ZhB42!vt\""
   ],
   "metadata": {
    "collapsed": false,
    "ExecuteTime": {
     "end_time": "2023-11-30T20:33:29.250684300Z",
     "start_time": "2023-11-30T20:33:29.084888300Z"
    }
   },
   "id": "f93d04b437f015b6"
  },
  {
   "cell_type": "code",
   "execution_count": 30,
   "outputs": [
    {
     "name": "stdout",
     "output_type": "stream",
     "text": [
      "<Response [200]>\n"
     ]
    }
   ],
   "source": [
    "\n",
    "payload = {\n",
    "    'grant_type': 'password',\n",
    "    'username': username,\n",
    "    'password': password\n",
    "}\n",
    "\n",
    "headers = {\n",
    "    'Content-Type': 'application/x-www-form-urlencoded'\n",
    "}\n",
    "\n",
    "response = requests.post(url, data=payload, headers=headers)\n",
    "\n",
    "print(response)"
   ],
   "metadata": {
    "collapsed": false,
    "ExecuteTime": {
     "end_time": "2023-11-30T22:12:31.346552600Z",
     "start_time": "2023-11-30T22:12:29.555712700Z"
    }
   },
   "id": "ec3316968292ef96"
  },
  {
   "cell_type": "code",
   "execution_count": 31,
   "outputs": [],
   "source": [
    "data = response.json()\n",
    "access_token = data.get('access_token')\n",
    "httpClient = requests.Session()\n",
    "headers = {\"Authorization\": f\"Bearer {access_token}\"}"
   ],
   "metadata": {
    "collapsed": false,
    "ExecuteTime": {
     "end_time": "2023-11-30T22:13:13.846523700Z",
     "start_time": "2023-11-30T22:13:13.549452600Z"
    }
   },
   "id": "1a6cbb98d4f9a1ed"
  },
  {
   "cell_type": "code",
   "execution_count": 53,
   "outputs": [],
   "source": [
    "urls = [\n",
    "    \"https://api.vehiclelogic.com.au/tyres/brands\",\n",
    "    \"https://api.vehiclelogic.com.au/tyres/patterns\",\n",
    "    \"https://api.vehiclelogic.com.au/tyres/patterns/details\",\n",
    "    \"https://api.vehiclelogic.com.au/tyres/sizes/patterns\",\n",
    "    \"https://api.vehiclelogic.com.au/tyres/sizes/patterns/details\",\n",
    "    \"https://api.vehiclelogic.com.au/tyres/sizes/sectionWidths\",\n",
    "    \"https://api.vehiclelogic.com.au/tyres/sizes/aspectRatios\",\n",
    "    \"https://api.vehiclelogic.com.au/tyres/sizes/rimDiameters\",\n",
    "    \"https://api.vehiclelogic.com.au/vehicles/makes\",\n",
    "    \"https://api.vehiclelogic.com.au/vehicles/models\",\n",
    "    \"https://api.vehiclelogic.com.au/vehicles/vehicles\",\n",
    "    \"https://api.vehiclelogic.com.au/vehicles/vehicles/details\",\n",
    "    \"https://api.vehiclelogic.com.au/vehicles/alternativeFitments\",\n",
    "    \"https://api.vehiclelogic.com.au/wheels/brands\",\n",
    "    \"https://api.vehiclelogic.com.au/wheels/brands/custom\",\n",
    "    \"https://api.vehiclelogic.com.au/wheels/categories\",\n",
    "    \"https://api.vehiclelogic.com.au/wheels/wheels\",\n",
    "    \"https://api.vehiclelogic.com.au/wheels/wheels/details\",\n",
    "    \"https://api.vehiclelogic.com.au/wheels/wheels/custom\",\n",
    "    \"https://api.vehiclelogic.com.au/wheels/wheels/custom/details\",\n",
    "    \"https://api.vehiclelogic.com.au/wheels/wheels/styles\",\n",
    "    \"https://api.vehiclelogic.com.au/wheels/wheels/finishes\",\n",
    "    \"https://api.vehiclelogic.com.au/licenseplate/registration\",\n",
    "    \"https://api.vehiclelogic.com.au/licenseplate/vin\",\n",
    "    \"https://api.vehiclelogic.com.au/licenseplate/vehicleid\",\n",
    "    \"https://api.vehiclelogic.com.au/licenseplate/vehicle\",\n",
    "    \"https://api.vehiclelogic.com.au/licenseplate/vehicle/details\",\n",
    "    \"https://api.vehiclelogic.com.au/licenseplate/patterns\",\n",
    "    \"https://api.vehiclelogic.com.au/licenseplate/wheels\",\n",
    "    \"https://api.vehiclelogic.com.au/licenseplate/rimdiameters\"\n",
    "]\n"
   ],
   "metadata": {
    "collapsed": false,
    "ExecuteTime": {
     "end_time": "2023-12-01T03:46:28.156024100Z",
     "start_time": "2023-12-01T03:46:28.130913Z"
    }
   },
   "id": "a11bb045eb752184"
  },
  {
   "cell_type": "code",
   "execution_count": 65,
   "outputs": [],
   "source": [
    "output_path = 'C:/Users/dratnadiwakara2/Downloads/Eranda/100 rows/'"
   ],
   "metadata": {
    "collapsed": false,
    "ExecuteTime": {
     "end_time": "2023-12-01T04:21:36.717570Z",
     "start_time": "2023-12-01T04:21:36.715575300Z"
    }
   },
   "id": "dea412e87c07d9d6"
  },
  {
   "cell_type": "code",
   "execution_count": 79,
   "outputs": [
    {
     "name": "stdout",
     "output_type": "stream",
     "text": [
      "tyres_brands\n",
      "tyres_patterns\n",
      "tyres_patterns_details\n",
      "tyres_sizes_patterns\n",
      "tyres_sizes_patterns_details\n",
      "tyres_sizes_sectionWidths\n",
      "tyres_sizes_aspectRatios\n",
      "tyres_sizes_rimDiameters\n",
      "vehicles_makes\n",
      "vehicles_models\n",
      "vehicles_vehicles\n",
      "vehicles_vehicles_details\n",
      "vehicles_alternativeFitments\n",
      "wheels_brands\n",
      "wheels_brands_custom\n",
      "wheels_categories\n",
      "wheels_wheels\n",
      "wheels_wheels_details\n",
      "wheels_wheels_custom\n",
      "wheels_wheels_custom_details\n",
      "wheels_wheels_styles\n",
      "wheels_wheels_finishes\n",
      "licenseplate_registration\n",
      "licenseplate_vin\n",
      "licenseplate_vehicleid\n",
      "licenseplate_vehicle\n",
      "licenseplate_vehicle_details\n",
      "licenseplate_patterns\n",
      "licenseplate_wheels\n",
      "licenseplate_rimdiameters\n"
     ]
    }
   ],
   "source": [
    "for temp_url in urls:\n",
    "    file_name = temp_url.replace(\"https://api.vehiclelogic.com.au/\", \"\").replace(\"/\", \"_\")\n",
    "    print(file_name)\n",
    "    try:\n",
    "        data_response = requests.get(temp_url, headers=headers) \n",
    "        json_data = json.loads(data_response.text)\n",
    "        df = pd.json_normalize(json_data[\"Items\"])\n",
    "        df.to_csv(output_path+file_name+'.csv', index=False)\n",
    "    except:\n",
    "        pass"
   ],
   "metadata": {
    "collapsed": false,
    "ExecuteTime": {
     "end_time": "2023-12-01T04:29:03.149010300Z",
     "start_time": "2023-12-01T04:28:14.362856300Z"
    }
   },
   "id": "7048ab29a8ffefae"
  },
  {
   "cell_type": "code",
   "execution_count": 82,
   "outputs": [
    {
     "ename": "KeyError",
     "evalue": "'Items'",
     "output_type": "error",
     "traceback": [
      "\u001B[1;31m---------------------------------------------------------------------------\u001B[0m",
      "\u001B[1;31mKeyError\u001B[0m                                  Traceback (most recent call last)",
      "Cell \u001B[1;32mIn[82], line 4\u001B[0m\n\u001B[0;32m      2\u001B[0m data_response \u001B[38;5;241m=\u001B[39m requests\u001B[38;5;241m.\u001B[39mget(temp_url, headers\u001B[38;5;241m=\u001B[39mheaders) \n\u001B[0;32m      3\u001B[0m json_data \u001B[38;5;241m=\u001B[39m json\u001B[38;5;241m.\u001B[39mloads(data_response\u001B[38;5;241m.\u001B[39mtext)\n\u001B[1;32m----> 4\u001B[0m df \u001B[38;5;241m=\u001B[39m pd\u001B[38;5;241m.\u001B[39mjson_normalize(\u001B[43mjson_data\u001B[49m\u001B[43m[\u001B[49m\u001B[38;5;124;43m\"\u001B[39;49m\u001B[38;5;124;43mItems\u001B[39;49m\u001B[38;5;124;43m\"\u001B[39;49m\u001B[43m]\u001B[49m)\n",
      "\u001B[1;31mKeyError\u001B[0m: 'Items'"
     ]
    }
   ],
   "source": [
    "temp_url =  'https://api.vehiclelogic.com.au/vehicles/alternativeFitments?PerPage=10&Page=1'\n",
    "data_response = requests.get(temp_url, headers=headers) \n",
    "json_data = json.loads(data_response.text)\n",
    "df = pd.json_normalize(json_data[\"Items\"])"
   ],
   "metadata": {
    "collapsed": false,
    "ExecuteTime": {
     "end_time": "2023-12-01T04:42:04.384084200Z",
     "start_time": "2023-12-01T04:42:02.614130300Z"
    }
   },
   "id": "ec7cd8d224901d7c"
  },
  {
   "cell_type": "code",
   "execution_count": 68,
   "outputs": [
    {
     "data": {
      "text/plain": "'h'"
     },
     "execution_count": 68,
     "metadata": {},
     "output_type": "execute_result"
    }
   ],
   "source": [
    "data_url"
   ],
   "metadata": {
    "collapsed": false,
    "ExecuteTime": {
     "end_time": "2023-12-01T04:22:33.292817800Z",
     "start_time": "2023-12-01T04:22:33.233414300Z"
    }
   },
   "id": "ae8a06c17e58d769"
  },
  {
   "cell_type": "code",
   "execution_count": 62,
   "outputs": [],
   "source": [
    "data_url = 'https://api.vehiclelogic.com.au/vehicles/models'\n",
    "data_response = requests.get(data_url, headers=headers)"
   ],
   "metadata": {
    "collapsed": false,
    "ExecuteTime": {
     "end_time": "2023-12-01T03:56:49.272880900Z",
     "start_time": "2023-12-01T03:56:46.241400900Z"
    }
   },
   "id": "898e070521aee4cd"
  },
  {
   "cell_type": "code",
   "execution_count": 63,
   "outputs": [
    {
     "data": {
      "text/plain": "'{\"Items\":[{\"YearRanges\":[{\"Start\":2004,\"End\":2023}],\"Make\":{\"Id\":11,\"Name\":\"BMW\",\"LogoUrl\":\"https://vldata-images.s3.ap-southeast-2.amazonaws.com/make-logos/bmw.png\"},\"Id\":1162,\"Name\":\"1 Series\"},{\"YearRanges\":[{\"Start\":2014,\"End\":2023}],\"Make\":{\"Id\":11,\"Name\":\"BMW\",\"LogoUrl\":\"https://vldata-images.s3.ap-southeast-2.amazonaws.com/make-logos/bmw.png\"},\"Id\":1791,\"Name\":\"2 Series\"},{\"YearRanges\":[{\"Start\":1990,\"End\":2023}],\"Make\":{\"Id\":11,\"Name\":\"BMW\",\"LogoUrl\":\"https://vldata-images.s3.ap-southeast-2.amazonaws.com/make-logos/bmw.png\"},\"Id\":874,\"Name\":\"3 Series\"},{\"YearRanges\":[{\"Start\":2013,\"End\":2023}],\"Make\":{\"Id\":11,\"Name\":\"BMW\",\"LogoUrl\":\"https://vldata-images.s3.ap-southeast-2.amazonaws.com/make-logos/bmw.png\"},\"Id\":1779,\"Name\":\"4 Series\"},{\"YearRanges\":[{\"Start\":1990,\"End\":1996}],\"Make\":{\"Id\":56,\"Name\":\"Toyota\",\"LogoUrl\":\"https://vldata-images.s3.ap-southeast-2.amazonaws.com/make-logos/toyota.png\"},\"Id\":1660,\"Name\":\"4-Runner\"},{\"YearRanges\":[{\"Start\":1990,\"End\":2023}],\"Make\":{\"Id\":11,\"Name\":\"BMW\",\"LogoUrl\":\"https://vldata-images.s3.ap-southeast-2.amazonaws.com/make-logos/bmw.png\"},\"Id\":1313,\"Name\":\"5 Series\"},{\"YearRanges\":[{\"Start\":2004,\"End\":2020}],\"Make\":{\"Id\":11,\"Name\":\"BMW\",\"LogoUrl\":\"https://vldata-images.s3.ap-southeast-2.amazonaws.com/make-logos/bmw.png\"},\"Id\":1546,\"Name\":\"6 Series\"},{\"YearRanges\":[{\"Start\":1990,\"End\":2023}],\"Make\":{\"Id\":11,\"Name\":\"BMW\",\"LogoUrl\":\"https://vldata-images.s3.ap-southeast-2.amazonaws.com/make-logos/bmw.png\"},\"Id\":1010,\"Name\":\"7 Series\"},{\"YearRanges\":[{\"Start\":1990,\"End\":2000},{\"Start\":2018,\"End\":2023}],\"Make\":{\"Id\":11,\"Name\":\"BMW\",\"LogoUrl\":\"https://vldata-images.s3.ap-southeast-2.amazonaws.com/make-logos/bmw.png\"},\"Id\":1547,\"Name\":\"8 Series\"},{\"YearRanges\":[{\"Start\":2012,\"End\":2023}],\"Make\":{\"Id\":56,\"Name\":\"Toyota\",\"LogoUrl\":\"https://vldata-images.s3.ap-southeast-2.amazonaws.com/make-logos/toyota.png\"},\"Id\":1740,\"Name\":\"86\"},{\"YearRanges\":[{\"Start\":1998,\"End\":2009},{\"Start\":2012,\"End\":2023}],\"Make\":{\"Id\":39,\"Name\":\"Mercedes-Benz\",\"LogoUrl\":\"https://vldata-images.s3.ap-southeast-2.amazonaws.com/make-logos/mercedes-benz.png\"},\"Id\":1626,\"Name\":\"A-Class\"},{\"YearRanges\":[{\"Start\":2018,\"End\":2021}],\"Make\":{\"Id\":23,\"Name\":\"Holden\",\"LogoUrl\":\"https://vldata-images.s3.ap-southeast-2.amazonaws.com/make-logos/holden.png\"},\"Id\":2061,\"Name\":\"Acadia\"},{\"YearRanges\":[{\"Start\":2003,\"End\":2008}],\"Make\":{\"Id\":23,\"Name\":\"Holden\",\"LogoUrl\":\"https://vldata-images.s3.ap-southeast-2.amazonaws.com/make-logos/holden.png\"},\"Id\":1053,\"Name\":\"Adventra\"},{\"YearRanges\":[{\"Start\":2016,\"End\":2023}],\"Make\":{\"Id\":11,\"Name\":\"BMW\",\"LogoUrl\":\"https://vldata-images.s3.ap-southeast-2.amazonaws.com/make-logos/bmw.png\"},\"Id\":2016,\"Name\":\"ALPINA\"},{\"YearRanges\":[{\"Start\":2015,\"End\":2023}],\"Make\":{\"Id\":39,\"Name\":\"Mercedes-Benz\",\"LogoUrl\":\"https://vldata-images.s3.ap-southeast-2.amazonaws.com/make-logos/mercedes-benz.png\"},\"Id\":1882,\"Name\":\"AMG\"},{\"YearRanges\":[{\"Start\":2021,\"End\":2021}],\"Make\":{\"Id\":39,\"Name\":\"Mercedes-Benz\",\"LogoUrl\":\"https://vldata-images.s3.ap-southeast-2.amazonaws.com/make-logos/mercedes-benz.png\"},\"Id\":2138,\"Name\":\"AMG GT\"},{\"YearRanges\":[{\"Start\":1991,\"End\":1997}],\"Make\":{\"Id\":23,\"Name\":\"Holden\",\"LogoUrl\":\"https://vldata-images.s3.ap-southeast-2.amazonaws.com/make-logos/holden.png\"},\"Id\":1346,\"Name\":\"Apollo\"},{\"YearRanges\":[{\"Start\":1996,\"End\":2009},{\"Start\":2015,\"End\":2020}],\"Make\":{\"Id\":23,\"Name\":\"Holden\",\"LogoUrl\":\"https://vldata-images.s3.ap-southeast-2.amazonaws.com/make-logos/holden.png\"},\"Id\":1116,\"Name\":\"Astra\"},{\"YearRanges\":[{\"Start\":2006,\"End\":2017}],\"Make\":{\"Id\":56,\"Name\":\"Toyota\",\"LogoUrl\":\"https://vldata-images.s3.ap-southeast-2.amazonaws.com/make-logos/toyota.png\"},\"Id\":16,\"Name\":\"Aurion\"},{\"YearRanges\":[{\"Start\":2007,\"End\":2009}],\"Make\":{\"Id\":56,\"Name\":\"Toyota\",\"LogoUrl\":\"https://vldata-images.s3.ap-southeast-2.amazonaws.com/make-logos/toyota.png\"},\"Id\":17,\"Name\":\"Aurion TRD\"},{\"YearRanges\":[{\"Start\":2000,\"End\":2006}],\"Make\":{\"Id\":56,\"Name\":\"Toyota\",\"LogoUrl\":\"https://vldata-images.s3.ap-southeast-2.amazonaws.com/make-logos/toyota.png\"},\"Id\":18,\"Name\":\"Avalon\"},{\"YearRanges\":[{\"Start\":2001,\"End\":2010}],\"Make\":{\"Id\":56,\"Name\":\"Toyota\",\"LogoUrl\":\"https://vldata-images.s3.ap-southeast-2.amazonaws.com/make-logos/toyota.png\"},\"Id\":23,\"Name\":\"Avensis\"},{\"YearRanges\":[{\"Start\":2005,\"End\":2023}],\"Make\":{\"Id\":39,\"Name\":\"Mercedes-Benz\",\"LogoUrl\":\"https://vldata-images.s3.ap-southeast-2.amazonaws.com/make-logos/mercedes-benz.png\"},\"Id\":1431,\"Name\":\"B-Class\"},{\"YearRanges\":[{\"Start\":2016,\"End\":2020}],\"Make\":{\"Id\":11,\"Name\":\"BMW\",\"LogoUrl\":\"https://vldata-images.s3.ap-southeast-2.amazonaws.com/make-logos/bmw.png\"},\"Id\":2017,\"Name\":\"B3 BITURBO\"},{\"YearRanges\":[{\"Start\":1990,\"End\":2019}],\"Make\":{\"Id\":23,\"Name\":\"Holden\",\"LogoUrl\":\"https://vldata-images.s3.ap-southeast-2.amazonaws.com/make-logos/holden.png\"},\"Id\":1277,\"Name\":\"Barina\"},{\"YearRanges\":[{\"Start\":2010,\"End\":2016}],\"Make\":{\"Id\":23,\"Name\":\"Holden\",\"LogoUrl\":\"https://vldata-images.s3.ap-southeast-2.amazonaws.com/make-logos/holden.png\"},\"Id\":1697,\"Name\":\"Barina Spark\"},{\"YearRanges\":[{\"Start\":2000,\"End\":2013}],\"Make\":{\"Id\":23,\"Name\":\"Holden\",\"LogoUrl\":\"https://vldata-images.s3.ap-southeast-2.amazonaws.com/make-logos/holden.png\"},\"Id\":487,\"Name\":\"Berlina\"},{\"YearRanges\":[{\"Start\":1993,\"End\":1993}],\"Make\":{\"Id\":54,\"Name\":\"Subaru\",\"LogoUrl\":\"https://vldata-images.s3.ap-southeast-2.amazonaws.com/make-logos/subaru.png\"},\"Id\":1157,\"Name\":\"Brumby\"},{\"YearRanges\":[{\"Start\":2012,\"End\":2023}],\"Make\":{\"Id\":54,\"Name\":\"Subaru\",\"LogoUrl\":\"https://vldata-images.s3.ap-southeast-2.amazonaws.com/make-logos/subaru.png\"},\"Id\":1745,\"Name\":\"BRZ\"},{\"YearRanges\":[{\"Start\":1990,\"End\":2023}],\"Make\":{\"Id\":39,\"Name\":\"Mercedes-Benz\",\"LogoUrl\":\"https://vldata-images.s3.ap-southeast-2.amazonaws.com/make-logos/mercedes-benz.png\"},\"Id\":1627,\"Name\":\"C-Class\"},{\"YearRanges\":[{\"Start\":2017,\"End\":2023}],\"Make\":{\"Id\":56,\"Name\":\"Toyota\",\"LogoUrl\":\"https://vldata-images.s3.ap-southeast-2.amazonaws.com/make-logos/toyota.png\"},\"Id\":1999,\"Name\":\"C-HR\"},{\"YearRanges\":[{\"Start\":1991,\"End\":2018}],\"Make\":{\"Id\":23,\"Name\":\"Holden\",\"LogoUrl\":\"https://vldata-images.s3.ap-southeast-2.amazonaws.com/make-logos/holden.png\"},\"Id\":1023,\"Name\":\"Calais\"},{\"YearRanges\":[{\"Start\":1991,\"End\":1997}],\"Make\":{\"Id\":23,\"Name\":\"Holden\",\"LogoUrl\":\"https://vldata-images.s3.ap-southeast-2.amazonaws.com/make-logos/holden.png\"},\"Id\":993,\"Name\":\"Calibra\"},{\"YearRanges\":[{\"Start\":1991,\"End\":2023}],\"Make\":{\"Id\":56,\"Name\":\"Toyota\",\"LogoUrl\":\"https://vldata-images.s3.ap-southeast-2.amazonaws.com/make-logos/toyota.png\"},\"Id\":1,\"Name\":\"Camry\"},{\"YearRanges\":[{\"Start\":1993,\"End\":1998}],\"Make\":{\"Id\":56,\"Name\":\"Toyota\",\"LogoUrl\":\"https://vldata-images.s3.ap-southeast-2.amazonaws.com/make-logos/toyota.png\"},\"Id\":1699,\"Name\":\"Camry Vienta\"},{\"YearRanges\":[{\"Start\":1990,\"End\":2018}],\"Make\":{\"Id\":23,\"Name\":\"Holden\",\"LogoUrl\":\"https://vldata-images.s3.ap-southeast-2.amazonaws.com/make-logos/holden.png\"},\"Id\":499,\"Name\":\"Caprice\"},{\"YearRanges\":[{\"Start\":2006,\"End\":2021}],\"Make\":{\"Id\":23,\"Name\":\"Holden\",\"LogoUrl\":\"https://vldata-images.s3.ap-southeast-2.amazonaws.com/make-logos/holden.png\"},\"Id\":1255,\"Name\":\"Captiva\"},{\"YearRanges\":[{\"Start\":2015,\"End\":2018}],\"Make\":{\"Id\":23,\"Name\":\"Holden\",\"LogoUrl\":\"https://vldata-images.s3.ap-southeast-2.amazonaws.com/make-logos/holden.png\"},\"Id\":1830,\"Name\":\"Cascada\"},{\"YearRanges\":[{\"Start\":1990,\"End\":2005}],\"Make\":{\"Id\":56,\"Name\":\"Toyota\",\"LogoUrl\":\"https://vldata-images.s3.ap-southeast-2.amazonaws.com/make-logos/toyota.png\"},\"Id\":21,\"Name\":\"Celica\"},{\"YearRanges\":[{\"Start\":1993,\"End\":1998},{\"Start\":2000,\"End\":2014}],\"Make\":{\"Id\":39,\"Name\":\"Mercedes-Benz\",\"LogoUrl\":\"https://vldata-images.s3.ap-southeast-2.amazonaws.com/make-logos/mercedes-benz.png\"},\"Id\":1352,\"Name\":\"CL-Class\"},{\"YearRanges\":[{\"Start\":2013,\"End\":2023}],\"Make\":{\"Id\":39,\"Name\":\"Mercedes-Benz\",\"LogoUrl\":\"https://vldata-images.s3.ap-southeast-2.amazonaws.com/make-logos/mercedes-benz.png\"},\"Id\":1787,\"Name\":\"CLA-Class\"},{\"YearRanges\":[{\"Start\":2008,\"End\":2011}],\"Make\":{\"Id\":39,\"Name\":\"Mercedes-Benz\",\"LogoUrl\":\"https://vldata-images.s3.ap-southeast-2.amazonaws.com/make-logos/mercedes-benz.png\"},\"Id\":1628,\"Name\":\"CLC-Class\"},{\"YearRanges\":[{\"Start\":1997,\"End\":2010}],\"Make\":{\"Id\":39,\"Name\":\"Mercedes-Benz\",\"LogoUrl\":\"https://vldata-images.s3.ap-southeast-2.amazonaws.com/make-logos/mercedes-benz.png\"},\"Id\":1629,\"Name\":\"CLK-Class\"},{\"YearRanges\":[{\"Start\":2005,\"End\":2023}],\"Make\":{\"Id\":39,\"Name\":\"Mercedes-Benz\",\"LogoUrl\":\"https://vldata-images.s3.ap-southeast-2.amazonaws.com/make-logos/mercedes-benz.png\"},\"Id\":907,\"Name\":\"CLS-Class\"},{\"YearRanges\":[{\"Start\":2008,\"End\":2020}],\"Make\":{\"Id\":23,\"Name\":\"Holden\",\"LogoUrl\":\"https://vldata-images.s3.ap-southeast-2.amazonaws.com/make-logos/holden.png\"},\"Id\":530,\"Name\":\"Colorado\"},{\"YearRanges\":[{\"Start\":2012,\"End\":2016}],\"Make\":{\"Id\":23,\"Name\":\"Holden\",\"LogoUrl\":\"https://vldata-images.s3.ap-southeast-2.amazonaws.com/make-logos/holden.png\"},\"Id\":1763,\"Name\":\"Colorado 7\"},{\"YearRanges\":[{\"Start\":1996,\"End\":2013}],\"Make\":{\"Id\":23,\"Name\":\"Holden\",\"LogoUrl\":\"https://vldata-images.s3.ap-southeast-2.amazonaws.com/make-logos/holden.png\"},\"Id\":472,\"Name\":\"Combo\"},{\"YearRanges\":[{\"Start\":1990,\"End\":2020}],\"Make\":{\"Id\":23,\"Name\":\"Holden\",\"LogoUrl\":\"https://vldata-images.s3.ap-southeast-2.amazonaws.com/make-logos/holden.png\"},\"Id\":437,\"Name\":\"Commodore\"},{\"YearRanges\":[{\"Start\":1991,\"End\":2023}],\"Make\":{\"Id\":56,\"Name\":\"Toyota\",\"LogoUrl\":\"https://vldata-images.s3.ap-southeast-2.amazonaws.com/make-logos/toyota.png\"},\"Id\":5,\"Name\":\"Corolla\"},{\"YearRanges\":[{\"Start\":2022,\"End\":2023}],\"Make\":{\"Id\":56,\"Name\":\"Toyota\",\"LogoUrl\":\"https://vldata-images.s3.ap-southeast-2.amazonaws.com/make-logos/toyota.png\"},\"Id\":2200,\"Name\":\"Corolla Cross\"},{\"YearRanges\":[{\"Start\":1990,\"End\":1993}],\"Make\":{\"Id\":56,\"Name\":\"Toyota\",\"LogoUrl\":\"https://vldata-images.s3.ap-southeast-2.amazonaws.com/make-logos/toyota.png\"},\"Id\":14,\"Name\":\"Cressida\"},{\"YearRanges\":[{\"Start\":2003,\"End\":2008}],\"Make\":{\"Id\":23,\"Name\":\"Holden\",\"LogoUrl\":\"https://vldata-images.s3.ap-southeast-2.amazonaws.com/make-logos/holden.png\"},\"Id\":569,\"Name\":\"Crewman\"},{\"YearRanges\":[{\"Start\":2023,\"End\":2023}],\"Make\":{\"Id\":54,\"Name\":\"Subaru\",\"LogoUrl\":\"https://vldata-images.s3.ap-southeast-2.amazonaws.com/make-logos/subaru.png\"},\"Id\":2207,\"Name\":\"Crosstrek\"},{\"YearRanges\":[{\"Start\":2002,\"End\":2006},{\"Start\":2009,\"End\":2018}],\"Make\":{\"Id\":23,\"Name\":\"Holden\",\"LogoUrl\":\"https://vldata-images.s3.ap-southeast-2.amazonaws.com/make-logos/holden.png\"},\"Id\":1470,\"Name\":\"Cruze\"},{\"YearRanges\":[{\"Start\":1994,\"End\":2005}],\"Make\":{\"Id\":56,\"Name\":\"Toyota\",\"LogoUrl\":\"https://vldata-images.s3.ap-southeast-2.amazonaws.com/make-logos/toyota.png\"},\"Id\":41,\"Name\":\"Dyna\"},{\"YearRanges\":[{\"Start\":1990,\"End\":2023}],\"Make\":{\"Id\":39,\"Name\":\"Mercedes-Benz\",\"LogoUrl\":\"https://vldata-images.s3.ap-southeast-2.amazonaws.com/make-logos/mercedes-benz.png\"},\"Id\":1483,\"Name\":\"E-Class\"},{\"YearRanges\":[{\"Start\":1999,\"End\":2005}],\"Make\":{\"Id\":56,\"Name\":\"Toyota\",\"LogoUrl\":\"https://vldata-images.s3.ap-southeast-2.amazonaws.com/make-logos/toyota.png\"},\"Id\":3,\"Name\":\"Echo\"},{\"YearRanges\":[{\"Start\":2007,\"End\":2012}],\"Make\":{\"Id\":23,\"Name\":\"Holden\",\"LogoUrl\":\"https://vldata-images.s3.ap-southeast-2.amazonaws.com/make-logos/holden.png\"},\"Id\":1228,\"Name\":\"Epica\"},{\"YearRanges\":[{\"Start\":2021,\"End\":2023}],\"Make\":{\"Id\":39,\"Name\":\"Mercedes-Benz\",\"LogoUrl\":\"https://vldata-images.s3.ap-southeast-2.amazonaws.com/make-logos/mercedes-benz.png\"},\"Id\":2136,\"Name\":\"EQA-Class\"},{\"YearRanges\":[{\"Start\":2022,\"End\":2023}],\"Make\":{\"Id\":39,\"Name\":\"Mercedes-Benz\",\"LogoUrl\":\"https://vldata-images.s3.ap-southeast-2.amazonaws.com/make-logos/mercedes-benz.png\"},\"Id\":2194,\"Name\":\"EQB-Class\"},{\"YearRanges\":[{\"Start\":2019,\"End\":2023}],\"Make\":{\"Id\":39,\"Name\":\"Mercedes-Benz\",\"LogoUrl\":\"https://vldata-images.s3.ap-southeast-2.amazonaws.com/make-logos/mercedes-benz.png\"},\"Id\":2083,\"Name\":\"EQC-Class\"},{\"YearRanges\":[{\"Start\":2023,\"End\":2023}],\"Make\":{\"Id\":39,\"Name\":\"Mercedes-Benz\",\"LogoUrl\":\"https://vldata-images.s3.ap-southeast-2.amazonaws.com/make-logos/mercedes-benz.png\"},\"Id\":2218,\"Name\":\"EQE-Class\"},{\"YearRanges\":[{\"Start\":2022,\"End\":2023}],\"Make\":{\"Id\":39,\"Name\":\"Mercedes-Benz\",\"LogoUrl\":\"https://vldata-images.s3.ap-southeast-2.amazonaws.com/make-logos/mercedes-benz.png\"},\"Id\":2191,\"Name\":\"EQS-Class\"},{\"YearRanges\":[{\"Start\":2017,\"End\":2020}],\"Make\":{\"Id\":23,\"Name\":\"Holden\",\"LogoUrl\":\"https://vldata-images.s3.ap-southeast-2.amazonaws.com/make-logos/holden.png\"},\"Id\":2039,\"Name\":\"Equinox\"},{\"YearRanges\":[{\"Start\":2022,\"End\":2023}],\"Make\":{\"Id\":39,\"Name\":\"Mercedes-Benz\",\"LogoUrl\":\"https://vldata-images.s3.ap-southeast-2.amazonaws.com/make-logos/mercedes-benz.png\"},\"Id\":2198,\"Name\":\"EQV\"},{\"YearRanges\":[{\"Start\":1991,\"End\":1992}],\"Make\":{\"Id\":54,\"Name\":\"Subaru\",\"LogoUrl\":\"https://vldata-images.s3.ap-southeast-2.amazonaws.com/make-logos/subaru.png\"},\"Id\":307,\"Name\":\"Fiori\"},{\"YearRanges\":[{\"Start\":2011,\"End\":2018}],\"Make\":{\"Id\":56,\"Name\":\"Toyota\",\"LogoUrl\":\"https://vldata-images.s3.ap-southeast-2.amazonaws.com/make-logos/toyota.png\"},\"Id\":1707,\"Name\":\"FJ Cruiser\"},{\"YearRanges\":[{\"Start\":1997,\"End\":2023}],\"Make\":{\"Id\":54,\"Name\":\"Subaru\",\"LogoUrl\":\"https://vldata-images.s3.ap-southeast-2.amazonaws.com/make-logos/subaru.png\"},\"Id\":542,\"Name\":\"Forester\"},{\"YearRanges\":[{\"Start\":2015,\"End\":2023}],\"Make\":{\"Id\":56,\"Name\":\"Toyota\",\"LogoUrl\":\"https://vldata-images.s3.ap-southeast-2.amazonaws.com/make-logos/toyota.png\"},\"Id\":1856,\"Name\":\"Fortuner\"},{\"YearRanges\":[{\"Start\":1995,\"End\":2004}],\"Make\":{\"Id\":23,\"Name\":\"Holden\",\"LogoUrl\":\"https://vldata-images.s3.ap-southeast-2.amazonaws.com/make-logos/holden.png\"},\"Id\":1350,\"Name\":\"Frontera\"},{\"YearRanges\":[{\"Start\":2010,\"End\":2021}],\"Make\":{\"Id\":39,\"Name\":\"Mercedes-Benz\",\"LogoUrl\":\"https://vldata-images.s3.ap-southeast-2.amazonaws.com/make-logos/mercedes-benz.png\"},\"Id\":1630,\"Name\":\"G-Class\"},{\"YearRanges\":[{\"Start\":2016,\"End\":2021}],\"Make\":{\"Id\":39,\"Name\":\"Mercedes-Benz\",\"LogoUrl\":\"https://vldata-images.s3.ap-southeast-2.amazonaws.com/make-logos/mercedes-benz.png\"},\"Id\":1979,\"Name\":\"G-PROFESSIONAL\"},{\"YearRanges\":[{\"Start\":2006,\"End\":2016}],\"Make\":{\"Id\":39,\"Name\":\"Mercedes-Benz\",\"LogoUrl\":\"https://vldata-images.s3.ap-southeast-2.amazonaws.com/make-logos/mercedes-benz.png\"},\"Id\":1631,\"Name\":\"GL-Class\"},{\"YearRanges\":[{\"Start\":2014,\"End\":2023}],\"Make\":{\"Id\":39,\"Name\":\"Mercedes-Benz\",\"LogoUrl\":\"https://vldata-images.s3.ap-southeast-2.amazonaws.com/make-logos/mercedes-benz.png\"},\"Id\":1801,\"Name\":\"GLA-Class\"},{\"YearRanges\":[{\"Start\":2020,\"End\":2023}],\"Make\":{\"Id\":39,\"Name\":\"Mercedes-Benz\",\"LogoUrl\":\"https://vldata-images.s3.ap-southeast-2.amazonaws.com/make-logos/mercedes-benz.png\"},\"Id\":2109,\"Name\":\"GLB-Class\"},{\"YearRanges\":[{\"Start\":2015,\"End\":2023}],\"Make\":{\"Id\":39,\"Name\":\"Mercedes-Benz\",\"LogoUrl\":\"https://vldata-images.s3.ap-southeast-2.amazonaws.com/make-logos/mercedes-benz.png\"},\"Id\":1861,\"Name\":\"GLC-Class\"},{\"YearRanges\":[{\"Start\":2015,\"End\":2023}],\"Make\":{\"Id\":39,\"Name\":\"Mercedes-Benz\",\"LogoUrl\":\"https://vldata-images.s3.ap-southeast-2.amazonaws.com/make-logos/mercedes-benz.png\"},\"Id\":1858,\"Name\":\"GLE-Class\"},{\"YearRanges\":[{\"Start\":2015,\"End\":2023}],\"Make\":{\"Id\":39,\"Name\":\"Mercedes-Benz\",\"LogoUrl\":\"https://vldata-images.s3.ap-southeast-2.amazonaws.com/make-logos/mercedes-benz.png\"},\"Id\":1859,\"Name\":\"GLE-Class Coupe\"},{\"YearRanges\":[{\"Start\":2016,\"End\":2023}],\"Make\":{\"Id\":39,\"Name\":\"Mercedes-Benz\",\"LogoUrl\":\"https://vldata-images.s3.ap-southeast-2.amazonaws.com/make-logos/mercedes-benz.png\"},\"Id\":1893,\"Name\":\"GLS-Class\"},{\"YearRanges\":[{\"Start\":1997,\"End\":2001}],\"Make\":{\"Id\":23,\"Name\":\"Holden\",\"LogoUrl\":\"https://vldata-images.s3.ap-southeast-2.amazonaws.com/make-logos/holden.png\"},\"Id\":1912,\"Name\":\"GMC\"},{\"YearRanges\":[{\"Start\":2023,\"End\":2023}],\"Make\":{\"Id\":56,\"Name\":\"Toyota\",\"LogoUrl\":\"https://vldata-images.s3.ap-southeast-2.amazonaws.com/make-logos/toyota.png\"},\"Id\":2208,\"Name\":\"GR Corolla\"},{\"YearRanges\":[{\"Start\":2021,\"End\":2023}],\"Make\":{\"Id\":56,\"Name\":\"Toyota\",\"LogoUrl\":\"https://vldata-images.s3.ap-southeast-2.amazonaws.com/make-logos/toyota.png\"},\"Id\":2169,\"Name\":\"GR Supra\"},{\"YearRanges\":[{\"Start\":2020,\"End\":2023}],\"Make\":{\"Id\":56,\"Name\":\"Toyota\",\"LogoUrl\":\"https://vldata-images.s3.ap-southeast-2.amazonaws.com/make-logos/toyota.png\"},\"Id\":2123,\"Name\":\"GR Yaris\"},{\"YearRanges\":[{\"Start\":2019,\"End\":2023}],\"Make\":{\"Id\":56,\"Name\":\"Toyota\",\"LogoUrl\":\"https://vldata-images.s3.ap-southeast-2.amazonaws.com/make-logos/toyota.png\"},\"Id\":2087,\"Name\":\"Granvia\"},{\"YearRanges\":[{\"Start\":1994,\"End\":2023}],\"Make\":{\"Id\":56,\"Name\":\"Toyota\",\"LogoUrl\":\"https://vldata-images.s3.ap-southeast-2.amazonaws.com/make-logos/toyota.png\"},\"Id\":36,\"Name\":\"HiAce\"},{\"YearRanges\":[{\"Start\":1990,\"End\":2023}],\"Make\":{\"Id\":56,\"Name\":\"Toyota\",\"LogoUrl\":\"https://vldata-images.s3.ap-southeast-2.amazonaws.com/make-logos/toyota.png\"},\"Id\":32,\"Name\":\"HiLux\"},{\"YearRanges\":[{\"Start\":2008,\"End\":2009}],\"Make\":{\"Id\":56,\"Name\":\"Toyota\",\"LogoUrl\":\"https://vldata-images.s3.ap-southeast-2.amazonaws.com/make-logos/toyota.png\"},\"Id\":33,\"Name\":\"HiLux TRD\"},{\"YearRanges\":[{\"Start\":2014,\"End\":2021}],\"Make\":{\"Id\":11,\"Name\":\"BMW\",\"LogoUrl\":\"https://vldata-images.s3.ap-southeast-2.amazonaws.com/make-logos/bmw.png\"},\"Id\":1824,\"Name\":\"i3\"},{\"YearRanges\":[{\"Start\":2021,\"End\":2023}],\"Make\":{\"Id\":11,\"Name\":\"BMW\",\"LogoUrl\":\"https://vldata-images.s3.ap-southeast-2.amazonaws.com/make-logos/bmw.png\"},\"Id\":2150,\"Name\":\"i4\"},{\"YearRanges\":[{\"Start\":2014,\"End\":2020}],\"Make\":{\"Id\":11,\"Name\":\"BMW\",\"LogoUrl\":\"https://vldata-images.s3.ap-southeast-2.amazonaws.com/make-logos/bmw.png\"},\"Id\":1832,\"Name\":\"i8\"},{\"YearRanges\":[{\"Start\":1993,\"End\":2024}],\"Make\":{\"Id\":54,\"Name\":\"Subaru\",\"LogoUrl\":\"https://vldata-images.s3.ap-southeast-2.amazonaws.com/make-logos/subaru.png\"},\"Id\":341,\"Name\":\"Impreza\"},{\"YearRanges\":[{\"Start\":2015,\"End\":2017}],\"Make\":{\"Id\":23,\"Name\":\"Holden\",\"LogoUrl\":\"https://vldata-images.s3.ap-southeast-2.amazonaws.com/make-logos/holden.png\"},\"Id\":1833,\"Name\":\"Insignia\"},{\"YearRanges\":[{\"Start\":2021,\"End\":2023}],\"Make\":{\"Id\":11,\"Name\":\"BMW\",\"LogoUrl\":\"https://vldata-images.s3.ap-southeast-2.amazonaws.com/make-logos/bmw.png\"},\"Id\":2182,\"Name\":\"iX\"},{\"YearRanges\":[{\"Start\":2023,\"End\":2024}],\"Make\":{\"Id\":11,\"Name\":\"BMW\",\"LogoUrl\":\"https://vldata-images.s3.ap-southeast-2.amazonaws.com/make-logos/bmw.png\"},\"Id\":2232,\"Name\":\"iX1\"},{\"YearRanges\":[{\"Start\":2021,\"End\":2023}],\"Make\":{\"Id\":11,\"Name\":\"BMW\",\"LogoUrl\":\"https://vldata-images.s3.ap-southeast-2.amazonaws.com/make-logos/bmw.png\"},\"Id\":2155,\"Name\":\"iX3\"},{\"YearRanges\":[{\"Start\":1990,\"End\":2004}],\"Make\":{\"Id\":23,\"Name\":\"Holden\",\"LogoUrl\":\"https://vldata-images.s3.ap-southeast-2.amazonaws.com/make-logos/holden.png\"},\"Id\":620,\"Name\":\"Jackaroo\"},{\"YearRanges\":[{\"Start\":2003,\"End\":2023}],\"Make\":{\"Id\":56,\"Name\":\"Toyota\",\"LogoUrl\":\"https://vldata-images.s3.ap-southeast-2.amazonaws.com/make-logos/toyota.png\"},\"Id\":28,\"Name\":\"Kluger\"},{\"YearRanges\":[{\"Start\":1990,\"End\":1994}],\"Make\":{\"Id\":54,\"Name\":\"Subaru\",\"LogoUrl\":\"https://vldata-images.s3.ap-southeast-2.amazonaws.com/make-logos/subaru.png\"},\"Id\":1656,\"Name\":\"L-Series\"},{\"YearRanges\":[{\"Start\":1990,\"End\":2023}],\"Make\":{\"Id\":56,\"Name\":\"Toyota\",\"LogoUrl\":\"https://vldata-images.s3.ap-southeast-2.amazonaws.com/make-logos/toyota.png\"},\"Id\":31,\"Name\":\"LandCruiser\"},{\"YearRanges\":[{\"Start\":1996,\"End\":2023}],\"Make\":{\"Id\":56,\"Name\":\"Toyota\",\"LogoUrl\":\"https://vldata-images.s3.ap-southeast-2.amazonaws.com/make-logos/toyota.png\"},\"Id\":30,\"Name\":\"LandCruiser Prado\"}],\"Page\":1,\"PerPage\":100,\"Total\":185}'"
     },
     "execution_count": 63,
     "metadata": {},
     "output_type": "execute_result"
    }
   ],
   "source": [
    "data_response.text"
   ],
   "metadata": {
    "collapsed": false,
    "ExecuteTime": {
     "end_time": "2023-12-01T03:56:51.039702600Z",
     "start_time": "2023-12-01T03:56:51.027734Z"
    }
   },
   "id": "f65dfcbe3307dc23"
  },
  {
   "cell_type": "code",
   "execution_count": 64,
   "outputs": [],
   "source": [
    "json_data = json.loads(data_response.text)\n",
    "df = pd.json_normalize(json_data[\"Items\"])"
   ],
   "metadata": {
    "collapsed": false,
    "ExecuteTime": {
     "end_time": "2023-12-01T03:56:55.372561300Z",
     "start_time": "2023-12-01T03:56:55.337336800Z"
    }
   },
   "id": "1f2951d2bd2dd870"
  },
  {
   "cell_type": "code",
   "execution_count": 58,
   "outputs": [
    {
     "data": {
      "text/plain": "'{\"Items\":[{\"YearRanges\":[{\"Start\":2004,\"End\":2023}],\"Make\":{\"Id\":11,\"Name\":\"BMW\",\"LogoUrl\":\"https://vldata-images.s3.ap-southeast-2.amazonaws.com/make-logos/bmw.png\"},\"Id\":1162,\"Name\":\"1 Series\"},{\"YearRanges\":[{\"Start\":2014,\"End\":2023}],\"Make\":{\"Id\":11,\"Name\":\"BMW\",\"LogoUrl\":\"https://vldata-images.s3.ap-southeast-2.amazonaws.com/make-logos/bmw.png\"},\"Id\":1791,\"Name\":\"2 Series\"},{\"YearRanges\":[{\"Start\":1990,\"End\":2023}],\"Make\":{\"Id\":11,\"Name\":\"BMW\",\"LogoUrl\":\"https://vldata-images.s3.ap-southeast-2.amazonaws.com/make-logos/bmw.png\"},\"Id\":874,\"Name\":\"3 Series\"},{\"YearRanges\":[{\"Start\":2013,\"End\":2023}],\"Make\":{\"Id\":11,\"Name\":\"BMW\",\"LogoUrl\":\"https://vldata-images.s3.ap-southeast-2.amazonaws.com/make-logos/bmw.png\"},\"Id\":1779,\"Name\":\"4 Series\"},{\"YearRanges\":[{\"Start\":1990,\"End\":1996}],\"Make\":{\"Id\":56,\"Name\":\"Toyota\",\"LogoUrl\":\"https://vldata-images.s3.ap-southeast-2.amazonaws.com/make-logos/toyota.png\"},\"Id\":1660,\"Name\":\"4-Runner\"},{\"YearRanges\":[{\"Start\":1990,\"End\":2023}],\"Make\":{\"Id\":11,\"Name\":\"BMW\",\"LogoUrl\":\"https://vldata-images.s3.ap-southeast-2.amazonaws.com/make-logos/bmw.png\"},\"Id\":1313,\"Name\":\"5 Series\"},{\"YearRanges\":[{\"Start\":2004,\"End\":2020}],\"Make\":{\"Id\":11,\"Name\":\"BMW\",\"LogoUrl\":\"https://vldata-images.s3.ap-southeast-2.amazonaws.com/make-logos/bmw.png\"},\"Id\":1546,\"Name\":\"6 Series\"},{\"YearRanges\":[{\"Start\":1990,\"End\":2023}],\"Make\":{\"Id\":11,\"Name\":\"BMW\",\"LogoUrl\":\"https://vldata-images.s3.ap-southeast-2.amazonaws.com/make-logos/bmw.png\"},\"Id\":1010,\"Name\":\"7 Series\"},{\"YearRanges\":[{\"Start\":1990,\"End\":2000},{\"Start\":2018,\"End\":2023}],\"Make\":{\"Id\":11,\"Name\":\"BMW\",\"LogoUrl\":\"https://vldata-images.s3.ap-southeast-2.amazonaws.com/make-logos/bmw.png\"},\"Id\":1547,\"Name\":\"8 Series\"},{\"YearRanges\":[{\"Start\":2012,\"End\":2023}],\"Make\":{\"Id\":56,\"Name\":\"Toyota\",\"LogoUrl\":\"https://vldata-images.s3.ap-southeast-2.amazonaws.com/make-logos/toyota.png\"},\"Id\":1740,\"Name\":\"86\"},{\"YearRanges\":[{\"Start\":1998,\"End\":2009},{\"Start\":2012,\"End\":2023}],\"Make\":{\"Id\":39,\"Name\":\"Mercedes-Benz\",\"LogoUrl\":\"https://vldata-images.s3.ap-southeast-2.amazonaws.com/make-logos/mercedes-benz.png\"},\"Id\":1626,\"Name\":\"A-Class\"},{\"YearRanges\":[{\"Start\":2018,\"End\":2021}],\"Make\":{\"Id\":23,\"Name\":\"Holden\",\"LogoUrl\":\"https://vldata-images.s3.ap-southeast-2.amazonaws.com/make-logos/holden.png\"},\"Id\":2061,\"Name\":\"Acadia\"},{\"YearRanges\":[{\"Start\":2003,\"End\":2008}],\"Make\":{\"Id\":23,\"Name\":\"Holden\",\"LogoUrl\":\"https://vldata-images.s3.ap-southeast-2.amazonaws.com/make-logos/holden.png\"},\"Id\":1053,\"Name\":\"Adventra\"},{\"YearRanges\":[{\"Start\":2016,\"End\":2023}],\"Make\":{\"Id\":11,\"Name\":\"BMW\",\"LogoUrl\":\"https://vldata-images.s3.ap-southeast-2.amazonaws.com/make-logos/bmw.png\"},\"Id\":2016,\"Name\":\"ALPINA\"},{\"YearRanges\":[{\"Start\":2015,\"End\":2023}],\"Make\":{\"Id\":39,\"Name\":\"Mercedes-Benz\",\"LogoUrl\":\"https://vldata-images.s3.ap-southeast-2.amazonaws.com/make-logos/mercedes-benz.png\"},\"Id\":1882,\"Name\":\"AMG\"},{\"YearRanges\":[{\"Start\":2021,\"End\":2021}],\"Make\":{\"Id\":39,\"Name\":\"Mercedes-Benz\",\"LogoUrl\":\"https://vldata-images.s3.ap-southeast-2.amazonaws.com/make-logos/mercedes-benz.png\"},\"Id\":2138,\"Name\":\"AMG GT\"},{\"YearRanges\":[{\"Start\":1991,\"End\":1997}],\"Make\":{\"Id\":23,\"Name\":\"Holden\",\"LogoUrl\":\"https://vldata-images.s3.ap-southeast-2.amazonaws.com/make-logos/holden.png\"},\"Id\":1346,\"Name\":\"Apollo\"},{\"YearRanges\":[{\"Start\":1996,\"End\":2009},{\"Start\":2015,\"End\":2020}],\"Make\":{\"Id\":23,\"Name\":\"Holden\",\"LogoUrl\":\"https://vldata-images.s3.ap-southeast-2.amazonaws.com/make-logos/holden.png\"},\"Id\":1116,\"Name\":\"Astra\"},{\"YearRanges\":[{\"Start\":2006,\"End\":2017}],\"Make\":{\"Id\":56,\"Name\":\"Toyota\",\"LogoUrl\":\"https://vldata-images.s3.ap-southeast-2.amazonaws.com/make-logos/toyota.png\"},\"Id\":16,\"Name\":\"Aurion\"},{\"YearRanges\":[{\"Start\":2007,\"End\":2009}],\"Make\":{\"Id\":56,\"Name\":\"Toyota\",\"LogoUrl\":\"https://vldata-images.s3.ap-southeast-2.amazonaws.com/make-logos/toyota.png\"},\"Id\":17,\"Name\":\"Aurion TRD\"},{\"YearRanges\":[{\"Start\":2000,\"End\":2006}],\"Make\":{\"Id\":56,\"Name\":\"Toyota\",\"LogoUrl\":\"https://vldata-images.s3.ap-southeast-2.amazonaws.com/make-logos/toyota.png\"},\"Id\":18,\"Name\":\"Avalon\"},{\"YearRanges\":[{\"Start\":2001,\"End\":2010}],\"Make\":{\"Id\":56,\"Name\":\"Toyota\",\"LogoUrl\":\"https://vldata-images.s3.ap-southeast-2.amazonaws.com/make-logos/toyota.png\"},\"Id\":23,\"Name\":\"Avensis\"},{\"YearRanges\":[{\"Start\":2005,\"End\":2023}],\"Make\":{\"Id\":39,\"Name\":\"Mercedes-Benz\",\"LogoUrl\":\"https://vldata-images.s3.ap-southeast-2.amazonaws.com/make-logos/mercedes-benz.png\"},\"Id\":1431,\"Name\":\"B-Class\"},{\"YearRanges\":[{\"Start\":2016,\"End\":2020}],\"Make\":{\"Id\":11,\"Name\":\"BMW\",\"LogoUrl\":\"https://vldata-images.s3.ap-southeast-2.amazonaws.com/make-logos/bmw.png\"},\"Id\":2017,\"Name\":\"B3 BITURBO\"},{\"YearRanges\":[{\"Start\":1990,\"End\":2019}],\"Make\":{\"Id\":23,\"Name\":\"Holden\",\"LogoUrl\":\"https://vldata-images.s3.ap-southeast-2.amazonaws.com/make-logos/holden.png\"},\"Id\":1277,\"Name\":\"Barina\"},{\"YearRanges\":[{\"Start\":2010,\"End\":2016}],\"Make\":{\"Id\":23,\"Name\":\"Holden\",\"LogoUrl\":\"https://vldata-images.s3.ap-southeast-2.amazonaws.com/make-logos/holden.png\"},\"Id\":1697,\"Name\":\"Barina Spark\"},{\"YearRanges\":[{\"Start\":2000,\"End\":2013}],\"Make\":{\"Id\":23,\"Name\":\"Holden\",\"LogoUrl\":\"https://vldata-images.s3.ap-southeast-2.amazonaws.com/make-logos/holden.png\"},\"Id\":487,\"Name\":\"Berlina\"},{\"YearRanges\":[{\"Start\":1993,\"End\":1993}],\"Make\":{\"Id\":54,\"Name\":\"Subaru\",\"LogoUrl\":\"https://vldata-images.s3.ap-southeast-2.amazonaws.com/make-logos/subaru.png\"},\"Id\":1157,\"Name\":\"Brumby\"},{\"YearRanges\":[{\"Start\":2012,\"End\":2023}],\"Make\":{\"Id\":54,\"Name\":\"Subaru\",\"LogoUrl\":\"https://vldata-images.s3.ap-southeast-2.amazonaws.com/make-logos/subaru.png\"},\"Id\":1745,\"Name\":\"BRZ\"},{\"YearRanges\":[{\"Start\":1990,\"End\":2023}],\"Make\":{\"Id\":39,\"Name\":\"Mercedes-Benz\",\"LogoUrl\":\"https://vldata-images.s3.ap-southeast-2.amazonaws.com/make-logos/mercedes-benz.png\"},\"Id\":1627,\"Name\":\"C-Class\"},{\"YearRanges\":[{\"Start\":2017,\"End\":2023}],\"Make\":{\"Id\":56,\"Name\":\"Toyota\",\"LogoUrl\":\"https://vldata-images.s3.ap-southeast-2.amazonaws.com/make-logos/toyota.png\"},\"Id\":1999,\"Name\":\"C-HR\"},{\"YearRanges\":[{\"Start\":1991,\"End\":2018}],\"Make\":{\"Id\":23,\"Name\":\"Holden\",\"LogoUrl\":\"https://vldata-images.s3.ap-southeast-2.amazonaws.com/make-logos/holden.png\"},\"Id\":1023,\"Name\":\"Calais\"},{\"YearRanges\":[{\"Start\":1991,\"End\":1997}],\"Make\":{\"Id\":23,\"Name\":\"Holden\",\"LogoUrl\":\"https://vldata-images.s3.ap-southeast-2.amazonaws.com/make-logos/holden.png\"},\"Id\":993,\"Name\":\"Calibra\"},{\"YearRanges\":[{\"Start\":1991,\"End\":2023}],\"Make\":{\"Id\":56,\"Name\":\"Toyota\",\"LogoUrl\":\"https://vldata-images.s3.ap-southeast-2.amazonaws.com/make-logos/toyota.png\"},\"Id\":1,\"Name\":\"Camry\"},{\"YearRanges\":[{\"Start\":1993,\"End\":1998}],\"Make\":{\"Id\":56,\"Name\":\"Toyota\",\"LogoUrl\":\"https://vldata-images.s3.ap-southeast-2.amazonaws.com/make-logos/toyota.png\"},\"Id\":1699,\"Name\":\"Camry Vienta\"},{\"YearRanges\":[{\"Start\":1990,\"End\":2018}],\"Make\":{\"Id\":23,\"Name\":\"Holden\",\"LogoUrl\":\"https://vldata-images.s3.ap-southeast-2.amazonaws.com/make-logos/holden.png\"},\"Id\":499,\"Name\":\"Caprice\"},{\"YearRanges\":[{\"Start\":2006,\"End\":2021}],\"Make\":{\"Id\":23,\"Name\":\"Holden\",\"LogoUrl\":\"https://vldata-images.s3.ap-southeast-2.amazonaws.com/make-logos/holden.png\"},\"Id\":1255,\"Name\":\"Captiva\"},{\"YearRanges\":[{\"Start\":2015,\"End\":2018}],\"Make\":{\"Id\":23,\"Name\":\"Holden\",\"LogoUrl\":\"https://vldata-images.s3.ap-southeast-2.amazonaws.com/make-logos/holden.png\"},\"Id\":1830,\"Name\":\"Cascada\"},{\"YearRanges\":[{\"Start\":1990,\"End\":2005}],\"Make\":{\"Id\":56,\"Name\":\"Toyota\",\"LogoUrl\":\"https://vldata-images.s3.ap-southeast-2.amazonaws.com/make-logos/toyota.png\"},\"Id\":21,\"Name\":\"Celica\"},{\"YearRanges\":[{\"Start\":1993,\"End\":1998},{\"Start\":2000,\"End\":2014}],\"Make\":{\"Id\":39,\"Name\":\"Mercedes-Benz\",\"LogoUrl\":\"https://vldata-images.s3.ap-southeast-2.amazonaws.com/make-logos/mercedes-benz.png\"},\"Id\":1352,\"Name\":\"CL-Class\"},{\"YearRanges\":[{\"Start\":2013,\"End\":2023}],\"Make\":{\"Id\":39,\"Name\":\"Mercedes-Benz\",\"LogoUrl\":\"https://vldata-images.s3.ap-southeast-2.amazonaws.com/make-logos/mercedes-benz.png\"},\"Id\":1787,\"Name\":\"CLA-Class\"},{\"YearRanges\":[{\"Start\":2008,\"End\":2011}],\"Make\":{\"Id\":39,\"Name\":\"Mercedes-Benz\",\"LogoUrl\":\"https://vldata-images.s3.ap-southeast-2.amazonaws.com/make-logos/mercedes-benz.png\"},\"Id\":1628,\"Name\":\"CLC-Class\"},{\"YearRanges\":[{\"Start\":1997,\"End\":2010}],\"Make\":{\"Id\":39,\"Name\":\"Mercedes-Benz\",\"LogoUrl\":\"https://vldata-images.s3.ap-southeast-2.amazonaws.com/make-logos/mercedes-benz.png\"},\"Id\":1629,\"Name\":\"CLK-Class\"},{\"YearRanges\":[{\"Start\":2005,\"End\":2023}],\"Make\":{\"Id\":39,\"Name\":\"Mercedes-Benz\",\"LogoUrl\":\"https://vldata-images.s3.ap-southeast-2.amazonaws.com/make-logos/mercedes-benz.png\"},\"Id\":907,\"Name\":\"CLS-Class\"},{\"YearRanges\":[{\"Start\":2008,\"End\":2020}],\"Make\":{\"Id\":23,\"Name\":\"Holden\",\"LogoUrl\":\"https://vldata-images.s3.ap-southeast-2.amazonaws.com/make-logos/holden.png\"},\"Id\":530,\"Name\":\"Colorado\"},{\"YearRanges\":[{\"Start\":2012,\"End\":2016}],\"Make\":{\"Id\":23,\"Name\":\"Holden\",\"LogoUrl\":\"https://vldata-images.s3.ap-southeast-2.amazonaws.com/make-logos/holden.png\"},\"Id\":1763,\"Name\":\"Colorado 7\"},{\"YearRanges\":[{\"Start\":1996,\"End\":2013}],\"Make\":{\"Id\":23,\"Name\":\"Holden\",\"LogoUrl\":\"https://vldata-images.s3.ap-southeast-2.amazonaws.com/make-logos/holden.png\"},\"Id\":472,\"Name\":\"Combo\"},{\"YearRanges\":[{\"Start\":1990,\"End\":2020}],\"Make\":{\"Id\":23,\"Name\":\"Holden\",\"LogoUrl\":\"https://vldata-images.s3.ap-southeast-2.amazonaws.com/make-logos/holden.png\"},\"Id\":437,\"Name\":\"Commodore\"},{\"YearRanges\":[{\"Start\":1991,\"End\":2023}],\"Make\":{\"Id\":56,\"Name\":\"Toyota\",\"LogoUrl\":\"https://vldata-images.s3.ap-southeast-2.amazonaws.com/make-logos/toyota.png\"},\"Id\":5,\"Name\":\"Corolla\"},{\"YearRanges\":[{\"Start\":2022,\"End\":2023}],\"Make\":{\"Id\":56,\"Name\":\"Toyota\",\"LogoUrl\":\"https://vldata-images.s3.ap-southeast-2.amazonaws.com/make-logos/toyota.png\"},\"Id\":2200,\"Name\":\"Corolla Cross\"},{\"YearRanges\":[{\"Start\":1990,\"End\":1993}],\"Make\":{\"Id\":56,\"Name\":\"Toyota\",\"LogoUrl\":\"https://vldata-images.s3.ap-southeast-2.amazonaws.com/make-logos/toyota.png\"},\"Id\":14,\"Name\":\"Cressida\"},{\"YearRanges\":[{\"Start\":2003,\"End\":2008}],\"Make\":{\"Id\":23,\"Name\":\"Holden\",\"LogoUrl\":\"https://vldata-images.s3.ap-southeast-2.amazonaws.com/make-logos/holden.png\"},\"Id\":569,\"Name\":\"Crewman\"},{\"YearRanges\":[{\"Start\":2023,\"End\":2023}],\"Make\":{\"Id\":54,\"Name\":\"Subaru\",\"LogoUrl\":\"https://vldata-images.s3.ap-southeast-2.amazonaws.com/make-logos/subaru.png\"},\"Id\":2207,\"Name\":\"Crosstrek\"},{\"YearRanges\":[{\"Start\":2002,\"End\":2006},{\"Start\":2009,\"End\":2018}],\"Make\":{\"Id\":23,\"Name\":\"Holden\",\"LogoUrl\":\"https://vldata-images.s3.ap-southeast-2.amazonaws.com/make-logos/holden.png\"},\"Id\":1470,\"Name\":\"Cruze\"},{\"YearRanges\":[{\"Start\":1994,\"End\":2005}],\"Make\":{\"Id\":56,\"Name\":\"Toyota\",\"LogoUrl\":\"https://vldata-images.s3.ap-southeast-2.amazonaws.com/make-logos/toyota.png\"},\"Id\":41,\"Name\":\"Dyna\"},{\"YearRanges\":[{\"Start\":1990,\"End\":2023}],\"Make\":{\"Id\":39,\"Name\":\"Mercedes-Benz\",\"LogoUrl\":\"https://vldata-images.s3.ap-southeast-2.amazonaws.com/make-logos/mercedes-benz.png\"},\"Id\":1483,\"Name\":\"E-Class\"},{\"YearRanges\":[{\"Start\":1999,\"End\":2005}],\"Make\":{\"Id\":56,\"Name\":\"Toyota\",\"LogoUrl\":\"https://vldata-images.s3.ap-southeast-2.amazonaws.com/make-logos/toyota.png\"},\"Id\":3,\"Name\":\"Echo\"},{\"YearRanges\":[{\"Start\":2007,\"End\":2012}],\"Make\":{\"Id\":23,\"Name\":\"Holden\",\"LogoUrl\":\"https://vldata-images.s3.ap-southeast-2.amazonaws.com/make-logos/holden.png\"},\"Id\":1228,\"Name\":\"Epica\"},{\"YearRanges\":[{\"Start\":2021,\"End\":2023}],\"Make\":{\"Id\":39,\"Name\":\"Mercedes-Benz\",\"LogoUrl\":\"https://vldata-images.s3.ap-southeast-2.amazonaws.com/make-logos/mercedes-benz.png\"},\"Id\":2136,\"Name\":\"EQA-Class\"},{\"YearRanges\":[{\"Start\":2022,\"End\":2023}],\"Make\":{\"Id\":39,\"Name\":\"Mercedes-Benz\",\"LogoUrl\":\"https://vldata-images.s3.ap-southeast-2.amazonaws.com/make-logos/mercedes-benz.png\"},\"Id\":2194,\"Name\":\"EQB-Class\"},{\"YearRanges\":[{\"Start\":2019,\"End\":2023}],\"Make\":{\"Id\":39,\"Name\":\"Mercedes-Benz\",\"LogoUrl\":\"https://vldata-images.s3.ap-southeast-2.amazonaws.com/make-logos/mercedes-benz.png\"},\"Id\":2083,\"Name\":\"EQC-Class\"},{\"YearRanges\":[{\"Start\":2023,\"End\":2023}],\"Make\":{\"Id\":39,\"Name\":\"Mercedes-Benz\",\"LogoUrl\":\"https://vldata-images.s3.ap-southeast-2.amazonaws.com/make-logos/mercedes-benz.png\"},\"Id\":2218,\"Name\":\"EQE-Class\"},{\"YearRanges\":[{\"Start\":2022,\"End\":2023}],\"Make\":{\"Id\":39,\"Name\":\"Mercedes-Benz\",\"LogoUrl\":\"https://vldata-images.s3.ap-southeast-2.amazonaws.com/make-logos/mercedes-benz.png\"},\"Id\":2191,\"Name\":\"EQS-Class\"},{\"YearRanges\":[{\"Start\":2017,\"End\":2020}],\"Make\":{\"Id\":23,\"Name\":\"Holden\",\"LogoUrl\":\"https://vldata-images.s3.ap-southeast-2.amazonaws.com/make-logos/holden.png\"},\"Id\":2039,\"Name\":\"Equinox\"},{\"YearRanges\":[{\"Start\":2022,\"End\":2023}],\"Make\":{\"Id\":39,\"Name\":\"Mercedes-Benz\",\"LogoUrl\":\"https://vldata-images.s3.ap-southeast-2.amazonaws.com/make-logos/mercedes-benz.png\"},\"Id\":2198,\"Name\":\"EQV\"},{\"YearRanges\":[{\"Start\":1991,\"End\":1992}],\"Make\":{\"Id\":54,\"Name\":\"Subaru\",\"LogoUrl\":\"https://vldata-images.s3.ap-southeast-2.amazonaws.com/make-logos/subaru.png\"},\"Id\":307,\"Name\":\"Fiori\"},{\"YearRanges\":[{\"Start\":2011,\"End\":2018}],\"Make\":{\"Id\":56,\"Name\":\"Toyota\",\"LogoUrl\":\"https://vldata-images.s3.ap-southeast-2.amazonaws.com/make-logos/toyota.png\"},\"Id\":1707,\"Name\":\"FJ Cruiser\"},{\"YearRanges\":[{\"Start\":1997,\"End\":2023}],\"Make\":{\"Id\":54,\"Name\":\"Subaru\",\"LogoUrl\":\"https://vldata-images.s3.ap-southeast-2.amazonaws.com/make-logos/subaru.png\"},\"Id\":542,\"Name\":\"Forester\"},{\"YearRanges\":[{\"Start\":2015,\"End\":2023}],\"Make\":{\"Id\":56,\"Name\":\"Toyota\",\"LogoUrl\":\"https://vldata-images.s3.ap-southeast-2.amazonaws.com/make-logos/toyota.png\"},\"Id\":1856,\"Name\":\"Fortuner\"},{\"YearRanges\":[{\"Start\":1995,\"End\":2004}],\"Make\":{\"Id\":23,\"Name\":\"Holden\",\"LogoUrl\":\"https://vldata-images.s3.ap-southeast-2.amazonaws.com/make-logos/holden.png\"},\"Id\":1350,\"Name\":\"Frontera\"},{\"YearRanges\":[{\"Start\":2010,\"End\":2021}],\"Make\":{\"Id\":39,\"Name\":\"Mercedes-Benz\",\"LogoUrl\":\"https://vldata-images.s3.ap-southeast-2.amazonaws.com/make-logos/mercedes-benz.png\"},\"Id\":1630,\"Name\":\"G-Class\"},{\"YearRanges\":[{\"Start\":2016,\"End\":2021}],\"Make\":{\"Id\":39,\"Name\":\"Mercedes-Benz\",\"LogoUrl\":\"https://vldata-images.s3.ap-southeast-2.amazonaws.com/make-logos/mercedes-benz.png\"},\"Id\":1979,\"Name\":\"G-PROFESSIONAL\"},{\"YearRanges\":[{\"Start\":2006,\"End\":2016}],\"Make\":{\"Id\":39,\"Name\":\"Mercedes-Benz\",\"LogoUrl\":\"https://vldata-images.s3.ap-southeast-2.amazonaws.com/make-logos/mercedes-benz.png\"},\"Id\":1631,\"Name\":\"GL-Class\"},{\"YearRanges\":[{\"Start\":2014,\"End\":2023}],\"Make\":{\"Id\":39,\"Name\":\"Mercedes-Benz\",\"LogoUrl\":\"https://vldata-images.s3.ap-southeast-2.amazonaws.com/make-logos/mercedes-benz.png\"},\"Id\":1801,\"Name\":\"GLA-Class\"},{\"YearRanges\":[{\"Start\":2020,\"End\":2023}],\"Make\":{\"Id\":39,\"Name\":\"Mercedes-Benz\",\"LogoUrl\":\"https://vldata-images.s3.ap-southeast-2.amazonaws.com/make-logos/mercedes-benz.png\"},\"Id\":2109,\"Name\":\"GLB-Class\"},{\"YearRanges\":[{\"Start\":2015,\"End\":2023}],\"Make\":{\"Id\":39,\"Name\":\"Mercedes-Benz\",\"LogoUrl\":\"https://vldata-images.s3.ap-southeast-2.amazonaws.com/make-logos/mercedes-benz.png\"},\"Id\":1861,\"Name\":\"GLC-Class\"},{\"YearRanges\":[{\"Start\":2015,\"End\":2023}],\"Make\":{\"Id\":39,\"Name\":\"Mercedes-Benz\",\"LogoUrl\":\"https://vldata-images.s3.ap-southeast-2.amazonaws.com/make-logos/mercedes-benz.png\"},\"Id\":1858,\"Name\":\"GLE-Class\"},{\"YearRanges\":[{\"Start\":2015,\"End\":2023}],\"Make\":{\"Id\":39,\"Name\":\"Mercedes-Benz\",\"LogoUrl\":\"https://vldata-images.s3.ap-southeast-2.amazonaws.com/make-logos/mercedes-benz.png\"},\"Id\":1859,\"Name\":\"GLE-Class Coupe\"},{\"YearRanges\":[{\"Start\":2016,\"End\":2023}],\"Make\":{\"Id\":39,\"Name\":\"Mercedes-Benz\",\"LogoUrl\":\"https://vldata-images.s3.ap-southeast-2.amazonaws.com/make-logos/mercedes-benz.png\"},\"Id\":1893,\"Name\":\"GLS-Class\"},{\"YearRanges\":[{\"Start\":1997,\"End\":2001}],\"Make\":{\"Id\":23,\"Name\":\"Holden\",\"LogoUrl\":\"https://vldata-images.s3.ap-southeast-2.amazonaws.com/make-logos/holden.png\"},\"Id\":1912,\"Name\":\"GMC\"},{\"YearRanges\":[{\"Start\":2023,\"End\":2023}],\"Make\":{\"Id\":56,\"Name\":\"Toyota\",\"LogoUrl\":\"https://vldata-images.s3.ap-southeast-2.amazonaws.com/make-logos/toyota.png\"},\"Id\":2208,\"Name\":\"GR Corolla\"},{\"YearRanges\":[{\"Start\":2021,\"End\":2023}],\"Make\":{\"Id\":56,\"Name\":\"Toyota\",\"LogoUrl\":\"https://vldata-images.s3.ap-southeast-2.amazonaws.com/make-logos/toyota.png\"},\"Id\":2169,\"Name\":\"GR Supra\"},{\"YearRanges\":[{\"Start\":2020,\"End\":2023}],\"Make\":{\"Id\":56,\"Name\":\"Toyota\",\"LogoUrl\":\"https://vldata-images.s3.ap-southeast-2.amazonaws.com/make-logos/toyota.png\"},\"Id\":2123,\"Name\":\"GR Yaris\"},{\"YearRanges\":[{\"Start\":2019,\"End\":2023}],\"Make\":{\"Id\":56,\"Name\":\"Toyota\",\"LogoUrl\":\"https://vldata-images.s3.ap-southeast-2.amazonaws.com/make-logos/toyota.png\"},\"Id\":2087,\"Name\":\"Granvia\"},{\"YearRanges\":[{\"Start\":1994,\"End\":2023}],\"Make\":{\"Id\":56,\"Name\":\"Toyota\",\"LogoUrl\":\"https://vldata-images.s3.ap-southeast-2.amazonaws.com/make-logos/toyota.png\"},\"Id\":36,\"Name\":\"HiAce\"},{\"YearRanges\":[{\"Start\":1990,\"End\":2023}],\"Make\":{\"Id\":56,\"Name\":\"Toyota\",\"LogoUrl\":\"https://vldata-images.s3.ap-southeast-2.amazonaws.com/make-logos/toyota.png\"},\"Id\":32,\"Name\":\"HiLux\"},{\"YearRanges\":[{\"Start\":2008,\"End\":2009}],\"Make\":{\"Id\":56,\"Name\":\"Toyota\",\"LogoUrl\":\"https://vldata-images.s3.ap-southeast-2.amazonaws.com/make-logos/toyota.png\"},\"Id\":33,\"Name\":\"HiLux TRD\"},{\"YearRanges\":[{\"Start\":2014,\"End\":2021}],\"Make\":{\"Id\":11,\"Name\":\"BMW\",\"LogoUrl\":\"https://vldata-images.s3.ap-southeast-2.amazonaws.com/make-logos/bmw.png\"},\"Id\":1824,\"Name\":\"i3\"},{\"YearRanges\":[{\"Start\":2021,\"End\":2023}],\"Make\":{\"Id\":11,\"Name\":\"BMW\",\"LogoUrl\":\"https://vldata-images.s3.ap-southeast-2.amazonaws.com/make-logos/bmw.png\"},\"Id\":2150,\"Name\":\"i4\"},{\"YearRanges\":[{\"Start\":2014,\"End\":2020}],\"Make\":{\"Id\":11,\"Name\":\"BMW\",\"LogoUrl\":\"https://vldata-images.s3.ap-southeast-2.amazonaws.com/make-logos/bmw.png\"},\"Id\":1832,\"Name\":\"i8\"},{\"YearRanges\":[{\"Start\":1993,\"End\":2024}],\"Make\":{\"Id\":54,\"Name\":\"Subaru\",\"LogoUrl\":\"https://vldata-images.s3.ap-southeast-2.amazonaws.com/make-logos/subaru.png\"},\"Id\":341,\"Name\":\"Impreza\"},{\"YearRanges\":[{\"Start\":2015,\"End\":2017}],\"Make\":{\"Id\":23,\"Name\":\"Holden\",\"LogoUrl\":\"https://vldata-images.s3.ap-southeast-2.amazonaws.com/make-logos/holden.png\"},\"Id\":1833,\"Name\":\"Insignia\"},{\"YearRanges\":[{\"Start\":2021,\"End\":2023}],\"Make\":{\"Id\":11,\"Name\":\"BMW\",\"LogoUrl\":\"https://vldata-images.s3.ap-southeast-2.amazonaws.com/make-logos/bmw.png\"},\"Id\":2182,\"Name\":\"iX\"},{\"YearRanges\":[{\"Start\":2023,\"End\":2024}],\"Make\":{\"Id\":11,\"Name\":\"BMW\",\"LogoUrl\":\"https://vldata-images.s3.ap-southeast-2.amazonaws.com/make-logos/bmw.png\"},\"Id\":2232,\"Name\":\"iX1\"},{\"YearRanges\":[{\"Start\":2021,\"End\":2023}],\"Make\":{\"Id\":11,\"Name\":\"BMW\",\"LogoUrl\":\"https://vldata-images.s3.ap-southeast-2.amazonaws.com/make-logos/bmw.png\"},\"Id\":2155,\"Name\":\"iX3\"},{\"YearRanges\":[{\"Start\":1990,\"End\":2004}],\"Make\":{\"Id\":23,\"Name\":\"Holden\",\"LogoUrl\":\"https://vldata-images.s3.ap-southeast-2.amazonaws.com/make-logos/holden.png\"},\"Id\":620,\"Name\":\"Jackaroo\"},{\"YearRanges\":[{\"Start\":2003,\"End\":2023}],\"Make\":{\"Id\":56,\"Name\":\"Toyota\",\"LogoUrl\":\"https://vldata-images.s3.ap-southeast-2.amazonaws.com/make-logos/toyota.png\"},\"Id\":28,\"Name\":\"Kluger\"},{\"YearRanges\":[{\"Start\":1990,\"End\":1994}],\"Make\":{\"Id\":54,\"Name\":\"Subaru\",\"LogoUrl\":\"https://vldata-images.s3.ap-southeast-2.amazonaws.com/make-logos/subaru.png\"},\"Id\":1656,\"Name\":\"L-Series\"},{\"YearRanges\":[{\"Start\":1990,\"End\":2023}],\"Make\":{\"Id\":56,\"Name\":\"Toyota\",\"LogoUrl\":\"https://vldata-images.s3.ap-southeast-2.amazonaws.com/make-logos/toyota.png\"},\"Id\":31,\"Name\":\"LandCruiser\"},{\"YearRanges\":[{\"Start\":1996,\"End\":2023}],\"Make\":{\"Id\":56,\"Name\":\"Toyota\",\"LogoUrl\":\"https://vldata-images.s3.ap-southeast-2.amazonaws.com/make-logos/toyota.png\"},\"Id\":30,\"Name\":\"LandCruiser Prado\"}],\"Page\":1,\"PerPage\":100,\"Total\":185}'"
     },
     "execution_count": 58,
     "metadata": {},
     "output_type": "execute_result"
    }
   ],
   "source": [
    "data_response.text"
   ],
   "metadata": {
    "collapsed": false,
    "ExecuteTime": {
     "end_time": "2023-12-01T03:50:44.359240100Z",
     "start_time": "2023-12-01T03:50:44.345914700Z"
    }
   },
   "id": "38c9e2d4925b03cf"
  },
  {
   "cell_type": "code",
   "execution_count": 21,
   "outputs": [
    {
     "data": {
      "text/plain": "<requests.sessions.Session at 0x233272c5dd0>"
     },
     "execution_count": 21,
     "metadata": {},
     "output_type": "execute_result"
    }
   ],
   "source": [
    "httpClient"
   ],
   "metadata": {
    "collapsed": false,
    "ExecuteTime": {
     "end_time": "2023-11-30T22:00:32.590282100Z",
     "start_time": "2023-11-30T22:00:32.553381100Z"
    }
   },
   "id": "cef399edaa7d2d7f"
  },
  {
   "cell_type": "code",
   "execution_count": 50,
   "outputs": [],
   "source": [
    "# data_url = 'https://api.vehiclelogic.com.au/vehicles/makes/:vehicleMakeId'\n",
    "data_url = 'https://api.vehiclelogic.com.au//vehicles/vehicles?PerPage=100&Page=1'"
   ],
   "metadata": {
    "collapsed": false,
    "ExecuteTime": {
     "end_time": "2023-11-30T23:17:53.737712100Z",
     "start_time": "2023-11-30T23:17:53.580561700Z"
    }
   },
   "id": "1ce9cf1af7933e05"
  },
  {
   "cell_type": "code",
   "execution_count": 51,
   "outputs": [],
   "source": [
    "data_response = requests.get(data_url, headers=headers)\n",
    "df = pd.DataFrame(data_response.json())"
   ],
   "metadata": {
    "collapsed": false,
    "ExecuteTime": {
     "end_time": "2023-11-30T23:17:58.191290100Z",
     "start_time": "2023-11-30T23:17:55.647440200Z"
    }
   },
   "id": "d7322cf1c689696a"
  },
  {
   "cell_type": "code",
   "execution_count": 52,
   "outputs": [
    {
     "data": {
      "text/plain": "{'Id': 28766,\n 'Name': 'BMW  Z3 2.8 2D Roadster - 5sp man 2.8L 6cyl Petrol MY97',\n 'ConsolidatedName': 'BMW  Z3 2.8 2D Roadster',\n 'Make': {'Id': 11,\n  'Name': 'BMW',\n  'LogoUrl': 'https://vldata-images.s3.ap-southeast-2.amazonaws.com/make-logos/bmw.png'},\n 'Model': {'Id': 780, 'Name': 'Z3'},\n 'Series': None,\n 'Grade': '2.8',\n 'Body': 'Convertible',\n 'Version': '5sp man 2.8L 6cyl Petrol',\n 'Class': 'PASSENGER',\n 'FCAIMarketClass': 'Passenger'}"
     },
     "execution_count": 52,
     "metadata": {},
     "output_type": "execute_result"
    }
   ],
   "source": [
    "df.iloc[10, 0]"
   ],
   "metadata": {
    "collapsed": false,
    "ExecuteTime": {
     "end_time": "2023-11-30T23:18:00.454783800Z",
     "start_time": "2023-11-30T23:18:00.278458900Z"
    }
   },
   "id": "427bfc6a89343e2a"
  },
  {
   "cell_type": "code",
   "execution_count": 46,
   "outputs": [
    {
     "name": "stdout",
     "output_type": "stream",
     "text": [
      "<class 'pandas.core.frame.DataFrame'>\n",
      "RangeIndex: 100 entries, 0 to 99\n",
      "Data columns (total 4 columns):\n",
      " #   Column   Non-Null Count  Dtype \n",
      "---  ------   --------------  ----- \n",
      " 0   Items    100 non-null    object\n",
      " 1   Page     100 non-null    int64 \n",
      " 2   PerPage  100 non-null    int64 \n",
      " 3   Total    100 non-null    int64 \n",
      "dtypes: int64(3), object(1)\n",
      "memory usage: 3.3+ KB\n"
     ]
    }
   ],
   "source": [
    "df.info()"
   ],
   "metadata": {
    "collapsed": false,
    "ExecuteTime": {
     "end_time": "2023-11-30T23:09:58.874661800Z",
     "start_time": "2023-11-30T23:09:58.856757300Z"
    }
   },
   "id": "f6cc0d5151113bb3"
  },
  {
   "cell_type": "code",
   "execution_count": 43,
   "outputs": [],
   "source": [
    "df.to_csv('output.csv', index=False)"
   ],
   "metadata": {
    "collapsed": false,
    "ExecuteTime": {
     "end_time": "2023-11-30T22:36:33.350058100Z",
     "start_time": "2023-11-30T22:36:32.847514900Z"
    }
   },
   "id": "735516adff55d329"
  },
  {
   "cell_type": "code",
   "execution_count": 37,
   "outputs": [
    {
     "ename": "ModuleNotFoundError",
     "evalue": "No module named 'openpyxl'",
     "output_type": "error",
     "traceback": [
      "\u001B[1;31m---------------------------------------------------------------------------\u001B[0m",
      "\u001B[1;31mModuleNotFoundError\u001B[0m                       Traceback (most recent call last)",
      "Cell \u001B[1;32mIn[37], line 4\u001B[0m\n\u001B[0;32m      1\u001B[0m df \u001B[38;5;241m=\u001B[39m pd\u001B[38;5;241m.\u001B[39mDataFrame(data_response\u001B[38;5;241m.\u001B[39mjson())\n\u001B[0;32m      3\u001B[0m \u001B[38;5;66;03m# Save DataFrame to Excel\u001B[39;00m\n\u001B[1;32m----> 4\u001B[0m \u001B[43mdf\u001B[49m\u001B[38;5;241;43m.\u001B[39;49m\u001B[43mto_excel\u001B[49m\u001B[43m(\u001B[49m\u001B[38;5;124;43m'\u001B[39;49m\u001B[38;5;124;43mmodels.xlsx\u001B[39;49m\u001B[38;5;124;43m'\u001B[39;49m\u001B[43m,\u001B[49m\u001B[43m \u001B[49m\u001B[43mindex\u001B[49m\u001B[38;5;241;43m=\u001B[39;49m\u001B[38;5;28;43;01mFalse\u001B[39;49;00m\u001B[43m)\u001B[49m\n",
      "File \u001B[1;32m~\\Documents\\OneDrive - Louisiana State University\\Projects\\Dewey\\venv\\Lib\\site-packages\\pandas\\core\\generic.py:2345\u001B[0m, in \u001B[0;36mNDFrame.to_excel\u001B[1;34m(self, excel_writer, sheet_name, na_rep, float_format, columns, header, index, index_label, startrow, startcol, engine, merge_cells, inf_rep, freeze_panes, storage_options, engine_kwargs)\u001B[0m\n\u001B[0;32m   2332\u001B[0m \u001B[38;5;28;01mfrom\u001B[39;00m \u001B[38;5;21;01mpandas\u001B[39;00m\u001B[38;5;21;01m.\u001B[39;00m\u001B[38;5;21;01mio\u001B[39;00m\u001B[38;5;21;01m.\u001B[39;00m\u001B[38;5;21;01mformats\u001B[39;00m\u001B[38;5;21;01m.\u001B[39;00m\u001B[38;5;21;01mexcel\u001B[39;00m \u001B[38;5;28;01mimport\u001B[39;00m ExcelFormatter\n\u001B[0;32m   2334\u001B[0m formatter \u001B[38;5;241m=\u001B[39m ExcelFormatter(\n\u001B[0;32m   2335\u001B[0m     df,\n\u001B[0;32m   2336\u001B[0m     na_rep\u001B[38;5;241m=\u001B[39mna_rep,\n\u001B[1;32m   (...)\u001B[0m\n\u001B[0;32m   2343\u001B[0m     inf_rep\u001B[38;5;241m=\u001B[39minf_rep,\n\u001B[0;32m   2344\u001B[0m )\n\u001B[1;32m-> 2345\u001B[0m \u001B[43mformatter\u001B[49m\u001B[38;5;241;43m.\u001B[39;49m\u001B[43mwrite\u001B[49m\u001B[43m(\u001B[49m\n\u001B[0;32m   2346\u001B[0m \u001B[43m    \u001B[49m\u001B[43mexcel_writer\u001B[49m\u001B[43m,\u001B[49m\n\u001B[0;32m   2347\u001B[0m \u001B[43m    \u001B[49m\u001B[43msheet_name\u001B[49m\u001B[38;5;241;43m=\u001B[39;49m\u001B[43msheet_name\u001B[49m\u001B[43m,\u001B[49m\n\u001B[0;32m   2348\u001B[0m \u001B[43m    \u001B[49m\u001B[43mstartrow\u001B[49m\u001B[38;5;241;43m=\u001B[39;49m\u001B[43mstartrow\u001B[49m\u001B[43m,\u001B[49m\n\u001B[0;32m   2349\u001B[0m \u001B[43m    \u001B[49m\u001B[43mstartcol\u001B[49m\u001B[38;5;241;43m=\u001B[39;49m\u001B[43mstartcol\u001B[49m\u001B[43m,\u001B[49m\n\u001B[0;32m   2350\u001B[0m \u001B[43m    \u001B[49m\u001B[43mfreeze_panes\u001B[49m\u001B[38;5;241;43m=\u001B[39;49m\u001B[43mfreeze_panes\u001B[49m\u001B[43m,\u001B[49m\n\u001B[0;32m   2351\u001B[0m \u001B[43m    \u001B[49m\u001B[43mengine\u001B[49m\u001B[38;5;241;43m=\u001B[39;49m\u001B[43mengine\u001B[49m\u001B[43m,\u001B[49m\n\u001B[0;32m   2352\u001B[0m \u001B[43m    \u001B[49m\u001B[43mstorage_options\u001B[49m\u001B[38;5;241;43m=\u001B[39;49m\u001B[43mstorage_options\u001B[49m\u001B[43m,\u001B[49m\n\u001B[0;32m   2353\u001B[0m \u001B[43m    \u001B[49m\u001B[43mengine_kwargs\u001B[49m\u001B[38;5;241;43m=\u001B[39;49m\u001B[43mengine_kwargs\u001B[49m\u001B[43m,\u001B[49m\n\u001B[0;32m   2354\u001B[0m \u001B[43m\u001B[49m\u001B[43m)\u001B[49m\n",
      "File \u001B[1;32m~\\Documents\\OneDrive - Louisiana State University\\Projects\\Dewey\\venv\\Lib\\site-packages\\pandas\\io\\formats\\excel.py:946\u001B[0m, in \u001B[0;36mExcelFormatter.write\u001B[1;34m(self, writer, sheet_name, startrow, startcol, freeze_panes, engine, storage_options, engine_kwargs)\u001B[0m\n\u001B[0;32m    942\u001B[0m     need_save \u001B[38;5;241m=\u001B[39m \u001B[38;5;28;01mFalse\u001B[39;00m\n\u001B[0;32m    943\u001B[0m \u001B[38;5;28;01melse\u001B[39;00m:\n\u001B[0;32m    944\u001B[0m     \u001B[38;5;66;03m# error: Cannot instantiate abstract class 'ExcelWriter' with abstract\u001B[39;00m\n\u001B[0;32m    945\u001B[0m     \u001B[38;5;66;03m# attributes 'engine', 'save', 'supported_extensions' and 'write_cells'\u001B[39;00m\n\u001B[1;32m--> 946\u001B[0m     writer \u001B[38;5;241m=\u001B[39m \u001B[43mExcelWriter\u001B[49m\u001B[43m(\u001B[49m\u001B[43m  \u001B[49m\u001B[38;5;66;43;03m# type: ignore[abstract]\u001B[39;49;00m\n\u001B[0;32m    947\u001B[0m \u001B[43m        \u001B[49m\u001B[43mwriter\u001B[49m\u001B[43m,\u001B[49m\n\u001B[0;32m    948\u001B[0m \u001B[43m        \u001B[49m\u001B[43mengine\u001B[49m\u001B[38;5;241;43m=\u001B[39;49m\u001B[43mengine\u001B[49m\u001B[43m,\u001B[49m\n\u001B[0;32m    949\u001B[0m \u001B[43m        \u001B[49m\u001B[43mstorage_options\u001B[49m\u001B[38;5;241;43m=\u001B[39;49m\u001B[43mstorage_options\u001B[49m\u001B[43m,\u001B[49m\n\u001B[0;32m    950\u001B[0m \u001B[43m        \u001B[49m\u001B[43mengine_kwargs\u001B[49m\u001B[38;5;241;43m=\u001B[39;49m\u001B[43mengine_kwargs\u001B[49m\u001B[43m,\u001B[49m\n\u001B[0;32m    951\u001B[0m \u001B[43m    \u001B[49m\u001B[43m)\u001B[49m\n\u001B[0;32m    952\u001B[0m     need_save \u001B[38;5;241m=\u001B[39m \u001B[38;5;28;01mTrue\u001B[39;00m\n\u001B[0;32m    954\u001B[0m \u001B[38;5;28;01mtry\u001B[39;00m:\n",
      "File \u001B[1;32m~\\Documents\\OneDrive - Louisiana State University\\Projects\\Dewey\\venv\\Lib\\site-packages\\pandas\\io\\excel\\_openpyxl.py:57\u001B[0m, in \u001B[0;36mOpenpyxlWriter.__init__\u001B[1;34m(self, path, engine, date_format, datetime_format, mode, storage_options, if_sheet_exists, engine_kwargs, **kwargs)\u001B[0m\n\u001B[0;32m     44\u001B[0m \u001B[38;5;28;01mdef\u001B[39;00m \u001B[38;5;21m__init__\u001B[39m(\n\u001B[0;32m     45\u001B[0m     \u001B[38;5;28mself\u001B[39m,\n\u001B[0;32m     46\u001B[0m     path: FilePath \u001B[38;5;241m|\u001B[39m WriteExcelBuffer \u001B[38;5;241m|\u001B[39m ExcelWriter,\n\u001B[1;32m   (...)\u001B[0m\n\u001B[0;32m     55\u001B[0m ) \u001B[38;5;241m-\u001B[39m\u001B[38;5;241m>\u001B[39m \u001B[38;5;28;01mNone\u001B[39;00m:\n\u001B[0;32m     56\u001B[0m     \u001B[38;5;66;03m# Use the openpyxl module as the Excel writer.\u001B[39;00m\n\u001B[1;32m---> 57\u001B[0m     \u001B[38;5;28;01mfrom\u001B[39;00m \u001B[38;5;21;01mopenpyxl\u001B[39;00m\u001B[38;5;21;01m.\u001B[39;00m\u001B[38;5;21;01mworkbook\u001B[39;00m \u001B[38;5;28;01mimport\u001B[39;00m Workbook\n\u001B[0;32m     59\u001B[0m     engine_kwargs \u001B[38;5;241m=\u001B[39m combine_kwargs(engine_kwargs, kwargs)\n\u001B[0;32m     61\u001B[0m     \u001B[38;5;28msuper\u001B[39m()\u001B[38;5;241m.\u001B[39m\u001B[38;5;21m__init__\u001B[39m(\n\u001B[0;32m     62\u001B[0m         path,\n\u001B[0;32m     63\u001B[0m         mode\u001B[38;5;241m=\u001B[39mmode,\n\u001B[1;32m   (...)\u001B[0m\n\u001B[0;32m     66\u001B[0m         engine_kwargs\u001B[38;5;241m=\u001B[39mengine_kwargs,\n\u001B[0;32m     67\u001B[0m     )\n",
      "\u001B[1;31mModuleNotFoundError\u001B[0m: No module named 'openpyxl'"
     ]
    }
   ],
   "source": [
    "\n",
    "\n",
    "# Save DataFrame to Excel\n",
    "df.to_excel('models.xlsx', index=False)"
   ],
   "metadata": {
    "collapsed": false,
    "ExecuteTime": {
     "end_time": "2023-11-30T22:30:43.396950100Z",
     "start_time": "2023-11-30T22:30:27.763283300Z"
    }
   },
   "id": "295f3126c5cdf336"
  },
  {
   "cell_type": "code",
   "execution_count": 17,
   "outputs": [
    {
     "data": {
      "text/plain": "b'{\"access_token\":\"S5tIiUOJAZpaLQx27b84H9qmF/zWKJ9EyCs6CR8sIXAV9ZbeMV8PpsvaJBDLoEpAv4PUUKh9xlkBgfeq6EZh4xHH3/jOQCp2rpKB\",\"token_type\":\"bearer\",\"expires_in\":86400,\"userName\":\"E2Kprofessional\",\"partnerID\":\"551\",\".issued\":\"Thu, 30 Nov 2023 20:33:35 GMT\",\".expires\":\"Fri, 01 Dec 2023 20:33:35 GMT\"}'"
     },
     "execution_count": 17,
     "metadata": {},
     "output_type": "execute_result"
    }
   ],
   "source": [
    "token = \"S5tIiUOJAZpaLQx27b84H9qmFzWKJ9EyCs6CR8sIXAV9ZbeMV8PpsvaJBDLoEpAv4PUUKh9xlkBgfeq6EZh4xHH3jOQCp2rpKB\""
   ],
   "metadata": {
    "collapsed": false,
    "ExecuteTime": {
     "end_time": "2023-11-30T20:47:21.103389500Z",
     "start_time": "2023-11-30T20:47:21.101395500Z"
    }
   },
   "id": "e42698c3c2a7cc12"
  },
  {
   "cell_type": "code",
   "execution_count": 12,
   "outputs": [],
   "source": [
    "# data_url = 'https://api.vehiclelogic.com.au/tyres/brands?PerPage=100&Page=1'"
   ],
   "metadata": {
    "collapsed": false,
    "ExecuteTime": {
     "end_time": "2023-11-30T20:35:19.389725900Z",
     "start_time": "2023-11-30T20:35:19.312557900Z"
    }
   },
   "id": "70d8c6f37308b3bf"
  },
  {
   "cell_type": "code",
   "execution_count": 14,
   "outputs": [],
   "source": [
    "data_response = requests.get(data_url)"
   ],
   "metadata": {
    "collapsed": false,
    "ExecuteTime": {
     "end_time": "2023-11-30T20:36:14.992812Z",
     "start_time": "2023-11-30T20:36:13.088352100Z"
    }
   },
   "id": "a13c21f07e63f758"
  },
  {
   "cell_type": "code",
   "execution_count": null,
   "outputs": [],
   "source": [
    "ApiUrlBase = \"https://api.vehiclelogic.com.au\"\n",
    "TokenEndpointPath = \"/token\"\n",
    "urlPath = \"/tyres/brands\"\n",
    "parameters = \"\"\n",
    "content = \"\"\n",
    "headers = {\"Authorization\": f\"Bearer {access_token}\"}\n",
    "encoded_params = [f\"{requests.utils.quote(k)}={requests.utils.quote(v)}\" for k, v in parameters]\n",
    "build_query =  \"&\".join(encoded_params)"
   ],
   "metadata": {
    "collapsed": false
   },
   "id": "4991efaac4d3d692"
  },
  {
   "cell_type": "code",
   "execution_count": null,
   "outputs": [],
   "source": [
    "uri = f\"{ApiUrlBase}{urlPath}?{build_query}\""
   ],
   "metadata": {
    "collapsed": false
   },
   "id": "974d8ad7fadba9ad"
  },
  {
   "cell_type": "code",
   "execution_count": null,
   "outputs": [],
   "source": [
    "import json\n",
    "import requests\n",
    "from datetime import datetime, timedelta\n",
    "\n",
    "class AccessToken:\n",
    "    def __init__(self, token, expires):\n",
    "        self.Token = token\n",
    "        self.Expires = expires\n",
    "\n",
    "class VehicleLogicApi:\n",
    "    ApiUrlBase = \"https://api.vehiclelogic.com.au\"\n",
    "    TokenEndpointPath = \"/token\"\n",
    "\n",
    "    def __init__(self, username, password):\n",
    "        self._username = username\n",
    "        self._password = password\n",
    "        self._httpClient = requests.Session()\n",
    "        self._token = None\n",
    "        self._authenticationTask = None\n",
    "\n",
    "    async def AuthenticatedQuery(self, urlPath, queryParameters, content=None):\n",
    "        if urlPath is None:\n",
    "            raise ValueError(\"urlPath must be non-null.\")\n",
    "\n",
    "        if not await self.CheckAuthentication():\n",
    "            raise Exception(\"Could not authenticate\")\n",
    "\n",
    "        return await self.Query(\n",
    "            urlPath,\n",
    "            queryParameters,\n",
    "            content,\n",
    "            {\"Authorization\": f\"Bearer {self._token.Token}\"}\n",
    "        )\n",
    "\n",
    "    @staticmethod\n",
    "    def BuildQuery(parameters):\n",
    "        if parameters is None:\n",
    "            return \"\"\n",
    "\n",
    "        encoded_params = [f\"{requests.utils.quote(k)}={requests.utils.quote(v)}\" for k, v in parameters]\n",
    "        return \"&\".join(encoded_params)\n",
    "\n",
    "    async def CheckAuthentication(self):\n",
    "        if self._token and datetime.utcnow() < self._token.Expires:\n",
    "            return True\n",
    "\n",
    "        if not self._authenticationTask:\n",
    "            self._authenticationTask = self.Authenticate()\n",
    "\n",
    "        result = await self._authenticationTask\n",
    "        self._authenticationTask = None\n",
    "        return result\n",
    "\n",
    "    async def Authenticate(self):\n",
    "        content = {\n",
    "            \"grant_type\": \"password\",\n",
    "            \"username\": self._username,\n",
    "            \"password\": self._password\n",
    "        }\n",
    "\n",
    "        response = await self.Query(self.TokenEndpointPath, None, content)\n",
    "\n",
    "        if not response.ok:\n",
    "            return False\n",
    "\n",
    "        data = json.loads(response.text)\n",
    "\n",
    "        access_token = data.get(\"access_token\")\n",
    "        expires_str = data.get(\".expires\")\n",
    "\n",
    "        expires = datetime.strptime(expires_str, \"%a, %d %b %Y %H:%M:%S GMT\")\n",
    "\n",
    "        self._token = AccessToken(access_token, expires)\n",
    "        return True\n",
    "\n",
    "    async def Query(self, urlPath, parameters, content=None, headers=None):\n",
    "        if urlPath is None:\n",
    "            raise ValueError(\"urlPath must be non-null.\")\n",
    "\n",
    "        uri = f\"{self.ApiUrlBase}{urlPath}?{self.BuildQuery(parameters)}\"\n",
    "\n",
    "        print(f\"Starting HTTP request to {uri}\")\n",
    "\n",
    "        response = self._httpClient.get(uri, headers=headers, data=content)\n",
    "        response.raise_for_status()\n",
    "\n",
    "        return response\n",
    "\n",
    "if __name__ == \"__main__\":\n",
    "    Username = \"<your_username_here>\"\n",
    "    Password = \"<your_password_here>\"\n",
    "\n",
    "    TyresBrandsPath = \"/tyres/brands\"\n",
    "    TyresPatternsPath = \"/tyres/patterns\"\n",
    "    VehicleMakesPath = \"/vehicles/makes\"\n",
    "\n",
    "    api = VehicleLogicApi(Username, Password)\n",
    "\n",
    "    pagination_params = [\n",
    "        (\"Page\", \"1\"),\n",
    "        (\"PerPage\", \"5\")\n",
    "    ]\n",
    "\n",
    "    tyre_brands_request = api.AuthenticatedQuery(TyresBrandsPath, pagination_params)\n",
    "    michelin_patterns_params = pagination_params + [(\"TyreBrandIds[]\", \"1\")]\n",
    "    michelin_patterns_request = api.AuthenticatedQuery(TyresPatternsPath, michelin_patterns_params)\n",
    "    vehicle_makes_request = api.AuthenticatedQuery(VehicleMakesPath, pagination_params)\n",
    "\n",
    "    with tyre_brands_request as tyre_brands_response:\n",
    "        print(\"First 5 tyre brands:\")\n",
    "        print(json.loads(tyre_brands_response.text))\n",
    "        print()\n",
    "\n",
    "    with michelin_patterns_request as michelin_patterns_response:\n",
    "        print(\"First 5 Michelin tyre patterns:\")\n",
    "        print(json.loads(michelin_patterns_response.text))\n",
    "        print()\n",
    "\n",
    "    with vehicle_makes_request as vehicle_makes_response:\n",
    "        print(\"First 5 vehicle makes:\")\n",
    "        print(json.loads(vehicle_makes_response.text))\n",
    "        print()\n"
   ],
   "metadata": {
    "collapsed": false
   },
   "id": "952d5cfe8467f810"
  }
 ],
 "metadata": {
  "kernelspec": {
   "display_name": "Python 3",
   "language": "python",
   "name": "python3"
  },
  "language_info": {
   "codemirror_mode": {
    "name": "ipython",
    "version": 2
   },
   "file_extension": ".py",
   "mimetype": "text/x-python",
   "name": "python",
   "nbconvert_exporter": "python",
   "pygments_lexer": "ipython2",
   "version": "2.7.6"
  }
 },
 "nbformat": 4,
 "nbformat_minor": 5
}
