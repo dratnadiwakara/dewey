{
 "cells": [
  {
   "cell_type": "code",
   "execution_count": 36,
   "id": "initial_id",
   "metadata": {
    "collapsed": true,
    "ExecuteTime": {
     "end_time": "2023-11-18T15:57:08.297329700Z",
     "start_time": "2023-11-18T15:57:08.288842400Z"
    }
   },
   "outputs": [],
   "source": [
    "import pandas as pd\n",
    "from fuzzywuzzy import fuzz\n",
    "from tqdm import tqdm"
   ]
  },
  {
   "cell_type": "code",
   "execution_count": null,
   "outputs": [],
   "source": [
    "stopwords = ['of', 'and', ',', 'national association', 'na', '&', '-', '.', 'corporation', 'company', 'n.a.', 'inc.', 'inc', 'ssb', 'the']"
   ],
   "metadata": {
    "collapsed": false
   },
   "id": "98d97a5f493cb807"
  },
  {
   "cell_type": "code",
   "execution_count": 37,
   "outputs": [],
   "source": [
    "def address_similarity(address1, address2):\n",
    "    stopwords = ['of','and',',','national association','na', '&','-','.','corporation','company','n.a.','inc.','inc','ssb','the']\n",
    "    # stop_words = set(stopwords.words('english'))\n",
    "    address1_tokens = [word.lower() for word in address1.split() if word.lower() not in stopwords]\n",
    "    address2_tokens = [word.lower() for word in address2.split() if word.lower() not in stopwords]\n",
    "\n",
    "    return fuzz.ratio(' '.join(address1_tokens), ' '.join(address2_tokens))"
   ],
   "metadata": {
    "collapsed": false,
    "ExecuteTime": {
     "end_time": "2023-11-18T15:57:16.182738500Z",
     "start_time": "2023-11-18T15:57:16.174250Z"
    }
   },
   "id": "327b6f8c2ad29613"
  },
  {
   "cell_type": "code",
   "execution_count": 38,
   "outputs": [],
   "source": [
    "data_ai_file = \"C:/Users/dratnadiwakara2/Documents/OneDrive - Louisiana State University/Raw Data/Dewey/data_ai_data_cleaned.csv\" \n",
    "data_ai = pd.read_csv(data_ai_file)"
   ],
   "metadata": {
    "collapsed": false,
    "ExecuteTime": {
     "end_time": "2023-11-18T15:57:19.093698100Z",
     "start_time": "2023-11-18T15:57:19.049884700Z"
    }
   },
   "id": "ea49ef1d15f2c284"
  },
  {
   "cell_type": "code",
   "execution_count": 57,
   "outputs": [],
   "source": [
    "sod_file = \"C:/Users/dratnadiwakara2/Documents/OneDrive - Louisiana State University/Raw Data/SOD/data/ALL_2022.csv\" \n",
    "sod = pd.read_csv(sod_file, encoding='latin1')\n",
    "sod = sod.drop_duplicates(subset=\"NAMEFULL\")\n",
    "sod = sod[['NAMEFULL', 'RSSDID']]\n",
    "sod = sod.rename(columns={'NAMEFULL': 'bank_name'})\n",
    "\n",
    "bank_names_file =\"C:/Users/dratnadiwakara2/Documents/OneDrive - Louisiana State University/Projects/Dewey/data/bank_names.csv\"\n",
    "bank_names = pd.read_csv(bank_names_file, encoding='latin1')\n",
    "sod = pd.concat([sod, bank_names], axis=0)"
   ],
   "metadata": {
    "collapsed": false,
    "ExecuteTime": {
     "end_time": "2023-11-18T16:07:00.771504600Z",
     "start_time": "2023-11-18T16:06:59.558027600Z"
    }
   },
   "id": "6141794a74d9e710"
  },
  {
   "cell_type": "code",
   "execution_count": 58,
   "outputs": [],
   "source": [
    "sod['bank_name'] = sod['bank_name'].str.lower()\n",
    "\n",
    "for sw in stopwords:\n",
    "    sod['bank_name'] = sod['bank_name'].str.replace(sw, '')\n",
    "\n",
    "sod['bank_name'] = sod['bank_name'].str.replace('  ', ' ')"
   ],
   "metadata": {
    "collapsed": false,
    "ExecuteTime": {
     "end_time": "2023-11-18T16:07:02.722922400Z",
     "start_time": "2023-11-18T16:07:02.643013300Z"
    }
   },
   "id": "f144814449aeada2"
  },
  {
   "cell_type": "code",
   "execution_count": 35,
   "outputs": [
    {
     "name": "stderr",
     "output_type": "stream",
     "text": [
      "100%|██████████| 11033/11033 [36:28<00:00,  5.04it/s] \n"
     ]
    }
   ],
   "source": [
    "output_file_path = \"C:/Users/dratnadiwakara2/Documents/OneDrive - Louisiana State University/Raw Data/Dewey/data_ai_match.csv\"  \n",
    "\n",
    "with tqdm(total=len(sod) ) as pbar:\n",
    "    with open(output_file_path, \"a\") as output_file:\n",
    "        for index1, row1 in sod.iterrows():\n",
    "            for index2, row2 in data_ai.iterrows():\n",
    "                try:\n",
    "                        similarity_score = address_similarity(row1['bank_name'], row2['Company_Name'])\n",
    "                        if similarity_score >= 50:# & row1['bank_name'][:3].lower() == row2['Company_Name'][:3].lower(): \n",
    "                            output_file.write(f\"{row1['bank_name']}|{row1['RSSDID']}|{row2['Company_Name']}|{row2['App']}|{row2['App_Name']}|{similarity_score}\\n\")\n",
    "                except:\n",
    "                    pass\n",
    "            pbar.update(1)"
   ],
   "metadata": {
    "collapsed": false,
    "ExecuteTime": {
     "end_time": "2023-11-18T15:06:04.258850600Z",
     "start_time": "2023-11-18T14:29:35.549052600Z"
    }
   },
   "id": "e0c046b7bf762939"
  },
  {
   "cell_type": "code",
   "execution_count": 33,
   "outputs": [
    {
     "name": "stdout",
     "output_type": "stream",
     "text": [
      "BERKSHIRE BANK MUNICIPAL BANK|3384466|Northfield Bank|533181082|Northfield Bank – Mobile Bank|34\n"
     ]
    }
   ],
   "source": [
    "print((f\"{row1['bank_name']}|{row1['RSSDID']}|{row2['Company_Name']}|{row2['App']}|{row2['App_Name']}|{similarity_score}\\n\"))"
   ],
   "metadata": {
    "collapsed": false,
    "ExecuteTime": {
     "end_time": "2023-11-18T14:28:52.616006100Z",
     "start_time": "2023-11-18T14:28:52.527583200Z"
    }
   },
   "id": "6202995c8322ec7c"
  }
 ],
 "metadata": {
  "kernelspec": {
   "display_name": "Python 3",
   "language": "python",
   "name": "python3"
  },
  "language_info": {
   "codemirror_mode": {
    "name": "ipython",
    "version": 2
   },
   "file_extension": ".py",
   "mimetype": "text/x-python",
   "name": "python",
   "nbconvert_exporter": "python",
   "pygments_lexer": "ipython2",
   "version": "2.7.6"
  }
 },
 "nbformat": 4,
 "nbformat_minor": 5
}
