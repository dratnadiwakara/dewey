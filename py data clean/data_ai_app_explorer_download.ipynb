{
 "cells": [
  {
   "cell_type": "code",
   "execution_count": 1,
   "metadata": {
    "collapsed": true
   },
   "outputs": [],
   "source": [
    "import pandas as pd\n",
    "import time\n",
    "import random\n",
    "import csv\n",
    "import pyautogui\n",
    "import pyperclip\n",
    "from io import StringIO"
   ]
  },
  {
   "cell_type": "code",
   "execution_count": 23,
   "outputs": [],
   "source": [
    "file_path = 'C:/Users/dimut/Downloads/app_explorer/'\n",
    "passno=0\n",
    "pyautogui.press('home')\n",
    "for i in range(39,72):\n",
    "    if passno>=3:\n",
    "        break\n",
    "    try:\n",
    "        pyautogui.moveTo(480, 340, duration=0.5)\n",
    "        pyautogui.doubleClick()\n",
    "        pyautogui.moveTo(1850, 800, duration=0.5)\n",
    "        time.sleep(2)\n",
    "        pyautogui.keyDown('shift')\n",
    "        pyautogui.click()\n",
    "        pyautogui.keyUp('shift')\n",
    "        pyautogui.hotkey('ctrl', 'c')\n",
    "        clipboard_content = pyperclip.paste()\n",
    "        time.sleep(2)\n",
    "        csv_text = clipboard_content.replace('\\r\\n\\r\\n\\r\\n', '\\n')\n",
    "        csv_text = csv_text.replace('\\r\\n',',')\n",
    "        csv_file = StringIO(csv_text)\n",
    "        reader = csv.reader(csv_file)\n",
    "\n",
    "        fn = file_path+str(i)+'_bank_description.csv'\n",
    "        with open(fn, 'w', newline='') as output_file:\n",
    "            writer = csv.writer(output_file)\n",
    "            writer.writerows(reader)\n",
    "\n",
    "        time.sleep(5)\n",
    "        pyautogui.press('end')\n",
    "        pyautogui.moveTo(1850, 790, duration=0.5)\n",
    "        pyautogui.click()\n",
    "        time.sleep(5)\n",
    "        pyautogui.press('home')\n",
    "\n",
    "        passno=0\n",
    "    except:\n",
    "        passno = passno+1\n",
    "        pyautogui.press('f5')\n",
    "        time.sleep(5)\n",
    "        pass"
   ],
   "metadata": {
    "collapsed": false
   }
  },
  {
   "cell_type": "code",
   "execution_count": 21,
   "outputs": [
    {
     "data": {
      "text/plain": "3"
     },
     "execution_count": 21,
     "metadata": {},
     "output_type": "execute_result"
    }
   ],
   "source": [
    "passno"
   ],
   "metadata": {
    "collapsed": false
   }
  },
  {
   "cell_type": "code",
   "execution_count": 6,
   "outputs": [],
   "source": [
    "pyautogui.moveTo(100, 380, duration=0.5)\n",
    "pyautogui.doubleClick()\n",
    "time.sleep(1)\n",
    "pyautogui.moveTo(1850, 840, duration=0.5)\n",
    "time.sleep(1)\n",
    "pyautogui.keyDown('shift')\n",
    "pyautogui.click()\n",
    "pyautogui.keyUp('shift')\n",
    "time.sleep(1)\n",
    "pyautogui.hotkey('ctrl', 'c')\n",
    "time.sleep(1)\n",
    "clipboard_content = pyperclip.paste()\n",
    "time.sleep(1)\n",
    "\n",
    "time.sleep(3)\n",
    "pyautogui.press('end')\n",
    "time.sleep(1)\n",
    "pyautogui.moveTo(1850, 750, duration=0.5)\n",
    "time.sleep(1)\n",
    "pyautogui.click()"
   ],
   "metadata": {
    "collapsed": false
   }
  },
  {
   "cell_type": "code",
   "execution_count": 4,
   "outputs": [
    {
     "data": {
      "text/plain": "'App\\r\\nIQ Classification\\r\\nDownloads\\r\\nCumulative Downloads\\r\\nActive Users\\r\\nInstall Base\\r\\nUsage Penetration\\r\\nInstall Penetration\\r\\nAvg Sessions / User\\r\\nAvg Session Duration\\r\\nAvg Time / User\\r\\nAvg Active Days\\r\\n% Active Days\\r\\n\\r\\n\\r\\nTellus: High Yield Savings\\r\\nTellus App\\r\\n\\r\\n\\r\\nFirst Horizon Mobile Banking\\r\\nFirst Tennessee Bank\\r\\n\\r\\n\\r\\nComerica Mobile Banking®\\r\\nComerica Bank\\r\\n\\r\\n\\r\\nelroy - Your Money, Your Way\\r\\nBoss Revolution\\r\\n\\r\\n\\r\\nAccounts 2 Checkbook\\r\\nSVT software\\r\\n\\r\\n\\r\\nCheckbook - Ledger\\r\\nMobile Innovations LLC\\r\\n\\r\\n\\r\\nUmpqua Bank Mobile Banking\\r\\nUmpqua Holdings Corporation\\r\\n\\r\\n\\r\\nالبورصة العراقية Iraq Borsa\\r\\nameer hofayz\\r\\n\\r\\n\\r\\nFirstBank Mobile Banking App\\r\\nFirstBank Holding Company\\r\\n\\r\\n\\r\\nLumbee Guaranty Bank Mobile\\r\\nLumbee Guaranty Bank\\r\\nPersonal Investing\\r\\nFinance\\r\\n473\\r\\n129k\\r\\nN/A\\r\\nN/A\\r\\nN/A\\r\\nN/A\\r\\nN/A\\r\\nN/A\\r\\nN/A\\r\\nN/A\\r\\nN/A\\r\\nMobile Banking\\r\\nFinance\\r\\n434\\r\\n851k\\r\\n57.7k\\r\\nN/A\\r\\n0.03%\\r\\nN/A\\r\\n3.41\\r\\n0:01:35\\r\\n0:05:26\\r\\nN/A\\r\\nN/A\\r\\nMobile Banking\\r\\nFinance\\r\\n409\\r\\n566k\\r\\n215\\r\\nN/A\\r\\n<0.01%\\r\\nN/A\\r\\n5.12\\r\\n0:00:33\\r\\n0:02:47\\r\\nN/A\\r\\nN/A\\r\\nDigital Wallets & Payment\\r\\nFinance\\r\\n401\\r\\n1.7k\\r\\nN/A\\r\\nN/A\\r\\nN/A\\r\\nN/A\\r\\nN/A\\r\\nN/A\\r\\nN/A\\r\\nN/A\\r\\nN/A\\r\\nBudget & Expense Tracker\\r\\nFinance\\r\\n398\\r\\n125k\\r\\nN/A\\r\\nN/A\\r\\nN/A\\r\\nN/A\\r\\nN/A\\r\\nN/A\\r\\nN/A\\r\\nN/A\\r\\nN/A\\r\\nBudget & Expense Tracker\\r\\nFinance\\r\\n388\\r\\n455k\\r\\nN/A\\r\\nN/A\\r\\nN/A\\r\\nN/A\\r\\nN/A\\r\\nN/A\\r\\nN/A\\r\\nN/A\\r\\nN/A\\r\\nMobile Banking\\r\\nFinance\\r\\n388\\r\\n392k\\r\\n63.5k\\r\\nN/A\\r\\n0.03%\\r\\nN/A\\r\\n1.69\\r\\n0:01:55\\r\\n0:03:15\\r\\nN/A\\r\\nN/A\\r\\nFinancial News\\r\\nFinance\\r\\n384\\r\\n187k\\r\\nN/A\\r\\nN/A\\r\\nN/A\\r\\nN/A\\r\\nN/A\\r\\nN/A\\r\\nN/A\\r\\nN/A\\r\\nN/A\\r\\nMobile Banking\\r\\nFinance\\r\\n373\\r\\n716k\\r\\n103k\\r\\nN/A\\r\\n0.05%\\r\\nN/A\\r\\n1.58\\r\\n0:01:36\\r\\n0:02:32\\r\\nN/A\\r\\nN/A\\r\\nMobile Banking\\r\\nFinance\\r\\n339\\r\\n339\\r\\nN/A\\r\\nN/A\\r\\nN/A\\r\\nN/A\\r\\nN/A\\r\\nN/A\\r\\nN/A\\r\\nN/A\\r\\nN/A\\r\\n'"
     },
     "execution_count": 4,
     "metadata": {},
     "output_type": "execute_result"
    }
   ],
   "source": [
    "clipboard_content"
   ],
   "metadata": {
    "collapsed": false
   }
  },
  {
   "cell_type": "code",
   "execution_count": 5,
   "outputs": [],
   "source": [],
   "metadata": {
    "collapsed": false
   }
  },
  {
   "cell_type": "code",
   "execution_count": 13,
   "outputs": [],
   "source": [
    "file_path = 'C:/Users/dimut/Downloads/analyze_results/'\n",
    "pyautogui.press('home')\n",
    "for i in range(50,90):\n",
    "    try:\n",
    "        pyautogui.moveTo(100, 380, duration=0.5)\n",
    "        pyautogui.doubleClick()\n",
    "        time.sleep(1)\n",
    "        pyautogui.moveTo(1850, 840, duration=0.5)\n",
    "        time.sleep(1)\n",
    "        pyautogui.keyDown('shift')\n",
    "        pyautogui.click()\n",
    "        pyautogui.keyUp('shift')\n",
    "        time.sleep(1)\n",
    "        pyautogui.hotkey('ctrl', 'c')\n",
    "        time.sleep(1)\n",
    "        clipboard_content = pyperclip.paste()\n",
    "        time.sleep(1)\n",
    "        csv_text = clipboard_content.replace('\\r\\n\\r\\n\\r\\n', '\\n')\n",
    "        csv_text = csv_text.replace('\\r\\n',',')\n",
    "        csv_file = StringIO(csv_text)\n",
    "        time.sleep(1)\n",
    "        reader = csv.reader(csv_file)\n",
    "        time.sleep(1)\n",
    "        fn = file_path+str(i)+'_bank_description.csv'\n",
    "        with open(fn, 'w', newline='') as output_file:\n",
    "            writer = csv.writer(output_file)\n",
    "            writer.writerows(reader)\n",
    "\n",
    "        time.sleep(3)\n",
    "        pyautogui.press('end')\n",
    "        time.sleep(1)\n",
    "        pyautogui.moveTo(1850, 750, duration=0.5)\n",
    "        time.sleep(1)\n",
    "        pyautogui.click()\n",
    "        time.sleep(20)\n",
    "        pyautogui.press('home')\n",
    "        time.sleep(1)\n",
    "    except:\n",
    "        pyautogui.press('f5')\n",
    "        time.sleep(3)\n",
    "        pyautogui.press('end')\n",
    "        time.sleep(1)\n",
    "        pyautogui.moveTo(1850, 750, duration=0.5)\n",
    "        time.sleep(1)\n",
    "        pyautogui.click()\n",
    "        time.sleep(20)\n",
    "        pyautogui.press('home')\n",
    "        time.sleep(5)\n",
    "        pass"
   ],
   "metadata": {
    "collapsed": false
   }
  },
  {
   "cell_type": "code",
   "execution_count": 7,
   "outputs": [
    {
     "data": {
      "text/plain": "'App\\r\\nIQ Classification\\r\\nDownloads\\r\\nCumulative Downloads\\r\\nActive Users\\r\\nInstall Base\\r\\nUsage Penetration\\r\\nInstall Penetration\\r\\nAvg Sessions / User\\r\\nAvg Session Duration\\r\\nAvg Time / User\\r\\nAvg Active Days\\r\\n% Active Days\\r\\n\\r\\n\\r\\nX World Wallet: Visa Card\\r\\nRev Worldwide\\r\\n\\r\\n\\r\\nKeyBank Mobile Banking\\r\\nKeyCorp\\r\\n\\r\\n\\r\\nMAJORITY: Mobile banking\\r\\nMajority USA\\r\\n\\r\\n\\r\\nWoodforest Mobile Banking\\r\\nWoodforest National Bank\\r\\n\\r\\n\\r\\nU.S. Bank ReliaCard\\r\\nU.S. Bancorp\\r\\n\\r\\n\\r\\nU.S. Bank ReliaCard\\r\\nU.S. Bancorp\\r\\n\\r\\n\\r\\nCIT Bank\\r\\nCIT Group\\r\\n\\r\\n\\r\\nMyBlock\\r\\nH&R Block\\r\\n\\r\\n\\r\\nWoodforest Mobile Banking\\r\\nWoodforest National Bank\\r\\n\\r\\n\\r\\nAmerica First Credit Union\\r\\nAmerica First Credit Union\\r\\nDigital Wallets & Payment\\r\\nFinance\\r\\n59.6k\\r\\n66.2k\\r\\n59.5k\\r\\n186k\\r\\n0.04%\\r\\n0.14%\\r\\n6.83\\r\\n0:01:40\\r\\n0:11:24\\r\\n1.71\\r\\n5.59%\\r\\nMobile Banking\\r\\nFinance\\r\\n58.1k\\r\\n3.37m\\r\\n554k\\r\\nN/A\\r\\n0.28%\\r\\nN/A\\r\\n21.08\\r\\n0:01:08\\r\\n0:23:49\\r\\nN/A\\r\\nN/A\\r\\nMobile Banking\\r\\nFinance\\r\\n56.4k\\r\\n342k\\r\\nN/A\\r\\nN/A\\r\\nN/A\\r\\nN/A\\r\\nN/A\\r\\nN/A\\r\\nN/A\\r\\nN/A\\r\\nN/A\\r\\nMobile Banking\\r\\nFinance\\r\\n55.3k\\r\\n2.96m\\r\\n349k\\r\\nN/A\\r\\n0.18%\\r\\nN/A\\r\\n26.53\\r\\n0:00:16\\r\\n0:07:11\\r\\nN/A\\r\\nN/A\\r\\nMobile Banking\\r\\nFinance\\r\\n54.6k\\r\\n2.67m\\r\\n72.9k\\r\\nN/A\\r\\n0.04%\\r\\nN/A\\r\\n8.25\\r\\n0:00:53\\r\\n0:07:14\\r\\nN/A\\r\\nN/A\\r\\nMobile Banking\\r\\nFinance\\r\\n47.0k\\r\\n2.07m\\r\\n105k\\r\\n609k\\r\\n0.08%\\r\\n0.44%\\r\\n9.00\\r\\n0:01:04\\r\\n0:09:36\\r\\n3.83\\r\\n12.51%\\r\\nMobile Banking\\r\\nFinance\\r\\n45.0k\\r\\n239k\\r\\nN/A\\r\\nN/A\\r\\nN/A\\r\\nN/A\\r\\nN/A\\r\\nN/A\\r\\nN/A\\r\\nN/A\\r\\nN/A\\r\\nPersonal Taxes\\r\\nFinance\\r\\n44.5k\\r\\n5.72m\\r\\n218k\\r\\nN/A\\r\\n0.11%\\r\\nN/A\\r\\n4.84\\r\\n0:01:19\\r\\n0:06:23\\r\\nN/A\\r\\nN/A\\r\\nMobile Banking\\r\\nFinance\\r\\n44.1k\\r\\n2.34m\\r\\n455k\\r\\n456k\\r\\n0.33%\\r\\n0.33%\\r\\n37.78\\r\\n0:00:55\\r\\n0:34:27\\r\\n10.82\\r\\n35.27%\\r\\nMobile Banking\\r\\nFinance\\r\\n34.7k\\r\\n1.35m\\r\\n869k\\r\\nN/A\\r\\n0.44%\\r\\nN/A\\r\\n7.61\\r\\n0:01:43\\r\\n0:13:01\\r\\nN/A\\r\\nN/A\\r\\n'"
     },
     "execution_count": 7,
     "metadata": {},
     "output_type": "execute_result"
    }
   ],
   "source": [
    "clipboard_content"
   ],
   "metadata": {
    "collapsed": false
   }
  },
  {
   "cell_type": "code",
   "execution_count": 91,
   "outputs": [],
   "source": [
    "pyautogui.moveTo(100, 790, duration=0.5)\n",
    "pyautogui.click()\n"
   ],
   "metadata": {
    "collapsed": false
   }
  },
  {
   "cell_type": "code",
   "execution_count": 85,
   "outputs": [],
   "source": [
    "\n",
    "\n",
    "\n"
   ],
   "metadata": {
    "collapsed": false
   }
  },
  {
   "cell_type": "code",
   "execution_count": 79,
   "outputs": [
    {
     "name": "stdout",
     "output_type": "stream",
     "text": [
      "App\r\n",
      "IQ Classification\r\n",
      "Downloads\r\n",
      "Cumulative Downloads\r\n",
      "Active Users\r\n",
      "Install Base\r\n",
      "Usage Penetration\r\n",
      "Install Penetration\r\n",
      "Avg Sessions / User\r\n",
      "Avg Session Duration\r\n",
      "Avg Time / User\r\n",
      "Avg Active Days\r\n",
      "% Active Days\r\n",
      "\r\n",
      "\r\n",
      "Experian®\r\n",
      "Experian\r\n",
      "\r\n",
      "\r\n",
      "Capital One Mobile\r\n",
      "Capital One\r\n",
      "\r\n",
      "\r\n",
      "Schwab Mobile\r\n",
      "Charles Schwab\r\n",
      "\r\n",
      "\r\n",
      "Chase Mobile\r\n",
      "JPMorgan Chase\r\n",
      "\r\n",
      "\r\n",
      "Brigit: Fast Cash Advance\r\n",
      "Brigit\r\n",
      "\r\n",
      "\r\n",
      "Robinhood: Investing for All\r\n",
      "Robinhood\r\n",
      "\r\n",
      "\r\n",
      "Bank of America Mobile Banking\r\n",
      "Bank of America\r\n",
      "\r\n",
      "\r\n",
      "Intuit Credit Karma\r\n",
      "Credit Karma\r\n",
      "\r\n",
      "\r\n",
      "Albert: Banking on you\r\n",
      "Albert Corporation\r\n",
      "\r\n",
      "\r\n",
      "Providers: EBT, Mobile Banking\r\n",
      "Propel\r\n",
      "Credit Score\r\n",
      "Finance\r\n",
      "3.79m\r\n",
      "17.3m\r\n",
      "4.32m\r\n",
      "N/A\r\n",
      "2.22%\r\n",
      "N/A\r\n",
      "6.40\r\n",
      "0:01:40\r\n",
      "0:10:37\r\n",
      "N/A\r\n",
      "N/A\r\n",
      "Mobile Banking\r\n",
      "Finance\r\n",
      "3.68m\r\n",
      "40.4m\r\n",
      "10.6m\r\n",
      "12.0m\r\n",
      "7.73%\r\n",
      "8.74%\r\n",
      "16.98\r\n",
      "0:01:01\r\n",
      "0:17:13\r\n",
      "5.93\r\n",
      "19.50%\r\n",
      "Personal Investing\r\n",
      "Finance\r\n",
      "2.71m\r\n",
      "7.14m\r\n",
      "1.62m\r\n",
      "N/A\r\n",
      "0.83%\r\n",
      "N/A\r\n",
      "28.06\r\n",
      "0:01:30\r\n",
      "0:42:08\r\n",
      "N/A\r\n",
      "N/A\r\n",
      "Mobile Banking\r\n",
      "Finance\r\n",
      "2.68m\r\n",
      "48.2m\r\n",
      "11.6m\r\n",
      "11.7m\r\n",
      "8.45%\r\n",
      "8.56%\r\n",
      "23.47\r\n",
      "0:01:01\r\n",
      "0:23:53\r\n",
      "8.02\r\n",
      "26.36%\r\n",
      "Credit Score\r\n",
      "Finance\r\n",
      "2.64m\r\n",
      "8.06m\r\n",
      "1.09m\r\n",
      "N/A\r\n",
      "0.56%\r\n",
      "N/A\r\n",
      "6.59\r\n",
      "0:01:12\r\n",
      "0:07:54\r\n",
      "N/A\r\n",
      "N/A\r\n",
      "Personal Investing\r\n",
      "Finance\r\n",
      "2.21m\r\n",
      "33.0m\r\n",
      "6.34m\r\n",
      "N/A\r\n",
      "3.26%\r\n",
      "N/A\r\n",
      "50.01\r\n",
      "0:01:50\r\n",
      "1:32:04\r\n",
      "N/A\r\n",
      "N/A\r\n",
      "Mobile Banking\r\n",
      "Finance\r\n",
      "2.15m\r\n",
      "44.6m\r\n",
      "7.46m\r\n",
      "7.82m\r\n",
      "5.44%\r\n",
      "5.71%\r\n",
      "27.45\r\n",
      "0:01:03\r\n",
      "0:29:02\r\n",
      "9.24\r\n",
      "30.37%\r\n",
      "Credit Score\r\n",
      "Finance\r\n",
      "2.10m\r\n",
      "44.0m\r\n",
      "8.29m\r\n",
      "10.8m\r\n",
      "6.05%\r\n",
      "7.91%\r\n",
      "15.05\r\n",
      "0:00:55\r\n",
      "0:13:53\r\n",
      "6.33\r\n",
      "20.80%\r\n",
      "Mobile Banking\r\n",
      "Finance\r\n",
      "1.97m\r\n",
      "9.32m\r\n",
      "666k\r\n",
      "N/A\r\n",
      "0.34%\r\n",
      "N/A\r\n",
      "14.52\r\n",
      "0:01:09\r\n",
      "0:16:49\r\n",
      "N/A\r\n",
      "N/A\r\n",
      "Public Service\r\n",
      "Utility & Productivity\r\n",
      "1.95m\r\n",
      "17.2m\r\n",
      "5.06m\r\n",
      "7.83m\r\n",
      "3.69%\r\n",
      "5.72%\r\n",
      "17.73\r\n",
      "0:01:06\r\n",
      "0:19:28\r\n",
      "8.08\r\n",
      "26.58%\r\n",
      "\n"
     ]
    }
   ],
   "source": [
    "print(clipboard_content)"
   ],
   "metadata": {
    "collapsed": false
   }
  },
  {
   "cell_type": "code",
   "execution_count": 36,
   "outputs": [],
   "source": [
    "pyautogui.moveTo(480, 340, duration=0.5)\n",
    "pyautogui.doubleClick()\n",
    "pyautogui.moveTo(1850, 800, duration=0.5)\n",
    "pyautogui.keyDown('shift')\n",
    "pyautogui.click()\n",
    "pyautogui.keyUp('shift')\n",
    "pyautogui.hotkey('ctrl', 'c')\n",
    "clipboard_content = pyperclip.paste()\n",
    "time.sleep(10)\n",
    "pyautogui.press('end')\n",
    "pyautogui.moveTo(1850, 790, duration=0.5)\n",
    "pyautogui.click()\n",
    "time.sleep(10)\n",
    "pyautogui.press('home')"
   ],
   "metadata": {
    "collapsed": false
   }
  },
  {
   "cell_type": "code",
   "execution_count": 55,
   "outputs": [],
   "source": [
    "csv_text = clipboard_content.replace('\\r\\n\\r\\n\\r\\n', '\\n')\n",
    "csv_text = csv_text.replace('\\r\\n',',')\n",
    "csv_file = StringIO(csv_text)\n",
    "reader = csv.reader(csv_file)"
   ],
   "metadata": {
    "collapsed": false
   }
  },
  {
   "cell_type": "code",
   "execution_count": 54,
   "outputs": [
    {
     "data": {
      "text/plain": "'App,Company HQ,Category,Initial Release Date,App Store\\nKearny Bank Mobile Banking,Kearny Bank,United States,Finance (Applications),Jun 22, 2015,Apple App Store\\nApple Bank Mobile Banking,Apple Bank,United States,Finance (Applications),Mar 13, 2016,Apple App Store\\nZions Bank Mobile Banking,Zions Bancorporation,United States,Finance (Applications),Dec 7, 2009,Apple App Store\\nFulton Bank Mobile Banking,Fulton Financial Corporation,United States,Finance (Applications),Aug 24, 2013,Apple App Store\\nCitizens Bank Mobile Banking,Citizens Bank,United States,Finance (Applications),Sep 16, 2010,Apple App Store\\nCathay Bank,Cathay Bank,United States,Finance (Applications),Aug 12, 2013,Apple App Store\\nStockman Bank – Mobile Banking,Stockman Bank of Montana,United States,Finance (Applications),Dec 4, 2019,Apple App Store\\nProvident Bank,Provident Financial Services,United States,Finance (Applications),Mar 5, 2020,Apple App Store\\nAcademy Bank,Dickinson Financial,United States,Finance (Applications),Sep 3, 2012,Apple App Store\\nSimmons Bank,Simmons First National Corporation,United States,Finance (Applications),Oct 14, 2019,Apple App Store,'"
     },
     "execution_count": 54,
     "metadata": {},
     "output_type": "execute_result"
    }
   ],
   "source": [
    "csv_text = clipboard_content.replace('\\r\\n\\r\\n\\r\\n', '\\n')\n",
    "csv_text = csv_text.replace('\\r\\n',',')\n",
    "csv_text"
   ],
   "metadata": {
    "collapsed": false
   }
  },
  {
   "cell_type": "code",
   "execution_count": 51,
   "outputs": [
    {
     "data": {
      "text/plain": "'App\\r\\nCompany HQ\\r\\nCategory\\r\\nInitial Release Date\\r\\nApp Store\\r\\n\\r\\n\\r\\nKearny Bank Mobile Banking\\r\\nKearny Bank\\r\\nUnited States\\r\\nFinance (Applications)\\r\\nJun 22, 2015\\r\\nApple App Store\\r\\n\\r\\n\\r\\nApple Bank Mobile Banking\\r\\nApple Bank\\r\\nUnited States\\r\\nFinance (Applications)\\r\\nMar 13, 2016\\r\\nApple App Store\\r\\n\\r\\n\\r\\nZions Bank Mobile Banking\\r\\nZions Bancorporation\\r\\nUnited States\\r\\nFinance (Applications)\\r\\nDec 7, 2009\\r\\nApple App Store\\r\\n\\r\\n\\r\\nFulton Bank Mobile Banking\\r\\nFulton Financial Corporation\\r\\nUnited States\\r\\nFinance (Applications)\\r\\nAug 24, 2013\\r\\nApple App Store\\r\\n\\r\\n\\r\\nCitizens Bank Mobile Banking\\r\\nCitizens Bank\\r\\nUnited States\\r\\nFinance (Applications)\\r\\nSep 16, 2010\\r\\nApple App Store\\r\\n\\r\\n\\r\\nCathay Bank\\r\\nCathay Bank\\r\\nUnited States\\r\\nFinance (Applications)\\r\\nAug 12, 2013\\r\\nApple App Store\\r\\n\\r\\n\\r\\nStockman Bank – Mobile Banking\\r\\nStockman Bank of Montana\\r\\nUnited States\\r\\nFinance (Applications)\\r\\nDec 4, 2019\\r\\nApple App Store\\r\\n\\r\\n\\r\\nProvident Bank\\r\\nProvident Financial Services\\r\\nUnited States\\r\\nFinance (Applications)\\r\\nMar 5, 2020\\r\\nApple App Store\\r\\n\\r\\n\\r\\nAcademy Bank\\r\\nDickinson Financial\\r\\nUnited States\\r\\nFinance (Applications)\\r\\nSep 3, 2012\\r\\nApple App Store\\r\\n\\r\\n\\r\\nSimmons Bank\\r\\nSimmons First National Corporation\\r\\nUnited States\\r\\nFinance (Applications)\\r\\nOct 14, 2019\\r\\nApple App Store\\r\\n'"
     },
     "execution_count": 51,
     "metadata": {},
     "output_type": "execute_result"
    }
   ],
   "source": [
    "csv_text"
   ],
   "metadata": {
    "collapsed": false
   }
  },
  {
   "cell_type": "code",
   "execution_count": 56,
   "outputs": [],
   "source": [
    "fn = file_path+str(last_file_no)+'.csv'\n",
    "with open(fn, 'w', newline='') as output_file:\n",
    "    writer = csv.writer(output_file)\n",
    "    writer.writerows(reader)"
   ],
   "metadata": {
    "collapsed": false
   }
  },
  {
   "cell_type": "code",
   "execution_count": 30,
   "outputs": [
    {
     "data": {
      "text/plain": "'App\\r\\nCompany HQ\\r\\nCategory\\r\\nInitial Release Date\\r\\nApp Store\\r\\n\\r\\n\\r\\nBank of America Mobile Banking\\r\\nBank of America\\r\\nUnited States\\r\\nFinance (Applications)\\r\\nJul 10, 2008\\r\\nApple App Store\\r\\n\\r\\n\\r\\nBank of America Mobile Banking\\r\\nBank of America\\r\\nUnited States\\r\\nFinance (Applications)\\r\\nNov 20, 2011\\r\\nGoogle Play Store\\r\\n\\r\\n\\r\\nChase Mobile®: Bank & Invest\\r\\nJPMorgan Chase\\r\\nUnited States\\r\\nFinance (Applications)\\r\\nDec 14, 2008\\r\\nApple App Store\\r\\n\\r\\n\\r\\nChime – Mobile Banking\\r\\nChime\\r\\nUnited States\\r\\nFinance (Applications)\\r\\nMar 27, 2014\\r\\nGoogle Play Store\\r\\n\\r\\n\\r\\nChime – Mobile Banking\\r\\nChime\\r\\nUnited States\\r\\nFinance (Applications)\\r\\nMar 15, 2014\\r\\nApple App Store\\r\\n\\r\\n\\r\\nUmpqua Bank Mobile Banking\\r\\nUmpqua Holdings Corporation\\r\\nUnited States\\r\\nFinance (Applications)\\r\\nJan 20, 2015\\r\\nApple App Store\\r\\n\\r\\n\\r\\nLiberty Bank Mobile Banking\\r\\nLiberty Bank For Savings\\r\\nUnited States\\r\\nFinance (Applications)\\r\\nJan 21, 2013\\r\\nApple App Store\\r\\n\\r\\n\\r\\nOneLocal Bank Mobile Banking\\r\\nNorwood Cooperative Bank\\r\\nUnited States\\r\\nFinance (Applications)\\r\\nOct 22, 2012\\r\\nApple App Store\\r\\n\\r\\n\\r\\nHeartland Bank Mobile Banking\\r\\nHeartland Bank and Trust Company\\r\\nUnited States\\r\\nFinance (Applications)\\r\\nJan 9, 2012\\r\\nApple App Store\\r\\n\\r\\n\\r\\nRichwood Bank Mobile Banking\\r\\nRichwood Banking\\r\\nUnited States\\r\\nFinance (Applications)\\r\\nApr 27, 2023\\r\\nApple App Store\\r\\n'"
     },
     "execution_count": 30,
     "metadata": {},
     "output_type": "execute_result"
    }
   ],
   "source": [
    "clipboard_content"
   ],
   "metadata": {
    "collapsed": false
   }
  }
 ],
 "metadata": {
  "kernelspec": {
   "display_name": "Python 3",
   "language": "python",
   "name": "python3"
  },
  "language_info": {
   "codemirror_mode": {
    "name": "ipython",
    "version": 2
   },
   "file_extension": ".py",
   "mimetype": "text/x-python",
   "name": "python",
   "nbconvert_exporter": "python",
   "pygments_lexer": "ipython2",
   "version": "2.7.6"
  }
 },
 "nbformat": 4,
 "nbformat_minor": 0
}
