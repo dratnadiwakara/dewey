{
 "cells": [
  {
   "cell_type": "markdown",
   "source": [
    "This file uses cleaned poi and sod data in ft_poi_sod_clean.ipynb (second section) and for each observation in sod, finds the closest one in poi using lat and long"
   ],
   "metadata": {
    "collapsed": false
   },
   "id": "de7749bd6278717d"
  },
  {
   "cell_type": "code",
   "execution_count": 1,
   "outputs": [],
   "source": [
    "import time\n",
    "from tqdm import tqdm\n",
    "import requests\n",
    "import pandas as pd\n",
    "import os\n",
    "from io import BytesIO\n",
    "import gzip\n",
    "from fuzzywuzzy import fuzz\n",
    "from global_variables import *\n",
    "from geopy.distance import geodesic\n",
    "import placekey as pk"
   ],
   "metadata": {
    "collapsed": false,
    "ExecuteTime": {
     "end_time": "2023-10-10T00:30:48.703108Z",
     "start_time": "2023-10-10T00:30:47.780181Z"
    }
   },
   "id": "7735446b8c2ac3b1"
  },
  {
   "cell_type": "code",
   "execution_count": 3,
   "outputs": [],
   "source": [
    "poi_file = \"C:/Users/dratnadiwakara2/Documents/OneDrive - Louisiana State University/Raw Data/Dewey/poi_with_usps_address.csv.gz\" \n",
    "sod_file = \"C:/Users/dratnadiwakara2/Documents/OneDrive - Louisiana State University/Raw Data/Dewey/sod_data_branches_with_usps_address.csv.gz\" \n",
    "poi = pd.read_csv(poi_file, compression='gzip')\n",
    "poi = poi.drop_duplicates()\n",
    "sod = pd.read_csv(sod_file, compression='gzip')\n",
    "sod = sod.drop_duplicates(subset='usps_address', keep='first')"
   ],
   "metadata": {
    "collapsed": false,
    "ExecuteTime": {
     "end_time": "2023-10-10T00:31:42.653375100Z",
     "start_time": "2023-10-10T00:31:26.308458800Z"
    }
   },
   "id": "5eba85f2fb68305c"
  },
  {
   "cell_type": "code",
   "execution_count": null,
   "outputs": [],
   "source": [
    "poi.info()"
   ],
   "metadata": {
    "collapsed": false
   },
   "id": "47ccaf0fd74c03fa"
  },
  {
   "cell_type": "code",
   "execution_count": null,
   "outputs": [],
   "source": [
    "sod.info()"
   ],
   "metadata": {
    "collapsed": false
   },
   "id": "64aa263e380cc4d2"
  },
  {
   "cell_type": "code",
   "execution_count": 4,
   "outputs": [],
   "source": [
    "poi_sod_exact_match = poi.merge(sod[['usps_address', 'NAMEBR', 'NAMEFULL', 'SIMS_LATITUDE', 'SIMS_LONGITUDE', 'UNINUMBR', 'CERT','full_address_sod']], on='usps_address', how='inner')\n",
    "poi_sod_exact_match = poi_sod_exact_match.dropna(subset=['usps_address'])\n",
    "poi_sod_exact_match = poi_sod_exact_match.drop_duplicates(subset=['PLACEKEY', 'UNINUMBR'])\n",
    "# poi_sod_exact_match = poi_sod_exact_match[poi_sod_exact_match.apply(lambda x: x['NAMEFULL'].lower()[0] == x['LOCATION_NAME'].lower()[0], axis=1)]"
   ],
   "metadata": {
    "collapsed": false,
    "ExecuteTime": {
     "end_time": "2023-10-10T00:31:52.239618Z",
     "start_time": "2023-10-10T00:31:50.165777Z"
    }
   },
   "id": "67dfb3df519eea5c"
  },
  {
   "cell_type": "code",
   "execution_count": 86,
   "outputs": [
    {
     "name": "stdout",
     "output_type": "stream",
     "text": [
      "<class 'pandas.core.frame.DataFrame'>\n",
      "Index: 77234 entries, 0 to 143128\n",
      "Data columns (total 23 columns):\n",
      " #   Column            Non-Null Count  Dtype  \n",
      "---  ------            --------------  -----  \n",
      " 0   level_0           77234 non-null  int64  \n",
      " 1   index             77234 non-null  int64  \n",
      " 2   CATEGORY_TAGS     63104 non-null  object \n",
      " 3   CITY              77234 non-null  object \n",
      " 4   LATITUDE          77234 non-null  float64\n",
      " 5   LONGITUDE         77234 non-null  float64\n",
      " 6   NAICS_CODE        77234 non-null  float64\n",
      " 7   PLACEKEY          77234 non-null  object \n",
      " 8   POSTAL_CODE       77234 non-null  int64  \n",
      " 9   REGION            77234 non-null  object \n",
      " 10  STREET_ADDRESS    77234 non-null  object \n",
      " 11  SUB_CATEGORY      77234 non-null  object \n",
      " 12  TOP_CATEGORY      77234 non-null  object \n",
      " 13  LOCATION_NAME     77234 non-null  object \n",
      " 14  full_address_poi  77234 non-null  object \n",
      " 15  usps_contents     77234 non-null  object \n",
      " 16  usps_address      77234 non-null  object \n",
      " 17  NAMEBR            77234 non-null  object \n",
      " 18  NAMEFULL          77234 non-null  object \n",
      " 19  SIMS_LATITUDE     77232 non-null  float64\n",
      " 20  SIMS_LONGITUDE    77232 non-null  float64\n",
      " 21  UNINUMBR          77234 non-null  int64  \n",
      " 22  CERT              77234 non-null  int64  \n",
      "dtypes: float64(5), int64(5), object(13)\n",
      "memory usage: 14.1+ MB\n"
     ]
    }
   ],
   "source": [
    "poi_sod_exact_match.info()"
   ],
   "metadata": {
    "collapsed": false,
    "ExecuteTime": {
     "end_time": "2023-10-08T14:43:22.325824800Z",
     "start_time": "2023-10-08T14:43:22.200713700Z"
    }
   },
   "id": "d14484b10dbcc3a9"
  },
  {
   "cell_type": "code",
   "execution_count": 7,
   "outputs": [],
   "source": [
    "sod_unmatched = sod[~sod['UNINUMBR'].isin(poi_sod_exact_match['UNINUMBR'])]\n",
    "\n",
    "sod_unmatched = sod_unmatched.copy()\n",
    "sod_unmatched['match_string'] = sod_unmatched['ZIPBR'].astype(str)  + sod_unmatched['ADDRESBR'].str[:3] #+ sod_unmatched['NAMEFULL'].str[:2]\n",
    "sod_unmatched.loc[:, 'match_string'] = sod_unmatched['match_string'].str.lower()"
   ],
   "metadata": {
    "collapsed": false,
    "ExecuteTime": {
     "end_time": "2023-10-10T00:32:24.647644400Z",
     "start_time": "2023-10-10T00:32:24.597781800Z"
    }
   },
   "id": "e602fb78b4a76bea"
  },
  {
   "cell_type": "code",
   "execution_count": 8,
   "outputs": [],
   "source": [
    "poi_sod_exact_match = poi_sod_exact_match[[\"CERT\", \"UNINUMBR\", \"NAMEFULL\", \"usps_address\", \"full_address_sod\", \"LOCATION_NAME\", \"PLACEKEY\"]]\n",
    "poi_sod_exact_match.loc[:, 'match_type'] = 'exact'"
   ],
   "metadata": {
    "collapsed": false,
    "ExecuteTime": {
     "end_time": "2023-10-10T00:32:49.503360300Z",
     "start_time": "2023-10-10T00:32:49.456801900Z"
    }
   },
   "id": "b744c2129ae35008"
  },
  {
   "cell_type": "code",
   "execution_count": 9,
   "outputs": [
    {
     "name": "stdout",
     "output_type": "stream",
     "text": [
      "<class 'pandas.core.frame.DataFrame'>\n",
      "Index: 17642 entries, 0 to 90923\n",
      "Data columns (total 19 columns):\n",
      " #   Column            Non-Null Count  Dtype  \n",
      "---  ------            --------------  -----  \n",
      " 0   level_0           17642 non-null  int64  \n",
      " 1   index             17642 non-null  int64  \n",
      " 2   YEAR              17642 non-null  int64  \n",
      " 3   CERT              17642 non-null  int64  \n",
      " 4   BRNUM             17642 non-null  int64  \n",
      " 5   UNINUMBR          17642 non-null  int64  \n",
      " 6   NAMEFULL          17642 non-null  object \n",
      " 7   ADDRESBR          17642 non-null  object \n",
      " 8   CITYBR            17642 non-null  object \n",
      " 9   CNTYNAMB          17642 non-null  object \n",
      " 10  STALPBR           17642 non-null  object \n",
      " 11  ZIPBR             17642 non-null  int64  \n",
      " 12  NAMEBR            17642 non-null  object \n",
      " 13  SIMS_LATITUDE     17642 non-null  float64\n",
      " 14  SIMS_LONGITUDE    17642 non-null  float64\n",
      " 15  full_address_sod  17642 non-null  object \n",
      " 16  usps_contents     17642 non-null  object \n",
      " 17  usps_address      17641 non-null  object \n",
      " 18  match_string      17642 non-null  object \n",
      "dtypes: float64(2), int64(7), object(10)\n",
      "memory usage: 2.7+ MB\n"
     ]
    }
   ],
   "source": [
    "sod_unmatched.info()"
   ],
   "metadata": {
    "collapsed": false,
    "ExecuteTime": {
     "end_time": "2023-10-10T00:32:54.642957200Z",
     "start_time": "2023-10-10T00:32:54.471227500Z"
    }
   },
   "id": "7a2d768f0ce0469e"
  },
  {
   "cell_type": "code",
   "execution_count": 10,
   "outputs": [],
   "source": [
    "def geo_to_placekey(row):\n",
    "    return pk.geo_to_placekey(row['SIMS_LATITUDE'], row['SIMS_LONGITUDE'])"
   ],
   "metadata": {
    "collapsed": false,
    "ExecuteTime": {
     "end_time": "2023-10-10T00:35:11.257860500Z",
     "start_time": "2023-10-10T00:35:11.239407600Z"
    }
   },
   "id": "424a7ca8de0d6b78"
  },
  {
   "cell_type": "code",
   "execution_count": 11,
   "outputs": [],
   "source": [
    "sod_unmatched['DERIVED_PLACEKEY'] = sod_unmatched.apply(geo_to_placekey, axis=1)"
   ],
   "metadata": {
    "collapsed": false,
    "ExecuteTime": {
     "end_time": "2023-10-10T00:35:14.186431900Z",
     "start_time": "2023-10-10T00:35:13.810616800Z"
    }
   },
   "id": "a76de1b270c34be1"
  },
  {
   "cell_type": "code",
   "execution_count": 12,
   "outputs": [],
   "source": [
    "all_us_poi_csv_path = 'C:/Users/dratnadiwakara2/Downloads/temp_dewey/all_us_poi.csv'\n",
    "poi_all_us = pd.read_csv(all_us_poi_csv_path+'.gz', compression='gzip')\n",
    "\n",
    "poi_all_us = poi_all_us.dropna(subset=['POSTAL_CODE'])\n",
    "\n",
    "poi_all_us['POSTAL_CODE'] = poi_all_us['POSTAL_CODE'].astype(int)\n",
    "\n",
    "poi_all_us['match_string'] = poi_all_us['POSTAL_CODE'].astype(str)  + poi_all_us['STREET_ADDRESS'].str[:3] #+ poi_all_us['LOCATION_NAME'].str[:2]\n",
    "poi_all_us.loc[:, 'match_string'] = poi_all_us['match_string'].str.lower()"
   ],
   "metadata": {
    "collapsed": false,
    "ExecuteTime": {
     "end_time": "2023-10-10T00:39:13.630628800Z",
     "start_time": "2023-10-10T00:37:02.155938900Z"
    }
   },
   "id": "34ef90a600cc3cb1"
  },
  {
   "cell_type": "code",
   "execution_count": 18,
   "outputs": [],
   "source": [
    "poi_all_us['DERIVED_PLACEKEY'] = '@'+poi_all_us['PLACEKEY'].str.split('@').str[1]"
   ],
   "metadata": {
    "collapsed": false,
    "ExecuteTime": {
     "end_time": "2023-10-10T00:42:27.203826100Z",
     "start_time": "2023-10-10T00:41:41.806185Z"
    }
   },
   "id": "b3d9e1c4a2bd3eaf"
  },
  {
   "cell_type": "code",
   "execution_count": 14,
   "outputs": [],
   "source": [
    "poi_all_us.set_index('match_string', inplace=True)"
   ],
   "metadata": {
    "collapsed": false,
    "ExecuteTime": {
     "end_time": "2023-10-10T00:39:54.429572100Z",
     "start_time": "2023-10-10T00:39:54.365685900Z"
    }
   },
   "id": "2fd3d565535d2adc"
  },
  {
   "cell_type": "code",
   "execution_count": 24,
   "outputs": [],
   "source": [
    "# Assuming you have a DataFrame named 'derived_placekey_match'\n",
    "\n",
    "# Convert the first character of 'STREET_ADDRESS' and 'NAMEBR' to lowercase\n",
    "\n"
   ],
   "metadata": {
    "collapsed": false,
    "ExecuteTime": {
     "end_time": "2023-10-10T00:50:53.347291100Z",
     "start_time": "2023-10-10T00:50:52.496357800Z"
    }
   },
   "id": "8d09fad2eccc7016"
  },
  {
   "cell_type": "code",
   "execution_count": 43,
   "outputs": [
    {
     "name": "stdout",
     "output_type": "stream",
     "text": [
      "<class 'pandas.core.frame.DataFrame'>\n",
      "Index: 10665 entries, 18 to 238158\n",
      "Data columns (total 7 columns):\n",
      " #   Column            Non-Null Count  Dtype \n",
      "---  ------            --------------  ----- \n",
      " 0   CERT              10665 non-null  int64 \n",
      " 1   UNINUMBR          10665 non-null  int64 \n",
      " 2   NAMEFULL          10665 non-null  object\n",
      " 3   usps_address      10665 non-null  object\n",
      " 4   full_address_sod  10665 non-null  object\n",
      " 5   LOCATION_NAME     10665 non-null  object\n",
      " 6   PLACEKEY          10665 non-null  object\n",
      "dtypes: int64(2), object(5)\n",
      "memory usage: 666.6+ KB\n"
     ]
    }
   ],
   "source": [
    "derived_placekey_match = sod_unmatched.merge(poi_all_us, on='DERIVED_PLACEKEY', how='inner')\n",
    "\n",
    "derived_placekey_match['STREET_ADDRESS'] = derived_placekey_match['STREET_ADDRESS'].str[0].str.lower()\n",
    "derived_placekey_match['NAMEBR'] = derived_placekey_match['NAMEBR'].str[0].str.lower()\n",
    "\n",
    "# Filter observations based on the conditions\n",
    "derived_placekey_match = derived_placekey_match[\n",
    "    (derived_placekey_match['POSTAL_CODE'] == derived_placekey_match['ZIPBR']) &\n",
    "    (derived_placekey_match['STREET_ADDRESS'] == derived_placekey_match['ADDRESBR'].str[0].str.lower()) &\n",
    "    (derived_placekey_match['NAMEBR'] == derived_placekey_match['LOCATION_NAME'].str[0].str.lower())\n",
    "]\n",
    "\n",
    "columns_to_keep = [\"CERT\", \"UNINUMBR\", \"NAMEFULL\", \"usps_address\", \"full_address_sod\", \"LOCATION_NAME\", \"PLACEKEY\"]\n",
    "\n",
    "# Create a new DataFrame with only the specified columns\n",
    "derived_placekey_match = derived_placekey_match[columns_to_keep]\n",
    "\n",
    "derived_placekey_match.info()"
   ],
   "metadata": {
    "collapsed": false,
    "ExecuteTime": {
     "end_time": "2023-10-10T00:58:37.707732600Z",
     "start_time": "2023-10-10T00:58:19.143117300Z"
    }
   },
   "id": "ab03cf313dba73ea"
  },
  {
   "cell_type": "code",
   "execution_count": 44,
   "outputs": [],
   "source": [
    "with gzip.open('C:/Users/dratnadiwakara2/Downloads/temp_dewey/sod_closest_match_derived_placekey_match.csv.gz', 'wt', encoding='utf-8') as gzipped_file:\n",
    "    derived_placekey_match.to_csv(gzipped_file, index=False)"
   ],
   "metadata": {
    "collapsed": false,
    "ExecuteTime": {
     "end_time": "2023-10-10T00:58:44.274611900Z",
     "start_time": "2023-10-10T00:58:44.098806800Z"
    }
   },
   "id": "e19cd7bb20506765"
  },
  {
   "cell_type": "code",
   "execution_count": 27,
   "outputs": [],
   "source": [
    "def haversine_distance(lat1, lon1, lat2, lon2):\n",
    "    \"\"\"Calculate the great-circle distance between two points on Earth (in km).\"\"\"\n",
    "    coord1 = (lat1, lon1)\n",
    "    coord2 = (lat2, lon2)\n",
    "    return geodesic(coord1, coord2).kilometers\n"
   ],
   "metadata": {
    "collapsed": false,
    "ExecuteTime": {
     "end_time": "2023-10-09T14:58:25.408458Z",
     "start_time": "2023-10-09T14:58:25.400131200Z"
    }
   },
   "id": "3d5f77ec9dcbaacb"
  },
  {
   "cell_type": "code",
   "execution_count": 28,
   "outputs": [],
   "source": [
    "output_csv_file = 'C:/Users/dratnadiwakara2/Downloads/temp_dewey/sod_closest_match_no_name.csv'"
   ],
   "metadata": {
    "collapsed": false,
    "ExecuteTime": {
     "end_time": "2023-10-09T14:58:27.836342800Z",
     "start_time": "2023-10-09T14:58:27.835836300Z"
    }
   },
   "id": "404b8dcb61323a2f"
  },
  {
   "cell_type": "code",
   "execution_count": 29,
   "outputs": [
    {
     "name": "stderr",
     "output_type": "stream",
     "text": [
      "100%|██████████| 17642/17642 [5:59:18<00:00,  1.22s/it]  \n"
     ]
    }
   ],
   "source": [
    "i=1\n",
    "\n",
    "\n",
    "with tqdm(total=len(sod_unmatched)) as pbar:\n",
    "    with open(output_csv_file, 'a') as csv_file:\n",
    "        for index_a, row_a in sod_unmatched.iterrows():\n",
    "    \n",
    "            pbar.update(1)\n",
    "            try:\n",
    "                min_distance = float('inf')\n",
    "                closest_point = None\n",
    "        \n",
    "                var = row_a['match_string']\n",
    "                df_b = poi_all_us.query(f\"match_string == '{var}'\")\n",
    "        \n",
    "                if len(df_b) == 0:\n",
    "                   csv_file.write(f\"{row_a['UNINUMBR']},,,{var}\\n\")\n",
    "                   continue\n",
    "        \n",
    "                for index_b, row_b in df_b.iterrows():\n",
    "                    distance = haversine_distance(row_a['SIMS_LATITUDE'], row_a['SIMS_LONGITUDE'], row_b['LATITUDE'], row_b['LONGITUDE'])\n",
    "                    if distance < min_distance:\n",
    "                        min_distance = distance\n",
    "                        closest_point = (row_b['PLACEKEY'], distance)\n",
    "        \n",
    "                csv_file.write(f\"{row_a['UNINUMBR']},{closest_point[0]},{closest_point[1]},{var}\\n\")\n",
    "            except:\n",
    "                pass\n"
   ],
   "metadata": {
    "collapsed": false,
    "ExecuteTime": {
     "end_time": "2023-10-09T20:58:28.952841700Z",
     "start_time": "2023-10-09T14:59:10.794855600Z"
    }
   },
   "id": "4253ba973da4122f"
  },
  {
   "cell_type": "code",
   "execution_count": 29,
   "outputs": [],
   "source": [
    "# sod_closest_match.csv was constructed by matching first two characters of address, first two characters of name, and the zip code\n",
    "temp1 = pd.read_csv('C:/Users/dratnadiwakara2/Downloads/temp_dewey/sod_closest_match.csv',header=None)\n",
    "# sod_closest_match.csv was constructed by matching first three characters of address and the zip code\n",
    "temp2 = pd.read_csv('C:/Users/dratnadiwakara2/Downloads/temp_dewey/sod_closest_match_no_name.csv',header=None)"
   ],
   "metadata": {
    "collapsed": false,
    "ExecuteTime": {
     "end_time": "2023-10-10T00:54:42.732079900Z",
     "start_time": "2023-10-10T00:54:42.646566500Z"
    }
   },
   "id": "dfbd914e08fceb63"
  },
  {
   "cell_type": "code",
   "execution_count": 45,
   "outputs": [],
   "source": [
    "\n",
    "\n",
    "partial_match = pd.concat([temp1, temp2], ignore_index=True)\n",
    "\n",
    "partial_match.columns = ['UNINUMBR','PLACEKEY','distance','match_string']\n",
    "partial_match.drop_duplicates(subset=['UNINUMBR'], inplace=True)\n",
    "partial_match = partial_match[~(partial_match['distance'].isna() | (partial_match['distance'] > 0.1))]\n"
   ],
   "metadata": {
    "collapsed": false,
    "ExecuteTime": {
     "end_time": "2023-10-10T00:58:49.318378800Z",
     "start_time": "2023-10-10T00:58:49.283853900Z"
    }
   },
   "id": "76abcee4bb9389a7"
  },
  {
   "cell_type": "code",
   "execution_count": 46,
   "outputs": [],
   "source": [
    "partial_match = partial_match.merge(sod, on='UNINUMBR', how='inner')"
   ],
   "metadata": {
    "collapsed": false,
    "ExecuteTime": {
     "end_time": "2023-10-10T00:58:51.344922300Z",
     "start_time": "2023-10-10T00:58:51.298480800Z"
    }
   },
   "id": "a742deecf807233b"
  },
  {
   "cell_type": "code",
   "execution_count": 47,
   "outputs": [],
   "source": [
    "partial_match = partial_match.merge(poi_all_us, on='PLACEKEY', how='inner')\n"
   ],
   "metadata": {
    "collapsed": false,
    "ExecuteTime": {
     "end_time": "2023-10-10T00:59:16.785367700Z",
     "start_time": "2023-10-10T00:58:53.702492800Z"
    }
   },
   "id": "58fc2fff4702a3b8"
  },
  {
   "cell_type": "code",
   "execution_count": 48,
   "outputs": [],
   "source": [
    "partial_match = partial_match[[\"CERT\", \"UNINUMBR\", \"NAMEFULL\", \"usps_address\", \"full_address_sod\", \"LOCATION_NAME\", \"PLACEKEY\"]].copy()\n",
    "partial_match.loc[:, 'match_type'] = 'fuzzy'\n"
   ],
   "metadata": {
    "collapsed": false,
    "ExecuteTime": {
     "end_time": "2023-10-10T00:59:21.786100800Z",
     "start_time": "2023-10-10T00:59:21.772652100Z"
    }
   },
   "id": "7c0b16a3acfd7e5b"
  },
  {
   "cell_type": "code",
   "execution_count": 49,
   "outputs": [],
   "source": [
    "# sod_closest_match_derived_placekey_match.csv was constructed by matching the derived placekey in sod data\n",
    "temp3 = pd.read_csv('C:/Users/dratnadiwakara2/Downloads/temp_dewey/sod_closest_match_derived_placekey_match.csv.gz')\n",
    "temp3.loc[:, 'match_type'] = 'derived_placekey'"
   ],
   "metadata": {
    "collapsed": false,
    "ExecuteTime": {
     "end_time": "2023-10-10T00:59:24.318212900Z",
     "start_time": "2023-10-10T00:59:24.244784700Z"
    }
   },
   "id": "ec4701ae89c999ab"
  },
  {
   "cell_type": "code",
   "execution_count": 50,
   "outputs": [],
   "source": [
    "partial_match = pd.concat([partial_match, temp3], ignore_index=True)"
   ],
   "metadata": {
    "collapsed": false,
    "ExecuteTime": {
     "end_time": "2023-10-10T00:59:26.612598400Z",
     "start_time": "2023-10-10T00:59:26.590473100Z"
    }
   },
   "id": "1964f2f4e57f63dd"
  },
  {
   "cell_type": "code",
   "execution_count": 51,
   "outputs": [],
   "source": [
    "partial_match = partial_match.drop_duplicates()"
   ],
   "metadata": {
    "collapsed": false,
    "ExecuteTime": {
     "end_time": "2023-10-10T00:59:29.491670700Z",
     "start_time": "2023-10-10T00:59:29.455702700Z"
    }
   },
   "id": "b848364377038e80"
  },
  {
   "cell_type": "code",
   "execution_count": 52,
   "outputs": [
    {
     "name": "stdout",
     "output_type": "stream",
     "text": [
      "<class 'pandas.core.frame.DataFrame'>\n",
      "RangeIndex: 14991 entries, 0 to 14990\n",
      "Data columns (total 8 columns):\n",
      " #   Column            Non-Null Count  Dtype \n",
      "---  ------            --------------  ----- \n",
      " 0   CERT              14991 non-null  int64 \n",
      " 1   UNINUMBR          14991 non-null  int64 \n",
      " 2   NAMEFULL          14991 non-null  object\n",
      " 3   usps_address      14990 non-null  object\n",
      " 4   full_address_sod  14991 non-null  object\n",
      " 5   LOCATION_NAME     14991 non-null  object\n",
      " 6   PLACEKEY          14991 non-null  object\n",
      " 7   match_type        14991 non-null  object\n",
      "dtypes: int64(2), object(6)\n",
      "memory usage: 937.1+ KB\n"
     ]
    }
   ],
   "source": [
    "partial_match.info()"
   ],
   "metadata": {
    "collapsed": false,
    "ExecuteTime": {
     "end_time": "2023-10-10T00:59:31.883283Z",
     "start_time": "2023-10-10T00:59:31.868674900Z"
    }
   },
   "id": "ecd465fe60047616"
  },
  {
   "cell_type": "code",
   "execution_count": 53,
   "outputs": [],
   "source": [
    "# Concatenate partial_match and poi_sod_exact_match vertically\n",
    "concatenated_df = pd.concat([partial_match, poi_sod_exact_match], ignore_index=True)\n"
   ],
   "metadata": {
    "collapsed": false,
    "ExecuteTime": {
     "end_time": "2023-10-10T00:59:35.852578200Z",
     "start_time": "2023-10-10T00:59:35.825781100Z"
    }
   },
   "id": "9341ee8d7114d0df"
  },
  {
   "cell_type": "code",
   "execution_count": 54,
   "outputs": [],
   "source": [
    "output_file_path = \"C:/Users/dratnadiwakara2/Documents/OneDrive - Louisiana State University/Raw Data/Dewey/poi_sod_4.csv.gz\"\n",
    "with gzip.open(output_file_path, 'wt', encoding='utf-8') as gzipped_file:\n",
    "    concatenated_df.to_csv(gzipped_file, index=False)"
   ],
   "metadata": {
    "collapsed": false,
    "ExecuteTime": {
     "end_time": "2023-10-10T00:59:43.377467100Z",
     "start_time": "2023-10-10T00:59:41.146470800Z"
    }
   },
   "id": "4983284c726953c0"
  }
 ],
 "metadata": {
  "kernelspec": {
   "display_name": "Python 3",
   "language": "python",
   "name": "python3"
  },
  "language_info": {
   "codemirror_mode": {
    "name": "ipython",
    "version": 2
   },
   "file_extension": ".py",
   "mimetype": "text/x-python",
   "name": "python",
   "nbconvert_exporter": "python",
   "pygments_lexer": "ipython2",
   "version": "2.7.6"
  }
 },
 "nbformat": 4,
 "nbformat_minor": 5
}
