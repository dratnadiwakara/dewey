{
 "cells": [
  {
   "cell_type": "code",
   "execution_count": 1,
   "id": "initial_id",
   "metadata": {
    "collapsed": true,
    "ExecuteTime": {
     "end_time": "2023-10-24T14:04:05.643997500Z",
     "start_time": "2023-10-24T14:03:54.269183800Z"
    }
   },
   "outputs": [],
   "source": [
    "import requests\n",
    "import pandas as pd\n",
    "from global_variables import *\n",
    "import gzip"
   ]
  },
  {
   "cell_type": "code",
   "execution_count": 17,
   "outputs": [],
   "source": [
    "acs_variables = {\n",
    "    'B01001_001E': 'total_population',\n",
    "    'B01002_001E': 'median_age',\n",
    "    'B11001_002E': 'no_of_households',\n",
    "    'B25001_001E': 'housing_units',\n",
    "    'B25003_001E': 'housing_units_occupancy_base',\n",
    "    'B25003_002E': 'housing_units_occupancy_own',\n",
    "    'B25003_003E': 'housing_units_occupancy_rent',\n",
    "    'B25087_001E': 'housing_units_mortgage_base',\n",
    "    'B25087_002E': 'housing_units_with_a_mortgage',\n",
    "    'B19127_001E': 'aggregate_family_income',\n",
    "    'B02001_001E': 'population_race_base',\n",
    "    'B02001_002E': 'population_race_white',\n",
    "    'B08303_001E': 'travel_time_to_work',\n",
    "    'C16002_001E': 'households_language_base',\n",
    "    'C16002_002E': 'households_language_english',\n",
    "    'C16002_003E': 'households_language_spanish',\n",
    "    'B25065_001E': 'aggregate_gross_rent',\n",
    "    'B28011_001E': 'households_internet_base',\n",
    "    'B28011_008E': 'households_internet_no',\n",
    "    'B28011_002E': 'households_internet_yes',\n",
    "    'B28003_001E': 'households_computer_base',\n",
    "    'B28003_002E': 'households_computer_yes',\n",
    "    'B28003_004E': 'households_computer_yes_bb',\n",
    "    'B27010_001E': 'population_by_age_base',\n",
    "    'B27010_002E': 'population_by_age_base_under_19',\n",
    "    'B27010_051E': 'population_by_age_base_65_older',\n",
    "    'B17010_001E': 'poverty_status_base',\n",
    "    'B17010_002E': 'poverty_status_below',\n",
    "    'B22010_001E': 'received_food_stamps_snap_base',\n",
    "    'B22010_002E': 'received_food_stamps_snap_yes',\n",
    "    'B19113_001E': 'median_family_income', #many missing values\n",
    "    # 'B19001_014E': 'household_income_100_125k',\n",
    "    # 'B19001_015E': 'household_income_125_150k',\n",
    "    # 'B19001_016E': 'household_income_150_200k',\n",
    "    # 'B19001_017E': 'household_income_200k_more',\n",
    "    # 'B19001_002E': 'household_income_10k_15k',\n",
    "    # 'B19001_003E': 'household_income_15k_19k',\n",
    "    # 'B19001_004E': 'household_income_19k_25k',\n",
    "    # 'B19001_005E': 'household_income_25k_30k',\n",
    "    'B06011_001E': 'median_income_last_12_months',\n",
    "    'B16010_001E': 'education_base',\n",
    "    'B16010_002E': 'education_less_than_high_school',                   \n",
    "    'B16010_041E': 'education_college_or_higher',\n",
    "    'B08128_001E': 'employment_type_base',\n",
    "    'B08128_003E': 'employment_type_salaried_pvt_for_profit',\n",
    "    'B08128_004E': 'employment_type_self_employed_inc',\n",
    "    'B08128_009E': 'employment_type_self_employed_not_inc',\n",
    "    'B08128_006E': 'employment_type_local_govt',\n",
    "    'B08128_007E': 'employment_type_state_govt',\n",
    "    'B08128_008E': 'employment_type_federal_govt',\n",
    "    'B25129_001E': 'moved_base',\n",
    "    'B25129_003E': 'moved_after_2015_oo',\n",
    "    'B25129_039E': 'moved_after_2015_ro',\n",
    "    'B25129_031E': 'moved_before_1989_oo',\n",
    "    'B25129_067E': 'moved_before_1989_ro',\n",
    "}\n",
    "\n",
    "get_vars = list(acs_variables.keys())\n",
    "\n",
    "us_state_fips = [\n",
    "    \"01\", \"02\", \"04\", \"05\", \"06\", \"08\", \"09\", \"10\", \"12\", \"13\",\n",
    "    \"15\", \"16\", \"17\", \"18\", \"19\", \"20\", \"21\", \"22\", \"23\", \"24\",\n",
    "    \"25\", \"26\", \"27\", \"28\", \"29\", \"30\", \"31\", \"32\", \"33\", \"34\",\n",
    "    \"35\", \"36\", \"37\", \"38\", \"39\", \"40\", \"41\", \"42\", \"44\", \"45\",\n",
    "    \"46\", \"47\", \"48\", \"49\", \"50\", \"51\", \"53\", \"54\", \"55\", \"56\"\n",
    "]\n",
    "\n",
    "base_url = 'https://api.census.gov/data/2021/acs/acs5'\n",
    "\n",
    "predicates = {} \n",
    "predicates['get']=','.join(get_vars)\n",
    "predicates['for']= 'tract:*'\n",
    "\n",
    "predicates['key']=CENSUS_API_KEY"
   ],
   "metadata": {
    "collapsed": false,
    "ExecuteTime": {
     "end_time": "2023-10-24T14:09:18.781246400Z",
     "start_time": "2023-10-24T14:09:18.776311200Z"
    }
   },
   "id": "c49242701a27d583"
  },
  {
   "cell_type": "code",
   "execution_count": 18,
   "outputs": [
    {
     "name": "stdout",
     "output_type": "stream",
     "text": [
      "<Response [200]>\n",
      "[]\n"
     ]
    }
   ],
   "source": [
    "state=\"22\"\n",
    "predicates['in']='state:'+state+' county:033'\n",
    "r=requests.get(base_url,params=predicates)\n",
    "print(r)\n",
    "json_data = r.json()\n",
    "df = pd.DataFrame(json_data[1:], columns=json_data[0])\n",
    "df.rename(columns=acs_variables, inplace=True)\n",
    "print([col for col in df.columns if df.loc[0, col] is  None])"
   ],
   "metadata": {
    "collapsed": false,
    "ExecuteTime": {
     "end_time": "2023-10-24T14:09:25.087895700Z",
     "start_time": "2023-10-24T14:09:22.052674300Z"
    }
   },
   "id": "ff46d594995d004"
  },
  {
   "cell_type": "code",
   "execution_count": 19,
   "outputs": [
    {
     "name": "stdout",
     "output_type": "stream",
     "text": [
      "01\n",
      "02\n",
      "04\n",
      "05\n",
      "06\n",
      "08\n",
      "09\n",
      "10\n",
      "12\n",
      "13\n",
      "15\n",
      "16\n",
      "17\n",
      "18\n",
      "19\n",
      "20\n",
      "21\n",
      "22\n",
      "23\n",
      "24\n",
      "25\n",
      "26\n",
      "27\n",
      "28\n",
      "29\n",
      "30\n",
      "31\n",
      "32\n",
      "33\n",
      "34\n",
      "35\n",
      "36\n",
      "37\n",
      "38\n",
      "39\n",
      "40\n",
      "41\n",
      "42\n",
      "44\n",
      "45\n",
      "46\n",
      "47\n",
      "48\n",
      "49\n",
      "50\n",
      "51\n",
      "53\n",
      "54\n",
      "55\n",
      "56\n"
     ]
    }
   ],
   "source": [
    "master_df = pd.DataFrame()\n",
    "\n",
    "for state in us_state_fips:\n",
    "    \n",
    "    print(state)\n",
    "    \n",
    "    predicates['in']='state:'+state+' county:*'\n",
    "    r=requests.get(base_url,params=predicates)\n",
    "\n",
    "    json_data = r.json()\n",
    "    df = pd.DataFrame(json_data[1:], columns=json_data[0])\n",
    "    df.rename(columns=acs_variables, inplace=True)\n",
    "\n",
    "    master_df = pd.concat([master_df, df], ignore_index=True)"
   ],
   "metadata": {
    "collapsed": false,
    "ExecuteTime": {
     "end_time": "2023-10-24T14:12:49.120006700Z",
     "start_time": "2023-10-24T14:09:28.700648700Z"
    }
   },
   "id": "f9ecf815deb893b2"
  },
  {
   "cell_type": "code",
   "execution_count": 8,
   "outputs": [
    {
     "data": {
      "text/plain": "{'get': 'B01001_001E,B01002_001E,B11001_002E,B25001_001E,B25003_001E,B25003_002E,B25003_003E,B25087_001E,B25087_002E,B19127_001E,B02001_001E,B02001_002E,B08303_001E,C16002_001E,C16002_002E,C16002_003E,B25065_001E,B28011_001E,B28011_008E,B28011_002E,B28003_001E,B28003_002E,B28003_004E,B27010_001E,B27010_002E,B27010_051E,B17010_001E,B17010_002E,B22010_001E,B22010_002E,B19113_001E,B19001_014E,B19001_015E,B19001_016E,B19001_017E,B19001_002E,B19001_003E,B19001_004E,B19001_005E,B06011_001E,B16010_001E,B16010_002E,B16010_041E,B08128_001E,B08128_003E,B08128_004E,B08128_009E,B08128_006E,B08128_007E,B08128_008E,B25129_001E,B25129_003E,B25129_039E,B25129_031E,B25129_067E',\n 'for': 'tract:*',\n 'key': '06b232797e7854aad802d7c7d8673c337fe1b29a'}"
     },
     "execution_count": 8,
     "metadata": {},
     "output_type": "execute_result"
    }
   ],
   "source": [
    "predicates"
   ],
   "metadata": {
    "collapsed": false,
    "ExecuteTime": {
     "end_time": "2023-10-24T14:06:41.607996200Z",
     "start_time": "2023-10-24T14:06:41.578358200Z"
    }
   },
   "id": "6b38f9ab2e7c74c1"
  },
  {
   "cell_type": "code",
   "execution_count": 20,
   "outputs": [],
   "source": [
    "output_file_path = \"C:/Users/dratnadiwakara2/Documents/OneDrive - Louisiana State University/Raw Data/Dewey/acs_tract_data_3.csv.gz\" \n",
    "with gzip.open(output_file_path, 'wt', encoding='utf-8') as gzipped_file:\n",
    "    master_df.to_csv(gzipped_file, index=False)"
   ],
   "metadata": {
    "collapsed": false,
    "ExecuteTime": {
     "end_time": "2023-10-24T14:18:39.702365800Z",
     "start_time": "2023-10-24T14:18:31.673303800Z"
    }
   },
   "id": "b19fe3c7f57a1d2f"
  }
 ],
 "metadata": {
  "kernelspec": {
   "display_name": "Python 3",
   "language": "python",
   "name": "python3"
  },
  "language_info": {
   "codemirror_mode": {
    "name": "ipython",
    "version": 2
   },
   "file_extension": ".py",
   "mimetype": "text/x-python",
   "name": "python",
   "nbconvert_exporter": "python",
   "pygments_lexer": "ipython2",
   "version": "2.7.6"
  }
 },
 "nbformat": 4,
 "nbformat_minor": 5
}
