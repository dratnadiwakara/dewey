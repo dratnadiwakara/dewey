{
 "cells": [
  {
   "cell_type": "code",
   "execution_count": 1,
   "id": "initial_id",
   "metadata": {
    "collapsed": true,
    "ExecuteTime": {
     "end_time": "2023-10-10T13:38:52.002286200Z",
     "start_time": "2023-10-10T13:38:40.688264700Z"
    }
   },
   "outputs": [],
   "source": [
    "for var in list(globals()):\n",
    "    if var != \"__name__\":\n",
    "        del globals()[var]\n",
    "        \n",
    "import pandas as pd\n",
    "import json\n",
    "import os\n",
    "from tqdm import tqdm\n",
    "import gzip\n",
    "from global_variables import *"
   ]
  },
  {
   "cell_type": "code",
   "execution_count": 3,
   "outputs": [
    {
     "name": "stdout",
     "output_type": "stream",
     "text": [
      "20210101_20221201\n"
     ]
    }
   ],
   "source": [
    "date_start = '2021-01-01'\n",
    "date_end = '2022-12-01'\n",
    "\n",
    "file_suffix = date_start.replace('-', '')+\"_\"+date_end.replace('-', '')\n",
    "print(file_suffix)"
   ],
   "metadata": {
    "collapsed": false,
    "ExecuteTime": {
     "end_time": "2023-10-10T14:28:46.813169Z",
     "start_time": "2023-10-10T14:28:46.666164400Z"
    }
   },
   "id": "20dce5a341780572"
  },
  {
   "cell_type": "code",
   "execution_count": 5,
   "outputs": [
    {
     "name": "stderr",
     "output_type": "stream",
     "text": [
      "C:\\Users\\dratnadiwakara2\\AppData\\Local\\Temp\\ipykernel_15460\\961726700.py:3: DtypeWarning: Columns (18,20) have mixed types. Specify dtype option on import or set low_memory=False.\n",
      "  ft = pd.read_csv(ft_data_path,compression='gzip')\n"
     ]
    }
   ],
   "source": [
    "# read_monthly_ft_data.ipynb creates this file\n",
    "ft_data_path = 'C:/Users/dratnadiwakara2/Downloads/temp_dewey/filtered_ft_data_'+file_suffix+'.csv.gz'\n",
    "ft = pd.read_csv(ft_data_path,compression='gzip')"
   ],
   "metadata": {
    "collapsed": false,
    "ExecuteTime": {
     "end_time": "2023-10-10T14:31:28.570345300Z",
     "start_time": "2023-10-10T14:29:01.431653600Z"
    }
   },
   "id": "2603ffb97ab199c3"
  },
  {
   "cell_type": "code",
   "execution_count": 6,
   "outputs": [],
   "source": [
    "visits_file = 'C:/Users/dratnadiwakara2/Downloads/temp_dewey/cbgs_place_month_visits_count'+file_suffix+'.csv'\n",
    "visit_summary_file = 'C:/Users/dratnadiwakara2/Downloads/temp_dewey/place_month_visit_summary'+file_suffix+'.csv'"
   ],
   "metadata": {
    "collapsed": false,
    "ExecuteTime": {
     "end_time": "2023-10-10T14:38:23.603306800Z",
     "start_time": "2023-10-10T14:38:23.588349200Z"
    }
   },
   "id": "c2804b5020aabcdb"
  },
  {
   "cell_type": "code",
   "execution_count": 7,
   "outputs": [
    {
     "name": "stderr",
     "output_type": "stream",
     "text": [
      "100%|██████████| 1507725/1507725 [2:46:43<00:00, 150.71it/s]  \n"
     ]
    }
   ],
   "source": [
    "\n",
    "header_option_visits_file = True  \n",
    "header_option_visit_summary_file = True \n",
    "\n",
    "with tqdm(total=len(ft)) as pbar:\n",
    "    \n",
    "    for index in range(0, len(ft)):\n",
    "        \n",
    "        temp = ft.loc[index]\n",
    "        \n",
    "        data = json.loads(temp['VISITOR_HOME_CBGS'])\n",
    "        df1 = pd.DataFrame(data.items(), columns=['CBGS', 'no_visits'])\n",
    "        df1['PLACEKEY'] = temp['PLACEKEY']\n",
    "        df1['DATE_RANGE_START'] = temp['DATE_RANGE_START']\n",
    "        \n",
    "        df2 = temp[['PLACEKEY','DATE_RANGE_START','RAW_VISIT_COUNTS','RAW_VISITOR_COUNTS','DISTANCE_FROM_HOME','MEDIAN_DWELL']]\n",
    "        df2['android'] = 0\n",
    "        df2['ios'] = 0\n",
    "        \n",
    "        try:\n",
    "            dt = json.loads(temp['DEVICE_TYPE'])\n",
    "            df2['android'] = dt['android']\n",
    "        except:\n",
    "            pass\n",
    "        \n",
    "        try:\n",
    "            dt = json.loads(temp['DEVICE_TYPE'])\n",
    "            df2['ios'] = dt['ios']\n",
    "        except:\n",
    "            pass\n",
    "        df2_transposed = df2.to_frame().reset_index().T\n",
    "        df2_transposed.columns = df2_transposed.iloc[0]\n",
    "        df2_transposed = df2_transposed[1:]\n",
    "        \n",
    "        if os.path.isfile(visits_file):\n",
    "            header_option_visits_file = False  \n",
    "        if os.path.isfile(visit_summary_file):\n",
    "            header_option_visit_summary_file = False  \n",
    "    \n",
    "        df1.to_csv(visits_file, index=False, mode='a', header=header_option_visits_file,sep=\"|\")\n",
    "        df2_transposed.to_csv(visit_summary_file, index=False, mode='a', header=header_option_visit_summary_file,sep=\"|\")\n",
    "        \n",
    "        pbar.update(1)"
   ],
   "metadata": {
    "collapsed": false,
    "ExecuteTime": {
     "end_time": "2023-10-10T17:25:44.086133200Z",
     "start_time": "2023-10-10T14:38:59.871184600Z"
    }
   },
   "id": "3c11392385fa164"
  },
  {
   "cell_type": "code",
   "execution_count": 8,
   "outputs": [],
   "source": [
    "visits = pd.read_csv(visits_file)\n",
    "visits_summary = pd.read_csv(visit_summary_file)"
   ],
   "metadata": {
    "collapsed": false,
    "ExecuteTime": {
     "end_time": "2023-10-10T17:31:57.596202200Z",
     "start_time": "2023-10-10T17:29:37.808379800Z"
    }
   },
   "id": "70b39318452e38aa"
  },
  {
   "cell_type": "code",
   "execution_count": 9,
   "outputs": [],
   "source": [
    "with gzip.open(visits_file+'.gz', 'wt', encoding='utf-8') as gzipped_file:\n",
    "    visits.to_csv(gzipped_file, index=False)\n",
    "\n",
    "with gzip.open(visit_summary_file+'.gz', 'wt', encoding='utf-8') as gzipped_file:\n",
    "    visits_summary.to_csv(gzipped_file, index=False)"
   ],
   "metadata": {
    "collapsed": false,
    "ExecuteTime": {
     "end_time": "2023-10-10T17:55:03.408091900Z",
     "start_time": "2023-10-10T17:48:34.274944800Z"
    }
   },
   "id": "2cf4a8a4c7c958a0"
  }
 ],
 "metadata": {
  "kernelspec": {
   "display_name": "Python 3",
   "language": "python",
   "name": "python3"
  },
  "language_info": {
   "codemirror_mode": {
    "name": "ipython",
    "version": 2
   },
   "file_extension": ".py",
   "mimetype": "text/x-python",
   "name": "python",
   "nbconvert_exporter": "python",
   "pygments_lexer": "ipython2",
   "version": "2.7.6"
  }
 },
 "nbformat": 4,
 "nbformat_minor": 5
}
