{
 "cells": [
  {
   "cell_type": "code",
   "execution_count": 1,
   "id": "initial_id",
   "metadata": {
    "collapsed": true,
    "ExecuteTime": {
     "end_time": "2024-01-03T23:30:38.731457900Z",
     "start_time": "2024-01-03T23:30:33.023645800Z"
    }
   },
   "outputs": [],
   "source": [
    "for var in list(globals()):\n",
    "    if var != \"__name__\":\n",
    "        del globals()[var]\n",
    "        \n",
    "import pandas as pd\n",
    "import json\n",
    "import os\n",
    "from tqdm import tqdm\n",
    "import gzip\n",
    "from global_variables import *"
   ]
  },
  {
   "cell_type": "code",
   "execution_count": 1,
   "outputs": [
    {
     "name": "stdout",
     "output_type": "stream",
     "text": [
      "20190101_20200301\n"
     ]
    }
   ],
   "source": [
    "date_start = '2019-01-01'\n",
    "date_end = '2020-03-01'\n",
    "\n",
    "file_suffix = date_start.replace('-', '')+\"_\"+date_end.replace('-', '')\n",
    "print(file_suffix)"
   ],
   "metadata": {
    "collapsed": false,
    "ExecuteTime": {
     "end_time": "2024-01-23T02:56:17.985476300Z",
     "start_time": "2024-01-23T02:56:17.463Z"
    }
   },
   "id": "20dce5a341780572"
  },
  {
   "cell_type": "code",
   "execution_count": 3,
   "outputs": [],
   "source": [
    "# read_monthly_ft_data.ipynb creates this file\n",
    "ft_data_path = 'C:/Users/dratnadiwakara2/Downloads/temp_dewey/filtered_ft_data_'+file_suffix+'.csv.gz'\n",
    "ft = pd.read_csv(ft_data_path,compression='gzip')"
   ],
   "metadata": {
    "collapsed": false,
    "ExecuteTime": {
     "end_time": "2024-01-03T23:33:09.626052500Z",
     "start_time": "2024-01-03T23:31:30.530759800Z"
    }
   },
   "id": "2603ffb97ab199c3"
  },
  {
   "cell_type": "code",
   "execution_count": 4,
   "outputs": [],
   "source": [
    "visits_file = 'C:/Users/dratnadiwakara2/Downloads/temp_dewey/cbgs_place_month_visits_count'+file_suffix+'.csv'\n",
    "visit_summary_file = 'C:/Users/dratnadiwakara2/Downloads/temp_dewey/place_month_visit_summary'+file_suffix+'.csv'"
   ],
   "metadata": {
    "collapsed": false,
    "ExecuteTime": {
     "end_time": "2024-01-03T23:33:16.628675Z",
     "start_time": "2024-01-03T23:33:16.612774300Z"
    }
   },
   "id": "c2804b5020aabcdb"
  },
  {
   "cell_type": "code",
   "execution_count": 5,
   "outputs": [
    {
     "name": "stderr",
     "output_type": "stream",
     "text": [
      "100%|██████████| 986867/986867 [1:39:18<00:00, 165.62it/s]  \n"
     ]
    }
   ],
   "source": [
    "\n",
    "header_option_visits_file = True  \n",
    "header_option_visit_summary_file = True \n",
    "\n",
    "with tqdm(total=len(ft)) as pbar:\n",
    "    \n",
    "    for index in range(0, len(ft)):\n",
    "        \n",
    "        temp = ft.loc[index]\n",
    "        \n",
    "        data = json.loads(temp['VISITOR_HOME_CBGS'])\n",
    "        df1 = pd.DataFrame(data.items(), columns=['CBGS', 'no_visits'])\n",
    "        df1['PLACEKEY'] = temp['PLACEKEY']\n",
    "        df1['DATE_RANGE_START'] = temp['DATE_RANGE_START']\n",
    "        \n",
    "        df2 = temp[['PLACEKEY','DATE_RANGE_START','RAW_VISIT_COUNTS','RAW_VISITOR_COUNTS','DISTANCE_FROM_HOME','MEDIAN_DWELL']]\n",
    "        df2['android'] = 0\n",
    "        df2['ios'] = 0\n",
    "        \n",
    "        try:\n",
    "            dt = json.loads(temp['DEVICE_TYPE'])\n",
    "            df2['android'] = dt['android']\n",
    "        except:\n",
    "            pass\n",
    "        \n",
    "        try:\n",
    "            dt = json.loads(temp['DEVICE_TYPE'])\n",
    "            df2['ios'] = dt['ios']\n",
    "        except:\n",
    "            pass\n",
    "        df2_transposed = df2.to_frame().reset_index().T\n",
    "        df2_transposed.columns = df2_transposed.iloc[0]\n",
    "        df2_transposed = df2_transposed[1:]\n",
    "        \n",
    "        if os.path.isfile(visits_file):\n",
    "            header_option_visits_file = False  \n",
    "        if os.path.isfile(visit_summary_file):\n",
    "            header_option_visit_summary_file = False  \n",
    "    \n",
    "        df1.to_csv(visits_file, index=False, mode='a', header=header_option_visits_file,sep=\"|\")\n",
    "        df2_transposed.to_csv(visit_summary_file, index=False, mode='a', header=header_option_visit_summary_file,sep=\"|\")\n",
    "        \n",
    "        pbar.update(1)"
   ],
   "metadata": {
    "collapsed": false,
    "ExecuteTime": {
     "end_time": "2024-01-04T01:12:43.383928Z",
     "start_time": "2024-01-03T23:33:24.495170700Z"
    }
   },
   "id": "3c11392385fa164"
  },
  {
   "cell_type": "code",
   "execution_count": 6,
   "outputs": [],
   "source": [
    "visits = pd.read_csv(visits_file)\n",
    "visits_summary = pd.read_csv(visit_summary_file)"
   ],
   "metadata": {
    "collapsed": false,
    "ExecuteTime": {
     "end_time": "2024-01-04T01:13:49.790550700Z",
     "start_time": "2024-01-04T01:12:45.672528400Z"
    }
   },
   "id": "70b39318452e38aa"
  },
  {
   "cell_type": "code",
   "execution_count": 7,
   "outputs": [],
   "source": [
    "with gzip.open(visits_file+'.gz', 'wt', encoding='utf-8') as gzipped_file:\n",
    "    visits.to_csv(gzipped_file, index=False)\n",
    "\n",
    "with gzip.open(visit_summary_file+'.gz', 'wt', encoding='utf-8') as gzipped_file:\n",
    "    visits_summary.to_csv(gzipped_file, index=False)"
   ],
   "metadata": {
    "collapsed": false,
    "ExecuteTime": {
     "end_time": "2024-01-04T01:21:18.213477400Z",
     "start_time": "2024-01-04T01:14:09.693196700Z"
    }
   },
   "id": "2cf4a8a4c7c958a0"
  }
 ],
 "metadata": {
  "kernelspec": {
   "display_name": "Python 3",
   "language": "python",
   "name": "python3"
  },
  "language_info": {
   "codemirror_mode": {
    "name": "ipython",
    "version": 2
   },
   "file_extension": ".py",
   "mimetype": "text/x-python",
   "name": "python",
   "nbconvert_exporter": "python",
   "pygments_lexer": "ipython2",
   "version": "2.7.6"
  }
 },
 "nbformat": 4,
 "nbformat_minor": 5
}
