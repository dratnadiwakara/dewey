{
 "cells": [
  {
   "cell_type": "code",
   "execution_count": 8,
   "id": "initial_id",
   "metadata": {
    "collapsed": true,
    "ExecuteTime": {
     "end_time": "2024-01-04T03:46:57.936415100Z",
     "start_time": "2024-01-04T03:46:57.930990400Z"
    }
   },
   "outputs": [],
   "source": [
    "import requests\n",
    "import pandas as pd\n",
    "import sys\n",
    "from io import BytesIO\n",
    "import gzip\n",
    "import io\n",
    "import os\n",
    "from global_variables import *"
   ]
  },
  {
   "cell_type": "code",
   "execution_count": 9,
   "outputs": [],
   "source": [
    "# 02_match_poi_sod.ipynb creates this file\n",
    "poi_sod_file = \"C:/Users/dratnadiwakara2/Documents/OneDrive - Louisiana State University/Raw Data/Dewey/poi_sod_4.csv.gz\" \n",
    "poi_sod = pd.read_csv(poi_sod_file, compression='gzip')"
   ],
   "metadata": {
    "collapsed": false,
    "ExecuteTime": {
     "end_time": "2024-01-04T03:47:03.814195700Z",
     "start_time": "2024-01-04T03:47:02.586450600Z"
    }
   },
   "id": "dfecd940a9219e8a"
  },
  {
   "cell_type": "code",
   "execution_count": 10,
   "outputs": [
    {
     "data": {
      "text/plain": "'20180101_20181201'"
     },
     "execution_count": 10,
     "metadata": {},
     "output_type": "execute_result"
    }
   ],
   "source": [
    "date_start = '2019-01-01'\n",
    "date_end = '2020-03-01'\n",
    "\n",
    "file_suffix = date_start.replace('-', '')+\"_\"+date_end.replace('-', '')\n",
    "file_suffix"
   ],
   "metadata": {
    "collapsed": false,
    "ExecuteTime": {
     "end_time": "2024-01-04T03:47:06.177189Z",
     "start_time": "2024-01-04T03:47:06.171224Z"
    }
   },
   "id": "3fbb96d977cd0728"
  },
  {
   "cell_type": "code",
   "execution_count": 7,
   "outputs": [],
   "source": [
    "# results = requests.get(url=MONTHLY_FT_PATTERNS_PRODUCT_API_PATH,\n",
    "#                        params={'partition_key_after': date_start,   # optionally set date value here\n",
    "#                                'partition_key_before': date_end}, # optionally set date value here\n",
    "#                        headers={'X-API-KEY': API_KEY,\n",
    "#                                 'accept': 'application/json'\n",
    "#                                })\n",
    "# response_json = results.json()"
   ],
   "metadata": {
    "collapsed": false,
    "ExecuteTime": {
     "end_time": "2023-10-10T00:26:52.777130700Z",
     "start_time": "2023-10-10T00:26:50.626652600Z"
    }
   },
   "id": "6a4452e33d615d92"
  },
  {
   "cell_type": "code",
   "execution_count": 11,
   "outputs": [
    {
     "name": "stdout",
     "output_type": "stream",
     "text": [
      "1\n"
     ]
    }
   ],
   "source": [
    "ft_data_path = 'C:/Users/dratnadiwakara2/Downloads/temp_dewey/filtered_ft_data_'+file_suffix+'.csv'\n",
    "page = 1\n",
    "download_count = 0\n",
    "while True:\n",
    "    print(page)\n",
    "    results = requests.get(url=MONTHLY_FT_PATTERNS_PRODUCT_API_PATH,\n",
    "                       params={'page': page,\n",
    "                               'partition_key_after': date_start,   # optionally set date value here\n",
    "                               'partition_key_before': date_end}, # optionally set date value here\n",
    "                       headers={'X-API-KEY': API_KEY,\n",
    "                                'accept': 'application/json'\n",
    "                               })\n",
    "    response_json = results.json()\n",
    "\n",
    "    for link_data in response_json['download_links']:\n",
    "        print(f\"Downloading file {link_data['file_name']}...\")\n",
    "    \n",
    "        data = requests.get(link_data['link'])\n",
    "        gzip_stream = io.BytesIO(data.content)\n",
    "    \n",
    "        df = pd.read_csv(gzip_stream, compression='gzip', low_memory=False)\n",
    "        filtered_df = df[df['PLACEKEY'].isin(poi_sod['PLACEKEY'])]\n",
    "    \n",
    "        if os.path.isfile(ft_data_path):\n",
    "            header_option = False  \n",
    "        else:\n",
    "            header_option = True  \n",
    "    \n",
    "        filtered_df.to_csv(ft_data_path, mode='a', header=header_option, index=False)\n",
    "        \n",
    "        download_count += 1\n",
    "        \n",
    "    total_pages = response_json['total_pages']\n",
    "    if page >= total_pages:\n",
    "        break\n",
    "    page += 1   "
   ],
   "metadata": {
    "collapsed": false,
    "ExecuteTime": {
     "end_time": "2024-01-04T03:47:20.379834Z",
     "start_time": "2024-01-04T03:47:17.866040400Z"
    }
   },
   "id": "16561a3768b94a1e"
  },
  {
   "cell_type": "code",
   "execution_count": 5,
   "outputs": [],
   "source": [
    "ft_data = pd.read_csv(ft_data_path,low_memory=False)"
   ],
   "metadata": {
    "collapsed": false,
    "ExecuteTime": {
     "end_time": "2024-01-03T22:05:39.539724600Z",
     "start_time": "2024-01-03T22:03:51.687744200Z"
    }
   },
   "id": "824082c2c4bd54d8"
  },
  {
   "cell_type": "code",
   "execution_count": 6,
   "outputs": [],
   "source": [
    "ft_data = ft_data.dropna(subset=['VISITOR_HOME_CBGS'])\n",
    "ft_data = ft_data.reset_index()"
   ],
   "metadata": {
    "collapsed": false,
    "ExecuteTime": {
     "end_time": "2024-01-03T22:41:56.445203800Z",
     "start_time": "2024-01-03T22:41:53.739677800Z"
    }
   },
   "id": "fd77019201d44eb8"
  },
  {
   "cell_type": "code",
   "execution_count": 7,
   "outputs": [],
   "source": [
    "with gzip.open(ft_data_path+'.gz', 'wt', encoding='utf-8') as gzipped_file:\n",
    "    ft_data.to_csv(gzipped_file, index=False)"
   ],
   "metadata": {
    "collapsed": false,
    "ExecuteTime": {
     "end_time": "2024-01-03T23:03:04.639913600Z",
     "start_time": "2024-01-03T22:41:59.185988200Z"
    }
   },
   "id": "184adddc73afb8a"
  }
 ],
 "metadata": {
  "kernelspec": {
   "display_name": "Python 3",
   "language": "python",
   "name": "python3"
  },
  "language_info": {
   "codemirror_mode": {
    "name": "ipython",
    "version": 2
   },
   "file_extension": ".py",
   "mimetype": "text/x-python",
   "name": "python",
   "nbconvert_exporter": "python",
   "pygments_lexer": "ipython2",
   "version": "2.7.6"
  }
 },
 "nbformat": 4,
 "nbformat_minor": 5
}
