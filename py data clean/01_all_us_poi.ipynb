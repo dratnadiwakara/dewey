{
 "cells": [
  {
   "cell_type": "markdown",
   "source": [
    "This script reads and saves all US POI data"
   ],
   "metadata": {
    "collapsed": false
   },
   "id": "1b7fc2ee86332806"
  },
  {
   "cell_type": "code",
   "execution_count": 5,
   "outputs": [],
   "source": [
    "import requests\n",
    "import pandas as pd\n",
    "import sys\n",
    "from io import BytesIO\n",
    "import gzip\n",
    "from tqdm import tqdm\n",
    "import io\n",
    "import os\n",
    "from global_variables import *"
   ],
   "metadata": {
    "collapsed": false,
    "ExecuteTime": {
     "end_time": "2023-10-07T13:16:19.395080300Z",
     "start_time": "2023-10-07T13:16:19.208542Z"
    }
   },
   "id": "c04019341671704a"
  },
  {
   "cell_type": "code",
   "execution_count": 2,
   "outputs": [],
   "source": [
    "poi_csv_path = 'C:/Users/dratnadiwakara2/Downloads/temp_dewey/all_us_poi.csv'"
   ],
   "metadata": {
    "collapsed": false,
    "ExecuteTime": {
     "end_time": "2023-10-07T13:12:30.111856Z",
     "start_time": "2023-10-07T13:12:30.099125900Z"
    }
   },
   "id": "8a63e15ed7fb7999"
  },
  {
   "cell_type": "code",
   "execution_count": 3,
   "outputs": [],
   "source": [
    "results = requests.get(url=POI_Data_PRODUCT_API_PATH,\n",
    "                       params={}, # optionally set date value here\n",
    "                       headers={'X-API-KEY': API_KEY,\n",
    "                                'accept': 'application/json'\n",
    "                               })\n",
    "response_json = results.json()"
   ],
   "metadata": {
    "collapsed": false,
    "ExecuteTime": {
     "end_time": "2023-10-07T13:14:20.976031800Z",
     "start_time": "2023-10-07T13:14:19.630320Z"
    }
   },
   "id": "597ac84abcff2572"
  },
  {
   "cell_type": "code",
   "execution_count": 6,
   "outputs": [
    {
     "name": "stderr",
     "output_type": "stream",
     "text": [
      "100%|██████████| 64/64 [16:28<00:00, 15.45s/it]\n"
     ]
    }
   ],
   "source": [
    "with tqdm(total=len(response_json['download_links']) ) as pbar:\n",
    "    for link_data in response_json['download_links']:\n",
    "    \n",
    "        pbar.update(1)\n",
    "    \n",
    "        df = pd.read_csv(BytesIO(requests.get(link_data['link']).content), compression=\"gzip\")\n",
    "        df = df[df['ISO_COUNTRY_CODE'] == 'US'][['CATEGORY_TAGS', 'CITY', 'LATITUDE','LONGITUDE','NAICS_CODE','PLACEKEY','POSTAL_CODE','REGION','STREET_ADDRESS','SUB_CATEGORY','TOP_CATEGORY','LOCATION_NAME']]\n",
    "        # df = df[(df['TOP_CATEGORY'] == 'Depository Credit Intermediation') | (df['NAICS_CODE'].astype(str).str[:3] == '522')]\n",
    "        df = df.reset_index()\n",
    "    \n",
    "        if os.path.isfile(poi_csv_path):\n",
    "            header_option = False  \n",
    "        else:\n",
    "            header_option = True  \n",
    "    \n",
    "        df.to_csv(poi_csv_path, mode='a', header=header_option, index=False)\n",
    "\n",
    "df = pd.read_csv(poi_csv_path)    \n",
    "\n",
    "with gzip.open(poi_csv_path+\".gz\", 'wt', encoding='utf-8') as gzipped_file:\n",
    "    df.to_csv(gzipped_file, index=False)"
   ],
   "metadata": {
    "collapsed": false,
    "ExecuteTime": {
     "end_time": "2023-10-07T13:42:07.344633900Z",
     "start_time": "2023-10-07T13:17:26.552813600Z"
    }
   },
   "id": "1c46ba0647eae440"
  }
 ],
 "metadata": {
  "kernelspec": {
   "display_name": "Python 3",
   "language": "python",
   "name": "python3"
  },
  "language_info": {
   "codemirror_mode": {
    "name": "ipython",
    "version": 2
   },
   "file_extension": ".py",
   "mimetype": "text/x-python",
   "name": "python",
   "nbconvert_exporter": "python",
   "pygments_lexer": "ipython2",
   "version": "2.7.6"
  }
 },
 "nbformat": 4,
 "nbformat_minor": 5
}
