{
 "cells": [
  {
   "cell_type": "markdown",
   "source": [
    "This script reads and saves all US POI data"
   ],
   "metadata": {
    "collapsed": false
   },
   "id": "1b7fc2ee86332806"
  },
  {
   "cell_type": "code",
   "execution_count": 1,
   "outputs": [],
   "source": [
    "import requests\n",
    "import pandas as pd\n",
    "import sys\n",
    "from io import BytesIO\n",
    "import gzip\n",
    "from tqdm import tqdm\n",
    "import io\n",
    "import os\n",
    "from global_variables import *"
   ],
   "metadata": {
    "collapsed": false,
    "ExecuteTime": {
     "end_time": "2024-01-30T20:23:02.701717700Z",
     "start_time": "2024-01-30T20:22:56.863218400Z"
    }
   },
   "id": "c04019341671704a"
  },
  {
   "cell_type": "code",
   "execution_count": 2,
   "outputs": [],
   "source": [
    "poi_csv_path = 'C:/Users/dratnadiwakara2/Downloads/temp_dewey/all_us_poi_with_store_id.csv'"
   ],
   "metadata": {
    "collapsed": false,
    "ExecuteTime": {
     "end_time": "2024-01-30T20:23:15.703395100Z",
     "start_time": "2024-01-30T20:23:15.602665900Z"
    }
   },
   "id": "8a63e15ed7fb7999"
  },
  {
   "cell_type": "code",
   "execution_count": 3,
   "outputs": [],
   "source": [
    "results = requests.get(url=POI_Data_PRODUCT_API_PATH,\n",
    "                       params={}, # optionally set date value here\n",
    "                       headers={'X-API-KEY': API_KEY,\n",
    "                                'accept': 'application/json'\n",
    "                               })\n",
    "response_json = results.json()"
   ],
   "metadata": {
    "collapsed": false,
    "ExecuteTime": {
     "end_time": "2024-01-30T20:23:20.348737Z",
     "start_time": "2024-01-30T20:23:18.775897100Z"
    }
   },
   "id": "597ac84abcff2572"
  },
  {
   "cell_type": "code",
   "execution_count": 4,
   "outputs": [
    {
     "name": "stderr",
     "output_type": "stream",
     "text": [
      "100%|██████████| 64/64 [32:05<00:00, 30.09s/it]\n"
     ]
    }
   ],
   "source": [
    "with tqdm(total=len(response_json['download_links']) ) as pbar:\n",
    "    for link_data in response_json['download_links']:\n",
    "    \n",
    "        pbar.update(1)\n",
    "    \n",
    "        df = pd.read_csv(BytesIO(requests.get(link_data['link']).content), compression=\"gzip\")\n",
    "        df = df[df['ISO_COUNTRY_CODE'] == 'US'][['CATEGORY_TAGS', 'CITY', 'LATITUDE','LONGITUDE','NAICS_CODE','PLACEKEY','POSTAL_CODE','REGION','STREET_ADDRESS','SUB_CATEGORY','TOP_CATEGORY','LOCATION_NAME','STORE_ID','WEBSITE']]\n",
    "        # df = df[(df['TOP_CATEGORY'] == 'Depository Credit Intermediation') | (df['NAICS_CODE'].astype(str).str[:3] == '522')]\n",
    "        df = df.reset_index()\n",
    "    \n",
    "        if os.path.isfile(poi_csv_path):\n",
    "            header_option = False  \n",
    "        else:\n",
    "            header_option = True  \n",
    "    \n",
    "        df.to_csv(poi_csv_path, mode='a', header=header_option, index=False)\n",
    "\n",
    "df = pd.read_csv(poi_csv_path)    \n",
    "\n",
    "with gzip.open(poi_csv_path+\".gz\", 'wt', encoding='utf-8') as gzipped_file:\n",
    "    df.to_csv(gzipped_file, index=False)"
   ],
   "metadata": {
    "collapsed": false,
    "ExecuteTime": {
     "end_time": "2024-01-30T21:19:26.002363900Z",
     "start_time": "2024-01-30T20:23:34.254761500Z"
    }
   },
   "id": "1c46ba0647eae440"
  }
 ],
 "metadata": {
  "kernelspec": {
   "display_name": "Python 3",
   "language": "python",
   "name": "python3"
  },
  "language_info": {
   "codemirror_mode": {
    "name": "ipython",
    "version": 2
   },
   "file_extension": ".py",
   "mimetype": "text/x-python",
   "name": "python",
   "nbconvert_exporter": "python",
   "pygments_lexer": "ipython2",
   "version": "2.7.6"
  }
 },
 "nbformat": 4,
 "nbformat_minor": 5
}
