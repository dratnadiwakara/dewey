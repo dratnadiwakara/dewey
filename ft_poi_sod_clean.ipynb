{
 "cells": [
  {
   "cell_type": "markdown",
   "source": [],
   "metadata": {
    "collapsed": false
   },
   "id": "6342d728510f0dc4"
  },
  {
   "cell_type": "markdown",
   "source": [
    "Following section reads monthly foot traffic data based on the locations saved in poi_sod.csv.gz, and saves read data into filtered_ft_data.csv"
   ],
   "metadata": {
    "collapsed": false
   },
   "id": "bf994a9800477a3c"
  },
  {
   "cell_type": "code",
   "execution_count": 13,
   "outputs": [],
   "source": [
    "import requests\n",
    "import pandas as pd\n",
    "import sys\n",
    "from io import BytesIO\n",
    "import gzip\n",
    "import io\n",
    "import os\n",
    "from global_variables import *"
   ],
   "metadata": {
    "collapsed": false,
    "ExecuteTime": {
     "end_time": "2023-09-30T03:35:42.869194200Z",
     "start_time": "2023-09-30T03:35:42.856568700Z"
    }
   },
   "id": "41b61e05ed508b71"
  },
  {
   "cell_type": "code",
   "execution_count": 4,
   "outputs": [],
   "source": [
    "poi_sod_file = \"C:/Users/dratnadiwakara2/Documents/OneDrive - Louisiana State University/Raw Data/Dewey/poi_sod.csv.gz\" \n",
    "poi_sod = pd.read_csv(poi_sod_file, compression='gzip')"
   ],
   "metadata": {
    "collapsed": false,
    "ExecuteTime": {
     "end_time": "2023-09-30T03:14:20.621257700Z",
     "start_time": "2023-09-30T03:14:18.359523300Z"
    }
   },
   "id": "baeadf7c05e83398"
  },
  {
   "cell_type": "code",
   "execution_count": 2,
   "outputs": [],
   "source": [
    "results = requests.get(url=MONTHLY_FT_PATTERNS_PRODUCT_API_PATH,\n",
    "                       params={\n",
    "                               'partition_key_after': '2019-11-01',   # optionally set date value here\n",
    "                               'partition_key_before': '2019-11-01'}, # optionally set date value here\n",
    "                       headers={'X-API-KEY': API_KEY,\n",
    "                                'accept': 'application/json'\n",
    "                               })\n",
    "response_json = results.json()"
   ],
   "metadata": {
    "collapsed": false,
    "ExecuteTime": {
     "end_time": "2023-09-30T03:12:54.742431100Z",
     "start_time": "2023-09-30T03:12:51.440708300Z"
    }
   },
   "id": "63a3c736ec4122c0"
  },
  {
   "cell_type": "code",
   "execution_count": null,
   "outputs": [],
   "source": [
    "ft_data_path = 'C:/Users/dratnadiwakara2/Downloads/temp_dewey/filtered_ft_data.csv'\n",
    "for link_data in response_json['download_links']:\n",
    "    print(f\"Downloading file {link_data['file_name']}...\")\n",
    "\n",
    "    data = requests.get(link_data['link'])\n",
    "    gzip_stream = io.BytesIO(data.content)\n",
    "\n",
    "    df = pd.read_csv(gzip_stream, compression='gzip', low_memory=False)\n",
    "    filtered_df = df[df['PLACEKEY'].isin(poi_sod['PLACEKEY'])]\n",
    "\n",
    "    if os.path.isfile(ft_data_path):\n",
    "        header_option = False  \n",
    "    else:\n",
    "        header_option = True  \n",
    "\n",
    "    filtered_df.to_csv(ft_data_path, mode='a', header=header_option, index=False)"
   ],
   "metadata": {
    "collapsed": false
   },
   "id": "e4c1b271b18fa646"
  },
  {
   "cell_type": "code",
   "execution_count": 16,
   "outputs": [],
   "source": [
    "ft_data = pd.read_csv(ft_data_path)"
   ],
   "metadata": {
    "collapsed": false,
    "ExecuteTime": {
     "end_time": "2023-09-30T12:09:06.135473700Z",
     "start_time": "2023-09-30T12:09:00.929010600Z"
    }
   },
   "id": "c79e3993885e7ef9"
  },
  {
   "cell_type": "code",
   "execution_count": 17,
   "outputs": [
    {
     "name": "stdout",
     "output_type": "stream",
     "text": [
      "119641\n"
     ]
    }
   ],
   "source": [
    "print(ft_data['PLACEKEY'].nunique())"
   ],
   "metadata": {
    "collapsed": false,
    "ExecuteTime": {
     "end_time": "2023-09-30T12:10:14.050709600Z",
     "start_time": "2023-09-30T12:10:13.904381500Z"
    }
   },
   "id": "f8fa090a8a472ed0"
  },
  {
   "cell_type": "markdown",
   "source": [
    "Following section reads cleaned poi and sod data and matches the two datasets"
   ],
   "metadata": {
    "collapsed": false
   },
   "id": "dd1c09baa033302a"
  },
  {
   "cell_type": "code",
   "execution_count": 1,
   "outputs": [],
   "source": [
    "import time\n",
    "from tqdm import tqdm\n",
    "import requests\n",
    "import pandas as pd\n",
    "import os\n",
    "from io import BytesIO\n",
    "import gzip\n",
    "from global_variables import *"
   ],
   "metadata": {
    "collapsed": false,
    "ExecuteTime": {
     "end_time": "2023-09-29T19:17:13.966800400Z",
     "start_time": "2023-09-29T19:16:58.976035Z"
    }
   },
   "id": "f5b96490571a6e85"
  },
  {
   "cell_type": "code",
   "execution_count": 2,
   "outputs": [],
   "source": [
    "# next section has the code to create these files\n",
    "poi_file = \"C:/Users/dratnadiwakara2/Documents/OneDrive - Louisiana State University/Raw Data/Dewey/poi_with_usps_address.csv.gz\" \n",
    "sod_file = \"C:/Users/dratnadiwakara2/Documents/OneDrive - Louisiana State University/Raw Data/Dewey/sod_data_branches_with_usps_address.csv.gz\" "
   ],
   "metadata": {
    "collapsed": false,
    "ExecuteTime": {
     "end_time": "2023-09-29T19:17:21.484892Z",
     "start_time": "2023-09-29T19:17:21.462948Z"
    }
   },
   "id": "9cede66ce7605a8"
  },
  {
   "cell_type": "code",
   "execution_count": 3,
   "outputs": [],
   "source": [
    "poi = pd.read_csv(poi_file, compression='gzip')\n",
    "sod = pd.read_csv(sod_file, compression='gzip')"
   ],
   "metadata": {
    "collapsed": false,
    "ExecuteTime": {
     "end_time": "2023-09-29T19:18:08.650487100Z",
     "start_time": "2023-09-29T19:17:57.581883600Z"
    }
   },
   "id": "96af3ab1070b32b9"
  },
  {
   "cell_type": "code",
   "execution_count": 7,
   "outputs": [],
   "source": [
    "poi = poi.drop_duplicates()"
   ],
   "metadata": {
    "collapsed": false,
    "ExecuteTime": {
     "end_time": "2023-09-29T19:24:59.954784500Z",
     "start_time": "2023-09-29T19:24:56.559820500Z"
    }
   },
   "id": "de0e7bffb718c1f"
  },
  {
   "cell_type": "code",
   "execution_count": 12,
   "outputs": [],
   "source": [
    "sod = sod.drop_duplicates(subset='usps_address', keep='first')\n"
   ],
   "metadata": {
    "collapsed": false,
    "ExecuteTime": {
     "end_time": "2023-09-29T19:39:19.627963600Z",
     "start_time": "2023-09-29T19:39:19.581911600Z"
    }
   },
   "id": "21aaafcbbb79c43d"
  },
  {
   "cell_type": "code",
   "execution_count": 15,
   "outputs": [],
   "source": [
    "poi_sod = poi.merge(sod[['usps_address', 'NAMEBR', 'NAMEFULL', 'SIMS_LATITUDE', 'SIMS_LONGITUDE', 'UNINUMBR', 'CERT']], on='usps_address', how='inner')"
   ],
   "metadata": {
    "collapsed": false,
    "ExecuteTime": {
     "end_time": "2023-09-29T19:41:48.920157900Z",
     "start_time": "2023-09-29T19:41:48.260282400Z"
    }
   },
   "id": "42a77523a14ef556"
  },
  {
   "cell_type": "code",
   "execution_count": 16,
   "outputs": [],
   "source": [
    "output_file_path = \"C:/Users/dratnadiwakara2/Documents/OneDrive - Louisiana State University/Raw Data/Dewey/poi_sod.csv.gz\" \n",
    "with gzip.open(output_file_path, 'wt', encoding='utf-8') as gzipped_file:\n",
    "    poi_sod.to_csv(gzipped_file, index=False)"
   ],
   "metadata": {
    "collapsed": false,
    "ExecuteTime": {
     "end_time": "2023-09-30T00:21:07.895560900Z",
     "start_time": "2023-09-30T00:21:00.390778500Z"
    }
   },
   "id": "bb4bdc6cdf36c350"
  },
  {
   "cell_type": "markdown",
   "source": [
    "\n",
    "\n",
    "\n",
    "The section below cleans poi and sod data and convert the address in both the files to USPS format"
   ],
   "metadata": {
    "collapsed": false
   },
   "id": "ee94dc346564991c"
  },
  {
   "cell_type": "code",
   "execution_count": null,
   "outputs": [],
   "source": [
    "import time\n",
    "from tqdm import tqdm\n",
    "import requests\n",
    "import pandas as pd\n",
    "import os\n",
    "from io import BytesIO\n",
    "import gzip\n",
    "from global_variables import *\n",
    "import urllib.request\n",
    "import xml.etree.ElementTree as ET"
   ],
   "metadata": {
    "collapsed": false
   },
   "id": "9274c30b35b3f382"
  },
  {
   "cell_type": "code",
   "execution_count": 2,
   "outputs": [],
   "source": [
    "# this function uses USPS api to get the verified USPS address\n",
    "def get_usps_address(street,city,state,zip):\n",
    "    xml_string = (\n",
    "        '<?xml version=\"1.0\"?>\\n'\n",
    "        '<AddressValidateRequest USERID=\"33LOUIS8M0561\">\\n'\n",
    "        '    <Revision>1</Revision>\\n'\n",
    "        '    <Address ID=\"0\">\\n'\n",
    "        f'        <Address1>{street}</Address1>\\n'\n",
    "        '        <Address2></Address2>\\n'\n",
    "        f'        <City>{city}</City>\\n'\n",
    "        f'        <State>{state}</State>\\n'\n",
    "        f'        <Zip5>{zip}</Zip5>\\n'\n",
    "        '        <Zip4/>\\n'\n",
    "        '    </Address>\\n'\n",
    "        '</AddressValidateRequest>'\n",
    "    )\n",
    "    xml_string = xml_string.replace('\\n','').replace('\\t','')\n",
    "    xml_string = urllib.parse.quote_plus(xml_string)\n",
    "    xml_string = \"http://production.shippingapis.com/ShippingAPI.dll?API=Verify&XML=\" + xml_string\n",
    "    response = urllib.request.urlopen(xml_string)\n",
    "    if response.getcode() == 200:\n",
    "        contents = response.read()\n",
    "        return contents\n",
    "    else:\n",
    "        return 'error'"
   ],
   "metadata": {
    "collapsed": false,
    "ExecuteTime": {
     "end_time": "2023-09-28T01:56:30.507481100Z",
     "start_time": "2023-09-28T01:56:30.496148Z"
    }
   },
   "id": "676f74f4da52406"
  },
  {
   "cell_type": "code",
   "execution_count": 3,
   "outputs": [],
   "source": [
    "results = requests.get(url=POI_Data_PRODUCT_API_PATH,\n",
    "                       params={}, # optionally set date value here\n",
    "                       headers={'X-API-KEY': API_KEY,\n",
    "                                'accept': 'application/json'\n",
    "                               })\n",
    "response_json = results.json()"
   ],
   "metadata": {
    "collapsed": false,
    "ExecuteTime": {
     "end_time": "2023-09-28T01:56:38.753646Z",
     "start_time": "2023-09-28T01:56:36.464638800Z"
    }
   },
   "id": "c510b0453b1ad684"
  },
  {
   "cell_type": "markdown",
   "source": [
    "## Read Data\n",
    "\n",
    "The following script reads data, filters US POI, and select important columns, and saves output as a csv file."
   ],
   "metadata": {
    "collapsed": false
   },
   "id": "4eb7449b18094d08"
  },
  {
   "cell_type": "code",
   "execution_count": 7,
   "outputs": [],
   "source": [
    "poi_csv_path = 'C:/Users/dratnadiwakara2/Documents/OneDrive - Louisiana State University/Raw Data/Dewey/poi_us_banks.csv'"
   ],
   "metadata": {
    "collapsed": false,
    "ExecuteTime": {
     "end_time": "2023-09-28T02:00:04.488782600Z",
     "start_time": "2023-09-28T02:00:04.476645800Z"
    }
   },
   "id": "e69fc330d92f915d"
  },
  {
   "cell_type": "code",
   "execution_count": null,
   "outputs": [],
   "source": [
    "# for link_data in response_json['download_links']:\n",
    "# \n",
    "#     print(f\"Downloading file {link_data['file_name']}...\")\n",
    "# \n",
    "#     df = pd.read_csv(BytesIO(requests.get(link_data['link']).content), compression=\"gzip\")\n",
    "#     df = df[df['ISO_COUNTRY_CODE'] == 'US'][['CATEGORY_TAGS', 'CITY', 'LATITUDE','LONGITUDE','NAICS_CODE','PLACEKEY','POSTAL_CODE','REGION','STREET_ADDRESS','SUB_CATEGORY','TOP_CATEGORY','LOCATION_NAME']]\n",
    "#     df = df[(df['TOP_CATEGORY'] == 'Depository Credit Intermediation') | (df['NAICS_CODE'].astype(str).str[:3] == '522')]\n",
    "#     df = df.reset_index()\n",
    "# \n",
    "#     if os.path.isfile(poi_csv_path):\n",
    "#         header_option = False  \n",
    "#     else:\n",
    "#         header_option = True  \n",
    "# \n",
    "#     df.to_csv(poi_csv_path, mode='a', header=header_option, index=False)\n",
    "# \n",
    "# df = pd.read_csv(poi_csv_path)    \n",
    "# \n",
    "# with gzip.open(poi_csv_path+\".gz\", 'wt', encoding='utf-8') as gzipped_file:\n",
    "#     df.to_csv(gzipped_file, index=False)"
   ],
   "metadata": {
    "collapsed": false
   },
   "id": "87635f2eee262401"
  },
  {
   "cell_type": "code",
   "execution_count": 9,
   "outputs": [],
   "source": [
    "with gzip.open(poi_csv_path+\".gz\", 'rt', encoding='utf-8') as gzipped_file:\n",
    "    poi = pd.read_csv(gzipped_file)\n",
    "\n",
    "poi = poi.reset_index()\n",
    "poi['POSTAL_CODE'] = poi['POSTAL_CODE'].astype(int)\n",
    "poi['full_address_poi'] = poi['STREET_ADDRESS'].str.lower()+\", \"+poi['CITY'].str.lower()+\", \"+poi['POSTAL_CODE'].astype(str)+\" \"+ poi['REGION'].str.lower()"
   ],
   "metadata": {
    "collapsed": false,
    "ExecuteTime": {
     "end_time": "2023-09-28T02:16:30.115019500Z",
     "start_time": "2023-09-28T02:16:27.150077100Z"
    }
   },
   "id": "792bac4ded1b7e6d"
  },
  {
   "cell_type": "code",
   "execution_count": 14,
   "outputs": [],
   "source": [
    "poi['usps_contents'] = ''\n",
    "poi  = poi.reset_index(drop=True)\n",
    "\n",
    "output_file_path = \"C:/Users/dratnadiwakara2/Documents/OneDrive - Louisiana State University/Raw Data/Dewey/poi_full_address.csv\"  "
   ],
   "metadata": {
    "collapsed": false,
    "ExecuteTime": {
     "end_time": "2023-09-28T02:21:43.525398900Z",
     "start_time": "2023-09-28T02:21:43.177289500Z"
    }
   },
   "id": "919359d8b52a1bb1"
  },
  {
   "cell_type": "code",
   "execution_count": 19,
   "outputs": [
    {
     "name": "stderr",
     "output_type": "stream",
     "text": [
      "100%|██████████| 532164/532164 [28:10:35<00:00,  5.25it/s]    \n"
     ]
    }
   ],
   "source": [
    "with tqdm(total=(len(poi)-28871) ) as pbar:\n",
    "    with open(output_file_path, \"a\") as output_file:\n",
    "        for index in range(28871, len(poi)):\n",
    "            row = poi.iloc[index]\n",
    "            num_rows = len(poi)\n",
    "            break_interval = 400\n",
    "            \n",
    "            if (index + 1) % break_interval == 0 and index != (num_rows - 1):\n",
    "                time.sleep(1)  # Sleep for one second\n",
    "                \n",
    "            try:\n",
    "                op = get_usps_address(row['STREET_ADDRESS'],row['CITY'],row['REGION'],row['POSTAL_CODE'])\n",
    "                poi.loc[index,'usps_contents'] = op\n",
    "                output_file.write(f\"{row['full_address_poi']}|{index}|{op}\\n\")\n",
    "            except Exception as e:\n",
    "                print(f\"An exception occurred: {e}\")\n",
    "                break\n",
    "            pbar.update(1)"
   ],
   "metadata": {
    "collapsed": false,
    "ExecuteTime": {
     "end_time": "2023-09-29T17:11:57.593468400Z",
     "start_time": "2023-09-28T13:01:22.059891800Z"
    }
   },
   "id": "a5f50fcfdf786351"
  },
  {
   "cell_type": "code",
   "execution_count": 22,
   "outputs": [
    {
     "name": "stderr",
     "output_type": "stream",
     "text": [
      "100%|██████████| 561035/561035 [02:25<00:00, 3851.05it/s]\n"
     ]
    }
   ],
   "source": [
    "poi['usps_address'] = ''\n",
    "with tqdm(total=len(poi) ) as pbar:\n",
    "    for index, row in poi.iterrows():\n",
    "        root = ET.fromstring(poi.loc[index,'usps_contents'])\n",
    "        if len(root.findall(\"Address\"))==1:\n",
    "            try:\n",
    "                add_xml  =  root.findall(\"Address\")[0]\n",
    "                add_text = add_xml.find(\"Address2\").text+\" \"+add_xml.find(\"City\").text+\" \"+add_xml.find(\"State\").text+\" \"+add_xml.find(\"Zip5\").text\n",
    "                if add_xml.find(\"Address1\") is not None:\n",
    "                    add_text = add_text+\" \"+add_xml.find(\"Address1\").text\n",
    "                poi.loc[index,'usps_address'] = add_text\n",
    "            except:\n",
    "                pass\n",
    "        pbar.update(1)      "
   ],
   "metadata": {
    "collapsed": false,
    "ExecuteTime": {
     "end_time": "2023-09-29T19:08:45.124763Z",
     "start_time": "2023-09-29T19:06:19.415032500Z"
    }
   },
   "id": "7f0ca5ad43c4ff9c"
  },
  {
   "cell_type": "code",
   "execution_count": 33,
   "outputs": [],
   "source": [
    "output_file_path = \"C:/Users/dratnadiwakara2/Documents/OneDrive - Louisiana State University/Raw Data/Dewey/poi_with_usps_address.csv.gz\" \n",
    "with gzip.open(output_file_path, 'wt', encoding='utf-8') as gzipped_file:\n",
    "    poi.to_csv(gzipped_file, index=False)"
   ],
   "metadata": {
    "collapsed": false,
    "ExecuteTime": {
     "end_time": "2023-09-29T19:12:11.590568200Z",
     "start_time": "2023-09-29T19:11:42.639860700Z"
    }
   },
   "id": "3ad6791d79e28b76"
  },
  {
   "cell_type": "markdown",
   "source": [],
   "metadata": {
    "collapsed": false
   },
   "id": "9f0432f328a5f3b4"
  },
  {
   "cell_type": "markdown",
   "source": [],
   "metadata": {
    "collapsed": false
   },
   "id": "7ceabf98727195c9"
  },
  {
   "cell_type": "markdown",
   "source": [
    "\n",
    "\n",
    "## SOD Data"
   ],
   "metadata": {
    "collapsed": false
   },
   "id": "f9cdf1e449d17956"
  },
  {
   "cell_type": "code",
   "execution_count": 67,
   "outputs": [
    {
     "name": "stderr",
     "output_type": "stream",
     "text": [
      "C:\\Users\\dratnadiwakara2\\AppData\\Local\\Temp\\ipykernel_15720\\4200346606.py:14: FutureWarning: The behavior of DataFrame concatenation with empty or all-NA entries is deprecated. In a future version, this will no longer exclude empty or all-NA columns when determining the result dtypes. To retain the old behavior, exclude the relevant entries before the concat operation.\n",
      "  combined_df = pd.concat([combined_df, selected_df], ignore_index=True)\n"
     ]
    }
   ],
   "source": [
    "sod_files_path = 'C:/Users/dratnadiwakara2/Documents/OneDrive - Louisiana State University/Raw Data/SOD/data/'\n",
    "\n",
    "sod_data = ['ALL_2019.csv','ALL_2020.csv','ALL_2021.csv','ALL_2022.csv','ALL_2023.csv']\n",
    "\n",
    "sod_data_files = [sod_files_path + s for s in sod_data]\n",
    "\n",
    "selected_columns = ['YEAR','CERT','BRNUM','UNINUMBR','NAMEFULL','ADDRESBR','CITYBR',\t'CNTYNAMB','STALPBR','ZIPBR','NAMEBR','SIMS_LATITUDE','SIMS_LONGITUDE']  \n",
    "\n",
    "combined_df = pd.DataFrame(columns=selected_columns)\n",
    "\n",
    "for csv_file in sod_data_files:\n",
    "    df = pd.read_csv(csv_file, encoding='latin-1')\n",
    "    selected_df = df[selected_columns]\n",
    "    combined_df = pd.concat([combined_df, selected_df], ignore_index=True)\n",
    "\n",
    "combined_df = combined_df.reset_index()"
   ],
   "metadata": {
    "collapsed": false,
    "ExecuteTime": {
     "end_time": "2023-09-27T17:31:53.517968600Z",
     "start_time": "2023-09-27T17:31:46.602428100Z"
    }
   },
   "id": "a6999ec275458b69"
  },
  {
   "cell_type": "code",
   "execution_count": 154,
   "outputs": [],
   "source": [
    "sod_data_branches = combined_df.drop_duplicates(subset=['UNINUMBR'])\n",
    "sod_data_branches = sod_data_branches.reset_index()"
   ],
   "metadata": {
    "collapsed": false,
    "ExecuteTime": {
     "end_time": "2023-09-27T18:24:22.709252Z",
     "start_time": "2023-09-27T18:24:22.590305Z"
    }
   },
   "id": "6038c98605dbb869"
  },
  {
   "cell_type": "code",
   "execution_count": 155,
   "outputs": [],
   "source": [
    "sod_data_branches['full_address_sod'] = sod_data_branches['ADDRESBR'].str.lower()+\", \"+sod_data_branches['CITYBR'].str.lower()+\", \"+sod_data_branches['ZIPBR'].astype(str)+\" \"+sod_data_branches['STALPBR'].str.lower()"
   ],
   "metadata": {
    "collapsed": false,
    "ExecuteTime": {
     "end_time": "2023-09-27T18:24:25.478897100Z",
     "start_time": "2023-09-27T18:24:25.345865100Z"
    }
   },
   "id": "d640d1b3f7aa3571"
  },
  {
   "cell_type": "code",
   "execution_count": 156,
   "outputs": [
    {
     "data": {
      "text/plain": "'1 lincoln st. fl 1, boston, 2111 ma'"
     },
     "execution_count": 156,
     "metadata": {},
     "output_type": "execute_result"
    }
   ],
   "source": [
    "sod_data_branches['full_address_sod'][0]"
   ],
   "metadata": {
    "collapsed": false,
    "ExecuteTime": {
     "end_time": "2023-09-27T18:24:27.092084700Z",
     "start_time": "2023-09-27T18:24:27.066642200Z"
    }
   },
   "id": "949720cf39fbf0f6"
  },
  {
   "cell_type": "code",
   "execution_count": 169,
   "outputs": [
    {
     "name": "stderr",
     "output_type": "stream",
     "text": [
      "100%|██████████| 90924/90924 [4:57:49<00:00,  5.09it/s]   \n"
     ]
    }
   ],
   "source": [
    "sod_data_branches['usps_contents'] = ''\n",
    "sod_data_branches  = sod_data_branches.reset_index(drop=True)\n",
    "\n",
    "output_file_path = \"C:/Users/dratnadiwakara2/Documents/OneDrive - Louisiana State University/Raw Data/Dewey/sod_full_address.csv\"  \n",
    "\n",
    "with tqdm(total=len(sod_data_branches) ) as pbar:\n",
    "    with open(output_file_path, \"a\") as output_file:\n",
    "        for index, row in sod_data_branches.iterrows():\n",
    "            num_rows = len(sod_data_branches)\n",
    "            break_interval = 400\n",
    "            \n",
    "            if (index + 1) % break_interval == 0 and index != (num_rows - 1):\n",
    "                time.sleep(1)  # Sleep for one second\n",
    "                \n",
    "            try:\n",
    "                op = get_usps_address(row['ADDRESBR'],row['CITYBR'],row['STALPBR'],row['ZIPBR'])\n",
    "                sod_data_branches.loc[index,'usps_contents'] = op\n",
    "                output_file.write(f\"{row['full_address_sod']}|{index}|{op}\\n\")\n",
    "            except:\n",
    "                print('error')\n",
    "                break\n",
    "            pbar.update(1)"
   ],
   "metadata": {
    "collapsed": false,
    "ExecuteTime": {
     "end_time": "2023-09-27T23:40:06.344257Z",
     "start_time": "2023-09-27T18:42:16.459668400Z"
    }
   },
   "id": "ef636a5708c7704"
  },
  {
   "cell_type": "code",
   "execution_count": 188,
   "outputs": [
    {
     "name": "stderr",
     "output_type": "stream",
     "text": [
      "100%|██████████| 90924/90924 [00:20<00:00, 4428.05it/s]\n"
     ]
    }
   ],
   "source": [
    "sod_data_branches['usps_address'] = ''\n",
    "with tqdm(total=len(sod_data_branches) ) as pbar:\n",
    "    for index, row in sod_data_branches.iterrows():\n",
    "        root = ET.fromstring(sod_data_branches.loc[index,'usps_contents'])\n",
    "        if len(root.findall(\"Address\"))==1:\n",
    "            try:\n",
    "                add_xml  =  root.findall(\"Address\")[0]\n",
    "                add_text = add_xml.find(\"Address2\").text+\" \"+add_xml.find(\"City\").text+\" \"+add_xml.find(\"State\").text+\" \"+add_xml.find(\"Zip5\").text\n",
    "                if add_xml.find(\"Address1\") is not None:\n",
    "                    add_text = add_text+\" \"+add_xml.find(\"Address1\").text\n",
    "                sod_data_branches.loc[index,'usps_address'] = add_text\n",
    "            except:\n",
    "                pass\n",
    "        pbar.update(1)        "
   ],
   "metadata": {
    "collapsed": false,
    "ExecuteTime": {
     "end_time": "2023-09-28T01:46:01.761489900Z",
     "start_time": "2023-09-28T01:45:41.201849200Z"
    }
   },
   "id": "c3c44c1a0d462f82"
  },
  {
   "cell_type": "code",
   "execution_count": 192,
   "outputs": [],
   "source": [
    "output_file_path = \"C:/Users/dratnadiwakara2/Documents/OneDrive - Louisiana State University/Raw Data/Dewey/sod_data_branches_with_usps_address.csv.gz\" \n",
    "with gzip.open(output_file_path, 'wt', encoding='utf-8') as gzipped_file:\n",
    "    sod_data_branches.to_csv(gzipped_file, index=False)"
   ],
   "metadata": {
    "collapsed": false,
    "ExecuteTime": {
     "end_time": "2023-09-28T01:51:50.360863800Z",
     "start_time": "2023-09-28T01:51:45.804403200Z"
    }
   },
   "id": "da2dc4ee320176ef"
  },
  {
   "cell_type": "markdown",
   "source": [
    "\n",
    "\n",
    "\n",
    "\n",
    "\n",
    "\n",
    "# Ignore below this\n",
    "## Match by longitude and latitude"
   ],
   "metadata": {
    "collapsed": false
   },
   "id": "4cb7b45424af61c6"
  },
  {
   "cell_type": "code",
   "execution_count": 35,
   "outputs": [],
   "source": [
    "df1 = sod_data_branches[['full_address_sod', 'match_string_2']]\n",
    "df2 = poi[['full_address_poi', 'match_string_2']]\n",
    "\n",
    "# Merge df1 and df2 on 'match_string_2' to create matched_data_2\n",
    "matched_data_2 = pd.merge(df1, df2, on='match_string_2', how='inner')\n"
   ],
   "metadata": {
    "collapsed": false,
    "ExecuteTime": {
     "end_time": "2023-09-27T16:44:49.751961600Z",
     "start_time": "2023-09-27T16:44:47.397863400Z"
    }
   },
   "id": "376bca49f9bb3df3"
  },
  {
   "cell_type": "markdown",
   "source": [
    "\n",
    "## Fuzzy Match"
   ],
   "metadata": {
    "collapsed": false
   },
   "id": "41023024ba76b695"
  },
  {
   "cell_type": "code",
   "execution_count": 24,
   "outputs": [
    {
     "name": "stderr",
     "output_type": "stream",
     "text": [
      "C:\\Users\\dratnadiwakara2\\Documents\\OneDrive - Louisiana State University\\Projects\\Dewey\\venv\\Lib\\site-packages\\fuzzywuzzy\\fuzz.py:11: UserWarning: Using slow pure-python SequenceMatcher. Install python-Levenshtein to remove this warning\n",
      "  warnings.warn('Using slow pure-python SequenceMatcher. Install python-Levenshtein to remove this warning')\n"
     ]
    }
   ],
   "source": [
    "from fuzzywuzzy import fuzz\n",
    "from tqdm import tqdm\n",
    "from fuzzywuzzy import process"
   ],
   "metadata": {
    "collapsed": false,
    "ExecuteTime": {
     "end_time": "2023-09-26T23:19:29.345379100Z",
     "start_time": "2023-09-26T23:19:29.153933Z"
    }
   },
   "id": "c39caf5619069f77"
  },
  {
   "cell_type": "code",
   "execution_count": 25,
   "outputs": [],
   "source": [
    "def address_similarity(address1, address2):\n",
    "    return fuzz.ratio(address1.lower(), address2.lower())"
   ],
   "metadata": {
    "collapsed": false,
    "ExecuteTime": {
     "end_time": "2023-09-26T23:19:35.257629300Z",
     "start_time": "2023-09-26T23:19:35.231699100Z"
    }
   },
   "id": "5a75e4cd2eb94fa0"
  },
  {
   "cell_type": "code",
   "execution_count": 27,
   "outputs": [
    {
     "name": "stderr",
     "output_type": "stream",
     "text": [
      "100%|██████████| 90924/90924 [16:49:50<00:00,  1.50it/s]  \n"
     ]
    }
   ],
   "source": [
    "output_file_path = \"C:/Users/dratnadiwakara2/Documents/OneDrive - Louisiana State University/Raw Data/Dewey/bank_branch_matches.csv\"  \n",
    "\n",
    "with tqdm(total=len(sod_data_branches) ) as pbar:\n",
    "    with open(output_file_path, \"a\") as output_file:\n",
    "        for index1, row1 in sod_data_branches.iterrows():\n",
    "            mask = (poi['match_string'].str.lower() == row1['match_string'].lower())\n",
    "            temp = poi[mask]\n",
    "            for index2, row2 in temp.iterrows():\n",
    "                try:\n",
    "                        similarity_score = address_similarity(row1['full_address_sod'], row2['full_address_poi'])\n",
    "                        if similarity_score >= 50: \n",
    "                            output_file.write(f\"{row1['full_address_sod']}|{row2['full_address_poi']}|{similarity_score}\\n\")\n",
    "                except:\n",
    "                    pass\n",
    "            pbar.update(1)"
   ],
   "metadata": {
    "collapsed": false,
    "ExecuteTime": {
     "end_time": "2023-09-27T16:19:16.369968Z",
     "start_time": "2023-09-26T23:29:25.732575700Z"
    }
   },
   "id": "8338e3a64c31037"
  },
  {
   "cell_type": "code",
   "execution_count": 36,
   "outputs": [],
   "source": [
    "matched_data = pd.read_csv(output_file_path,sep=\"|\",header=None)\n",
    "matched_data.rename(columns={0:'full_address_sod',1:'full_address_poi',2:'similarity_score'}, inplace=True)\n",
    "matched_data = matched_data.drop_duplicates()\n",
    "matched_data = matched_data.sort_values(by='similarity_score', ascending=False)\n",
    "matched_data = matched_data[(matched_data['similarity_score'] >= 90) & (matched_data['full_address_sod'].str[:2] == matched_data['full_address_poi'].str[:2])]\n",
    "matched_data = matched_data.drop_duplicates(subset='full_address_sod')\n"
   ],
   "metadata": {
    "collapsed": false,
    "ExecuteTime": {
     "end_time": "2023-09-27T16:47:42.749357Z",
     "start_time": "2023-09-27T16:47:42.155777300Z"
    }
   },
   "id": "497f91bb78c91be7"
  },
  {
   "cell_type": "code",
   "execution_count": 54,
   "outputs": [],
   "source": [
    "poi_matched = poi[poi['full_address_poi'].isin(matched_data['full_address_poi'])]"
   ],
   "metadata": {
    "collapsed": false,
    "ExecuteTime": {
     "end_time": "2023-09-27T17:11:46.759621200Z",
     "start_time": "2023-09-27T17:11:45.559759600Z"
    }
   },
   "id": "d3e9aafecb0df727"
  },
  {
   "cell_type": "code",
   "execution_count": 56,
   "outputs": [],
   "source": [
    "poi_category_count = poi_matched.groupby('NAICS_CODE').size().reset_index(name='Frequency')\n",
    "# TOP_CATEGORY: Depository Credit Intermediation"
   ],
   "metadata": {
    "collapsed": false,
    "ExecuteTime": {
     "end_time": "2023-09-27T17:14:03.119400800Z",
     "start_time": "2023-09-27T17:14:03.024306Z"
    }
   },
   "id": "c3f0ab97b2ba9b1b"
  },
  {
   "cell_type": "code",
   "execution_count": 37,
   "outputs": [],
   "source": [],
   "metadata": {
    "collapsed": false,
    "ExecuteTime": {
     "end_time": "2023-09-27T17:01:13.034439600Z",
     "start_time": "2023-09-27T17:01:13.006005600Z"
    }
   },
   "id": "e86c75cf76e418c5"
  },
  {
   "cell_type": "code",
   "execution_count": 50,
   "outputs": [],
   "source": [
    "requestXML = \"\"\"\n",
    "<?xml version=\"1.0\"?>\n",
    "<AddressValidateRequest USERID=\"33LOUIS8M0561\">\n",
    "\t<Revision>1</Revision>\n",
    "\t<Address ID=\"0\">\n",
    "\t\t<Address1>2335 S State, ste 300</Address1>\n",
    "\t\t<Address2></Address2>\n",
    "\t\t<City>Provo</City>\n",
    "\t\t<State>UT</State>\n",
    "\t\t<Zip5>84604</Zip5>\n",
    "\t\t<Zip4/>\n",
    "\t</Address>\n",
    "</AddressValidateRequest>\n",
    "\"\"\""
   ],
   "metadata": {
    "collapsed": false,
    "ExecuteTime": {
     "end_time": "2023-09-27T17:06:31.338327Z",
     "start_time": "2023-09-27T17:06:31.226342300Z"
    }
   },
   "id": "665a525f6c4c15a9"
  },
  {
   "cell_type": "code",
   "execution_count": 53,
   "outputs": [
    {
     "name": "stdout",
     "output_type": "stream",
     "text": [
      "\n",
      "Address1: STE 300\n",
      "Address2: 2335 S STATE ST\n",
      "City:\t PROVO\n",
      "State:\tUT\n",
      "Zip5:\t 84606\n"
     ]
    }
   ],
   "source": [
    "docString = requestXML\n",
    "docString = docString.replace('\\n','').replace('\\t','')\n",
    "docString = urllib.parse.quote_plus(docString)\n",
    "\n",
    "url = \"http://production.shippingapis.com/ShippingAPI.dll?API=Verify&XML=\" + docString\n",
    "#print(url + \"\\n\\n\")\n",
    "\n",
    "response = urllib.request.urlopen(url)\n",
    "if response.getcode() != 200:\n",
    "\tprint(\"Error making HTTP call:\")\n",
    "\tprint(response.info())\n",
    "\texit()\n",
    "\n",
    "contents = response.read()\n",
    "\n",
    "root = ET.fromstring(contents)\n",
    "for address in root.findall('Address'):\n",
    "\tprint()\n",
    "\tprint(\"Address1: \" + address.find(\"Address1\").text)\n",
    "\tprint(\"Address2: \" + address.find(\"Address2\").text)\n",
    "\tprint(\"City:\t \" + address.find(\"City\").text)\n",
    "\tprint(\"State:\t\" + address.find(\"State\").text)\n",
    "\tprint(\"Zip5:\t \" + address.find(\"Zip5\").text)"
   ],
   "metadata": {
    "collapsed": false,
    "ExecuteTime": {
     "end_time": "2023-09-27T17:06:43.966054300Z",
     "start_time": "2023-09-27T17:06:43.766620600Z"
    }
   },
   "id": "b36194098abc80eb"
  },
  {
   "cell_type": "code",
   "execution_count": null,
   "outputs": [],
   "source": [
    "def create_xml_string(row):\n",
    "    xml_string = (\n",
    "        '<?xml version=\"1.0\"?>\\n'\n",
    "        '<AddressValidateRequest USERID=\"33LOUIS8M0561\">\\n'\n",
    "        '    <Revision>1</Revision>\\n'\n",
    "        '    <Address ID=\"0\">\\n'\n",
    "        f'        <Address1>{row[\"address\"]}</Address1>\\n'\n",
    "        '        <Address2></Address2>\\n'\n",
    "        f'        <City>{row[\"city\"]}</City>\\n'\n",
    "        f'        <State>{row[\"state\"]}</State>\\n'\n",
    "        f'        <Zip5>{row[\"zip\"]}</Zip5>\\n'\n",
    "        '        <Zip4/>\\n'\n",
    "        '    </Address>\\n'\n",
    "        '</AddressValidateRequest>'\n",
    "    )\n",
    "    return xml_string\n",
    "\n",
    "# Create a new column 'xml_string' using the function\n",
    "df['xml_string'] = df.apply(create_xml_string, axis=1)"
   ],
   "metadata": {
    "collapsed": false
   },
   "id": "82f422c9b04c8ed6"
  }
 ],
 "metadata": {
  "kernelspec": {
   "display_name": "Python 3",
   "language": "python",
   "name": "python3"
  },
  "language_info": {
   "codemirror_mode": {
    "name": "ipython",
    "version": 2
   },
   "file_extension": ".py",
   "mimetype": "text/x-python",
   "name": "python",
   "nbconvert_exporter": "python",
   "pygments_lexer": "ipython2",
   "version": "2.7.6"
  }
 },
 "nbformat": 4,
 "nbformat_minor": 5
}
